{
 "cells": [
  {
   "cell_type": "markdown",
   "id": "5b856d4a",
   "metadata": {},
   "source": [
    "# 1. 이진 분류 평가지표"
   ]
  },
  {
   "cell_type": "code",
   "execution_count": 1,
   "id": "73231cb3",
   "metadata": {},
   "outputs": [],
   "source": [
    "import pandas as pd\n",
    "y_true = pd.DataFrame([1,1,1,0,0,1,1,1,1,0])\n",
    "y_pred = pd.DataFrame([1,0,1,1,0,0,0,1,1,0])\n",
    "\n",
    "y_true_str = pd.DataFrame(['A', 'A', 'A', 'B', 'B', 'A', 'A', 'A', 'A', 'B'])\n",
    "y_pred_str = pd.DataFrame(['A', 'B', 'A', 'A', 'B', 'B', 'B', 'A', 'A', 'B'])"
   ]
  },
  {
   "cell_type": "markdown",
   "id": "dab9cca4",
   "metadata": {},
   "source": [
    "### 1. 정확도(Accuracy)"
   ]
  },
  {
   "cell_type": "code",
   "execution_count": 2,
   "id": "17a66411",
   "metadata": {
    "scrolled": true
   },
   "outputs": [
    {
     "name": "stdout",
     "output_type": "stream",
     "text": [
      "0.6\n"
     ]
    },
    {
     "data": {
      "text/plain": [
       "0.6"
      ]
     },
     "execution_count": 2,
     "metadata": {},
     "output_type": "execute_result"
    }
   ],
   "source": [
    "from sklearn.metrics import accuracy_score\n",
    "accuracy = accuracy_score(y_true, y_pred)\n",
    "print(accuracy)\n",
    "\n",
    "accuracy = accuracy_score(y_true_str, y_pred_str)\n",
    "accuracy"
   ]
  },
  {
   "cell_type": "markdown",
   "id": "79dc63fd",
   "metadata": {},
   "source": [
    "### 2. 정밀도(Precision)"
   ]
  },
  {
   "cell_type": "code",
   "execution_count": 3,
   "id": "bf50f045",
   "metadata": {},
   "outputs": [
    {
     "name": "stdout",
     "output_type": "stream",
     "text": [
      "0.8\n"
     ]
    },
    {
     "data": {
      "text/plain": [
       "0.8"
      ]
     },
     "execution_count": 3,
     "metadata": {},
     "output_type": "execute_result"
    }
   ],
   "source": [
    "from sklearn.metrics import precision_score\n",
    "precision = precision_score(y_true, y_pred)\n",
    "print(precision)\n",
    "\n",
    "precision = precision_score(y_true_str, y_pred_str, pos_label = 'A')\n",
    "precision"
   ]
  },
  {
   "cell_type": "markdown",
   "id": "f2ff095d",
   "metadata": {},
   "source": [
    "### 3. 재현율(Recall)"
   ]
  },
  {
   "cell_type": "code",
   "execution_count": 4,
   "id": "0ef73566",
   "metadata": {
    "scrolled": true
   },
   "outputs": [
    {
     "name": "stdout",
     "output_type": "stream",
     "text": [
      "0.5714285714285714\n"
     ]
    },
    {
     "data": {
      "text/plain": [
       "0.5714285714285714"
      ]
     },
     "execution_count": 4,
     "metadata": {},
     "output_type": "execute_result"
    }
   ],
   "source": [
    "from sklearn.metrics import recall_score\n",
    "recall = recall_score(y_true, y_pred)\n",
    "print(recall)\n",
    "\n",
    "recall = recall_score(y_true_str, y_pred_str, pos_label = 'A')\n",
    "recall"
   ]
  },
  {
   "cell_type": "markdown",
   "id": "005d9e6c",
   "metadata": {},
   "source": [
    "### 4. F1스코어(F1 Score)"
   ]
  },
  {
   "cell_type": "code",
   "execution_count": 5,
   "id": "8cfb9d0c",
   "metadata": {},
   "outputs": [
    {
     "name": "stdout",
     "output_type": "stream",
     "text": [
      "0.6666666666666666\n"
     ]
    },
    {
     "data": {
      "text/plain": [
       "0.6666666666666666"
      ]
     },
     "execution_count": 5,
     "metadata": {},
     "output_type": "execute_result"
    }
   ],
   "source": [
    "from sklearn.metrics import f1_score\n",
    "f1 = f1_score(y_true, y_pred)\n",
    "print(f1)\n",
    "\n",
    "f1 = f1_score(y_true_str, y_pred_str, pos_label = 'A')\n",
    "f1"
   ]
  },
  {
   "cell_type": "markdown",
   "id": "62b7ca7c",
   "metadata": {},
   "source": [
    "### 5. ROC - AUC"
   ]
  },
  {
   "cell_type": "code",
   "execution_count": 6,
   "id": "cbaa69d7",
   "metadata": {},
   "outputs": [
    {
     "data": {
      "text/plain": [
       "0.86"
      ]
     },
     "execution_count": 6,
     "metadata": {},
     "output_type": "execute_result"
    }
   ],
   "source": [
    "from sklearn.metrics import roc_auc_score\n",
    "y_true = pd.DataFrame([0,1,0,1,1,0,0,0,1,1,])\n",
    "y_pred_proba = pd.DataFrame([0.4, 0.9, 0.1,0.3, 0.8, 0.6, 0.4,0.2,0.7,0.6])\n",
    "roc_auc = roc_auc_score(y_true, y_pred_proba)\n",
    "roc_auc\n"
   ]
  },
  {
   "cell_type": "code",
   "execution_count": 7,
   "id": "3b9b3b9d",
   "metadata": {},
   "outputs": [
    {
     "data": {
      "text/plain": [
       "0.86"
      ]
     },
     "execution_count": 7,
     "metadata": {},
     "output_type": "execute_result"
    }
   ],
   "source": [
    "y_true_str = pd.DataFrame(['A', 'B', 'A', 'B', 'B', 'A', 'A', 'A', 'B', 'B'])\n",
    "y_pred_proba_str = pd.DataFrame([0.4, 0.9, 0.1,0.3, 0.8, 0.6, 0.4,0.2,0.7,0.6])\n",
    "roc_auc = roc_auc_score(y_true_str, y_pred_proba_str)\n",
    "roc_auc"
   ]
  },
  {
   "cell_type": "markdown",
   "id": "a45cb985",
   "metadata": {},
   "source": [
    "# 2. 다중 분류 평가지표"
   ]
  },
  {
   "cell_type": "code",
   "execution_count": 8,
   "id": "bfca480c",
   "metadata": {},
   "outputs": [],
   "source": [
    "y_true = pd.DataFrame([1,2,3,3,2,1,3,3,2,1])\n",
    "y_pred = pd.DataFrame([1,2,1,3,2,1,1,2,2,1])\n",
    "\n",
    "y_true_str = pd.DataFrame(['A','B','C','C','B','A','C','C','B','A'])\n",
    "y_pred_str = pd.DataFrame(['A','B','A','C','B','A','A','B','B','A'])"
   ]
  },
  {
   "cell_type": "markdown",
   "id": "3b1cc928",
   "metadata": {},
   "source": [
    "### 1. 정확도"
   ]
  },
  {
   "cell_type": "code",
   "execution_count": 10,
   "id": "c7abcfd5",
   "metadata": {},
   "outputs": [
    {
     "name": "stdout",
     "output_type": "stream",
     "text": [
      "0.7\n"
     ]
    },
    {
     "data": {
      "text/plain": [
       "0.7"
      ]
     },
     "execution_count": 10,
     "metadata": {},
     "output_type": "execute_result"
    }
   ],
   "source": [
    "from sklearn.metrics import accuracy_score\n",
    "accuracy = accuracy_score(y_true, y_pred)\n",
    "print(accuracy)\n",
    "\n",
    "accuracy = accuracy_score(y_true_str, y_pred_str)\n",
    "accuracy"
   ]
  },
  {
   "cell_type": "markdown",
   "id": "46b4ad4e",
   "metadata": {},
   "source": [
    "### 2. 정밀도"
   ]
  },
  {
   "cell_type": "code",
   "execution_count": 12,
   "id": "037751bb",
   "metadata": {},
   "outputs": [
    {
     "name": "stdout",
     "output_type": "stream",
     "text": [
      "0.7833333333333333\n"
     ]
    },
    {
     "data": {
      "text/plain": [
       "0.7833333333333333"
      ]
     },
     "execution_count": 12,
     "metadata": {},
     "output_type": "execute_result"
    }
   ],
   "source": [
    "from sklearn.metrics import precision_score\n",
    "\n",
    "precision = precision_score(y_true, y_pred, average = 'macro')\n",
    "print(precision)\n",
    "\n",
    "precision = precision_score(y_true_str, y_pred_str, average = 'macro')\n",
    "precision"
   ]
  },
  {
   "cell_type": "markdown",
   "id": "e4ea7e49",
   "metadata": {},
   "source": [
    "### 3. 재현율"
   ]
  },
  {
   "cell_type": "code",
   "execution_count": 13,
   "id": "d5a892f1",
   "metadata": {},
   "outputs": [
    {
     "name": "stdout",
     "output_type": "stream",
     "text": [
      "0.75\n"
     ]
    },
    {
     "data": {
      "text/plain": [
       "0.75"
      ]
     },
     "execution_count": 13,
     "metadata": {},
     "output_type": "execute_result"
    }
   ],
   "source": [
    "from sklearn.metrics import recall_score\n",
    "recall = recall_score(y_true, y_pred, average = 'macro')\n",
    "print(recall)\n",
    "\n",
    "recall = recall_score(y_true_str, y_pred_str, average = 'macro')\n",
    "recall"
   ]
  },
  {
   "cell_type": "markdown",
   "id": "f44e7fa9",
   "metadata": {},
   "source": [
    "### 4. F1 스코어"
   ]
  },
  {
   "cell_type": "code",
   "execution_count": 14,
   "id": "8788306f",
   "metadata": {},
   "outputs": [
    {
     "name": "stdout",
     "output_type": "stream",
     "text": [
      "0.669047619047619\n"
     ]
    },
    {
     "data": {
      "text/plain": [
       "0.669047619047619"
      ]
     },
     "execution_count": 14,
     "metadata": {},
     "output_type": "execute_result"
    }
   ],
   "source": [
    "from sklearn.metrics import f1_score\n",
    "f1 = f1_score(y_true, y_pred, average = 'macro')\n",
    "print(f1)\n",
    "\n",
    "f1 = f1_score(y_true_str, y_pred_str, average = 'macro')\n",
    "f1"
   ]
  },
  {
   "cell_type": "markdown",
   "id": "90a03055",
   "metadata": {},
   "source": [
    "# 3. 회귀 평가 지표"
   ]
  },
  {
   "cell_type": "code",
   "execution_count": 15,
   "id": "be4a533e",
   "metadata": {},
   "outputs": [],
   "source": [
    "import pandas as pd\n",
    "y_true = pd.DataFrame([1,2,5,2,4,4,7,9])\n",
    "y_pred = pd.DataFrame([1.14, 2.53, 4.87, 3.08, 4.21, 5.53, 7.51, 10.32])"
   ]
  },
  {
   "cell_type": "markdown",
   "id": "1ebd5699",
   "metadata": {},
   "source": [
    "### 1. MSE"
   ]
  },
  {
   "cell_type": "code",
   "execution_count": 16,
   "id": "f03f040f",
   "metadata": {},
   "outputs": [
    {
     "data": {
      "text/plain": [
       "0.7339125000000001"
      ]
     },
     "execution_count": 16,
     "metadata": {},
     "output_type": "execute_result"
    }
   ],
   "source": [
    "from sklearn.metrics import mean_squared_error\n",
    "mse = mean_squared_error(y_true, y_pred)\n",
    "mse"
   ]
  },
  {
   "cell_type": "markdown",
   "id": "e6311faa",
   "metadata": {},
   "source": [
    "### 2. MAE"
   ]
  },
  {
   "cell_type": "code",
   "execution_count": 17,
   "id": "5ab06766",
   "metadata": {},
   "outputs": [
    {
     "data": {
      "text/plain": [
       "0.68125"
      ]
     },
     "execution_count": 17,
     "metadata": {},
     "output_type": "execute_result"
    }
   ],
   "source": [
    "from sklearn.metrics import mean_absolute_error\n",
    "mae = mean_absolute_error(y_true, y_pred)\n",
    "mae"
   ]
  },
  {
   "cell_type": "markdown",
   "id": "4953039f",
   "metadata": {},
   "source": [
    "### 3. 결정 계수"
   ]
  },
  {
   "cell_type": "code",
   "execution_count": 18,
   "id": "2e20adcf",
   "metadata": {},
   "outputs": [
    {
     "data": {
      "text/plain": [
       "0.8859941747572815"
      ]
     },
     "execution_count": 18,
     "metadata": {},
     "output_type": "execute_result"
    }
   ],
   "source": [
    "from sklearn.metrics import r2_score\n",
    "r2 = r2_score(y_true,y_pred)\n",
    "r2"
   ]
  },
  {
   "cell_type": "markdown",
   "id": "1e2bc8d8",
   "metadata": {},
   "source": [
    "### 4. RMSE"
   ]
  },
  {
   "cell_type": "code",
   "execution_count": 20,
   "id": "fb235169",
   "metadata": {},
   "outputs": [
    {
     "data": {
      "text/plain": [
       "0.8566869323154171"
      ]
     },
     "execution_count": 20,
     "metadata": {},
     "output_type": "execute_result"
    }
   ],
   "source": [
    "from sklearn.metrics import mean_squared_error\n",
    "mae = mean_squared_error(y_true, y_pred)\n",
    "rmse = mse ** 0.5 # 혹은 mean_squared_error(y_true, y_pred, squared = False)\n",
    "rmse"
   ]
  },
  {
   "cell_type": "markdown",
   "id": "6b0570c6",
   "metadata": {},
   "source": [
    "### 5. MSLE"
   ]
  },
  {
   "cell_type": "code",
   "execution_count": 22,
   "id": "e452d40e",
   "metadata": {},
   "outputs": [
    {
     "data": {
      "text/plain": [
       "0.027278486182156947"
      ]
     },
     "execution_count": 22,
     "metadata": {},
     "output_type": "execute_result"
    }
   ],
   "source": [
    "from sklearn.metrics import mean_squared_log_error\n",
    "msle = mean_squared_log_error(y_true, y_pred)\n",
    "msle"
   ]
  },
  {
   "cell_type": "markdown",
   "id": "4e0ca5b7",
   "metadata": {},
   "source": [
    "### 6. RMSLE"
   ]
  },
  {
   "cell_type": "code",
   "execution_count": 23,
   "id": "208a9a5e",
   "metadata": {},
   "outputs": [
    {
     "data": {
      "text/plain": [
       "0.16516199981278062"
      ]
     },
     "execution_count": 23,
     "metadata": {},
     "output_type": "execute_result"
    }
   ],
   "source": [
    "from sklearn.metrics import mean_squared_log_error\n",
    "rmsle = mean_squared_log_error(y_true, y_pred) ** 0.5\n",
    "rmsle"
   ]
  },
  {
   "cell_type": "markdown",
   "id": "5b48ac26",
   "metadata": {},
   "source": [
    "### 7. MAPE"
   ]
  },
  {
   "cell_type": "code",
   "execution_count": 24,
   "id": "24ad7d17",
   "metadata": {},
   "outputs": [
    {
     "data": {
      "text/plain": [
       "0    20.319048\n",
       "dtype: float64"
      ]
     },
     "execution_count": 24,
     "metadata": {},
     "output_type": "execute_result"
    }
   ],
   "source": [
    "mape = (abs(y_true-y_pred)/y_true).mean() * 100\n",
    "mape"
   ]
  },
  {
   "cell_type": "code",
   "execution_count": null,
   "id": "cc4c5156",
   "metadata": {},
   "outputs": [],
   "source": []
  }
 ],
 "metadata": {
  "kernelspec": {
   "display_name": "Python 3 (ipykernel)",
   "language": "python",
   "name": "python3"
  },
  "language_info": {
   "codemirror_mode": {
    "name": "ipython",
    "version": 3
   },
   "file_extension": ".py",
   "mimetype": "text/x-python",
   "name": "python",
   "nbconvert_exporter": "python",
   "pygments_lexer": "ipython3",
   "version": "3.8.17"
  }
 },
 "nbformat": 4,
 "nbformat_minor": 5
}
