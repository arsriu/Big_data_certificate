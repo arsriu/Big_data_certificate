{
 "cells": [
  {
   "cell_type": "markdown",
   "id": "d144627a",
   "metadata": {},
   "source": [
    "# 1. 항공권 가격 예측 "
   ]
  },
  {
   "cell_type": "markdown",
   "id": "9b692443",
   "metadata": {},
   "source": [
    "### 1. 베이스라인"
   ]
  },
  {
   "cell_type": "code",
   "execution_count": 4,
   "id": "7313d8c3",
   "metadata": {},
   "outputs": [
    {
     "data": {
      "text/plain": [
       "((10505, 11), (4502, 10))"
      ]
     },
     "execution_count": 4,
     "metadata": {},
     "output_type": "execute_result"
    }
   ],
   "source": [
    "import pandas as pd\n",
    "train = pd.read_csv('flight_train.csv')\n",
    "test = pd.read_csv('flight_test.csv')\n",
    "\n",
    "train.shape, test.shape"
   ]
  },
  {
   "cell_type": "code",
   "execution_count": 5,
   "id": "b5448482",
   "metadata": {},
   "outputs": [
    {
     "name": "stdout",
     "output_type": "stream",
     "text": [
      "<class 'pandas.core.frame.DataFrame'>\n",
      "RangeIndex: 10505 entries, 0 to 10504\n",
      "Data columns (total 11 columns):\n",
      " #   Column            Non-Null Count  Dtype  \n",
      "---  ------            --------------  -----  \n",
      " 0   airline           10505 non-null  object \n",
      " 1   flight            10505 non-null  object \n",
      " 2   source_city       10505 non-null  object \n",
      " 3   departure_time    10505 non-null  object \n",
      " 4   stops             10505 non-null  object \n",
      " 5   arrival_time      10505 non-null  object \n",
      " 6   destination_city  10505 non-null  object \n",
      " 7   class             10505 non-null  object \n",
      " 8   duration          10505 non-null  float64\n",
      " 9   days_left         10505 non-null  int64  \n",
      " 10  price             10505 non-null  int64  \n",
      "dtypes: float64(1), int64(2), object(8)\n",
      "memory usage: 902.9+ KB\n"
     ]
    }
   ],
   "source": [
    "train.info()"
   ]
  },
  {
   "cell_type": "code",
   "execution_count": 6,
   "id": "6228b84a",
   "metadata": {},
   "outputs": [
    {
     "name": "stdout",
     "output_type": "stream",
     "text": [
      "<class 'pandas.core.frame.DataFrame'>\n",
      "RangeIndex: 4502 entries, 0 to 4501\n",
      "Data columns (total 10 columns):\n",
      " #   Column            Non-Null Count  Dtype  \n",
      "---  ------            --------------  -----  \n",
      " 0   airline           4502 non-null   object \n",
      " 1   flight            4502 non-null   object \n",
      " 2   source_city       4502 non-null   object \n",
      " 3   departure_time    4502 non-null   object \n",
      " 4   stops             4502 non-null   object \n",
      " 5   arrival_time      4502 non-null   object \n",
      " 6   destination_city  4502 non-null   object \n",
      " 7   class             4502 non-null   object \n",
      " 8   duration          4502 non-null   float64\n",
      " 9   days_left         4502 non-null   int64  \n",
      "dtypes: float64(1), int64(1), object(8)\n",
      "memory usage: 351.8+ KB\n"
     ]
    }
   ],
   "source": [
    "test.info()"
   ]
  },
  {
   "cell_type": "code",
   "execution_count": 7,
   "id": "7353579a",
   "metadata": {},
   "outputs": [
    {
     "data": {
      "text/plain": [
       "(0, 0)"
      ]
     },
     "execution_count": 7,
     "metadata": {},
     "output_type": "execute_result"
    }
   ],
   "source": [
    "train.isnull().sum().sum(), test.isnull().sum().sum()"
   ]
  },
  {
   "cell_type": "code",
   "execution_count": 8,
   "id": "04a82e35",
   "metadata": {},
   "outputs": [
    {
     "name": "stdout",
     "output_type": "stream",
     "text": [
      "airline 동일\n",
      "flight 비동일\n",
      "source_city 동일\n",
      "departure_time 동일\n",
      "stops 동일\n",
      "arrival_time 동일\n",
      "destination_city 동일\n",
      "class 동일\n"
     ]
    }
   ],
   "source": [
    "cols = train.select_dtypes(include = 'object').columns\n",
    "for col in cols: \n",
    "    set_train = set(train[col])\n",
    "    set_test = set(test[col])\n",
    "    same = (set_test == set_train)\n",
    "    if same:\n",
    "        print(col, \"동일\")\n",
    "    else:\n",
    "        print(col, \"비동일\")"
   ]
  },
  {
   "cell_type": "code",
   "execution_count": 9,
   "id": "8b412c4d",
   "metadata": {},
   "outputs": [
    {
     "name": "stdout",
     "output_type": "stream",
     "text": [
      "4376.841613585934\n"
     ]
    }
   ],
   "source": [
    "# 데이터 전처리 \n",
    "target = train.pop('price')\n",
    "\n",
    "train = train.drop('flight', axis = 1)\n",
    "test = test.drop('flight', axis = 1)\n",
    "\n",
    "train = pd.get_dummies(train)\n",
    "test = pd.get_dummies(test)\n",
    "\n",
    "# 검증 데이터 나누기 \n",
    "from sklearn.model_selection import train_test_split\n",
    "X_train, X_val, y_train, y_val = train_test_split(train, target, test_size = 0.2, random_state = 0)\n",
    "\n",
    "# 머신러닝 학습 및 평가 \n",
    "from sklearn.ensemble import RandomForestRegressor\n",
    "rf = RandomForestRegressor(random_state = 0)\n",
    "rf.fit(X_train, y_train)\n",
    "pred = rf.predict(X_val)\n",
    "\n",
    "# RMSE\n",
    "from sklearn.metrics import mean_squared_error\n",
    "result= mean_squared_error(y_val, pred)\n",
    "print(result**0.5)\n",
    "\n",
    "pred = rf.predict(test)\n",
    "submit = pd.DataFrame({'pred' : pred})\n",
    "submit.to_csv('result.csv', index = False)"
   ]
  },
  {
   "cell_type": "markdown",
   "id": "dd51e2f3",
   "metadata": {},
   "source": [
    "### 2. 성능 개선"
   ]
  },
  {
   "cell_type": "code",
   "execution_count": 10,
   "id": "86e8eb48",
   "metadata": {},
   "outputs": [
    {
     "name": "stdout",
     "output_type": "stream",
     "text": [
      "3675.155093297134\n"
     ]
    }
   ],
   "source": [
    "# 라이브러리 및 데이터 불러오기 \n",
    "import pandas as pd\n",
    "train = pd.read_csv('flight_train.csv')\n",
    "test = pd.read_csv('flight_test.csv')\n",
    "\n",
    "# 데이터 전처리 \n",
    "target = train.pop('price')\n",
    "\n",
    "# flight 칼럼 일부 사용\n",
    "train['f2'] = train['flight'].str.split('-').str[1].astype(int)\n",
    "test['f2'] = test['flight'].str.split('-').str[1].astype(int)\n",
    "\n",
    "train = train.drop('flight', axis = 1)\n",
    "test = test.drop('flight', axis = 1)\n",
    "\n",
    "# 스케일링\n",
    "from sklearn.preprocessing import StandardScaler\n",
    "sc = StandardScaler()\n",
    "cols = ['duration', 'days_left']\n",
    "train[cols] = sc.fit_transform(train[cols])\n",
    "test[cols] = sc.transform(test[cols])\n",
    "\n",
    "#원-핫 인코딩\n",
    "train = pd.get_dummies(train)\n",
    "test = pd.get_dummies(test)\n",
    "\n",
    "#검증 데이터 나누기 \n",
    "from sklearn.model_selection import train_test_split\n",
    "X_train, X_val, y_train, y_val = train_test_split(train, target, test_size = 0.2, random_state =0)\n",
    "\n",
    "#머신러닝 학습 및 평가 \n",
    "from sklearn.ensemble import RandomForestRegressor\n",
    "rf = RandomForestRegressor(max_depth = 20, n_estimators = 200, random_state =0)\n",
    "rf.fit(X_train, y_train)\n",
    "pred = rf.predict(X_val)\n",
    "\n",
    "#RMSE\n",
    "from sklearn.metrics import mean_squared_error\n",
    "score = mean_squared_error(y_val, pred)\n",
    "print(score**0.5)\n",
    "\n",
    "pred = rf.predict(test)\n",
    "submit= pd.DataFrame({'pred' : pred})\n",
    "submit.to_csv('result.csv', index = False)"
   ]
  },
  {
   "cell_type": "markdown",
   "id": "e6bb9437",
   "metadata": {},
   "source": [
    "# 2. 노트북 가격 예측"
   ]
  },
  {
   "cell_type": "markdown",
   "id": "a39ba9ae",
   "metadata": {},
   "source": [
    "### 1. 베이스라인"
   ]
  },
  {
   "cell_type": "code",
   "execution_count": 39,
   "id": "bc1c6f23",
   "metadata": {},
   "outputs": [
    {
     "data": {
      "text/plain": [
       "((91, 10), (39, 9))"
      ]
     },
     "execution_count": 39,
     "metadata": {},
     "output_type": "execute_result"
    }
   ],
   "source": [
    "# 라이브러리 및 데이터 불러오기\n",
    "import pandas as pd\n",
    "train = pd.read_csv('laptop_train.csv')\n",
    "test = pd.read_csv('laptop_test.csv')\n",
    "train.shape, test.shape"
   ]
  },
  {
   "cell_type": "code",
   "execution_count": 40,
   "id": "5422ff4f",
   "metadata": {},
   "outputs": [
    {
     "name": "stdout",
     "output_type": "stream",
     "text": [
      "<class 'pandas.core.frame.DataFrame'>\n",
      "RangeIndex: 91 entries, 0 to 90\n",
      "Data columns (total 10 columns):\n",
      " #   Column              Non-Null Count  Dtype  \n",
      "---  ------              --------------  -----  \n",
      " 0   Brand               91 non-null     object \n",
      " 1   Model               82 non-null     object \n",
      " 2   Series              55 non-null     object \n",
      " 3   Processor           86 non-null     object \n",
      " 4   Processor_Gen       86 non-null     object \n",
      " 5   RAM                 85 non-null     float64\n",
      " 6   Hard_Disk_Capacity  85 non-null     object \n",
      " 7   OS                  85 non-null     object \n",
      " 8   Rating              91 non-null     float64\n",
      " 9   Price               91 non-null     int64  \n",
      "dtypes: float64(2), int64(1), object(7)\n",
      "memory usage: 7.2+ KB\n"
     ]
    }
   ],
   "source": [
    "train.info()"
   ]
  },
  {
   "cell_type": "code",
   "execution_count": 41,
   "id": "9db769ec",
   "metadata": {},
   "outputs": [
    {
     "name": "stdout",
     "output_type": "stream",
     "text": [
      "<class 'pandas.core.frame.DataFrame'>\n",
      "RangeIndex: 39 entries, 0 to 38\n",
      "Data columns (total 9 columns):\n",
      " #   Column              Non-Null Count  Dtype  \n",
      "---  ------              --------------  -----  \n",
      " 0   Brand               39 non-null     object \n",
      " 1   Model               34 non-null     object \n",
      " 2   Series              25 non-null     object \n",
      " 3   Processor           37 non-null     object \n",
      " 4   Processor_Gen       37 non-null     object \n",
      " 5   RAM                 37 non-null     float64\n",
      " 6   Hard_Disk_Capacity  37 non-null     object \n",
      " 7   OS                  37 non-null     object \n",
      " 8   Rating              39 non-null     float64\n",
      "dtypes: float64(2), object(7)\n",
      "memory usage: 2.9+ KB\n"
     ]
    }
   ],
   "source": [
    "test.info()"
   ]
  },
  {
   "cell_type": "code",
   "execution_count": 42,
   "id": "70b83664",
   "metadata": {},
   "outputs": [
    {
     "data": {
      "text/plain": [
       "Brand                  0\n",
       "Model                  9\n",
       "Series                36\n",
       "Processor              5\n",
       "Processor_Gen          5\n",
       "RAM                    6\n",
       "Hard_Disk_Capacity     6\n",
       "OS                     6\n",
       "Rating                 0\n",
       "Price                  0\n",
       "dtype: int64"
      ]
     },
     "execution_count": 42,
     "metadata": {},
     "output_type": "execute_result"
    }
   ],
   "source": [
    "train.isnull().sum()"
   ]
  },
  {
   "cell_type": "code",
   "execution_count": 43,
   "id": "02d5a01e",
   "metadata": {},
   "outputs": [
    {
     "data": {
      "text/plain": [
       "Brand                  0\n",
       "Model                  5\n",
       "Series                14\n",
       "Processor              2\n",
       "Processor_Gen          2\n",
       "RAM                    2\n",
       "Hard_Disk_Capacity     2\n",
       "OS                     2\n",
       "Rating                 0\n",
       "dtype: int64"
      ]
     },
     "execution_count": 43,
     "metadata": {},
     "output_type": "execute_result"
    }
   ],
   "source": [
    "test.isnull().sum()"
   ]
  },
  {
   "cell_type": "code",
   "execution_count": 44,
   "id": "55185904",
   "metadata": {},
   "outputs": [
    {
     "name": "stdout",
     "output_type": "stream",
     "text": [
      "Brand 비동일\n",
      "Model 비동일\n",
      "Series 비동일\n",
      "Processor 비동일\n",
      "Processor_Gen 비동일\n",
      "Hard_Disk_Capacity 비동일\n",
      "OS 비동일\n"
     ]
    }
   ],
   "source": [
    "cols = train.select_dtypes(include = 'object').columns\n",
    "for col in cols:\n",
    "    train_set = set(train[col])\n",
    "    test_set = set(test[col])\n",
    "    same = (train_set == test_set)\n",
    "    if same : \n",
    "        print(col, '동일')\n",
    "    else:\n",
    "        print(col, \"비동일\")"
   ]
  },
  {
   "cell_type": "code",
   "execution_count": 45,
   "id": "9c97a754",
   "metadata": {},
   "outputs": [
    {
     "name": "stdout",
     "output_type": "stream",
     "text": [
      "0.6902268393874075\n"
     ]
    }
   ],
   "source": [
    "# 데이터 전처리 \n",
    "target = train.pop('Price')\n",
    "\n",
    "#결측치 처리(범주형)\n",
    "c_cols = ['Model', 'Series', 'Processor', 'Processor_Gen', 'Hard_Disk_Capacity', 'OS']\n",
    "train[c_cols] = train[c_cols].fillna('X')\n",
    "test[c_cols] = test[c_cols].fillna('X')\n",
    "\n",
    "#결측치 처리(수치형)\n",
    "n_cols = ['RAM']\n",
    "train[n_cols] = train[n_cols].fillna(-1)\n",
    "test[n_cols] = train[n_cols].fillna(-1)\n",
    "\n",
    "#원-핫 인코딩\n",
    "combined = pd.concat([train,test])\n",
    "combined_dummies = pd.get_dummies(combined)\n",
    "train = combined_dummies[:len(train)]\n",
    "test = combined_dummies[len(train):]\n",
    "\n",
    "#검증 데이터 나누기 \n",
    "from sklearn.model_selection import train_test_split\n",
    "X_train, X_val, y_train, y_val = train_test_split(train, target, test_size = 0.2, random_state = 0)\n",
    "\n",
    "#모델 학습 및 평가\n",
    "from sklearn.ensemble import RandomForestClassifier\n",
    "rf = RandomForestClassifier(random_state = 0)\n",
    "rf.fit(X_train, y_train)\n",
    "pred = rf.predict(X_val)\n",
    "\n",
    "from sklearn.metrics import r2_score\n",
    "score = r2_score(y_val, pred)\n",
    "print(score)\n",
    "\n",
    "pred = rf.predict(test)\n",
    "submit = pd.DataFrame({'pred' : pred})\n",
    "submit.to_csv('result2.csv', index = False)"
   ]
  },
  {
   "cell_type": "markdown",
   "id": "bcbf3b67",
   "metadata": {},
   "source": [
    "### 2. 성능 개선"
   ]
  },
  {
   "cell_type": "code",
   "execution_count": 4,
   "id": "d8e44045",
   "metadata": {},
   "outputs": [
    {
     "name": "stdout",
     "output_type": "stream",
     "text": [
      "0.8042392429064131\n"
     ]
    }
   ],
   "source": [
    "# 라이브러리 및 데이터 불어오기\n",
    "import pandas as pd\n",
    "train = pd.read_csv('laptop_train.csv')\n",
    "test = pd.read_csv('laptop_test.csv')\n",
    "\n",
    "# 데이터 전처리\n",
    "target = train.pop('Price')\n",
    "\n",
    "# 결측치 삭제\n",
    "train = train.drop('Series', axis = 1)\n",
    "test = test.drop('Series', axis = 1)\n",
    "\n",
    "# 결측치 삭제\n",
    "train = train.drop('Model', axis = 1)\n",
    "test = test.drop('Model', axis =1 )\n",
    "\n",
    "# 결측치 처리(범주형)\n",
    "c_cols = ['Processor', 'Processor_Gen', 'Hard_Disk_Capacity', 'OS']\n",
    "train[c_cols] = train[c_cols].fillna(\"X\")\n",
    "test[c_cols] = test[c_cols].fillna(\"X\")\n",
    "\n",
    "# 결측치 처리(수치형)\n",
    "n_cols = ['RAM']\n",
    "train[n_cols] = train[n_cols].fillna(-1)\n",
    "test[n_cols] = train[n_cols].fillna(-1)\n",
    "\n",
    "# 원 - 핫 인코딩\n",
    "combined = pd.concat([train, test])\n",
    "combined_dummies = pd.get_dummies(combined)\n",
    "train = combined_dummies[:len(train)]\n",
    "test = combined_dummies[len(train):]\n",
    "\n",
    "#검증 데이터 나누기\n",
    "from sklearn.model_selection import train_test_split\n",
    "X_train, X_val, y_train, y_val = train_test_split(train, target, test_size = 0.2, random_state = 0)\n",
    "\n",
    "#머신러닝 학습 및 평가 \n",
    "from sklearn.ensemble import RandomForestRegressor\n",
    "rf = RandomForestRegressor(random_state = 0)\n",
    "rf.fit(X_train, y_train)\n",
    "pred = rf.predict(X_val)\n",
    "\n",
    "from sklearn.metrics import r2_score\n",
    "score = r2_score(y_val, pred)\n",
    "print(score)\n",
    "\n",
    "pred = rf.predict(test)\n",
    "submit = pd.DataFrame({'pred' : pred})\n",
    "submit.to_csv('result2.csv', index = False)"
   ]
  },
  {
   "cell_type": "markdown",
   "id": "df9ce897",
   "metadata": {},
   "source": [
    "# 3. 중고차 가격 예측"
   ]
  },
  {
   "cell_type": "markdown",
   "id": "10913cc2",
   "metadata": {},
   "source": [
    "### 1. 베이스라인"
   ]
  },
  {
   "cell_type": "code",
   "execution_count": 30,
   "id": "c78adbc0",
   "metadata": {},
   "outputs": [
    {
     "data": {
      "text/plain": [
       "((6732, 17), (5772, 16))"
      ]
     },
     "execution_count": 30,
     "metadata": {},
     "output_type": "execute_result"
    }
   ],
   "source": [
    "# 라이브러리 및 데이터 불러오기\n",
    "import pandas as pd\n",
    "train = pd.read_csv('car_train.csv')\n",
    "test = pd.read_csv('car_test.csv')\n",
    "train.shape, test.shape"
   ]
  },
  {
   "cell_type": "code",
   "execution_count": 31,
   "id": "a1381a23",
   "metadata": {},
   "outputs": [
    {
     "name": "stdout",
     "output_type": "stream",
     "text": [
      "<class 'pandas.core.frame.DataFrame'>\n",
      "RangeIndex: 6732 entries, 0 to 6731\n",
      "Data columns (total 17 columns):\n",
      " #   Column            Non-Null Count  Dtype  \n",
      "---  ------            --------------  -----  \n",
      " 0   Price             6732 non-null   int64  \n",
      " 1   Levy              6732 non-null   object \n",
      " 2   Manufacturer      6732 non-null   object \n",
      " 3   Model             6732 non-null   object \n",
      " 4   Prod. year        6732 non-null   int64  \n",
      " 5   Category          6732 non-null   object \n",
      " 6   Leather interior  6732 non-null   object \n",
      " 7   Fuel type         6732 non-null   object \n",
      " 8   Engine volume     6732 non-null   object \n",
      " 9   Mileage           6732 non-null   object \n",
      " 10  Cylinders         6732 non-null   float64\n",
      " 11  Gear box type     6732 non-null   object \n",
      " 12  Drive wheels      6732 non-null   object \n",
      " 13  Doors             6732 non-null   object \n",
      " 14  Wheel             6732 non-null   object \n",
      " 15  Color             6732 non-null   object \n",
      " 16  Airbags           6732 non-null   int64  \n",
      "dtypes: float64(1), int64(3), object(13)\n",
      "memory usage: 894.2+ KB\n"
     ]
    }
   ],
   "source": [
    "train.info()"
   ]
  },
  {
   "cell_type": "code",
   "execution_count": 32,
   "id": "c42b9caf",
   "metadata": {},
   "outputs": [
    {
     "name": "stdout",
     "output_type": "stream",
     "text": [
      "<class 'pandas.core.frame.DataFrame'>\n",
      "RangeIndex: 5772 entries, 0 to 5771\n",
      "Data columns (total 16 columns):\n",
      " #   Column            Non-Null Count  Dtype  \n",
      "---  ------            --------------  -----  \n",
      " 0   Levy              5772 non-null   object \n",
      " 1   Manufacturer      5772 non-null   object \n",
      " 2   Model             5772 non-null   object \n",
      " 3   Prod. year        5772 non-null   int64  \n",
      " 4   Category          5772 non-null   object \n",
      " 5   Leather interior  5772 non-null   object \n",
      " 6   Fuel type         5772 non-null   object \n",
      " 7   Engine volume     5772 non-null   object \n",
      " 8   Mileage           5772 non-null   object \n",
      " 9   Cylinders         5772 non-null   float64\n",
      " 10  Gear box type     5772 non-null   object \n",
      " 11  Drive wheels      5772 non-null   object \n",
      " 12  Doors             5772 non-null   object \n",
      " 13  Wheel             5772 non-null   object \n",
      " 14  Color             5772 non-null   object \n",
      " 15  Airbags           5772 non-null   int64  \n",
      "dtypes: float64(1), int64(2), object(13)\n",
      "memory usage: 721.6+ KB\n"
     ]
    }
   ],
   "source": [
    "test.info()"
   ]
  },
  {
   "cell_type": "code",
   "execution_count": 33,
   "id": "58371b09",
   "metadata": {},
   "outputs": [
    {
     "data": {
      "text/plain": [
       "(0, 0)"
      ]
     },
     "execution_count": 33,
     "metadata": {},
     "output_type": "execute_result"
    }
   ],
   "source": [
    "train.isnull().sum().sum(), test.isnull().sum().sum()"
   ]
  },
  {
   "cell_type": "code",
   "execution_count": 34,
   "id": "7378d31a",
   "metadata": {},
   "outputs": [
    {
     "name": "stdout",
     "output_type": "stream",
     "text": [
      "Levy 카테고리 비동일\n",
      "Manufacturer 카테고리 비동일\n",
      "Model 카테고리 비동일\n",
      "Category 카테고리 동일\n",
      "Leather interior 카테고리 동일\n",
      "Fuel type 카테고리 비동일\n",
      "Engine volume 카테고리 비동일\n",
      "Mileage 카테고리 비동일\n",
      "Gear box type 카테고리 동일\n",
      "Drive wheels 카테고리 동일\n",
      "Doors 카테고리 동일\n",
      "Wheel 카테고리 동일\n",
      "Color 카테고리 동일\n"
     ]
    }
   ],
   "source": [
    "cols = train.select_dtypes(include = 'object').columns\n",
    "for col in cols: \n",
    "    set_train = set(train[col])\n",
    "    set_test = set(test[col])\n",
    "    same = (set_train == set_test)\n",
    "    if same : \n",
    "        print(col, \"카테고리 동일\")\n",
    "    else:\n",
    "        print(col, \"카테고리 비동일\")"
   ]
  },
  {
   "cell_type": "code",
   "execution_count": 35,
   "id": "3a4e2f57",
   "metadata": {},
   "outputs": [
    {
     "name": "stdout",
     "output_type": "stream",
     "text": [
      "1.1008952910276844\n"
     ]
    }
   ],
   "source": [
    "# 데이터 전처리\n",
    "target = train.pop('Price')\n",
    "\n",
    "#레이블 인코딩\n",
    "from sklearn.preprocessing import LabelEncoder\n",
    "le = LabelEncoder()\n",
    "combined = pd.concat([train,test])\n",
    "cols = combined.select_dtypes(include = 'object').columns\n",
    "\n",
    "for col in cols:\n",
    "    combined[col] = le.fit_transform(combined[col])\n",
    "    \n",
    "train = combined[:len(train)]\n",
    "test = combined[len(train):]\n",
    "\n",
    "# 검증 데이터 나누기 \n",
    "from sklearn.model_selection import train_test_split\n",
    "X_train, X_val, y_train, y_val = train_test_split(train, target, test_size = 0.2, random_state = 0)\n",
    "\n",
    "# 모델 학습 및 평가\n",
    "from sklearn.ensemble import RandomForestRegressor\n",
    "rf = RandomForestRegressor(random_state = 0)\n",
    "rf.fit(X_train, y_train)\n",
    "pred = rf.predict(X_val)\n",
    "\n",
    "from sklearn.metrics import mean_squared_log_error\n",
    "score = mean_squared_log_error(y_val, pred)\n",
    "print(score**0.5)\n",
    "\n",
    "pred = rf.predict(test)\n",
    "submit = pd.DataFrame({'pred' : pred})\n",
    "submit.to_csv('result3.csv', index = False)"
   ]
  },
  {
   "cell_type": "markdown",
   "id": "08401e48",
   "metadata": {},
   "source": [
    "### 2. 성능 개선"
   ]
  },
  {
   "cell_type": "code",
   "execution_count": 37,
   "id": "819bdb01",
   "metadata": {},
   "outputs": [
    {
     "data": {
      "text/plain": [
       "Engine volume\n",
       "2            1342\n",
       "2.5           823\n",
       "1.8           623\n",
       "1.6           533\n",
       "1.5           453\n",
       "             ... \n",
       "0.8 Turbo       1\n",
       "3.1             1\n",
       "4.6 Turbo       1\n",
       "4.2 Turbo       1\n",
       "4.8 Turbo       1\n",
       "Name: count, Length: 91, dtype: int64"
      ]
     },
     "execution_count": 37,
     "metadata": {},
     "output_type": "execute_result"
    }
   ],
   "source": [
    "train = pd.read_csv('car_train.csv')\n",
    "train['Engine volume'].value_counts()"
   ]
  },
  {
   "cell_type": "code",
   "execution_count": 38,
   "id": "4bb9e036",
   "metadata": {},
   "outputs": [
    {
     "data": {
      "text/plain": [
       "Mileage\n",
       "km    6732\n",
       "Name: count, dtype: int64"
      ]
     },
     "execution_count": 38,
     "metadata": {},
     "output_type": "execute_result"
    }
   ],
   "source": [
    "train['Mileage'].str.split().str[1].value_counts()"
   ]
  },
  {
   "cell_type": "code",
   "execution_count": 43,
   "id": "eeb61f15",
   "metadata": {},
   "outputs": [
    {
     "name": "stdout",
     "output_type": "stream",
     "text": [
      "1.082016203127291\n"
     ]
    }
   ],
   "source": [
    "# 라이브러리 및 데이터 불러오기\n",
    "import pandas as pd\n",
    "train = pd.read_csv('car_train.csv')\n",
    "test = pd.read_csv('car_test.csv')\n",
    "\n",
    "# 데이터 전처리\n",
    "target = train.pop('Price')\n",
    "\n",
    "# Engine  volume 자료형 변경 및 Turbo 칼럼 생성 \n",
    "train['Turbo'] = train['Engine volume'].str.contains('Turbo').astype(int)\n",
    "train['Engine volume'] = train['Engine volume'].str.replace('Turbo', '').astype(float)\n",
    "\n",
    "test['Turbo'] = test['Engine volume'].str.contains('Turbo').astype(int)\n",
    "test['Engine volume'] = test['Engine volume'].str.replace('Turbo', '').astype(float)\n",
    "\n",
    "# Mileage 자료형 변경\n",
    "train['Mileage'] = train['Mileage'].str.split().str[0].astype(int)\n",
    "test['Mileage'] = test['Mileage'].str.split().str[0].astype(int)\n",
    "\n",
    "#레이블 인코딩 \n",
    "combined = pd.concat([train,test])\n",
    "from sklearn.preprocessing import LabelEncoder\n",
    "le = LabelEncoder()\n",
    "cols = train.select_dtypes(include = 'object').columns\n",
    "for col in cols:\n",
    "    combined[col] = le.fit_transform(combined[col])\n",
    "\n",
    "train = combined[:len(train)]\n",
    "test = combined[len(train):]\n",
    "\n",
    "# 검증 데이터 나누기\n",
    "from sklearn.model_selection import train_test_split\n",
    "X_train, X_val, y_train, y_val = train_test_split(train, target, test_size = 0.2, random_state = 0)\n",
    "\n",
    "# 머신러닝 학습 및 평가\n",
    "from sklearn.ensemble import RandomForestRegressor\n",
    "rf = RandomForestRegressor(n_estimators = 200, random_state = 0)\n",
    "rf.fit(X_train, y_train)\n",
    "pred = rf.predict(X_val)\n",
    "from sklearn.metrics import mean_squared_log_error\n",
    "score = mean_squared_log_error(y_val, pred) ** 0.5\n",
    "print(score)\n",
    "\n",
    "pred = rf.predict(test)\n",
    "submit = pd.DataFrame({'pred' : pred})\n",
    "submit.to_csv('result3.csv', index= False)"
   ]
  }
 ],
 "metadata": {
  "kernelspec": {
   "display_name": "Python 3 (ipykernel)",
   "language": "python",
   "name": "python3"
  },
  "language_info": {
   "codemirror_mode": {
    "name": "ipython",
    "version": 3
   },
   "file_extension": ".py",
   "mimetype": "text/x-python",
   "name": "python",
   "nbconvert_exporter": "python",
   "pygments_lexer": "ipython3",
   "version": "3.8.17"
  }
 },
 "nbformat": 4,
 "nbformat_minor": 5
}
