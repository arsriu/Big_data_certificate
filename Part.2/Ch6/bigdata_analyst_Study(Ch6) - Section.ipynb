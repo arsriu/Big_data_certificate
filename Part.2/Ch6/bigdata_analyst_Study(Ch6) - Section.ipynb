{
 "cells": [
  {
   "cell_type": "markdown",
   "id": "1b7235e1",
   "metadata": {},
   "source": [
    "# 1. 환자의 당뇨병 여부 예측"
   ]
  },
  {
   "cell_type": "code",
   "execution_count": 38,
   "id": "881f1a0a",
   "metadata": {},
   "outputs": [],
   "source": [
    "import pandas as pd\n",
    "train = pd.read_csv('diabetes_train.csv')\n",
    "test = pd.read_csv('diabetes_test.csv')"
   ]
  },
  {
   "cell_type": "code",
   "execution_count": 39,
   "id": "1119ce58",
   "metadata": {},
   "outputs": [
    {
     "data": {
      "text/plain": [
       "((614, 9), (154, 8))"
      ]
     },
     "execution_count": 39,
     "metadata": {},
     "output_type": "execute_result"
    }
   ],
   "source": [
    "train.shape, test.shape"
   ]
  },
  {
   "cell_type": "code",
   "execution_count": 40,
   "id": "e1332112",
   "metadata": {},
   "outputs": [
    {
     "data": {
      "text/html": [
       "<div>\n",
       "<style scoped>\n",
       "    .dataframe tbody tr th:only-of-type {\n",
       "        vertical-align: middle;\n",
       "    }\n",
       "\n",
       "    .dataframe tbody tr th {\n",
       "        vertical-align: top;\n",
       "    }\n",
       "\n",
       "    .dataframe thead th {\n",
       "        text-align: right;\n",
       "    }\n",
       "</style>\n",
       "<table border=\"1\" class=\"dataframe\">\n",
       "  <thead>\n",
       "    <tr style=\"text-align: right;\">\n",
       "      <th></th>\n",
       "      <th>Pregnancies</th>\n",
       "      <th>Glucose</th>\n",
       "      <th>BloodPressure</th>\n",
       "      <th>SkinThickness</th>\n",
       "      <th>Insulin</th>\n",
       "      <th>BMI</th>\n",
       "      <th>DiabetesPedigreeFunction</th>\n",
       "      <th>Age</th>\n",
       "      <th>Outcome</th>\n",
       "    </tr>\n",
       "  </thead>\n",
       "  <tbody>\n",
       "    <tr>\n",
       "      <th>0</th>\n",
       "      <td>1</td>\n",
       "      <td>118</td>\n",
       "      <td>58</td>\n",
       "      <td>36</td>\n",
       "      <td>94</td>\n",
       "      <td>33.3</td>\n",
       "      <td>0.261</td>\n",
       "      <td>23</td>\n",
       "      <td>0</td>\n",
       "    </tr>\n",
       "  </tbody>\n",
       "</table>\n",
       "</div>"
      ],
      "text/plain": [
       "   Pregnancies  Glucose  BloodPressure  SkinThickness  Insulin   BMI  \\\n",
       "0            1      118             58             36       94  33.3   \n",
       "\n",
       "   DiabetesPedigreeFunction  Age  Outcome  \n",
       "0                     0.261   23        0  "
      ]
     },
     "execution_count": 40,
     "metadata": {},
     "output_type": "execute_result"
    }
   ],
   "source": [
    "train.head(1)"
   ]
  },
  {
   "cell_type": "code",
   "execution_count": 41,
   "id": "76d6d75f",
   "metadata": {},
   "outputs": [
    {
     "data": {
      "text/html": [
       "<div>\n",
       "<style scoped>\n",
       "    .dataframe tbody tr th:only-of-type {\n",
       "        vertical-align: middle;\n",
       "    }\n",
       "\n",
       "    .dataframe tbody tr th {\n",
       "        vertical-align: top;\n",
       "    }\n",
       "\n",
       "    .dataframe thead th {\n",
       "        text-align: right;\n",
       "    }\n",
       "</style>\n",
       "<table border=\"1\" class=\"dataframe\">\n",
       "  <thead>\n",
       "    <tr style=\"text-align: right;\">\n",
       "      <th></th>\n",
       "      <th>Pregnancies</th>\n",
       "      <th>Glucose</th>\n",
       "      <th>BloodPressure</th>\n",
       "      <th>SkinThickness</th>\n",
       "      <th>Insulin</th>\n",
       "      <th>BMI</th>\n",
       "      <th>DiabetesPedigreeFunction</th>\n",
       "      <th>Age</th>\n",
       "    </tr>\n",
       "  </thead>\n",
       "  <tbody>\n",
       "    <tr>\n",
       "      <th>0</th>\n",
       "      <td>3</td>\n",
       "      <td>102</td>\n",
       "      <td>74</td>\n",
       "      <td>0</td>\n",
       "      <td>0</td>\n",
       "      <td>29.5</td>\n",
       "      <td>0.121</td>\n",
       "      <td>32</td>\n",
       "    </tr>\n",
       "  </tbody>\n",
       "</table>\n",
       "</div>"
      ],
      "text/plain": [
       "   Pregnancies  Glucose  BloodPressure  SkinThickness  Insulin   BMI  \\\n",
       "0            3      102             74              0        0  29.5   \n",
       "\n",
       "   DiabetesPedigreeFunction  Age  \n",
       "0                     0.121   32  "
      ]
     },
     "execution_count": 41,
     "metadata": {},
     "output_type": "execute_result"
    }
   ],
   "source": [
    "test.head(1)"
   ]
  },
  {
   "cell_type": "code",
   "execution_count": 42,
   "id": "08c5441f",
   "metadata": {},
   "outputs": [
    {
     "name": "stdout",
     "output_type": "stream",
     "text": [
      "<class 'pandas.core.frame.DataFrame'>\n",
      "RangeIndex: 614 entries, 0 to 613\n",
      "Data columns (total 9 columns):\n",
      " #   Column                    Non-Null Count  Dtype  \n",
      "---  ------                    --------------  -----  \n",
      " 0   Pregnancies               614 non-null    int64  \n",
      " 1   Glucose                   614 non-null    int64  \n",
      " 2   BloodPressure             614 non-null    int64  \n",
      " 3   SkinThickness             614 non-null    int64  \n",
      " 4   Insulin                   614 non-null    int64  \n",
      " 5   BMI                       614 non-null    float64\n",
      " 6   DiabetesPedigreeFunction  614 non-null    float64\n",
      " 7   Age                       614 non-null    int64  \n",
      " 8   Outcome                   614 non-null    int64  \n",
      "dtypes: float64(2), int64(7)\n",
      "memory usage: 43.3 KB\n"
     ]
    }
   ],
   "source": [
    "train.info()"
   ]
  },
  {
   "cell_type": "code",
   "execution_count": 43,
   "id": "bd7bb5ae",
   "metadata": {},
   "outputs": [
    {
     "data": {
      "text/plain": [
       "(0, 0)"
      ]
     },
     "execution_count": 43,
     "metadata": {},
     "output_type": "execute_result"
    }
   ],
   "source": [
    "train.isnull().sum().sum(), test.isnull().sum().sum()"
   ]
  },
  {
   "cell_type": "code",
   "execution_count": 44,
   "id": "bf4df176",
   "metadata": {},
   "outputs": [
    {
     "name": "stdout",
     "output_type": "stream",
     "text": [
      "(491, 8) (123, 8) (491,) (123,)\n",
      "[[0.88 0.12]\n",
      " [0.29 0.71]\n",
      " [0.41 0.59]\n",
      " [0.75 0.25]\n",
      " [0.89 0.11]]\n",
      "0.8002739726027398\n",
      "   pred\n",
      "0  0.17\n",
      "1  0.33\n",
      "2  0.11\n",
      "3  0.04\n",
      "4  0.09\n"
     ]
    }
   ],
   "source": [
    "target = train.pop('Outcome')\n",
    "\n",
    "from sklearn.model_selection import train_test_split\n",
    "X_train, X_val, y_train, y_val = train_test_split(train, target, test_size = 0.2, random_state = 0)\n",
    "print(X_train.shape, X_val.shape, y_train.shape, y_val.shape)\n",
    "\n",
    "from sklearn.ensemble import RandomForestClassifier\n",
    "rf = RandomForestClassifier(random_state = 0)\n",
    "rf.fit(X_train, y_train)\n",
    "pred = rf.predict_proba(X_val)\n",
    "print(pred[:5])\n",
    "\n",
    "from sklearn.metrics import roc_auc_score\n",
    "roc_auc = roc_auc_score(y_val, pred[:,1])\n",
    "print(roc_auc)\n",
    "\n",
    "pred = rf.predict_proba(test)\n",
    "submit = pd.DataFrame({'pred' : pred[:,1]})\n",
    "submit.to_csv('result.csv', index = False)\n",
    "print(pd.read_csv('result.csv').head())"
   ]
  },
  {
   "cell_type": "code",
   "execution_count": 46,
   "id": "6eb3e88a",
   "metadata": {},
   "outputs": [
    {
     "name": "stdout",
     "output_type": "stream",
     "text": [
      "0.8246575342465753\n"
     ]
    }
   ],
   "source": [
    "# 라이브러리 및 데이터 불러오기 \n",
    "import pandas as pd\n",
    "\n",
    "train = pd.read_csv('diabetes_train.csv')\n",
    "test = pd.read_csv('diabetes_test.csv')\n",
    "\n",
    "# 데이터 전처리\n",
    "target = train.pop('Outcome')\n",
    "from sklearn.preprocessing import MinMaxScaler\n",
    "scaler = MinMaxScaler()\n",
    "train = scaler.fit_transform(train)\n",
    "test = scaler.transform(test)\n",
    "\n",
    "# 검증 데이터 나누기\n",
    "from sklearn.model_selection import train_test_split\n",
    "X_train, X_val, y_train, y_val = train_test_split(train,target, test_size = 0.2, random_state = 0)\n",
    "\n",
    "# 머신러닝 학습 및 평가 \n",
    "from sklearn.ensemble import RandomForestClassifier\n",
    "rf = RandomForestClassifier(max_depth = 5, n_estimators = 500, random_state = 0 )\n",
    "rf.fit(X_train, y_train)\n",
    "pred = rf.predict_proba(X_val)\n",
    "\n",
    "from sklearn.metrics import roc_auc_score\n",
    "roc_auc = roc_auc_score(y_val, pred[:,1])\n",
    "print(roc_auc)\n",
    "\n",
    "# 예측 및 결과 파일 생성\n",
    "pred = rf.predict_proba(test)\n",
    "submit = pd.DataFrame({'pred' : pred[:,1]})\n",
    "submit.to_csv('result.csv', index = False)"
   ]
  },
  {
   "cell_type": "markdown",
   "id": "57123b1e",
   "metadata": {},
   "source": [
    "# 2. 이직 여부 예측"
   ]
  },
  {
   "cell_type": "code",
   "execution_count": 73,
   "id": "dc266793",
   "metadata": {},
   "outputs": [
    {
     "data": {
      "text/plain": [
       "((15326, 14), (3832, 13))"
      ]
     },
     "execution_count": 73,
     "metadata": {},
     "output_type": "execute_result"
    }
   ],
   "source": [
    "import pandas as pd\n",
    "train = pd.read_csv('hr_train.csv')\n",
    "test = pd.read_csv('hr_test.csv')\n",
    "train.shape, test.shape"
   ]
  },
  {
   "cell_type": "code",
   "execution_count": 74,
   "id": "7a529b7b",
   "metadata": {},
   "outputs": [
    {
     "name": "stdout",
     "output_type": "stream",
     "text": [
      "<class 'pandas.core.frame.DataFrame'>\n",
      "RangeIndex: 15326 entries, 0 to 15325\n",
      "Data columns (total 14 columns):\n",
      " #   Column                  Non-Null Count  Dtype  \n",
      "---  ------                  --------------  -----  \n",
      " 0   enrollee_id             15326 non-null  int64  \n",
      " 1   city                    15326 non-null  object \n",
      " 2   city_development_index  15326 non-null  float64\n",
      " 3   gender                  11750 non-null  object \n",
      " 4   relevent_experience     15326 non-null  object \n",
      " 5   enrolled_university     15012 non-null  object \n",
      " 6   education_level         14961 non-null  object \n",
      " 7   major_discipline        13045 non-null  object \n",
      " 8   experience              15272 non-null  object \n",
      " 9   company_size            10539 non-null  object \n",
      " 10  company_type            10383 non-null  object \n",
      " 11  last_new_job            14984 non-null  object \n",
      " 12  training_hours          15326 non-null  int64  \n",
      " 13  target                  15326 non-null  float64\n",
      "dtypes: float64(2), int64(2), object(10)\n",
      "memory usage: 1.6+ MB\n"
     ]
    }
   ],
   "source": [
    "train.info()"
   ]
  },
  {
   "cell_type": "code",
   "execution_count": 75,
   "id": "46dc8ddf",
   "metadata": {},
   "outputs": [
    {
     "name": "stdout",
     "output_type": "stream",
     "text": [
      "enrollee_id                  0\n",
      "city                         0\n",
      "city_development_index       0\n",
      "gender                    3576\n",
      "relevent_experience          0\n",
      "enrolled_university        314\n",
      "education_level            365\n",
      "major_discipline          2281\n",
      "experience                  54\n",
      "company_size              4787\n",
      "company_type              4943\n",
      "last_new_job               342\n",
      "training_hours               0\n",
      "target                       0\n",
      "dtype: int64\n"
     ]
    },
    {
     "data": {
      "text/plain": [
       "enrollee_id                  0\n",
       "city                         0\n",
       "city_development_index       0\n",
       "gender                     932\n",
       "relevent_experience          0\n",
       "enrolled_university         72\n",
       "education_level             95\n",
       "major_discipline           532\n",
       "experience                  11\n",
       "company_size              1151\n",
       "company_type              1197\n",
       "last_new_job                81\n",
       "training_hours               0\n",
       "dtype: int64"
      ]
     },
     "execution_count": 75,
     "metadata": {},
     "output_type": "execute_result"
    }
   ],
   "source": [
    "print(train.isnull().sum())\n",
    "test.isnull().sum()"
   ]
  },
  {
   "cell_type": "code",
   "execution_count": 76,
   "id": "55346ff2",
   "metadata": {},
   "outputs": [
    {
     "data": {
      "text/html": [
       "<div>\n",
       "<style scoped>\n",
       "    .dataframe tbody tr th:only-of-type {\n",
       "        vertical-align: middle;\n",
       "    }\n",
       "\n",
       "    .dataframe tbody tr th {\n",
       "        vertical-align: top;\n",
       "    }\n",
       "\n",
       "    .dataframe thead th {\n",
       "        text-align: right;\n",
       "    }\n",
       "</style>\n",
       "<table border=\"1\" class=\"dataframe\">\n",
       "  <thead>\n",
       "    <tr style=\"text-align: right;\">\n",
       "      <th></th>\n",
       "      <th>city</th>\n",
       "      <th>gender</th>\n",
       "      <th>relevent_experience</th>\n",
       "      <th>enrolled_university</th>\n",
       "      <th>education_level</th>\n",
       "      <th>major_discipline</th>\n",
       "      <th>experience</th>\n",
       "      <th>company_size</th>\n",
       "      <th>company_type</th>\n",
       "      <th>last_new_job</th>\n",
       "    </tr>\n",
       "  </thead>\n",
       "  <tbody>\n",
       "    <tr>\n",
       "      <th>count</th>\n",
       "      <td>15326</td>\n",
       "      <td>11750</td>\n",
       "      <td>15326</td>\n",
       "      <td>15012</td>\n",
       "      <td>14961</td>\n",
       "      <td>13045</td>\n",
       "      <td>15272</td>\n",
       "      <td>10539</td>\n",
       "      <td>10383</td>\n",
       "      <td>14984</td>\n",
       "    </tr>\n",
       "    <tr>\n",
       "      <th>unique</th>\n",
       "      <td>123</td>\n",
       "      <td>3</td>\n",
       "      <td>2</td>\n",
       "      <td>3</td>\n",
       "      <td>5</td>\n",
       "      <td>6</td>\n",
       "      <td>22</td>\n",
       "      <td>8</td>\n",
       "      <td>6</td>\n",
       "      <td>6</td>\n",
       "    </tr>\n",
       "    <tr>\n",
       "      <th>top</th>\n",
       "      <td>city_103</td>\n",
       "      <td>Male</td>\n",
       "      <td>Has relevent experience</td>\n",
       "      <td>no_enrollment</td>\n",
       "      <td>Graduate</td>\n",
       "      <td>STEM</td>\n",
       "      <td>&gt;20</td>\n",
       "      <td>50-99</td>\n",
       "      <td>Pvt Ltd</td>\n",
       "      <td>1</td>\n",
       "    </tr>\n",
       "    <tr>\n",
       "      <th>freq</th>\n",
       "      <td>3510</td>\n",
       "      <td>10601</td>\n",
       "      <td>10942</td>\n",
       "      <td>11042</td>\n",
       "      <td>9242</td>\n",
       "      <td>11538</td>\n",
       "      <td>2673</td>\n",
       "      <td>2453</td>\n",
       "      <td>7838</td>\n",
       "      <td>6414</td>\n",
       "    </tr>\n",
       "  </tbody>\n",
       "</table>\n",
       "</div>"
      ],
      "text/plain": [
       "            city gender      relevent_experience enrolled_university  \\\n",
       "count      15326  11750                    15326               15012   \n",
       "unique       123      3                        2                   3   \n",
       "top     city_103   Male  Has relevent experience       no_enrollment   \n",
       "freq        3510  10601                    10942               11042   \n",
       "\n",
       "       education_level major_discipline experience company_size company_type  \\\n",
       "count            14961            13045      15272        10539        10383   \n",
       "unique               5                6         22            8            6   \n",
       "top           Graduate             STEM        >20        50-99      Pvt Ltd   \n",
       "freq              9242            11538       2673         2453         7838   \n",
       "\n",
       "       last_new_job  \n",
       "count         14984  \n",
       "unique            6  \n",
       "top               1  \n",
       "freq           6414  "
      ]
     },
     "execution_count": 76,
     "metadata": {},
     "output_type": "execute_result"
    }
   ],
   "source": [
    "train.describe(include = 'O')"
   ]
  },
  {
   "cell_type": "code",
   "execution_count": 77,
   "id": "282127e6",
   "metadata": {},
   "outputs": [
    {
     "data": {
      "text/html": [
       "<div>\n",
       "<style scoped>\n",
       "    .dataframe tbody tr th:only-of-type {\n",
       "        vertical-align: middle;\n",
       "    }\n",
       "\n",
       "    .dataframe tbody tr th {\n",
       "        vertical-align: top;\n",
       "    }\n",
       "\n",
       "    .dataframe thead th {\n",
       "        text-align: right;\n",
       "    }\n",
       "</style>\n",
       "<table border=\"1\" class=\"dataframe\">\n",
       "  <thead>\n",
       "    <tr style=\"text-align: right;\">\n",
       "      <th></th>\n",
       "      <th>city</th>\n",
       "      <th>gender</th>\n",
       "      <th>relevent_experience</th>\n",
       "      <th>enrolled_university</th>\n",
       "      <th>education_level</th>\n",
       "      <th>major_discipline</th>\n",
       "      <th>experience</th>\n",
       "      <th>company_size</th>\n",
       "      <th>company_type</th>\n",
       "      <th>last_new_job</th>\n",
       "    </tr>\n",
       "  </thead>\n",
       "  <tbody>\n",
       "    <tr>\n",
       "      <th>count</th>\n",
       "      <td>3832</td>\n",
       "      <td>2900</td>\n",
       "      <td>3832</td>\n",
       "      <td>3760</td>\n",
       "      <td>3737</td>\n",
       "      <td>3300</td>\n",
       "      <td>3821</td>\n",
       "      <td>2681</td>\n",
       "      <td>2635</td>\n",
       "      <td>3751</td>\n",
       "    </tr>\n",
       "    <tr>\n",
       "      <th>unique</th>\n",
       "      <td>113</td>\n",
       "      <td>3</td>\n",
       "      <td>2</td>\n",
       "      <td>3</td>\n",
       "      <td>5</td>\n",
       "      <td>6</td>\n",
       "      <td>22</td>\n",
       "      <td>8</td>\n",
       "      <td>6</td>\n",
       "      <td>6</td>\n",
       "    </tr>\n",
       "    <tr>\n",
       "      <th>top</th>\n",
       "      <td>city_103</td>\n",
       "      <td>Male</td>\n",
       "      <td>Has relevent experience</td>\n",
       "      <td>no_enrollment</td>\n",
       "      <td>Graduate</td>\n",
       "      <td>STEM</td>\n",
       "      <td>&gt;20</td>\n",
       "      <td>50-99</td>\n",
       "      <td>Pvt Ltd</td>\n",
       "      <td>1</td>\n",
       "    </tr>\n",
       "    <tr>\n",
       "      <th>freq</th>\n",
       "      <td>845</td>\n",
       "      <td>2620</td>\n",
       "      <td>2850</td>\n",
       "      <td>2775</td>\n",
       "      <td>2356</td>\n",
       "      <td>2954</td>\n",
       "      <td>613</td>\n",
       "      <td>630</td>\n",
       "      <td>1979</td>\n",
       "      <td>1626</td>\n",
       "    </tr>\n",
       "  </tbody>\n",
       "</table>\n",
       "</div>"
      ],
      "text/plain": [
       "            city gender      relevent_experience enrolled_university  \\\n",
       "count       3832   2900                     3832                3760   \n",
       "unique       113      3                        2                   3   \n",
       "top     city_103   Male  Has relevent experience       no_enrollment   \n",
       "freq         845   2620                     2850                2775   \n",
       "\n",
       "       education_level major_discipline experience company_size company_type  \\\n",
       "count             3737             3300       3821         2681         2635   \n",
       "unique               5                6         22            8            6   \n",
       "top           Graduate             STEM        >20        50-99      Pvt Ltd   \n",
       "freq              2356             2954        613          630         1979   \n",
       "\n",
       "       last_new_job  \n",
       "count          3751  \n",
       "unique            6  \n",
       "top               1  \n",
       "freq           1626  "
      ]
     },
     "execution_count": 77,
     "metadata": {},
     "output_type": "execute_result"
    }
   ],
   "source": [
    "test.describe(include = 'O')"
   ]
  },
  {
   "cell_type": "code",
   "execution_count": 78,
   "id": "a5a4e727",
   "metadata": {},
   "outputs": [],
   "source": [
    "target = train.pop('target')\n",
    "\n",
    "# 결측치 처리\n",
    "train = train.fillna('X')\n",
    "test = test.fillna('X')\n",
    "\n",
    "# train과 test 합쳐서 원-핫 인코딩\n",
    "combined = pd.concat([train,test])\n",
    "combined_dummies = pd.get_dummies(combined)\n",
    "train = combined_dummies[:len(train)]\n",
    "test = combined_dummies[len(train):]\n",
    "\n",
    "# 검증 데이터 나누기\n",
    "from sklearn.model_selection import train_test_split\n",
    "X_train, X_val, y_train, y_val = train_test_split(train, target, test_size = 0.2, random_state = 0)\n",
    "\n",
    "# 머신러닝 학습 및 평가 \n",
    "from sklearn.ensemble import RandomForestClassifier\n",
    "rf = RandomForestClassifier(random_state = 0)\n",
    "rf.fit(X_train, y_train)\n",
    "pred = rf.predict_proba(X_val)\n",
    "\n",
    "from sklearn.metrics import roc_auc_score\n",
    "roc_auc = roc_auc_score(y_val, pred[:,1])\n",
    "\n",
    "# 예측 및 결과 파일 생성\n",
    "pred = rf.predict_proba(test)\n",
    "submit = pd.DataFrame({'pred' : pred[:,1]})\n",
    "submit.to_csv('result2.csv', index = False)"
   ]
  },
  {
   "cell_type": "code",
   "execution_count": 79,
   "id": "7d82dc66",
   "metadata": {},
   "outputs": [
    {
     "data": {
      "text/plain": [
       "0.7730742036233207"
      ]
     },
     "execution_count": 79,
     "metadata": {},
     "output_type": "execute_result"
    }
   ],
   "source": [
    "roc_auc"
   ]
  },
  {
   "cell_type": "code",
   "execution_count": 89,
   "id": "ffb20cc0",
   "metadata": {},
   "outputs": [
    {
     "name": "stdout",
     "output_type": "stream",
     "text": [
      "0.7825363713412095\n"
     ]
    }
   ],
   "source": [
    "# 라이브러리 및 데이터 불러오기 \n",
    "import pandas as pd\n",
    "train = pd.read_csv('hr_train.csv')\n",
    "test = pd.read_csv('hr_test.csv')\n",
    "\n",
    "# 데이터 전처리\n",
    "target = train.pop('target')\n",
    "\n",
    "# 결측치 처리 \n",
    "train = train.fillna('X')\n",
    "test = train.fillna('X')\n",
    "\n",
    "# 레이블 인코딩\n",
    "from sklearn.preprocessing import LabelEncoder\n",
    "le = LabelEncoder()\n",
    "combind = pd.concat([train, test])\n",
    "cols = train.select_dtypes(include = 'object').columns\n",
    "\n",
    "for col in cols:\n",
    "    combind[col] = le.fit_transform(combind[col])\n",
    "train = combind[:len(train)]\n",
    "test = combind[len(train):]\n",
    "\n",
    "#id 제거\n",
    "# train.drop('enrollee_id', axis = 1)\n",
    "# test.drop('enrollee_id', axis = 1)\n",
    "\n",
    "# 스케일링\n",
    "from sklearn.preprocessing import RobustScaler\n",
    "scaler = RobustScaler()\n",
    "train = scaler.fit_transform(train)\n",
    "test = scaler.transform(test)\n",
    "\n",
    "# 검증 데이터 분할\n",
    "from sklearn.model_selection import train_test_split\n",
    "X_train, X_val, y_train, y_val = train_test_split(train, target, test_size = 0.2, random_state = 0)\n",
    "\n",
    "# 머신러닝 학습 및 평가\n",
    "from sklearn.ensemble import RandomForestClassifier\n",
    "rf = RandomForestClassifier(max_depth = 7, n_estimators = 200, random_state = 0)\n",
    "rf.fit(X_train, y_train)\n",
    "pred = rf.predict_proba(X_val)\n",
    "\n",
    "from sklearn.metrics import roc_auc_score\n",
    "roc_auc = roc_auc_score(y_val, pred[:,1])\n",
    "print(roc_auc)\n",
    "\n",
    "pred = rf.predict_proba(test)\n",
    "submit = pd.DataFrame({'pred' : pred[:,1]})\n",
    "submit.to_csv('result2.csv', index=  False)"
   ]
  },
  {
   "cell_type": "code",
   "execution_count": null,
   "id": "10f096be",
   "metadata": {},
   "outputs": [],
   "source": []
  }
 ],
 "metadata": {
  "kernelspec": {
   "display_name": "Python 3 (ipykernel)",
   "language": "python",
   "name": "python3"
  },
  "language_info": {
   "codemirror_mode": {
    "name": "ipython",
    "version": 3
   },
   "file_extension": ".py",
   "mimetype": "text/x-python",
   "name": "python",
   "nbconvert_exporter": "python",
   "pygments_lexer": "ipython3",
   "version": "3.8.17"
  }
 },
 "nbformat": 4,
 "nbformat_minor": 5
}
