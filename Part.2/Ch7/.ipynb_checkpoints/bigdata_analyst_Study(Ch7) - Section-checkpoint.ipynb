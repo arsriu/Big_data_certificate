{
 "cells": [
  {
   "cell_type": "markdown",
   "id": "513715a4",
   "metadata": {},
   "source": [
    "# 1. 신용 등급 예측"
   ]
  },
  {
   "cell_type": "markdown",
   "id": "d508c361",
   "metadata": {},
   "source": [
    "### 1. 베이스라인"
   ]
  },
  {
   "cell_type": "code",
   "execution_count": 1,
   "id": "7f8694b0",
   "metadata": {},
   "outputs": [
    {
     "data": {
      "text/plain": [
       "((4198, 21), (1499, 20))"
      ]
     },
     "execution_count": 1,
     "metadata": {},
     "output_type": "execute_result"
    }
   ],
   "source": [
    "import pandas as pd\n",
    "\n",
    "train = pd.read_csv('score_train.csv')\n",
    "test = pd.read_csv('score_test.csv')\n",
    "train.shape, test.shape"
   ]
  },
  {
   "cell_type": "code",
   "execution_count": 5,
   "id": "a6cedf3f",
   "metadata": {},
   "outputs": [
    {
     "name": "stdout",
     "output_type": "stream",
     "text": [
      "<class 'pandas.core.frame.DataFrame'>\n",
      "RangeIndex: 4198 entries, 0 to 4197\n",
      "Data columns (total 21 columns):\n",
      " #   Column                    Non-Null Count  Dtype  \n",
      "---  ------                    --------------  -----  \n",
      " 0   Delay_from_due_date       4198 non-null   float64\n",
      " 1   Num_of_Delayed_Payment    4198 non-null   float64\n",
      " 2   Num_Credit_Inquiries      4198 non-null   float64\n",
      " 3   Credit_Utilization_Ratio  4198 non-null   float64\n",
      " 4   Credit_History_Age        4198 non-null   float64\n",
      " 5   Payment_of_Min_Amount     4198 non-null   object \n",
      " 6   Amount_invested_monthly   4198 non-null   float64\n",
      " 7   Monthly_Balance           4198 non-null   float64\n",
      " 8   Credit_Mix                4198 non-null   object \n",
      " 9   Payment_Behaviour         4198 non-null   object \n",
      " 10  Age                       4198 non-null   float64\n",
      " 11  Annual_Income             4198 non-null   float64\n",
      " 12  Num_Bank_Accounts         4198 non-null   float64\n",
      " 13  Num_Credit_Card           4198 non-null   float64\n",
      " 14  Interest_Rate             4198 non-null   float64\n",
      " 15  Num_of_Loan               4198 non-null   float64\n",
      " 16  Monthly_Inhand_Salary     4198 non-null   float64\n",
      " 17  Changed_Credit_Limit      4198 non-null   float64\n",
      " 18  Outstanding_Debt          4198 non-null   float64\n",
      " 19  Total_EMI_per_month       4198 non-null   float64\n",
      " 20  Credit_Score              4198 non-null   object \n",
      "dtypes: float64(17), object(4)\n",
      "memory usage: 688.9+ KB\n"
     ]
    }
   ],
   "source": [
    "train.info()"
   ]
  },
  {
   "cell_type": "code",
   "execution_count": 9,
   "id": "4b66371d",
   "metadata": {},
   "outputs": [
    {
     "data": {
      "text/plain": [
       "(0, 0)"
      ]
     },
     "execution_count": 9,
     "metadata": {},
     "output_type": "execute_result"
    }
   ],
   "source": [
    "train.isnull().sum().sum(), test.isnull().sum().sum()"
   ]
  },
  {
   "cell_type": "code",
   "execution_count": 10,
   "id": "5905bcbb",
   "metadata": {},
   "outputs": [
    {
     "name": "stdout",
     "output_type": "stream",
     "text": [
      "0.7004593488873695\n",
      "       pred\n",
      "0      Poor\n",
      "1      Good\n",
      "2  Standard\n",
      "3      Good\n",
      "4  Standard\n"
     ]
    }
   ],
   "source": [
    "# 데이터 전처리 및 원 - 핫 인코딩 \n",
    "target = train.pop('Credit_Score')\n",
    "\n",
    "train = pd.get_dummies(train)\n",
    "test = pd.get_dummies(test)\n",
    "\n",
    "# 검증 데이터 나누기\n",
    "from sklearn.model_selection import train_test_split\n",
    "X_train, X_val, y_train, y_val = train_test_split(train, target, test_size = 0.2, random_state = 0)\n",
    "\n",
    "# 머신러닝 학습 및 평가 \n",
    "from sklearn.ensemble import RandomForestClassifier\n",
    "rf = RandomForestClassifier(random_state = 0)\n",
    "rf.fit(X_train, y_train)\n",
    "pred = rf.predict(X_val)\n",
    "\n",
    "from sklearn.metrics import f1_score\n",
    "score = f1_score(y_val, pred, average = 'macro')\n",
    "print(score)\n",
    "\n",
    "# 예측 및 결과 파일 생성 \n",
    "pred = rf.predict(test)\n",
    "submit = pd.DataFrame({'pred' : pred})\n",
    "submit.to_csv('result.csv', index= False)\n",
    "\n",
    "print(pd.read_csv('result.csv').head())"
   ]
  },
  {
   "cell_type": "code",
   "execution_count": 13,
   "id": "41ef838c",
   "metadata": {},
   "outputs": [
    {
     "name": "stdout",
     "output_type": "stream",
     "text": [
      "0.7020460066061173\n"
     ]
    }
   ],
   "source": [
    "import pandas as pd\n",
    "\n",
    "train = pd.read_csv('score_train.csv')\n",
    "test = pd.read_csv('score_test.csv')\n",
    "\n",
    "# 데이터 전처리\n",
    "target = train.pop('Credit_Score')\n",
    "\n",
    "# 스케일링\n",
    "from sklearn.preprocessing import StandardScaler\n",
    "scaler = StandardScaler()\n",
    "cols = train.select_dtypes(include = ['int', 'float']).columns\n",
    "train[cols] = scaler.fit_transform(train[cols])\n",
    "test[cols] = scaler.transform(test[cols])\n",
    "\n",
    "# 원-핫 인코딩\n",
    "train = pd.get_dummies(train)\n",
    "test= pd.get_dummies(test)\n",
    "\n",
    "# 검증 데이터 나누기 \n",
    "from sklearn.model_selection import train_test_split\n",
    "X_train, X_val, y_train, y_val = train_test_split(train, target, test_size = 0.2, random_state = 0)\n",
    "\n",
    "# 머신러닝 학습 및 평가\n",
    "from sklearn.ensemble import RandomForestClassifier\n",
    "rf = RandomForestClassifier(random_state = 0)\n",
    "rf.fit(X_train, y_train)\n",
    "pred = rf.predict(X_val)\n",
    "\n",
    "from sklearn.metrics import f1_score\n",
    "score = f1_score(y_val, pred, average = 'macro')\n",
    "print(score)\n",
    "\n",
    "# 예측 및 결과 파일 생성\n",
    "pred = rf.predict(test)\n",
    "submit = pd.DataFrame({'pred' : pred})\n",
    "submit.to_csv('result.csv', index = False)\n"
   ]
  },
  {
   "cell_type": "markdown",
   "id": "28154535",
   "metadata": {},
   "source": [
    "# 2. 약물 종류 예측"
   ]
  },
  {
   "cell_type": "markdown",
   "id": "ef4a5d9b",
   "metadata": {},
   "source": [
    "### 1. 베이스라인"
   ]
  },
  {
   "cell_type": "code",
   "execution_count": 8,
   "id": "70a55676",
   "metadata": {},
   "outputs": [
    {
     "data": {
      "text/plain": [
       "((100, 6), (100, 5))"
      ]
     },
     "execution_count": 8,
     "metadata": {},
     "output_type": "execute_result"
    }
   ],
   "source": [
    "# 라이브러리 및 데이터 불러오기\n",
    "import pandas as pd\n",
    "\n",
    "train = pd.read_csv('drug_train.csv')\n",
    "test = pd.read_csv('drug_test.csv')\n",
    "train.shape, test.shape"
   ]
  },
  {
   "cell_type": "code",
   "execution_count": 9,
   "id": "961fc11c",
   "metadata": {},
   "outputs": [
    {
     "name": "stdout",
     "output_type": "stream",
     "text": [
      "<class 'pandas.core.frame.DataFrame'>\n",
      "RangeIndex: 100 entries, 0 to 99\n",
      "Data columns (total 6 columns):\n",
      " #   Column       Non-Null Count  Dtype  \n",
      "---  ------       --------------  -----  \n",
      " 0   Age          100 non-null    int64  \n",
      " 1   Sex          100 non-null    object \n",
      " 2   BP           100 non-null    object \n",
      " 3   Cholesterol  100 non-null    object \n",
      " 4   Na_to_K      100 non-null    float64\n",
      " 5   Drug         100 non-null    object \n",
      "dtypes: float64(1), int64(1), object(4)\n",
      "memory usage: 4.8+ KB\n"
     ]
    }
   ],
   "source": [
    "train.info()"
   ]
  },
  {
   "cell_type": "code",
   "execution_count": 10,
   "id": "22f85fa8",
   "metadata": {},
   "outputs": [
    {
     "name": "stdout",
     "output_type": "stream",
     "text": [
      "<class 'pandas.core.frame.DataFrame'>\n",
      "RangeIndex: 100 entries, 0 to 99\n",
      "Data columns (total 5 columns):\n",
      " #   Column       Non-Null Count  Dtype  \n",
      "---  ------       --------------  -----  \n",
      " 0   Age          100 non-null    int64  \n",
      " 1   Sex          100 non-null    object \n",
      " 2   BP           100 non-null    object \n",
      " 3   Cholesterol  100 non-null    object \n",
      " 4   Na_to_K      100 non-null    float64\n",
      "dtypes: float64(1), int64(1), object(3)\n",
      "memory usage: 4.0+ KB\n"
     ]
    }
   ],
   "source": [
    "test.info()"
   ]
  },
  {
   "cell_type": "code",
   "execution_count": 11,
   "id": "9a78dafc",
   "metadata": {},
   "outputs": [
    {
     "data": {
      "text/plain": [
       "(0, 0)"
      ]
     },
     "execution_count": 11,
     "metadata": {},
     "output_type": "execute_result"
    }
   ],
   "source": [
    "train.isnull().sum().sum(), test.isnull().sum().sum()"
   ]
  },
  {
   "cell_type": "code",
   "execution_count": 12,
   "id": "8b89c8ec",
   "metadata": {},
   "outputs": [
    {
     "name": "stdout",
     "output_type": "stream",
     "text": [
      "1.0\n"
     ]
    }
   ],
   "source": [
    "# 데이터 전-처리\n",
    "target = train.pop('Drug')\n",
    "train = pd.get_dummies(train)\n",
    "test= pd.get_dummies(test)\n",
    "\n",
    "# 검증 데이터 나누기\n",
    "from sklearn.model_selection import train_test_split\n",
    "X_train, X_val, y_train, y_val = train_test_split(train, target, test_size = 0.2, random_state = 0)\n",
    "\n",
    "# 머신러닝 학습 및 평가 \n",
    "from sklearn.ensemble import RandomForestClassifier\n",
    "rf = RandomForestClassifier(random_state = 0)\n",
    "rf.fit(X_train, y_train)\n",
    "pred = rf.predict(X_val)\n",
    "from sklearn.metrics import f1_score\n",
    "score = f1_score(y_val, pred, average= 'macro')\n",
    "print(score)\n",
    "\n",
    "pred = rf.predict(test)\n",
    "submit = pd.DataFrame({'pred' : pred})\n",
    "submit.to_csv('result2.csv', index=  False)"
   ]
  },
  {
   "cell_type": "code",
   "execution_count": 14,
   "id": "ed7affe6",
   "metadata": {},
   "outputs": [
    {
     "name": "stdout",
     "output_type": "stream",
     "text": [
      "[1.         0.93777778 0.78461538]\n"
     ]
    },
    {
     "data": {
      "text/plain": [
       "0.9074643874643874"
      ]
     },
     "execution_count": 14,
     "metadata": {},
     "output_type": "execute_result"
    }
   ],
   "source": [
    "from sklearn.metrics import f1_score\n",
    "from sklearn.model_selection import cross_val_score\n",
    "f1_scores = cross_val_score(rf,train, target, cv=3, scoring = \"f1_macro\")\n",
    "print(f1_scores)\n",
    "f1_scores.mean()"
   ]
  },
  {
   "cell_type": "markdown",
   "id": "d1fdced0",
   "metadata": {},
   "source": [
    "### 2. 성능 개선"
   ]
  },
  {
   "cell_type": "code",
   "execution_count": 15,
   "id": "ca2b4c06",
   "metadata": {},
   "outputs": [
    {
     "name": "stdout",
     "output_type": "stream",
     "text": [
      "0.9074643874643874\n"
     ]
    }
   ],
   "source": [
    "# 라이브러리 및 데이터 불러오기 \n",
    "import pandas as pd\n",
    "train = pd.read_csv('drug_train.csv')\n",
    "test = pd.read_csv('drug_test.csv')\n",
    "\n",
    "# 타겟 열 추출\n",
    "target = train.pop('Drug')\n",
    "\n",
    "# 원 - 핫 인코딩\n",
    "train = pd.get_dummies(train)\n",
    "test = pd.get_dummies(test)\n",
    "\n",
    "# 크로스 배릴데이션 \n",
    "from sklearn.metrics import f1_score\n",
    "from sklearn.model_selection import cross_val_score\n",
    "from sklearn.ensemble import RandomForestClassifier\n",
    "\n",
    "rf = RandomForestClassifier(random_state = 0)\n",
    "f1_scores = cross_val_score(rf,train,target, cv=3, scoring = 'f1_macro')\n",
    "print(f1_scores.mean())\n",
    "\n",
    "rf.fit(train, target)\n",
    "pred = rf.predict(test)\n",
    "submit = pd.DataFrame({'pred' : pred})\n",
    "submit.to_csv('result2.csv', index= False)"
   ]
  },
  {
   "cell_type": "markdown",
   "id": "8c02a5da",
   "metadata": {},
   "source": [
    "# 3. 유리 종류 예측 "
   ]
  },
  {
   "cell_type": "markdown",
   "id": "b631e861",
   "metadata": {},
   "source": [
    "### 1. 베이스라인"
   ]
  },
  {
   "cell_type": "code",
   "execution_count": 16,
   "id": "f3e6a4a5",
   "metadata": {},
   "outputs": [
    {
     "data": {
      "text/plain": [
       "((149, 10), (65, 9))"
      ]
     },
     "execution_count": 16,
     "metadata": {},
     "output_type": "execute_result"
    }
   ],
   "source": [
    "import pandas as pd \n",
    "train = pd.read_csv('glass_train.csv')\n",
    "test= pd.read_csv('glass_test.csv')\n",
    "train.shape, test.shape"
   ]
  },
  {
   "cell_type": "code",
   "execution_count": 17,
   "id": "3f87059f",
   "metadata": {},
   "outputs": [
    {
     "name": "stdout",
     "output_type": "stream",
     "text": [
      "<class 'pandas.core.frame.DataFrame'>\n",
      "RangeIndex: 149 entries, 0 to 148\n",
      "Data columns (total 10 columns):\n",
      " #   Column  Non-Null Count  Dtype  \n",
      "---  ------  --------------  -----  \n",
      " 0   RI      149 non-null    float64\n",
      " 1   Na      149 non-null    float64\n",
      " 2   Mg      149 non-null    float64\n",
      " 3   Al      149 non-null    float64\n",
      " 4   Si      149 non-null    float64\n",
      " 5   K       149 non-null    float64\n",
      " 6   Ca      149 non-null    float64\n",
      " 7   Ba      149 non-null    float64\n",
      " 8   Fe      149 non-null    float64\n",
      " 9   Type    149 non-null    int64  \n",
      "dtypes: float64(9), int64(1)\n",
      "memory usage: 11.8 KB\n"
     ]
    }
   ],
   "source": [
    "train.info()"
   ]
  },
  {
   "cell_type": "code",
   "execution_count": 18,
   "id": "a570a1a8",
   "metadata": {},
   "outputs": [
    {
     "name": "stdout",
     "output_type": "stream",
     "text": [
      "<class 'pandas.core.frame.DataFrame'>\n",
      "RangeIndex: 65 entries, 0 to 64\n",
      "Data columns (total 9 columns):\n",
      " #   Column  Non-Null Count  Dtype  \n",
      "---  ------  --------------  -----  \n",
      " 0   RI      65 non-null     float64\n",
      " 1   Na      65 non-null     float64\n",
      " 2   Mg      65 non-null     float64\n",
      " 3   Al      65 non-null     float64\n",
      " 4   Si      65 non-null     float64\n",
      " 5   K       65 non-null     float64\n",
      " 6   Ca      65 non-null     float64\n",
      " 7   Ba      65 non-null     float64\n",
      " 8   Fe      65 non-null     float64\n",
      "dtypes: float64(9)\n",
      "memory usage: 4.7 KB\n"
     ]
    }
   ],
   "source": [
    "test.info()"
   ]
  },
  {
   "cell_type": "code",
   "execution_count": 19,
   "id": "d398fb8f",
   "metadata": {},
   "outputs": [
    {
     "data": {
      "text/plain": [
       "(0, 0)"
      ]
     },
     "execution_count": 19,
     "metadata": {},
     "output_type": "execute_result"
    }
   ],
   "source": [
    "train.isnull().sum().sum(), test.isnull().sum().sum()"
   ]
  },
  {
   "cell_type": "code",
   "execution_count": 20,
   "id": "473be3e4",
   "metadata": {},
   "outputs": [
    {
     "name": "stdout",
     "output_type": "stream",
     "text": [
      "0.611980176686059\n"
     ]
    }
   ],
   "source": [
    "# 데이터 전처리\n",
    "target = train.pop('Type')\n",
    "\n",
    "# 검증 데이터 나누기\n",
    "from sklearn.model_selection import train_test_split\n",
    "X_train, X_val, y_train, y_val = train_test_split(train, target, test_size = 0.2, random_state = 0)\n",
    "\n",
    "# 머신러닝 학습 및 모델 펴악 \n",
    "from sklearn.ensemble import RandomForestClassifier\n",
    "rf = RandomForestClassifier(random_state = 0)\n",
    "rf.fit(X_train, y_train)\n",
    "pred = rf.predict(X_val)\n",
    "from sklearn.metrics import f1_score\n",
    "score = f1_score(y_val, pred, average = 'weighted')\n",
    "print(score)\n",
    "\n",
    "pred = rf.predict(test)\n",
    "submit = pd.DataFrame({'pred' : pred})\n",
    "submit.to_csv('result3.csv', index= False)"
   ]
  },
  {
   "cell_type": "markdown",
   "id": "7f00fce8",
   "metadata": {},
   "source": [
    "### 2. 성능 개선"
   ]
  },
  {
   "cell_type": "code",
   "execution_count": 22,
   "id": "56104392",
   "metadata": {},
   "outputs": [
    {
     "name": "stdout",
     "output_type": "stream",
     "text": [
      "0.6507936507936507\n"
     ]
    }
   ],
   "source": [
    "# 라이브러리 및 데이터 불러오기\n",
    "import pandas as pd\n",
    "train = pd.read_csv('glass_train.csv')\n",
    "test = pd.read_csv('glass_test.csv')\n",
    "\n",
    "# 데이터 전처리\n",
    "target= train.pop('Type')\n",
    "\n",
    "#검증 데이터 나누기\n",
    "from sklearn.model_selection import train_test_split\n",
    "X_train, X_val, y_train, y_val = train_test_split(train, target, test_size = 0.2, random_state = 0)\n",
    "\n",
    "#머신러닝 학습 및 평가\n",
    "from sklearn.ensemble import RandomForestClassifier\n",
    "rf = RandomForestClassifier(max_depth = 5, n_estimators = 200, random_state = 0)\n",
    "rf.fit(X_train, y_train)\n",
    "pred = rf.predict(X_val)\n",
    "from sklearn.metrics import f1_score\n",
    "score = f1_score(y_val, pred, average = 'weighted')\n",
    "print(score)\n",
    "\n",
    "# 예측 및 결과 파일 생성 \n",
    "pred = rf.predict(test)\n",
    "submit = pd.DataFrame({'pred' : pred})\n",
    "submit.to_csv('result3.csv', index= False)\n"
   ]
  }
 ],
 "metadata": {
  "kernelspec": {
   "display_name": "Python 3 (ipykernel)",
   "language": "python",
   "name": "python3"
  },
  "language_info": {
   "codemirror_mode": {
    "name": "ipython",
    "version": 3
   },
   "file_extension": ".py",
   "mimetype": "text/x-python",
   "name": "python",
   "nbconvert_exporter": "python",
   "pygments_lexer": "ipython3",
   "version": "3.8.17"
  }
 },
 "nbformat": 4,
 "nbformat_minor": 5
}
