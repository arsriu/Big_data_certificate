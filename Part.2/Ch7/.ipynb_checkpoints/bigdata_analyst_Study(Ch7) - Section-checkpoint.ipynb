{
 "cells": [
  {
   "cell_type": "markdown",
   "id": "513715a4",
   "metadata": {},
   "source": [
    "# 1. 신용 등급 예측"
   ]
  },
  {
   "cell_type": "markdown",
   "id": "d508c361",
   "metadata": {},
   "source": [
    "### 1. 베이스라인"
   ]
  },
  {
   "cell_type": "code",
   "execution_count": null,
   "id": "7f8694b0",
   "metadata": {},
   "outputs": [],
   "source": []
  }
 ],
 "metadata": {
  "kernelspec": {
   "display_name": "Python 3 (ipykernel)",
   "language": "python",
   "name": "python3"
  },
  "language_info": {
   "codemirror_mode": {
    "name": "ipython",
    "version": 3
   },
   "file_extension": ".py",
   "mimetype": "text/x-python",
   "name": "python",
   "nbconvert_exporter": "python",
   "pygments_lexer": "ipython3",
   "version": "3.8.17"
  }
 },
 "nbformat": 4,
 "nbformat_minor": 5
}
