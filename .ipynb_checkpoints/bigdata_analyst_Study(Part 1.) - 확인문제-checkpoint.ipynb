{
 "cells": [
  {
   "cell_type": "code",
   "execution_count": 6,
   "id": "aedb9b7b",
   "metadata": {},
   "outputs": [
    {
     "data": {
      "text/html": [
       "<div>\n",
       "<style scoped>\n",
       "    .dataframe tbody tr th:only-of-type {\n",
       "        vertical-align: middle;\n",
       "    }\n",
       "\n",
       "    .dataframe tbody tr th {\n",
       "        vertical-align: top;\n",
       "    }\n",
       "\n",
       "    .dataframe thead th {\n",
       "        text-align: right;\n",
       "    }\n",
       "</style>\n",
       "<table border=\"1\" class=\"dataframe\">\n",
       "  <thead>\n",
       "    <tr style=\"text-align: right;\">\n",
       "      <th></th>\n",
       "      <th>메뉴</th>\n",
       "      <th>가격</th>\n",
       "      <th>칼로리</th>\n",
       "      <th>원산지</th>\n",
       "    </tr>\n",
       "  </thead>\n",
       "  <tbody>\n",
       "    <tr>\n",
       "      <th>0</th>\n",
       "      <td>아메리카노</td>\n",
       "      <td>4500</td>\n",
       "      <td>10.0</td>\n",
       "      <td>과테말라</td>\n",
       "    </tr>\n",
       "    <tr>\n",
       "      <th>1</th>\n",
       "      <td>카페라떼</td>\n",
       "      <td>5000</td>\n",
       "      <td>110.0</td>\n",
       "      <td>브라질</td>\n",
       "    </tr>\n",
       "    <tr>\n",
       "      <th>2</th>\n",
       "      <td>에스프레소</td>\n",
       "      <td>4000</td>\n",
       "      <td>NaN</td>\n",
       "      <td>과테말라</td>\n",
       "    </tr>\n",
       "    <tr>\n",
       "      <th>3</th>\n",
       "      <td>카페모카</td>\n",
       "      <td>5900</td>\n",
       "      <td>210.0</td>\n",
       "      <td>NaN</td>\n",
       "    </tr>\n",
       "    <tr>\n",
       "      <th>4</th>\n",
       "      <td>바닐라라떼</td>\n",
       "      <td>5300</td>\n",
       "      <td>NaN</td>\n",
       "      <td>NaN</td>\n",
       "    </tr>\n",
       "  </tbody>\n",
       "</table>\n",
       "</div>"
      ],
      "text/plain": [
       "      메뉴    가격    칼로리   원산지\n",
       "0  아메리카노  4500   10.0  과테말라\n",
       "1   카페라떼  5000  110.0   브라질\n",
       "2  에스프레소  4000    NaN  과테말라\n",
       "3   카페모카  5900  210.0   NaN\n",
       "4  바닐라라떼  5300    NaN   NaN"
      ]
     },
     "execution_count": 6,
     "metadata": {},
     "output_type": "execute_result"
    }
   ],
   "source": [
    "import pandas as pd\n",
    "import numpy as np\n",
    "\n",
    "df = pd.DataFrame({\n",
    "    \"메뉴\" : ['아메리카노', '카페라떼', '에스프레소', '카페모카', '바닐라라떼'],\n",
    "    \"가격\" : [4500, 5000, 4000, 5900, 5300],\n",
    "    \"칼로리\" :[10,110, np.NaN, 210, np.NaN],\n",
    "    \"원산지\" : ['과테말라', '브라질', '과테말라', np.NaN, np.NaN]\n",
    "})\n",
    "df"
   ]
  },
  {
   "cell_type": "markdown",
   "id": "f127d4bb",
   "metadata": {},
   "source": [
    "## Q1. '칼로리' 칼럼의 결측치를 칼로리 데이터 중 최솟값으로 채우시오."
   ]
  },
  {
   "cell_type": "code",
   "execution_count": 7,
   "id": "11558090",
   "metadata": {},
   "outputs": [
    {
     "data": {
      "text/html": [
       "<div>\n",
       "<style scoped>\n",
       "    .dataframe tbody tr th:only-of-type {\n",
       "        vertical-align: middle;\n",
       "    }\n",
       "\n",
       "    .dataframe tbody tr th {\n",
       "        vertical-align: top;\n",
       "    }\n",
       "\n",
       "    .dataframe thead th {\n",
       "        text-align: right;\n",
       "    }\n",
       "</style>\n",
       "<table border=\"1\" class=\"dataframe\">\n",
       "  <thead>\n",
       "    <tr style=\"text-align: right;\">\n",
       "      <th></th>\n",
       "      <th>메뉴</th>\n",
       "      <th>가격</th>\n",
       "      <th>칼로리</th>\n",
       "      <th>원산지</th>\n",
       "    </tr>\n",
       "  </thead>\n",
       "  <tbody>\n",
       "    <tr>\n",
       "      <th>0</th>\n",
       "      <td>아메리카노</td>\n",
       "      <td>4500</td>\n",
       "      <td>10.0</td>\n",
       "      <td>과테말라</td>\n",
       "    </tr>\n",
       "    <tr>\n",
       "      <th>1</th>\n",
       "      <td>카페라떼</td>\n",
       "      <td>5000</td>\n",
       "      <td>110.0</td>\n",
       "      <td>브라질</td>\n",
       "    </tr>\n",
       "    <tr>\n",
       "      <th>2</th>\n",
       "      <td>에스프레소</td>\n",
       "      <td>4000</td>\n",
       "      <td>10.0</td>\n",
       "      <td>과테말라</td>\n",
       "    </tr>\n",
       "    <tr>\n",
       "      <th>3</th>\n",
       "      <td>카페모카</td>\n",
       "      <td>5900</td>\n",
       "      <td>210.0</td>\n",
       "      <td>NaN</td>\n",
       "    </tr>\n",
       "    <tr>\n",
       "      <th>4</th>\n",
       "      <td>바닐라라떼</td>\n",
       "      <td>5300</td>\n",
       "      <td>10.0</td>\n",
       "      <td>NaN</td>\n",
       "    </tr>\n",
       "  </tbody>\n",
       "</table>\n",
       "</div>"
      ],
      "text/plain": [
       "      메뉴    가격    칼로리   원산지\n",
       "0  아메리카노  4500   10.0  과테말라\n",
       "1   카페라떼  5000  110.0   브라질\n",
       "2  에스프레소  4000   10.0  과테말라\n",
       "3   카페모카  5900  210.0   NaN\n",
       "4  바닐라라떼  5300   10.0   NaN"
      ]
     },
     "execution_count": 7,
     "metadata": {},
     "output_type": "execute_result"
    }
   ],
   "source": [
    "df['칼로리'] = df['칼로리'].fillna(min(df['칼로리']))\n",
    "df"
   ]
  },
  {
   "cell_type": "markdown",
   "id": "2d3e8ff7",
   "metadata": {},
   "source": [
    "## Q2. ‘원산지’ 칼럼의 결측치를 원산지 데이터 중 최빈값으로 채우시오. "
   ]
  },
  {
   "cell_type": "code",
   "execution_count": 8,
   "id": "cb95561a",
   "metadata": {},
   "outputs": [
    {
     "data": {
      "text/html": [
       "<div>\n",
       "<style scoped>\n",
       "    .dataframe tbody tr th:only-of-type {\n",
       "        vertical-align: middle;\n",
       "    }\n",
       "\n",
       "    .dataframe tbody tr th {\n",
       "        vertical-align: top;\n",
       "    }\n",
       "\n",
       "    .dataframe thead th {\n",
       "        text-align: right;\n",
       "    }\n",
       "</style>\n",
       "<table border=\"1\" class=\"dataframe\">\n",
       "  <thead>\n",
       "    <tr style=\"text-align: right;\">\n",
       "      <th></th>\n",
       "      <th>메뉴</th>\n",
       "      <th>가격</th>\n",
       "      <th>칼로리</th>\n",
       "      <th>원산지</th>\n",
       "    </tr>\n",
       "  </thead>\n",
       "  <tbody>\n",
       "    <tr>\n",
       "      <th>0</th>\n",
       "      <td>아메리카노</td>\n",
       "      <td>4500</td>\n",
       "      <td>10.0</td>\n",
       "      <td>과테말라</td>\n",
       "    </tr>\n",
       "    <tr>\n",
       "      <th>1</th>\n",
       "      <td>카페라떼</td>\n",
       "      <td>5000</td>\n",
       "      <td>110.0</td>\n",
       "      <td>브라질</td>\n",
       "    </tr>\n",
       "    <tr>\n",
       "      <th>2</th>\n",
       "      <td>에스프레소</td>\n",
       "      <td>4000</td>\n",
       "      <td>10.0</td>\n",
       "      <td>과테말라</td>\n",
       "    </tr>\n",
       "    <tr>\n",
       "      <th>3</th>\n",
       "      <td>카페모카</td>\n",
       "      <td>5900</td>\n",
       "      <td>210.0</td>\n",
       "      <td>과테말라</td>\n",
       "    </tr>\n",
       "    <tr>\n",
       "      <th>4</th>\n",
       "      <td>바닐라라떼</td>\n",
       "      <td>5300</td>\n",
       "      <td>10.0</td>\n",
       "      <td>과테말라</td>\n",
       "    </tr>\n",
       "  </tbody>\n",
       "</table>\n",
       "</div>"
      ],
      "text/plain": [
       "      메뉴    가격    칼로리   원산지\n",
       "0  아메리카노  4500   10.0  과테말라\n",
       "1   카페라떼  5000  110.0   브라질\n",
       "2  에스프레소  4000   10.0  과테말라\n",
       "3   카페모카  5900  210.0  과테말라\n",
       "4  바닐라라떼  5300   10.0  과테말라"
      ]
     },
     "execution_count": 8,
     "metadata": {},
     "output_type": "execute_result"
    }
   ],
   "source": [
    "df['원산지'] = df['원산지'].fillna(df['원산지'].mode()[0])\n",
    "df"
   ]
  },
  {
   "cell_type": "markdown",
   "id": "17948740",
   "metadata": {},
   "source": [
    "## Q3. 가격이 5000 이상인 데이터의 수를 구하시오."
   ]
  },
  {
   "cell_type": "code",
   "execution_count": 11,
   "id": "9471c609",
   "metadata": {},
   "outputs": [
    {
     "data": {
      "text/plain": [
       "3"
      ]
     },
     "execution_count": 11,
     "metadata": {},
     "output_type": "execute_result"
    }
   ],
   "source": [
    "len(df[df['가격'] >= 5000])"
   ]
  },
  {
   "cell_type": "markdown",
   "id": "081c5be3",
   "metadata": {},
   "source": [
    "## Q4. '이벤트가' 칼럼을 만들고 기존 가격에서 50% 할인된 가격을 채우시오."
   ]
  },
  {
   "cell_type": "code",
   "execution_count": 13,
   "id": "2ac72030",
   "metadata": {},
   "outputs": [
    {
     "data": {
      "text/html": [
       "<div>\n",
       "<style scoped>\n",
       "    .dataframe tbody tr th:only-of-type {\n",
       "        vertical-align: middle;\n",
       "    }\n",
       "\n",
       "    .dataframe tbody tr th {\n",
       "        vertical-align: top;\n",
       "    }\n",
       "\n",
       "    .dataframe thead th {\n",
       "        text-align: right;\n",
       "    }\n",
       "</style>\n",
       "<table border=\"1\" class=\"dataframe\">\n",
       "  <thead>\n",
       "    <tr style=\"text-align: right;\">\n",
       "      <th></th>\n",
       "      <th>메뉴</th>\n",
       "      <th>가격</th>\n",
       "      <th>칼로리</th>\n",
       "      <th>원산지</th>\n",
       "      <th>이벤트가</th>\n",
       "    </tr>\n",
       "  </thead>\n",
       "  <tbody>\n",
       "    <tr>\n",
       "      <th>0</th>\n",
       "      <td>아메리카노</td>\n",
       "      <td>4500</td>\n",
       "      <td>10.0</td>\n",
       "      <td>과테말라</td>\n",
       "      <td>2250.0</td>\n",
       "    </tr>\n",
       "    <tr>\n",
       "      <th>1</th>\n",
       "      <td>카페라떼</td>\n",
       "      <td>5000</td>\n",
       "      <td>110.0</td>\n",
       "      <td>브라질</td>\n",
       "      <td>2500.0</td>\n",
       "    </tr>\n",
       "    <tr>\n",
       "      <th>2</th>\n",
       "      <td>에스프레소</td>\n",
       "      <td>4000</td>\n",
       "      <td>10.0</td>\n",
       "      <td>과테말라</td>\n",
       "      <td>2000.0</td>\n",
       "    </tr>\n",
       "    <tr>\n",
       "      <th>3</th>\n",
       "      <td>카페모카</td>\n",
       "      <td>5900</td>\n",
       "      <td>210.0</td>\n",
       "      <td>과테말라</td>\n",
       "      <td>2950.0</td>\n",
       "    </tr>\n",
       "    <tr>\n",
       "      <th>4</th>\n",
       "      <td>바닐라라떼</td>\n",
       "      <td>5300</td>\n",
       "      <td>10.0</td>\n",
       "      <td>과테말라</td>\n",
       "      <td>2650.0</td>\n",
       "    </tr>\n",
       "  </tbody>\n",
       "</table>\n",
       "</div>"
      ],
      "text/plain": [
       "      메뉴    가격    칼로리   원산지    이벤트가\n",
       "0  아메리카노  4500   10.0  과테말라  2250.0\n",
       "1   카페라떼  5000  110.0   브라질  2500.0\n",
       "2  에스프레소  4000   10.0  과테말라  2000.0\n",
       "3   카페모카  5900  210.0  과테말라  2950.0\n",
       "4  바닐라라떼  5300   10.0  과테말라  2650.0"
      ]
     },
     "execution_count": 13,
     "metadata": {},
     "output_type": "execute_result"
    }
   ],
   "source": [
    "df['이벤트가'] = df['가격'] * 0.5\n",
    "df"
   ]
  },
  {
   "cell_type": "markdown",
   "id": "33e47a43",
   "metadata": {},
   "source": [
    "## Q5. '칼로리' 칼럼을 삭제하시오."
   ]
  },
  {
   "cell_type": "code",
   "execution_count": 19,
   "id": "390ccfc3",
   "metadata": {},
   "outputs": [
    {
     "data": {
      "text/html": [
       "<div>\n",
       "<style scoped>\n",
       "    .dataframe tbody tr th:only-of-type {\n",
       "        vertical-align: middle;\n",
       "    }\n",
       "\n",
       "    .dataframe tbody tr th {\n",
       "        vertical-align: top;\n",
       "    }\n",
       "\n",
       "    .dataframe thead th {\n",
       "        text-align: right;\n",
       "    }\n",
       "</style>\n",
       "<table border=\"1\" class=\"dataframe\">\n",
       "  <thead>\n",
       "    <tr style=\"text-align: right;\">\n",
       "      <th></th>\n",
       "      <th>메뉴</th>\n",
       "      <th>가격</th>\n",
       "      <th>원산지</th>\n",
       "      <th>이벤트가</th>\n",
       "    </tr>\n",
       "  </thead>\n",
       "  <tbody>\n",
       "    <tr>\n",
       "      <th>0</th>\n",
       "      <td>아메리카노</td>\n",
       "      <td>4500</td>\n",
       "      <td>과테말라</td>\n",
       "      <td>2250.0</td>\n",
       "    </tr>\n",
       "    <tr>\n",
       "      <th>1</th>\n",
       "      <td>카페라떼</td>\n",
       "      <td>5000</td>\n",
       "      <td>브라질</td>\n",
       "      <td>2500.0</td>\n",
       "    </tr>\n",
       "    <tr>\n",
       "      <th>2</th>\n",
       "      <td>에스프레소</td>\n",
       "      <td>4000</td>\n",
       "      <td>과테말라</td>\n",
       "      <td>2000.0</td>\n",
       "    </tr>\n",
       "    <tr>\n",
       "      <th>3</th>\n",
       "      <td>카페모카</td>\n",
       "      <td>5900</td>\n",
       "      <td>과테말라</td>\n",
       "      <td>2950.0</td>\n",
       "    </tr>\n",
       "    <tr>\n",
       "      <th>4</th>\n",
       "      <td>바닐라라떼</td>\n",
       "      <td>5300</td>\n",
       "      <td>과테말라</td>\n",
       "      <td>2650.0</td>\n",
       "    </tr>\n",
       "  </tbody>\n",
       "</table>\n",
       "</div>"
      ],
      "text/plain": [
       "      메뉴    가격   원산지    이벤트가\n",
       "0  아메리카노  4500  과테말라  2250.0\n",
       "1   카페라떼  5000   브라질  2500.0\n",
       "2  에스프레소  4000  과테말라  2000.0\n",
       "3   카페모카  5900  과테말라  2950.0\n",
       "4  바닐라라떼  5300  과테말라  2650.0"
      ]
     },
     "execution_count": 19,
     "metadata": {},
     "output_type": "execute_result"
    }
   ],
   "source": [
    "df = df.drop('칼로리', axis=1)\n",
    "df"
   ]
  },
  {
   "cell_type": "markdown",
   "id": "055c2c47",
   "metadata": {},
   "source": [
    "## Q6. 위에서부터 3개의 행만 선택하시오.(loc 사용)"
   ]
  },
  {
   "cell_type": "code",
   "execution_count": 20,
   "id": "ebe1193c",
   "metadata": {},
   "outputs": [
    {
     "data": {
      "text/html": [
       "<div>\n",
       "<style scoped>\n",
       "    .dataframe tbody tr th:only-of-type {\n",
       "        vertical-align: middle;\n",
       "    }\n",
       "\n",
       "    .dataframe tbody tr th {\n",
       "        vertical-align: top;\n",
       "    }\n",
       "\n",
       "    .dataframe thead th {\n",
       "        text-align: right;\n",
       "    }\n",
       "</style>\n",
       "<table border=\"1\" class=\"dataframe\">\n",
       "  <thead>\n",
       "    <tr style=\"text-align: right;\">\n",
       "      <th></th>\n",
       "      <th>메뉴</th>\n",
       "      <th>가격</th>\n",
       "      <th>원산지</th>\n",
       "      <th>이벤트가</th>\n",
       "    </tr>\n",
       "  </thead>\n",
       "  <tbody>\n",
       "    <tr>\n",
       "      <th>0</th>\n",
       "      <td>아메리카노</td>\n",
       "      <td>4500</td>\n",
       "      <td>과테말라</td>\n",
       "      <td>2250.0</td>\n",
       "    </tr>\n",
       "    <tr>\n",
       "      <th>1</th>\n",
       "      <td>카페라떼</td>\n",
       "      <td>5000</td>\n",
       "      <td>브라질</td>\n",
       "      <td>2500.0</td>\n",
       "    </tr>\n",
       "    <tr>\n",
       "      <th>2</th>\n",
       "      <td>에스프레소</td>\n",
       "      <td>4000</td>\n",
       "      <td>과테말라</td>\n",
       "      <td>2000.0</td>\n",
       "    </tr>\n",
       "  </tbody>\n",
       "</table>\n",
       "</div>"
      ],
      "text/plain": [
       "      메뉴    가격   원산지    이벤트가\n",
       "0  아메리카노  4500  과테말라  2250.0\n",
       "1   카페라떼  5000   브라질  2500.0\n",
       "2  에스프레소  4000  과테말라  2000.0"
      ]
     },
     "execution_count": 20,
     "metadata": {},
     "output_type": "execute_result"
    }
   ],
   "source": [
    "df.loc[:2]"
   ]
  },
  {
   "cell_type": "markdown",
   "id": "4567143e",
   "metadata": {},
   "source": [
    "## Q7. 위에서부터 3개의 행만 선택하시오.(iloc 사용)"
   ]
  },
  {
   "cell_type": "code",
   "execution_count": 21,
   "id": "6f92f7d7",
   "metadata": {},
   "outputs": [
    {
     "data": {
      "text/html": [
       "<div>\n",
       "<style scoped>\n",
       "    .dataframe tbody tr th:only-of-type {\n",
       "        vertical-align: middle;\n",
       "    }\n",
       "\n",
       "    .dataframe tbody tr th {\n",
       "        vertical-align: top;\n",
       "    }\n",
       "\n",
       "    .dataframe thead th {\n",
       "        text-align: right;\n",
       "    }\n",
       "</style>\n",
       "<table border=\"1\" class=\"dataframe\">\n",
       "  <thead>\n",
       "    <tr style=\"text-align: right;\">\n",
       "      <th></th>\n",
       "      <th>메뉴</th>\n",
       "      <th>가격</th>\n",
       "      <th>원산지</th>\n",
       "      <th>이벤트가</th>\n",
       "    </tr>\n",
       "  </thead>\n",
       "  <tbody>\n",
       "    <tr>\n",
       "      <th>0</th>\n",
       "      <td>아메리카노</td>\n",
       "      <td>4500</td>\n",
       "      <td>과테말라</td>\n",
       "      <td>2250.0</td>\n",
       "    </tr>\n",
       "    <tr>\n",
       "      <th>1</th>\n",
       "      <td>카페라떼</td>\n",
       "      <td>5000</td>\n",
       "      <td>브라질</td>\n",
       "      <td>2500.0</td>\n",
       "    </tr>\n",
       "    <tr>\n",
       "      <th>2</th>\n",
       "      <td>에스프레소</td>\n",
       "      <td>4000</td>\n",
       "      <td>과테말라</td>\n",
       "      <td>2000.0</td>\n",
       "    </tr>\n",
       "  </tbody>\n",
       "</table>\n",
       "</div>"
      ],
      "text/plain": [
       "      메뉴    가격   원산지    이벤트가\n",
       "0  아메리카노  4500  과테말라  2250.0\n",
       "1   카페라떼  5000   브라질  2500.0\n",
       "2  에스프레소  4000  과테말라  2000.0"
      ]
     },
     "execution_count": 21,
     "metadata": {},
     "output_type": "execute_result"
    }
   ],
   "source": [
    "df.iloc[:3]"
   ]
  },
  {
   "cell_type": "markdown",
   "id": "fdd459cf",
   "metadata": {},
   "source": [
    "## Q8. 주어진 데이터(df)에서 아래 값을 loc를 활용해 데이터프레임으로 출력하시오."
   ]
  },
  {
   "cell_type": "markdown",
   "id": "96a5502a",
   "metadata": {},
   "source": [
    "### * 카페라떼 5000, * 에스프레소 4000"
   ]
  },
  {
   "cell_type": "code",
   "execution_count": 26,
   "id": "8fac5f61",
   "metadata": {},
   "outputs": [
    {
     "data": {
      "text/html": [
       "<div>\n",
       "<style scoped>\n",
       "    .dataframe tbody tr th:only-of-type {\n",
       "        vertical-align: middle;\n",
       "    }\n",
       "\n",
       "    .dataframe tbody tr th {\n",
       "        vertical-align: top;\n",
       "    }\n",
       "\n",
       "    .dataframe thead th {\n",
       "        text-align: right;\n",
       "    }\n",
       "</style>\n",
       "<table border=\"1\" class=\"dataframe\">\n",
       "  <thead>\n",
       "    <tr style=\"text-align: right;\">\n",
       "      <th></th>\n",
       "      <th>메뉴</th>\n",
       "      <th>가격</th>\n",
       "    </tr>\n",
       "  </thead>\n",
       "  <tbody>\n",
       "    <tr>\n",
       "      <th>1</th>\n",
       "      <td>카페라떼</td>\n",
       "      <td>5000</td>\n",
       "    </tr>\n",
       "    <tr>\n",
       "      <th>2</th>\n",
       "      <td>에스프레소</td>\n",
       "      <td>4000</td>\n",
       "    </tr>\n",
       "  </tbody>\n",
       "</table>\n",
       "</div>"
      ],
      "text/plain": [
       "      메뉴    가격\n",
       "1   카페라떼  5000\n",
       "2  에스프레소  4000"
      ]
     },
     "execution_count": 26,
     "metadata": {},
     "output_type": "execute_result"
    }
   ],
   "source": [
    "df.loc[1:2][['메뉴', '가격']]"
   ]
  },
  {
   "cell_type": "code",
   "execution_count": 27,
   "id": "5260535c",
   "metadata": {},
   "outputs": [
    {
     "data": {
      "text/html": [
       "<div>\n",
       "<style scoped>\n",
       "    .dataframe tbody tr th:only-of-type {\n",
       "        vertical-align: middle;\n",
       "    }\n",
       "\n",
       "    .dataframe tbody tr th {\n",
       "        vertical-align: top;\n",
       "    }\n",
       "\n",
       "    .dataframe thead th {\n",
       "        text-align: right;\n",
       "    }\n",
       "</style>\n",
       "<table border=\"1\" class=\"dataframe\">\n",
       "  <thead>\n",
       "    <tr style=\"text-align: right;\">\n",
       "      <th></th>\n",
       "      <th>메뉴</th>\n",
       "      <th>가격</th>\n",
       "    </tr>\n",
       "  </thead>\n",
       "  <tbody>\n",
       "    <tr>\n",
       "      <th>1</th>\n",
       "      <td>카페라떼</td>\n",
       "      <td>5000</td>\n",
       "    </tr>\n",
       "    <tr>\n",
       "      <th>2</th>\n",
       "      <td>에스프레소</td>\n",
       "      <td>4000</td>\n",
       "    </tr>\n",
       "  </tbody>\n",
       "</table>\n",
       "</div>"
      ],
      "text/plain": [
       "      메뉴    가격\n",
       "1   카페라떼  5000\n",
       "2  에스프레소  4000"
      ]
     },
     "execution_count": 27,
     "metadata": {},
     "output_type": "execute_result"
    }
   ],
   "source": [
    "df.loc[1:2, :'가격']"
   ]
  },
  {
   "cell_type": "markdown",
   "id": "cf320d2e",
   "metadata": {},
   "source": [
    "## Q9. 주어진 데이터(df)에서 아래 값을 iloc를 활용해 데이터프레임으로 출력하시오."
   ]
  },
  {
   "cell_type": "markdown",
   "id": "9043dbcf",
   "metadata": {},
   "source": [
    "### * 카페라떼 5000, * 에스프레소 4000"
   ]
  },
  {
   "cell_type": "code",
   "execution_count": 44,
   "id": "56cf1806",
   "metadata": {},
   "outputs": [
    {
     "data": {
      "text/html": [
       "<div>\n",
       "<style scoped>\n",
       "    .dataframe tbody tr th:only-of-type {\n",
       "        vertical-align: middle;\n",
       "    }\n",
       "\n",
       "    .dataframe tbody tr th {\n",
       "        vertical-align: top;\n",
       "    }\n",
       "\n",
       "    .dataframe thead th {\n",
       "        text-align: right;\n",
       "    }\n",
       "</style>\n",
       "<table border=\"1\" class=\"dataframe\">\n",
       "  <thead>\n",
       "    <tr style=\"text-align: right;\">\n",
       "      <th></th>\n",
       "      <th>메뉴</th>\n",
       "      <th>가격</th>\n",
       "    </tr>\n",
       "  </thead>\n",
       "  <tbody>\n",
       "    <tr>\n",
       "      <th>1</th>\n",
       "      <td>카페라떼</td>\n",
       "      <td>5000</td>\n",
       "    </tr>\n",
       "    <tr>\n",
       "      <th>2</th>\n",
       "      <td>에스프레소</td>\n",
       "      <td>4000</td>\n",
       "    </tr>\n",
       "  </tbody>\n",
       "</table>\n",
       "</div>"
      ],
      "text/plain": [
       "      메뉴    가격\n",
       "1   카페라떼  5000\n",
       "2  에스프레소  4000"
      ]
     },
     "execution_count": 44,
     "metadata": {},
     "output_type": "execute_result"
    }
   ],
   "source": [
    "df.iloc[1:3,:2]"
   ]
  },
  {
   "cell_type": "markdown",
   "id": "57ab5269",
   "metadata": {},
   "source": [
    "## Q10. 메뉴 중 가격이 가장 비싼 순으로 정렬해 상위 3개의 값을 구하시오."
   ]
  },
  {
   "cell_type": "code",
   "execution_count": 49,
   "id": "fadd91c4",
   "metadata": {},
   "outputs": [
    {
     "data": {
      "text/html": [
       "<div>\n",
       "<style scoped>\n",
       "    .dataframe tbody tr th:only-of-type {\n",
       "        vertical-align: middle;\n",
       "    }\n",
       "\n",
       "    .dataframe tbody tr th {\n",
       "        vertical-align: top;\n",
       "    }\n",
       "\n",
       "    .dataframe thead th {\n",
       "        text-align: right;\n",
       "    }\n",
       "</style>\n",
       "<table border=\"1\" class=\"dataframe\">\n",
       "  <thead>\n",
       "    <tr style=\"text-align: right;\">\n",
       "      <th></th>\n",
       "      <th>메뉴</th>\n",
       "      <th>가격</th>\n",
       "      <th>원산지</th>\n",
       "      <th>이벤트가</th>\n",
       "    </tr>\n",
       "  </thead>\n",
       "  <tbody>\n",
       "    <tr>\n",
       "      <th>3</th>\n",
       "      <td>카페모카</td>\n",
       "      <td>5900</td>\n",
       "      <td>과테말라</td>\n",
       "      <td>2950.0</td>\n",
       "    </tr>\n",
       "    <tr>\n",
       "      <th>4</th>\n",
       "      <td>바닐라라떼</td>\n",
       "      <td>5300</td>\n",
       "      <td>과테말라</td>\n",
       "      <td>2650.0</td>\n",
       "    </tr>\n",
       "    <tr>\n",
       "      <th>1</th>\n",
       "      <td>카페라떼</td>\n",
       "      <td>5000</td>\n",
       "      <td>브라질</td>\n",
       "      <td>2500.0</td>\n",
       "    </tr>\n",
       "  </tbody>\n",
       "</table>\n",
       "</div>"
      ],
      "text/plain": [
       "      메뉴    가격   원산지    이벤트가\n",
       "3   카페모카  5900  과테말라  2950.0\n",
       "4  바닐라라떼  5300  과테말라  2650.0\n",
       "1   카페라떼  5000   브라질  2500.0"
      ]
     },
     "execution_count": 49,
     "metadata": {},
     "output_type": "execute_result"
    }
   ],
   "source": [
    "sort_df = df.sort_values('가격', ascending = False)\n",
    "sort_df.iloc[:3]"
   ]
  }
 ],
 "metadata": {
  "kernelspec": {
   "display_name": "Python 3 (ipykernel)",
   "language": "python",
   "name": "python3"
  },
  "language_info": {
   "codemirror_mode": {
    "name": "ipython",
    "version": 3
   },
   "file_extension": ".py",
   "mimetype": "text/x-python",
   "name": "python",
   "nbconvert_exporter": "python",
   "pygments_lexer": "ipython3",
   "version": "3.8.17"
  }
 },
 "nbformat": 4,
 "nbformat_minor": 5
}
