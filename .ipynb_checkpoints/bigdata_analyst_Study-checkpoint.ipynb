{
 "cells": [
  {
   "cell_type": "markdown",
   "id": "3b440214",
   "metadata": {},
   "source": [
    "# Chapter 2.판다스"
   ]
  },
  {
   "cell_type": "markdown",
   "id": "801d755e",
   "metadata": {},
   "source": [
    "## 2. 데이터 저장 및 불러오기 "
   ]
  },
  {
   "cell_type": "code",
   "execution_count": 1,
   "id": "3cfefca5",
   "metadata": {},
   "outputs": [],
   "source": [
    "import pandas as pd"
   ]
  },
  {
   "cell_type": "code",
   "execution_count": 2,
   "id": "7e1f5df6",
   "metadata": {},
   "outputs": [
    {
     "data": {
      "text/html": [
       "<div>\n",
       "<style scoped>\n",
       "    .dataframe tbody tr th:only-of-type {\n",
       "        vertical-align: middle;\n",
       "    }\n",
       "\n",
       "    .dataframe tbody tr th {\n",
       "        vertical-align: top;\n",
       "    }\n",
       "\n",
       "    .dataframe thead th {\n",
       "        text-align: right;\n",
       "    }\n",
       "</style>\n",
       "<table border=\"1\" class=\"dataframe\">\n",
       "  <thead>\n",
       "    <tr style=\"text-align: right;\">\n",
       "      <th></th>\n",
       "      <th>메뉴</th>\n",
       "      <th>가격</th>\n",
       "      <th>칼로리</th>\n",
       "    </tr>\n",
       "  </thead>\n",
       "  <tbody>\n",
       "    <tr>\n",
       "      <th>0</th>\n",
       "      <td>아메리카노</td>\n",
       "      <td>4500</td>\n",
       "      <td>10</td>\n",
       "    </tr>\n",
       "    <tr>\n",
       "      <th>1</th>\n",
       "      <td>카페라떼</td>\n",
       "      <td>5000</td>\n",
       "      <td>110</td>\n",
       "    </tr>\n",
       "    <tr>\n",
       "      <th>2</th>\n",
       "      <td>카페모카</td>\n",
       "      <td>5500</td>\n",
       "      <td>250</td>\n",
       "    </tr>\n",
       "    <tr>\n",
       "      <th>3</th>\n",
       "      <td>카푸치노</td>\n",
       "      <td>5000</td>\n",
       "      <td>110</td>\n",
       "    </tr>\n",
       "    <tr>\n",
       "      <th>4</th>\n",
       "      <td>에스프레소</td>\n",
       "      <td>4000</td>\n",
       "      <td>20</td>\n",
       "    </tr>\n",
       "    <tr>\n",
       "      <th>5</th>\n",
       "      <td>밀크티</td>\n",
       "      <td>5900</td>\n",
       "      <td>210</td>\n",
       "    </tr>\n",
       "    <tr>\n",
       "      <th>6</th>\n",
       "      <td>녹차</td>\n",
       "      <td>5300</td>\n",
       "      <td>0</td>\n",
       "    </tr>\n",
       "  </tbody>\n",
       "</table>\n",
       "</div>"
      ],
      "text/plain": [
       "      메뉴    가격  칼로리\n",
       "0  아메리카노  4500   10\n",
       "1   카페라떼  5000  110\n",
       "2   카페모카  5500  250\n",
       "3   카푸치노  5000  110\n",
       "4  에스프레소  4000   20\n",
       "5    밀크티  5900  210\n",
       "6     녹차  5300    0"
      ]
     },
     "execution_count": 2,
     "metadata": {},
     "output_type": "execute_result"
    }
   ],
   "source": [
    "df = pd.DataFrame({\n",
    "    \"메뉴\" :['아메리카노', '카페라떼', '카페모카', '카푸치노','에스프레소','밀크티','녹차'],\n",
    "    \"가격\" : [4500, 5000,5500, 5000, 4000,5900,5300],\n",
    "    \"칼로리\" : [10,110,250, 110, 20, 210, 0],\n",
    "})\n",
    "df"
   ]
  },
  {
   "cell_type": "markdown",
   "id": "fc7b07ce",
   "metadata": {},
   "source": [
    "## 3. 탐색적 데이터 분석(EDA) "
   ]
  },
  {
   "cell_type": "code",
   "execution_count": 3,
   "id": "784d595f",
   "metadata": {},
   "outputs": [
    {
     "data": {
      "text/html": [
       "<div>\n",
       "<style scoped>\n",
       "    .dataframe tbody tr th:only-of-type {\n",
       "        vertical-align: middle;\n",
       "    }\n",
       "\n",
       "    .dataframe tbody tr th {\n",
       "        vertical-align: top;\n",
       "    }\n",
       "\n",
       "    .dataframe thead th {\n",
       "        text-align: right;\n",
       "    }\n",
       "</style>\n",
       "<table border=\"1\" class=\"dataframe\">\n",
       "  <thead>\n",
       "    <tr style=\"text-align: right;\">\n",
       "      <th></th>\n",
       "      <th>메뉴</th>\n",
       "      <th>가격</th>\n",
       "      <th>칼로리</th>\n",
       "    </tr>\n",
       "  </thead>\n",
       "  <tbody>\n",
       "    <tr>\n",
       "      <th>5</th>\n",
       "      <td>밀크티</td>\n",
       "      <td>5900</td>\n",
       "      <td>210</td>\n",
       "    </tr>\n",
       "    <tr>\n",
       "      <th>2</th>\n",
       "      <td>카페모카</td>\n",
       "      <td>5500</td>\n",
       "      <td>250</td>\n",
       "    </tr>\n",
       "    <tr>\n",
       "      <th>1</th>\n",
       "      <td>카페라떼</td>\n",
       "      <td>5000</td>\n",
       "      <td>110</td>\n",
       "    </tr>\n",
       "  </tbody>\n",
       "</table>\n",
       "</div>"
      ],
      "text/plain": [
       "     메뉴    가격  칼로리\n",
       "5   밀크티  5900  210\n",
       "2  카페모카  5500  250\n",
       "1  카페라떼  5000  110"
      ]
     },
     "execution_count": 3,
     "metadata": {},
     "output_type": "execute_result"
    }
   ],
   "source": [
    "df.sample(3)"
   ]
  },
  {
   "cell_type": "code",
   "execution_count": 5,
   "id": "b993fc1c",
   "metadata": {},
   "outputs": [
    {
     "data": {
      "text/plain": [
       "(7, 3)"
      ]
     },
     "execution_count": 5,
     "metadata": {},
     "output_type": "execute_result"
    }
   ],
   "source": [
    "df.shape"
   ]
  },
  {
   "cell_type": "code",
   "execution_count": 6,
   "id": "a95e1995",
   "metadata": {},
   "outputs": [
    {
     "name": "stdout",
     "output_type": "stream",
     "text": [
      "<class 'pandas.core.frame.DataFrame'>\n",
      "RangeIndex: 7 entries, 0 to 6\n",
      "Data columns (total 3 columns):\n",
      " #   Column  Non-Null Count  Dtype \n",
      "---  ------  --------------  ----- \n",
      " 0   메뉴      7 non-null      object\n",
      " 1   가격      7 non-null      int64 \n",
      " 2   칼로리     7 non-null      int64 \n",
      "dtypes: int64(2), object(1)\n",
      "memory usage: 296.0+ bytes\n"
     ]
    }
   ],
   "source": [
    "df.info()"
   ]
  },
  {
   "cell_type": "code",
   "execution_count": 6,
   "id": "01276448",
   "metadata": {},
   "outputs": [
    {
     "data": {
      "text/html": [
       "<div>\n",
       "<style scoped>\n",
       "    .dataframe tbody tr th:only-of-type {\n",
       "        vertical-align: middle;\n",
       "    }\n",
       "\n",
       "    .dataframe tbody tr th {\n",
       "        vertical-align: top;\n",
       "    }\n",
       "\n",
       "    .dataframe thead th {\n",
       "        text-align: right;\n",
       "    }\n",
       "</style>\n",
       "<table border=\"1\" class=\"dataframe\">\n",
       "  <thead>\n",
       "    <tr style=\"text-align: right;\">\n",
       "      <th></th>\n",
       "      <th>가격</th>\n",
       "      <th>칼로리</th>\n",
       "    </tr>\n",
       "  </thead>\n",
       "  <tbody>\n",
       "    <tr>\n",
       "      <th>가격</th>\n",
       "      <td>1.000000</td>\n",
       "      <td>0.713227</td>\n",
       "    </tr>\n",
       "    <tr>\n",
       "      <th>칼로리</th>\n",
       "      <td>0.713227</td>\n",
       "      <td>1.000000</td>\n",
       "    </tr>\n",
       "  </tbody>\n",
       "</table>\n",
       "</div>"
      ],
      "text/plain": [
       "           가격       칼로리\n",
       "가격   1.000000  0.713227\n",
       "칼로리  0.713227  1.000000"
      ]
     },
     "execution_count": 6,
     "metadata": {},
     "output_type": "execute_result"
    }
   ],
   "source": [
    "df.corr(numeric_only=True)"
   ]
  },
  {
   "cell_type": "code",
   "execution_count": 7,
   "id": "c7b444d8",
   "metadata": {},
   "outputs": [
    {
     "data": {
      "text/html": [
       "<div>\n",
       "<style scoped>\n",
       "    .dataframe tbody tr th:only-of-type {\n",
       "        vertical-align: middle;\n",
       "    }\n",
       "\n",
       "    .dataframe tbody tr th {\n",
       "        vertical-align: top;\n",
       "    }\n",
       "\n",
       "    .dataframe thead th {\n",
       "        text-align: right;\n",
       "    }\n",
       "</style>\n",
       "<table border=\"1\" class=\"dataframe\">\n",
       "  <thead>\n",
       "    <tr style=\"text-align: right;\">\n",
       "      <th></th>\n",
       "      <th>car</th>\n",
       "      <th>size</th>\n",
       "    </tr>\n",
       "  </thead>\n",
       "  <tbody>\n",
       "    <tr>\n",
       "      <th>0</th>\n",
       "      <td>Sedan</td>\n",
       "      <td>S</td>\n",
       "    </tr>\n",
       "    <tr>\n",
       "      <th>1</th>\n",
       "      <td>SUV</td>\n",
       "      <td>M</td>\n",
       "    </tr>\n",
       "    <tr>\n",
       "      <th>2</th>\n",
       "      <td>Sedan</td>\n",
       "      <td>S</td>\n",
       "    </tr>\n",
       "  </tbody>\n",
       "</table>\n",
       "</div>"
      ],
      "text/plain": [
       "     car size\n",
       "0  Sedan    S\n",
       "1    SUV    M\n",
       "2  Sedan    S"
      ]
     },
     "execution_count": 7,
     "metadata": {},
     "output_type": "execute_result"
    }
   ],
   "source": [
    "df_car = pd.DataFrame({\n",
    "    \"car\" :['Sedan','SUV','Sedan','SUV','SUV','SUV','Sedan','Sedan','Sedan','Sedan','Sedan'],\n",
    "    \"size\" : ['S','M','S','S','M','M','L','S','S','M','S']\n",
    "})\n",
    "df_car.head(3)"
   ]
  },
  {
   "cell_type": "code",
   "execution_count": 8,
   "id": "b4d5c9f9",
   "metadata": {},
   "outputs": [
    {
     "name": "stdout",
     "output_type": "stream",
     "text": [
      "car\n",
      "Sedan    7\n",
      "SUV      4\n",
      "Name: count, dtype: int64\n",
      "size\n",
      "S    6\n",
      "M    4\n",
      "L    1\n",
      "Name: count, dtype: int64\n"
     ]
    }
   ],
   "source": [
    "print(df_car['car'].value_counts())\n",
    "print(df_car['size'].value_counts())"
   ]
  },
  {
   "cell_type": "code",
   "execution_count": 12,
   "id": "66b32f82",
   "metadata": {},
   "outputs": [
    {
     "data": {
      "text/html": [
       "<div>\n",
       "<style scoped>\n",
       "    .dataframe tbody tr th:only-of-type {\n",
       "        vertical-align: middle;\n",
       "    }\n",
       "\n",
       "    .dataframe tbody tr th {\n",
       "        vertical-align: top;\n",
       "    }\n",
       "\n",
       "    .dataframe thead th {\n",
       "        text-align: right;\n",
       "    }\n",
       "</style>\n",
       "<table border=\"1\" class=\"dataframe\">\n",
       "  <thead>\n",
       "    <tr style=\"text-align: right;\">\n",
       "      <th></th>\n",
       "      <th>가격</th>\n",
       "      <th>칼로리</th>\n",
       "    </tr>\n",
       "  </thead>\n",
       "  <tbody>\n",
       "    <tr>\n",
       "      <th>count</th>\n",
       "      <td>7.000000</td>\n",
       "      <td>7.000000</td>\n",
       "    </tr>\n",
       "    <tr>\n",
       "      <th>mean</th>\n",
       "      <td>5028.571429</td>\n",
       "      <td>101.428571</td>\n",
       "    </tr>\n",
       "    <tr>\n",
       "      <th>std</th>\n",
       "      <td>631.702160</td>\n",
       "      <td>99.402980</td>\n",
       "    </tr>\n",
       "    <tr>\n",
       "      <th>min</th>\n",
       "      <td>4000.000000</td>\n",
       "      <td>0.000000</td>\n",
       "    </tr>\n",
       "    <tr>\n",
       "      <th>25%</th>\n",
       "      <td>4750.000000</td>\n",
       "      <td>15.000000</td>\n",
       "    </tr>\n",
       "    <tr>\n",
       "      <th>50%</th>\n",
       "      <td>5000.000000</td>\n",
       "      <td>110.000000</td>\n",
       "    </tr>\n",
       "    <tr>\n",
       "      <th>75%</th>\n",
       "      <td>5400.000000</td>\n",
       "      <td>160.000000</td>\n",
       "    </tr>\n",
       "    <tr>\n",
       "      <th>max</th>\n",
       "      <td>5900.000000</td>\n",
       "      <td>250.000000</td>\n",
       "    </tr>\n",
       "  </tbody>\n",
       "</table>\n",
       "</div>"
      ],
      "text/plain": [
       "                가격         칼로리\n",
       "count     7.000000    7.000000\n",
       "mean   5028.571429  101.428571\n",
       "std     631.702160   99.402980\n",
       "min    4000.000000    0.000000\n",
       "25%    4750.000000   15.000000\n",
       "50%    5000.000000  110.000000\n",
       "75%    5400.000000  160.000000\n",
       "max    5900.000000  250.000000"
      ]
     },
     "execution_count": 12,
     "metadata": {},
     "output_type": "execute_result"
    }
   ],
   "source": [
    "df.describe()"
   ]
  },
  {
   "cell_type": "code",
   "execution_count": 14,
   "id": "295ea23c",
   "metadata": {},
   "outputs": [
    {
     "data": {
      "text/html": [
       "<div>\n",
       "<style scoped>\n",
       "    .dataframe tbody tr th:only-of-type {\n",
       "        vertical-align: middle;\n",
       "    }\n",
       "\n",
       "    .dataframe tbody tr th {\n",
       "        vertical-align: top;\n",
       "    }\n",
       "\n",
       "    .dataframe thead th {\n",
       "        text-align: right;\n",
       "    }\n",
       "</style>\n",
       "<table border=\"1\" class=\"dataframe\">\n",
       "  <thead>\n",
       "    <tr style=\"text-align: right;\">\n",
       "      <th></th>\n",
       "      <th>car</th>\n",
       "      <th>size</th>\n",
       "    </tr>\n",
       "  </thead>\n",
       "  <tbody>\n",
       "    <tr>\n",
       "      <th>count</th>\n",
       "      <td>11</td>\n",
       "      <td>11</td>\n",
       "    </tr>\n",
       "    <tr>\n",
       "      <th>unique</th>\n",
       "      <td>2</td>\n",
       "      <td>3</td>\n",
       "    </tr>\n",
       "    <tr>\n",
       "      <th>top</th>\n",
       "      <td>Sedan</td>\n",
       "      <td>S</td>\n",
       "    </tr>\n",
       "    <tr>\n",
       "      <th>freq</th>\n",
       "      <td>7</td>\n",
       "      <td>6</td>\n",
       "    </tr>\n",
       "  </tbody>\n",
       "</table>\n",
       "</div>"
      ],
      "text/plain": [
       "          car size\n",
       "count      11   11\n",
       "unique      2    3\n",
       "top     Sedan    S\n",
       "freq        7    6"
      ]
     },
     "execution_count": 14,
     "metadata": {},
     "output_type": "execute_result"
    }
   ],
   "source": [
    "df_car.describe(include=\"O\")"
   ]
  },
  {
   "cell_type": "markdown",
   "id": "f10bae04",
   "metadata": {},
   "source": [
    "## 4. 자료형 변환"
   ]
  },
  {
   "cell_type": "code",
   "execution_count": 18,
   "id": "573af6fb",
   "metadata": {},
   "outputs": [
    {
     "name": "stdout",
     "output_type": "stream",
     "text": [
      "<class 'pandas.core.frame.DataFrame'>\n",
      "RangeIndex: 7 entries, 0 to 6\n",
      "Data columns (total 3 columns):\n",
      " #   Column  Non-Null Count  Dtype  \n",
      "---  ------  --------------  -----  \n",
      " 0   메뉴      7 non-null      object \n",
      " 1   가격      7 non-null      float64\n",
      " 2   칼로리     7 non-null      object \n",
      "dtypes: float64(1), object(2)\n",
      "memory usage: 296.0+ bytes\n"
     ]
    }
   ],
   "source": [
    "data = {\n",
    "    \"메뉴\" :['아메리카노', '카페라떼', '카페모카', '카푸치노','에스프레소','밀크티','녹차'],\n",
    "    \"가격\" : [4500.0, 5000.0, 5500.0 , 5000.0, 4000.0,5900.0,5300.0],\n",
    "    \"칼로리\" : ['10','110','250', '110', '20', '210', '0'],\n",
    "}\n",
    "df = pd.DataFrame(data)\n",
    "df.info()"
   ]
  },
  {
   "cell_type": "code",
   "execution_count": 19,
   "id": "d4dbea31",
   "metadata": {},
   "outputs": [
    {
     "name": "stdout",
     "output_type": "stream",
     "text": [
      "<class 'pandas.core.frame.DataFrame'>\n",
      "RangeIndex: 7 entries, 0 to 6\n",
      "Data columns (total 3 columns):\n",
      " #   Column  Non-Null Count  Dtype \n",
      "---  ------  --------------  ----- \n",
      " 0   메뉴      7 non-null      object\n",
      " 1   가격      7 non-null      int32 \n",
      " 2   칼로리     7 non-null      object\n",
      "dtypes: int32(1), object(2)\n",
      "memory usage: 268.0+ bytes\n"
     ]
    }
   ],
   "source": [
    "df['가격'] = df['가격'].astype('int')\n",
    "df.info()"
   ]
  },
  {
   "cell_type": "code",
   "execution_count": 20,
   "id": "0c0e864a",
   "metadata": {},
   "outputs": [
    {
     "name": "stdout",
     "output_type": "stream",
     "text": [
      "<class 'pandas.core.frame.DataFrame'>\n",
      "RangeIndex: 7 entries, 0 to 6\n",
      "Data columns (total 3 columns):\n",
      " #   Column  Non-Null Count  Dtype  \n",
      "---  ------  --------------  -----  \n",
      " 0   메뉴      7 non-null      object \n",
      " 1   가격      7 non-null      int32  \n",
      " 2   칼로리     7 non-null      float64\n",
      "dtypes: float64(1), int32(1), object(1)\n",
      "memory usage: 268.0+ bytes\n"
     ]
    }
   ],
   "source": [
    "df['칼로리'] = df['칼로리'].astype('float')\n",
    "df.info()"
   ]
  },
  {
   "cell_type": "markdown",
   "id": "d5502ad2",
   "metadata": {},
   "source": [
    "## 5. 새로운 칼럼 추가"
   ]
  },
  {
   "cell_type": "code",
   "execution_count": 24,
   "id": "3b73f0d5",
   "metadata": {},
   "outputs": [
    {
     "data": {
      "text/html": [
       "<div>\n",
       "<style scoped>\n",
       "    .dataframe tbody tr th:only-of-type {\n",
       "        vertical-align: middle;\n",
       "    }\n",
       "\n",
       "    .dataframe tbody tr th {\n",
       "        vertical-align: top;\n",
       "    }\n",
       "\n",
       "    .dataframe thead th {\n",
       "        text-align: right;\n",
       "    }\n",
       "</style>\n",
       "<table border=\"1\" class=\"dataframe\">\n",
       "  <thead>\n",
       "    <tr style=\"text-align: right;\">\n",
       "      <th></th>\n",
       "      <th>메뉴</th>\n",
       "      <th>가격</th>\n",
       "      <th>칼로리</th>\n",
       "      <th>할인가</th>\n",
       "    </tr>\n",
       "  </thead>\n",
       "  <tbody>\n",
       "    <tr>\n",
       "      <th>0</th>\n",
       "      <td>아메리카노</td>\n",
       "      <td>4500</td>\n",
       "      <td>10</td>\n",
       "      <td>3600.0</td>\n",
       "    </tr>\n",
       "    <tr>\n",
       "      <th>1</th>\n",
       "      <td>카페라떼</td>\n",
       "      <td>5000</td>\n",
       "      <td>110</td>\n",
       "      <td>4000.0</td>\n",
       "    </tr>\n",
       "  </tbody>\n",
       "</table>\n",
       "</div>"
      ],
      "text/plain": [
       "      메뉴    가격  칼로리     할인가\n",
       "0  아메리카노  4500   10  3600.0\n",
       "1   카페라떼  5000  110  4000.0"
      ]
     },
     "execution_count": 24,
     "metadata": {},
     "output_type": "execute_result"
    }
   ],
   "source": [
    "df = pd.read_csv('cafe.csv')\n",
    "discount = 0.2\n",
    "df['할인가'] = df['가격'] * (1-discount)\n",
    "df.head(2)"
   ]
  },
  {
   "cell_type": "markdown",
   "id": "7b714c55",
   "metadata": {},
   "source": [
    "## 6. 데이터 삭제 "
   ]
  },
  {
   "cell_type": "code",
   "execution_count": 25,
   "id": "2c252d7b",
   "metadata": {},
   "outputs": [
    {
     "name": "stdout",
     "output_type": "stream",
     "text": [
      "      메뉴    가격  칼로리     할인가\n",
      "0  아메리카노  4500   10  3600.0\n",
      "1   카페라떼  5000  110  4000.0\n",
      "2   카페모카  5500  250  4400.0\n"
     ]
    },
    {
     "data": {
      "text/html": [
       "<div>\n",
       "<style scoped>\n",
       "    .dataframe tbody tr th:only-of-type {\n",
       "        vertical-align: middle;\n",
       "    }\n",
       "\n",
       "    .dataframe tbody tr th {\n",
       "        vertical-align: top;\n",
       "    }\n",
       "\n",
       "    .dataframe thead th {\n",
       "        text-align: right;\n",
       "    }\n",
       "</style>\n",
       "<table border=\"1\" class=\"dataframe\">\n",
       "  <thead>\n",
       "    <tr style=\"text-align: right;\">\n",
       "      <th></th>\n",
       "      <th>메뉴</th>\n",
       "      <th>가격</th>\n",
       "      <th>칼로리</th>\n",
       "      <th>할인가</th>\n",
       "    </tr>\n",
       "  </thead>\n",
       "  <tbody>\n",
       "    <tr>\n",
       "      <th>0</th>\n",
       "      <td>아메리카노</td>\n",
       "      <td>4500</td>\n",
       "      <td>10</td>\n",
       "      <td>3600.0</td>\n",
       "    </tr>\n",
       "    <tr>\n",
       "      <th>2</th>\n",
       "      <td>카페모카</td>\n",
       "      <td>5500</td>\n",
       "      <td>250</td>\n",
       "      <td>4400.0</td>\n",
       "    </tr>\n",
       "    <tr>\n",
       "      <th>3</th>\n",
       "      <td>카푸치노</td>\n",
       "      <td>5000</td>\n",
       "      <td>110</td>\n",
       "      <td>4000.0</td>\n",
       "    </tr>\n",
       "  </tbody>\n",
       "</table>\n",
       "</div>"
      ],
      "text/plain": [
       "      메뉴    가격  칼로리     할인가\n",
       "0  아메리카노  4500   10  3600.0\n",
       "2   카페모카  5500  250  4400.0\n",
       "3   카푸치노  5000  110  4000.0"
      ]
     },
     "execution_count": 25,
     "metadata": {},
     "output_type": "execute_result"
    }
   ],
   "source": [
    "print(df.head(3))\n",
    "df.drop(1,axis=0,inplace= True)\n",
    "df.head(3)"
   ]
  },
  {
   "cell_type": "code",
   "execution_count": 26,
   "id": "9c9a60fb",
   "metadata": {},
   "outputs": [
    {
     "data": {
      "text/html": [
       "<div>\n",
       "<style scoped>\n",
       "    .dataframe tbody tr th:only-of-type {\n",
       "        vertical-align: middle;\n",
       "    }\n",
       "\n",
       "    .dataframe tbody tr th {\n",
       "        vertical-align: top;\n",
       "    }\n",
       "\n",
       "    .dataframe thead th {\n",
       "        text-align: right;\n",
       "    }\n",
       "</style>\n",
       "<table border=\"1\" class=\"dataframe\">\n",
       "  <thead>\n",
       "    <tr style=\"text-align: right;\">\n",
       "      <th></th>\n",
       "      <th>메뉴</th>\n",
       "      <th>가격</th>\n",
       "      <th>할인가</th>\n",
       "    </tr>\n",
       "  </thead>\n",
       "  <tbody>\n",
       "    <tr>\n",
       "      <th>0</th>\n",
       "      <td>아메리카노</td>\n",
       "      <td>4500</td>\n",
       "      <td>3600.0</td>\n",
       "    </tr>\n",
       "    <tr>\n",
       "      <th>2</th>\n",
       "      <td>카페모카</td>\n",
       "      <td>5500</td>\n",
       "      <td>4400.0</td>\n",
       "    </tr>\n",
       "    <tr>\n",
       "      <th>3</th>\n",
       "      <td>카푸치노</td>\n",
       "      <td>5000</td>\n",
       "      <td>4000.0</td>\n",
       "    </tr>\n",
       "  </tbody>\n",
       "</table>\n",
       "</div>"
      ],
      "text/plain": [
       "      메뉴    가격     할인가\n",
       "0  아메리카노  4500  3600.0\n",
       "2   카페모카  5500  4400.0\n",
       "3   카푸치노  5000  4000.0"
      ]
     },
     "execution_count": 26,
     "metadata": {},
     "output_type": "execute_result"
    }
   ],
   "source": [
    "df = df.drop('칼로리', axis = 1)\n",
    "df.head(3)"
   ]
  },
  {
   "cell_type": "code",
   "execution_count": 27,
   "id": "5030e5fc",
   "metadata": {},
   "outputs": [
    {
     "data": {
      "text/html": [
       "<div>\n",
       "<style scoped>\n",
       "    .dataframe tbody tr th:only-of-type {\n",
       "        vertical-align: middle;\n",
       "    }\n",
       "\n",
       "    .dataframe tbody tr th {\n",
       "        vertical-align: top;\n",
       "    }\n",
       "\n",
       "    .dataframe thead th {\n",
       "        text-align: right;\n",
       "    }\n",
       "</style>\n",
       "<table border=\"1\" class=\"dataframe\">\n",
       "  <thead>\n",
       "    <tr style=\"text-align: right;\">\n",
       "      <th></th>\n",
       "      <th>메뉴</th>\n",
       "      <th>가격</th>\n",
       "      <th>칼로리</th>\n",
       "    </tr>\n",
       "  </thead>\n",
       "  <tbody>\n",
       "    <tr>\n",
       "      <th>0</th>\n",
       "      <td>아메리카노</td>\n",
       "      <td>4500</td>\n",
       "      <td>10</td>\n",
       "    </tr>\n",
       "    <tr>\n",
       "      <th>1</th>\n",
       "      <td>카페라떼</td>\n",
       "      <td>5000</td>\n",
       "      <td>110</td>\n",
       "    </tr>\n",
       "  </tbody>\n",
       "</table>\n",
       "</div>"
      ],
      "text/plain": [
       "      메뉴    가격  칼로리\n",
       "0  아메리카노  4500   10\n",
       "1   카페라떼  5000  110"
      ]
     },
     "execution_count": 27,
     "metadata": {},
     "output_type": "execute_result"
    }
   ],
   "source": [
    "df = pd.read_csv('cafe.csv')\n",
    "df.head(2)"
   ]
  },
  {
   "cell_type": "markdown",
   "id": "c358823b",
   "metadata": {},
   "source": [
    "## 7. 인덱스/슬라이싱(loc) "
   ]
  },
  {
   "cell_type": "code",
   "execution_count": 30,
   "id": "db670be2",
   "metadata": {},
   "outputs": [
    {
     "name": "stdout",
     "output_type": "stream",
     "text": [
      "메뉴     아메리카노\n",
      "가격      4500\n",
      "칼로리       10\n",
      "Name: 0, dtype: object\n"
     ]
    },
    {
     "data": {
      "text/plain": [
       "5000"
      ]
     },
     "execution_count": 30,
     "metadata": {},
     "output_type": "execute_result"
    }
   ],
   "source": [
    "print(df.loc[0])\n",
    "df.loc[1, \"가격\"]"
   ]
  },
  {
   "cell_type": "code",
   "execution_count": 33,
   "id": "c1912886",
   "metadata": {},
   "outputs": [
    {
     "name": "stdout",
     "output_type": "stream",
     "text": [
      "메뉴     카페모카\n",
      "가격     5500\n",
      "칼로리     250\n",
      "Name: 2, dtype: object\n"
     ]
    },
    {
     "data": {
      "text/plain": [
       "메뉴     카페모카\n",
       "칼로리     250\n",
       "Name: 2, dtype: object"
      ]
     },
     "execution_count": 33,
     "metadata": {},
     "output_type": "execute_result"
    }
   ],
   "source": [
    "print(df.loc[2,\"메뉴\":\"칼로리\"])\n",
    "df.loc[2,[\"메뉴\", \"칼로리\"]]"
   ]
  },
  {
   "cell_type": "markdown",
   "id": "4e0770ac",
   "metadata": {},
   "source": [
    "## 8. 인덱스/슬라이싱(iloc) "
   ]
  },
  {
   "cell_type": "code",
   "execution_count": 2,
   "id": "882cace9",
   "metadata": {},
   "outputs": [
    {
     "data": {
      "text/html": [
       "<div>\n",
       "<style scoped>\n",
       "    .dataframe tbody tr th:only-of-type {\n",
       "        vertical-align: middle;\n",
       "    }\n",
       "\n",
       "    .dataframe tbody tr th {\n",
       "        vertical-align: top;\n",
       "    }\n",
       "\n",
       "    .dataframe thead th {\n",
       "        text-align: right;\n",
       "    }\n",
       "</style>\n",
       "<table border=\"1\" class=\"dataframe\">\n",
       "  <thead>\n",
       "    <tr style=\"text-align: right;\">\n",
       "      <th></th>\n",
       "      <th>메뉴</th>\n",
       "      <th>가격</th>\n",
       "      <th>칼로리</th>\n",
       "    </tr>\n",
       "  </thead>\n",
       "  <tbody>\n",
       "    <tr>\n",
       "      <th>1</th>\n",
       "      <td>카페라떼</td>\n",
       "      <td>5000</td>\n",
       "      <td>110</td>\n",
       "    </tr>\n",
       "    <tr>\n",
       "      <th>2</th>\n",
       "      <td>카페모카</td>\n",
       "      <td>5500</td>\n",
       "      <td>250</td>\n",
       "    </tr>\n",
       "  </tbody>\n",
       "</table>\n",
       "</div>"
      ],
      "text/plain": [
       "     메뉴    가격  칼로리\n",
       "1  카페라떼  5000  110\n",
       "2  카페모카  5500  250"
      ]
     },
     "execution_count": 2,
     "metadata": {},
     "output_type": "execute_result"
    }
   ],
   "source": [
    "df = pd.read_csv('cafe.csv')\n",
    "df = df.drop(0, axis = 0)\n",
    "df.head(2)"
   ]
  },
  {
   "cell_type": "code",
   "execution_count": 3,
   "id": "11d563b8",
   "metadata": {},
   "outputs": [
    {
     "name": "stdout",
     "output_type": "stream",
     "text": [
      "메뉴     카페라떼\n",
      "가격     5000\n",
      "칼로리     110\n",
      "Name: 1, dtype: object\n"
     ]
    },
    {
     "ename": "KeyError",
     "evalue": "0",
     "output_type": "error",
     "traceback": [
      "\u001b[1;31m---------------------------------------------------------------------------\u001b[0m",
      "\u001b[1;31mValueError\u001b[0m                                Traceback (most recent call last)",
      "File \u001b[1;32m~\\miniconda3\\lib\\site-packages\\pandas\\core\\indexes\\range.py:345\u001b[0m, in \u001b[0;36mRangeIndex.get_loc\u001b[1;34m(self, key)\u001b[0m\n\u001b[0;32m    344\u001b[0m \u001b[38;5;28;01mtry\u001b[39;00m:\n\u001b[1;32m--> 345\u001b[0m     \u001b[38;5;28;01mreturn\u001b[39;00m \u001b[38;5;28;43mself\u001b[39;49m\u001b[38;5;241;43m.\u001b[39;49m\u001b[43m_range\u001b[49m\u001b[38;5;241;43m.\u001b[39;49m\u001b[43mindex\u001b[49m\u001b[43m(\u001b[49m\u001b[43mnew_key\u001b[49m\u001b[43m)\u001b[49m\n\u001b[0;32m    346\u001b[0m \u001b[38;5;28;01mexcept\u001b[39;00m \u001b[38;5;167;01mValueError\u001b[39;00m \u001b[38;5;28;01mas\u001b[39;00m err:\n",
      "\u001b[1;31mValueError\u001b[0m: 0 is not in range",
      "\nThe above exception was the direct cause of the following exception:\n",
      "\u001b[1;31mKeyError\u001b[0m                                  Traceback (most recent call last)",
      "Cell \u001b[1;32mIn[3], line 2\u001b[0m\n\u001b[0;32m      1\u001b[0m \u001b[38;5;28mprint\u001b[39m(df\u001b[38;5;241m.\u001b[39miloc[\u001b[38;5;241m0\u001b[39m])\n\u001b[1;32m----> 2\u001b[0m \u001b[38;5;28mprint\u001b[39m(\u001b[43mdf\u001b[49m\u001b[38;5;241;43m.\u001b[39;49m\u001b[43mloc\u001b[49m\u001b[43m[\u001b[49m\u001b[38;5;241;43m0\u001b[39;49m\u001b[43m]\u001b[49m)\n",
      "File \u001b[1;32m~\\miniconda3\\lib\\site-packages\\pandas\\core\\indexing.py:1103\u001b[0m, in \u001b[0;36m_LocationIndexer.__getitem__\u001b[1;34m(self, key)\u001b[0m\n\u001b[0;32m   1100\u001b[0m axis \u001b[38;5;241m=\u001b[39m \u001b[38;5;28mself\u001b[39m\u001b[38;5;241m.\u001b[39maxis \u001b[38;5;129;01mor\u001b[39;00m \u001b[38;5;241m0\u001b[39m\n\u001b[0;32m   1102\u001b[0m maybe_callable \u001b[38;5;241m=\u001b[39m com\u001b[38;5;241m.\u001b[39mapply_if_callable(key, \u001b[38;5;28mself\u001b[39m\u001b[38;5;241m.\u001b[39mobj)\n\u001b[1;32m-> 1103\u001b[0m \u001b[38;5;28;01mreturn\u001b[39;00m \u001b[38;5;28;43mself\u001b[39;49m\u001b[38;5;241;43m.\u001b[39;49m\u001b[43m_getitem_axis\u001b[49m\u001b[43m(\u001b[49m\u001b[43mmaybe_callable\u001b[49m\u001b[43m,\u001b[49m\u001b[43m \u001b[49m\u001b[43maxis\u001b[49m\u001b[38;5;241;43m=\u001b[39;49m\u001b[43maxis\u001b[49m\u001b[43m)\u001b[49m\n",
      "File \u001b[1;32m~\\miniconda3\\lib\\site-packages\\pandas\\core\\indexing.py:1343\u001b[0m, in \u001b[0;36m_LocIndexer._getitem_axis\u001b[1;34m(self, key, axis)\u001b[0m\n\u001b[0;32m   1341\u001b[0m \u001b[38;5;66;03m# fall thru to straight lookup\u001b[39;00m\n\u001b[0;32m   1342\u001b[0m \u001b[38;5;28mself\u001b[39m\u001b[38;5;241m.\u001b[39m_validate_key(key, axis)\n\u001b[1;32m-> 1343\u001b[0m \u001b[38;5;28;01mreturn\u001b[39;00m \u001b[38;5;28;43mself\u001b[39;49m\u001b[38;5;241;43m.\u001b[39;49m\u001b[43m_get_label\u001b[49m\u001b[43m(\u001b[49m\u001b[43mkey\u001b[49m\u001b[43m,\u001b[49m\u001b[43m \u001b[49m\u001b[43maxis\u001b[49m\u001b[38;5;241;43m=\u001b[39;49m\u001b[43maxis\u001b[49m\u001b[43m)\u001b[49m\n",
      "File \u001b[1;32m~\\miniconda3\\lib\\site-packages\\pandas\\core\\indexing.py:1293\u001b[0m, in \u001b[0;36m_LocIndexer._get_label\u001b[1;34m(self, label, axis)\u001b[0m\n\u001b[0;32m   1291\u001b[0m \u001b[38;5;28;01mdef\u001b[39;00m \u001b[38;5;21m_get_label\u001b[39m(\u001b[38;5;28mself\u001b[39m, label, axis: AxisInt):\n\u001b[0;32m   1292\u001b[0m     \u001b[38;5;66;03m# GH#5567 this will fail if the label is not present in the axis.\u001b[39;00m\n\u001b[1;32m-> 1293\u001b[0m     \u001b[38;5;28;01mreturn\u001b[39;00m \u001b[38;5;28;43mself\u001b[39;49m\u001b[38;5;241;43m.\u001b[39;49m\u001b[43mobj\u001b[49m\u001b[38;5;241;43m.\u001b[39;49m\u001b[43mxs\u001b[49m\u001b[43m(\u001b[49m\u001b[43mlabel\u001b[49m\u001b[43m,\u001b[49m\u001b[43m \u001b[49m\u001b[43maxis\u001b[49m\u001b[38;5;241;43m=\u001b[39;49m\u001b[43maxis\u001b[49m\u001b[43m)\u001b[49m\n",
      "File \u001b[1;32m~\\miniconda3\\lib\\site-packages\\pandas\\core\\generic.py:4095\u001b[0m, in \u001b[0;36mNDFrame.xs\u001b[1;34m(self, key, axis, level, drop_level)\u001b[0m\n\u001b[0;32m   4093\u001b[0m             new_index \u001b[38;5;241m=\u001b[39m index[loc]\n\u001b[0;32m   4094\u001b[0m \u001b[38;5;28;01melse\u001b[39;00m:\n\u001b[1;32m-> 4095\u001b[0m     loc \u001b[38;5;241m=\u001b[39m \u001b[43mindex\u001b[49m\u001b[38;5;241;43m.\u001b[39;49m\u001b[43mget_loc\u001b[49m\u001b[43m(\u001b[49m\u001b[43mkey\u001b[49m\u001b[43m)\u001b[49m\n\u001b[0;32m   4097\u001b[0m     \u001b[38;5;28;01mif\u001b[39;00m \u001b[38;5;28misinstance\u001b[39m(loc, np\u001b[38;5;241m.\u001b[39mndarray):\n\u001b[0;32m   4098\u001b[0m         \u001b[38;5;28;01mif\u001b[39;00m loc\u001b[38;5;241m.\u001b[39mdtype \u001b[38;5;241m==\u001b[39m np\u001b[38;5;241m.\u001b[39mbool_:\n",
      "File \u001b[1;32m~\\miniconda3\\lib\\site-packages\\pandas\\core\\indexes\\range.py:347\u001b[0m, in \u001b[0;36mRangeIndex.get_loc\u001b[1;34m(self, key)\u001b[0m\n\u001b[0;32m    345\u001b[0m         \u001b[38;5;28;01mreturn\u001b[39;00m \u001b[38;5;28mself\u001b[39m\u001b[38;5;241m.\u001b[39m_range\u001b[38;5;241m.\u001b[39mindex(new_key)\n\u001b[0;32m    346\u001b[0m     \u001b[38;5;28;01mexcept\u001b[39;00m \u001b[38;5;167;01mValueError\u001b[39;00m \u001b[38;5;28;01mas\u001b[39;00m err:\n\u001b[1;32m--> 347\u001b[0m         \u001b[38;5;28;01mraise\u001b[39;00m \u001b[38;5;167;01mKeyError\u001b[39;00m(key) \u001b[38;5;28;01mfrom\u001b[39;00m \u001b[38;5;21;01merr\u001b[39;00m\n\u001b[0;32m    348\u001b[0m \u001b[38;5;28;01mif\u001b[39;00m \u001b[38;5;28misinstance\u001b[39m(key, Hashable):\n\u001b[0;32m    349\u001b[0m     \u001b[38;5;28;01mraise\u001b[39;00m \u001b[38;5;167;01mKeyError\u001b[39;00m(key)\n",
      "\u001b[1;31mKeyError\u001b[0m: 0"
     ]
    }
   ],
   "source": [
    "print(df.iloc[0])\n",
    "print(df.loc[0])"
   ]
  },
  {
   "cell_type": "code",
   "execution_count": 4,
   "id": "64722b4e",
   "metadata": {},
   "outputs": [
    {
     "data": {
      "text/html": [
       "<div>\n",
       "<style scoped>\n",
       "    .dataframe tbody tr th:only-of-type {\n",
       "        vertical-align: middle;\n",
       "    }\n",
       "\n",
       "    .dataframe tbody tr th {\n",
       "        vertical-align: top;\n",
       "    }\n",
       "\n",
       "    .dataframe thead th {\n",
       "        text-align: right;\n",
       "    }\n",
       "</style>\n",
       "<table border=\"1\" class=\"dataframe\">\n",
       "  <thead>\n",
       "    <tr style=\"text-align: right;\">\n",
       "      <th></th>\n",
       "      <th>메뉴</th>\n",
       "      <th>가격</th>\n",
       "      <th>칼로리</th>\n",
       "    </tr>\n",
       "  </thead>\n",
       "  <tbody>\n",
       "    <tr>\n",
       "      <th>2</th>\n",
       "      <td>카페모카</td>\n",
       "      <td>5500</td>\n",
       "      <td>250</td>\n",
       "    </tr>\n",
       "    <tr>\n",
       "      <th>3</th>\n",
       "      <td>카푸치노</td>\n",
       "      <td>5000</td>\n",
       "      <td>110</td>\n",
       "    </tr>\n",
       "  </tbody>\n",
       "</table>\n",
       "</div>"
      ],
      "text/plain": [
       "     메뉴    가격  칼로리\n",
       "2  카페모카  5500  250\n",
       "3  카푸치노  5000  110"
      ]
     },
     "execution_count": 4,
     "metadata": {},
     "output_type": "execute_result"
    }
   ],
   "source": [
    "df.iloc[1:3]"
   ]
  },
  {
   "cell_type": "code",
   "execution_count": 5,
   "id": "c4866093",
   "metadata": {},
   "outputs": [
    {
     "data": {
      "text/html": [
       "<div>\n",
       "<style scoped>\n",
       "    .dataframe tbody tr th:only-of-type {\n",
       "        vertical-align: middle;\n",
       "    }\n",
       "\n",
       "    .dataframe tbody tr th {\n",
       "        vertical-align: top;\n",
       "    }\n",
       "\n",
       "    .dataframe thead th {\n",
       "        text-align: right;\n",
       "    }\n",
       "</style>\n",
       "<table border=\"1\" class=\"dataframe\">\n",
       "  <thead>\n",
       "    <tr style=\"text-align: right;\">\n",
       "      <th></th>\n",
       "      <th>메뉴</th>\n",
       "      <th>가격</th>\n",
       "      <th>칼로리</th>\n",
       "    </tr>\n",
       "  </thead>\n",
       "  <tbody>\n",
       "    <tr>\n",
       "      <th>2</th>\n",
       "      <td>카페모카</td>\n",
       "      <td>5500</td>\n",
       "      <td>250</td>\n",
       "    </tr>\n",
       "    <tr>\n",
       "      <th>3</th>\n",
       "      <td>카푸치노</td>\n",
       "      <td>5000</td>\n",
       "      <td>110</td>\n",
       "    </tr>\n",
       "  </tbody>\n",
       "</table>\n",
       "</div>"
      ],
      "text/plain": [
       "     메뉴    가격  칼로리\n",
       "2  카페모카  5500  250\n",
       "3  카푸치노  5000  110"
      ]
     },
     "execution_count": 5,
     "metadata": {},
     "output_type": "execute_result"
    }
   ],
   "source": [
    "df.loc[2:3]"
   ]
  },
  {
   "cell_type": "markdown",
   "id": "505d1862",
   "metadata": {},
   "source": [
    "## 9. 데이터 추가 / 변경 "
   ]
  },
  {
   "cell_type": "code",
   "execution_count": 2,
   "id": "4a740949",
   "metadata": {},
   "outputs": [
    {
     "data": {
      "text/html": [
       "<div>\n",
       "<style scoped>\n",
       "    .dataframe tbody tr th:only-of-type {\n",
       "        vertical-align: middle;\n",
       "    }\n",
       "\n",
       "    .dataframe tbody tr th {\n",
       "        vertical-align: top;\n",
       "    }\n",
       "\n",
       "    .dataframe thead th {\n",
       "        text-align: right;\n",
       "    }\n",
       "</style>\n",
       "<table border=\"1\" class=\"dataframe\">\n",
       "  <thead>\n",
       "    <tr style=\"text-align: right;\">\n",
       "      <th></th>\n",
       "      <th>메뉴</th>\n",
       "      <th>가격</th>\n",
       "      <th>칼로리</th>\n",
       "    </tr>\n",
       "  </thead>\n",
       "  <tbody>\n",
       "    <tr>\n",
       "      <th>0</th>\n",
       "      <td>아메리카노</td>\n",
       "      <td>4500</td>\n",
       "      <td>10</td>\n",
       "    </tr>\n",
       "    <tr>\n",
       "      <th>1</th>\n",
       "      <td>카페라떼</td>\n",
       "      <td>5000</td>\n",
       "      <td>110</td>\n",
       "    </tr>\n",
       "  </tbody>\n",
       "</table>\n",
       "</div>"
      ],
      "text/plain": [
       "      메뉴    가격  칼로리\n",
       "0  아메리카노  4500   10\n",
       "1   카페라떼  5000  110"
      ]
     },
     "execution_count": 2,
     "metadata": {},
     "output_type": "execute_result"
    }
   ],
   "source": [
    "df = pd.read_csv('cafe.csv')\n",
    "df.head(2)"
   ]
  },
  {
   "cell_type": "code",
   "execution_count": 3,
   "id": "bd48af88",
   "metadata": {},
   "outputs": [
    {
     "data": {
      "text/html": [
       "<div>\n",
       "<style scoped>\n",
       "    .dataframe tbody tr th:only-of-type {\n",
       "        vertical-align: middle;\n",
       "    }\n",
       "\n",
       "    .dataframe tbody tr th {\n",
       "        vertical-align: top;\n",
       "    }\n",
       "\n",
       "    .dataframe thead th {\n",
       "        text-align: right;\n",
       "    }\n",
       "</style>\n",
       "<table border=\"1\" class=\"dataframe\">\n",
       "  <thead>\n",
       "    <tr style=\"text-align: right;\">\n",
       "      <th></th>\n",
       "      <th>메뉴</th>\n",
       "      <th>가격</th>\n",
       "      <th>칼로리</th>\n",
       "      <th>원산지</th>\n",
       "    </tr>\n",
       "  </thead>\n",
       "  <tbody>\n",
       "    <tr>\n",
       "      <th>0</th>\n",
       "      <td>아메리카노</td>\n",
       "      <td>4500</td>\n",
       "      <td>10</td>\n",
       "      <td>NaN</td>\n",
       "    </tr>\n",
       "    <tr>\n",
       "      <th>1</th>\n",
       "      <td>카페라떼</td>\n",
       "      <td>5000</td>\n",
       "      <td>110</td>\n",
       "      <td>NaN</td>\n",
       "    </tr>\n",
       "    <tr>\n",
       "      <th>2</th>\n",
       "      <td>카페모카</td>\n",
       "      <td>5500</td>\n",
       "      <td>250</td>\n",
       "      <td>NaN</td>\n",
       "    </tr>\n",
       "    <tr>\n",
       "      <th>3</th>\n",
       "      <td>카푸치노</td>\n",
       "      <td>5000</td>\n",
       "      <td>110</td>\n",
       "      <td>NaN</td>\n",
       "    </tr>\n",
       "    <tr>\n",
       "      <th>4</th>\n",
       "      <td>에스프레소</td>\n",
       "      <td>4000</td>\n",
       "      <td>20</td>\n",
       "      <td>NaN</td>\n",
       "    </tr>\n",
       "    <tr>\n",
       "      <th>5</th>\n",
       "      <td>밀크티</td>\n",
       "      <td>5900</td>\n",
       "      <td>210</td>\n",
       "      <td>NaN</td>\n",
       "    </tr>\n",
       "    <tr>\n",
       "      <th>6</th>\n",
       "      <td>녹차</td>\n",
       "      <td>5300</td>\n",
       "      <td>0</td>\n",
       "      <td>NaN</td>\n",
       "    </tr>\n",
       "  </tbody>\n",
       "</table>\n",
       "</div>"
      ],
      "text/plain": [
       "      메뉴    가격  칼로리  원산지\n",
       "0  아메리카노  4500   10  NaN\n",
       "1   카페라떼  5000  110  NaN\n",
       "2   카페모카  5500  250  NaN\n",
       "3   카푸치노  5000  110  NaN\n",
       "4  에스프레소  4000   20  NaN\n",
       "5    밀크티  5900  210  NaN\n",
       "6     녹차  5300    0  NaN"
      ]
     },
     "execution_count": 3,
     "metadata": {},
     "output_type": "execute_result"
    }
   ],
   "source": [
    "import numpy as np\n",
    "df['원산지'] = np.nan\n",
    "df"
   ]
  },
  {
   "cell_type": "code",
   "execution_count": 4,
   "id": "62514dde",
   "metadata": {},
   "outputs": [
    {
     "data": {
      "text/html": [
       "<div>\n",
       "<style scoped>\n",
       "    .dataframe tbody tr th:only-of-type {\n",
       "        vertical-align: middle;\n",
       "    }\n",
       "\n",
       "    .dataframe tbody tr th {\n",
       "        vertical-align: top;\n",
       "    }\n",
       "\n",
       "    .dataframe thead th {\n",
       "        text-align: right;\n",
       "    }\n",
       "</style>\n",
       "<table border=\"1\" class=\"dataframe\">\n",
       "  <thead>\n",
       "    <tr style=\"text-align: right;\">\n",
       "      <th></th>\n",
       "      <th>메뉴</th>\n",
       "      <th>가격</th>\n",
       "      <th>칼로리</th>\n",
       "      <th>원산지</th>\n",
       "    </tr>\n",
       "  </thead>\n",
       "  <tbody>\n",
       "    <tr>\n",
       "      <th>0</th>\n",
       "      <td>아메리카노</td>\n",
       "      <td>4500</td>\n",
       "      <td>10</td>\n",
       "      <td>콜롬비아</td>\n",
       "    </tr>\n",
       "    <tr>\n",
       "      <th>1</th>\n",
       "      <td>카페라떼</td>\n",
       "      <td>5000</td>\n",
       "      <td>110</td>\n",
       "      <td>NaN</td>\n",
       "    </tr>\n",
       "    <tr>\n",
       "      <th>2</th>\n",
       "      <td>카페모카</td>\n",
       "      <td>5500</td>\n",
       "      <td>250</td>\n",
       "      <td>과테말라</td>\n",
       "    </tr>\n",
       "    <tr>\n",
       "      <th>3</th>\n",
       "      <td>카푸치노</td>\n",
       "      <td>5000</td>\n",
       "      <td>110</td>\n",
       "      <td>과테말라</td>\n",
       "    </tr>\n",
       "  </tbody>\n",
       "</table>\n",
       "</div>"
      ],
      "text/plain": [
       "      메뉴    가격  칼로리   원산지\n",
       "0  아메리카노  4500   10  콜롬비아\n",
       "1   카페라떼  5000  110   NaN\n",
       "2   카페모카  5500  250  과테말라\n",
       "3   카푸치노  5000  110  과테말라"
      ]
     },
     "execution_count": 4,
     "metadata": {},
     "output_type": "execute_result"
    }
   ],
   "source": [
    "df.loc[0,\"원산지\"] = '콜롬비아'\n",
    "df.loc[2:3, \"원산지\"] = '과테말라'\n",
    "df.head(4)"
   ]
  },
  {
   "cell_type": "code",
   "execution_count": 5,
   "id": "2fcaf9cb",
   "metadata": {},
   "outputs": [
    {
     "data": {
      "text/html": [
       "<div>\n",
       "<style scoped>\n",
       "    .dataframe tbody tr th:only-of-type {\n",
       "        vertical-align: middle;\n",
       "    }\n",
       "\n",
       "    .dataframe tbody tr th {\n",
       "        vertical-align: top;\n",
       "    }\n",
       "\n",
       "    .dataframe thead th {\n",
       "        text-align: right;\n",
       "    }\n",
       "</style>\n",
       "<table border=\"1\" class=\"dataframe\">\n",
       "  <thead>\n",
       "    <tr style=\"text-align: right;\">\n",
       "      <th></th>\n",
       "      <th>메뉴</th>\n",
       "      <th>가격</th>\n",
       "      <th>칼로리</th>\n",
       "      <th>원산지</th>\n",
       "    </tr>\n",
       "  </thead>\n",
       "  <tbody>\n",
       "    <tr>\n",
       "      <th>5</th>\n",
       "      <td>밀크티</td>\n",
       "      <td>5900</td>\n",
       "      <td>210</td>\n",
       "      <td>NaN</td>\n",
       "    </tr>\n",
       "    <tr>\n",
       "      <th>6</th>\n",
       "      <td>녹차</td>\n",
       "      <td>5300</td>\n",
       "      <td>0</td>\n",
       "      <td>NaN</td>\n",
       "    </tr>\n",
       "    <tr>\n",
       "      <th>시즌</th>\n",
       "      <td>크리스마스라떼</td>\n",
       "      <td>6000</td>\n",
       "      <td>300</td>\n",
       "      <td>한국</td>\n",
       "    </tr>\n",
       "  </tbody>\n",
       "</table>\n",
       "</div>"
      ],
      "text/plain": [
       "         메뉴    가격  칼로리  원산지\n",
       "5       밀크티  5900  210  NaN\n",
       "6        녹차  5300    0  NaN\n",
       "시즌  크리스마스라떼  6000  300   한국"
      ]
     },
     "execution_count": 5,
     "metadata": {},
     "output_type": "execute_result"
    }
   ],
   "source": [
    "df.loc['시즌'] = ['크리스마스라떼', 6000, 300, '한국']\n",
    "df.tail(3)"
   ]
  },
  {
   "cell_type": "code",
   "execution_count": 6,
   "id": "3542f680",
   "metadata": {},
   "outputs": [
    {
     "data": {
      "text/html": [
       "<div>\n",
       "<style scoped>\n",
       "    .dataframe tbody tr th:only-of-type {\n",
       "        vertical-align: middle;\n",
       "    }\n",
       "\n",
       "    .dataframe tbody tr th {\n",
       "        vertical-align: top;\n",
       "    }\n",
       "\n",
       "    .dataframe thead th {\n",
       "        text-align: right;\n",
       "    }\n",
       "</style>\n",
       "<table border=\"1\" class=\"dataframe\">\n",
       "  <thead>\n",
       "    <tr style=\"text-align: right;\">\n",
       "      <th></th>\n",
       "      <th>메뉴</th>\n",
       "      <th>가격</th>\n",
       "      <th>칼로리</th>\n",
       "      <th>원산지</th>\n",
       "    </tr>\n",
       "  </thead>\n",
       "  <tbody>\n",
       "    <tr>\n",
       "      <th>6</th>\n",
       "      <td>녹차</td>\n",
       "      <td>5300</td>\n",
       "      <td>0</td>\n",
       "      <td>NaN</td>\n",
       "    </tr>\n",
       "    <tr>\n",
       "      <th>시즌</th>\n",
       "      <td>크리스마스라떼</td>\n",
       "      <td>6000</td>\n",
       "      <td>300</td>\n",
       "      <td>한국</td>\n",
       "    </tr>\n",
       "    <tr>\n",
       "      <th>7</th>\n",
       "      <td>딴짓커피</td>\n",
       "      <td>2000</td>\n",
       "      <td>20</td>\n",
       "      <td>NaN</td>\n",
       "    </tr>\n",
       "  </tbody>\n",
       "</table>\n",
       "</div>"
      ],
      "text/plain": [
       "         메뉴    가격  칼로리  원산지\n",
       "6        녹차  5300    0  NaN\n",
       "시즌  크리스마스라떼  6000  300   한국\n",
       "7      딴짓커피  2000   20  NaN"
      ]
     },
     "execution_count": 6,
     "metadata": {},
     "output_type": "execute_result"
    }
   ],
   "source": [
    "df.loc[7] = {'메뉴' : '딴짓커피', '가격' : 2000, '칼로리' : 20}\n",
    "df.tail(3)"
   ]
  },
  {
   "cell_type": "markdown",
   "id": "057adef3",
   "metadata": {},
   "source": [
    "## 10. 정렬"
   ]
  },
  {
   "cell_type": "code",
   "execution_count": 10,
   "id": "ab095592",
   "metadata": {},
   "outputs": [
    {
     "data": {
      "text/html": [
       "<div>\n",
       "<style scoped>\n",
       "    .dataframe tbody tr th:only-of-type {\n",
       "        vertical-align: middle;\n",
       "    }\n",
       "\n",
       "    .dataframe tbody tr th {\n",
       "        vertical-align: top;\n",
       "    }\n",
       "\n",
       "    .dataframe thead th {\n",
       "        text-align: right;\n",
       "    }\n",
       "</style>\n",
       "<table border=\"1\" class=\"dataframe\">\n",
       "  <thead>\n",
       "    <tr style=\"text-align: right;\">\n",
       "      <th></th>\n",
       "      <th>메뉴</th>\n",
       "      <th>가격</th>\n",
       "      <th>칼로리</th>\n",
       "      <th>원산지</th>\n",
       "    </tr>\n",
       "  </thead>\n",
       "  <tbody>\n",
       "    <tr>\n",
       "      <th>7</th>\n",
       "      <td>딴짓커피</td>\n",
       "      <td>2000</td>\n",
       "      <td>20</td>\n",
       "      <td>NaN</td>\n",
       "    </tr>\n",
       "    <tr>\n",
       "      <th>6</th>\n",
       "      <td>녹차</td>\n",
       "      <td>5300</td>\n",
       "      <td>0</td>\n",
       "      <td>NaN</td>\n",
       "    </tr>\n",
       "    <tr>\n",
       "      <th>5</th>\n",
       "      <td>밀크티</td>\n",
       "      <td>5900</td>\n",
       "      <td>210</td>\n",
       "      <td>NaN</td>\n",
       "    </tr>\n",
       "    <tr>\n",
       "      <th>4</th>\n",
       "      <td>에스프레소</td>\n",
       "      <td>4000</td>\n",
       "      <td>20</td>\n",
       "      <td>NaN</td>\n",
       "    </tr>\n",
       "    <tr>\n",
       "      <th>3</th>\n",
       "      <td>카푸치노</td>\n",
       "      <td>5000</td>\n",
       "      <td>110</td>\n",
       "      <td>과테말라</td>\n",
       "    </tr>\n",
       "    <tr>\n",
       "      <th>2</th>\n",
       "      <td>카페모카</td>\n",
       "      <td>5500</td>\n",
       "      <td>250</td>\n",
       "      <td>과테말라</td>\n",
       "    </tr>\n",
       "    <tr>\n",
       "      <th>1</th>\n",
       "      <td>카페라떼</td>\n",
       "      <td>5000</td>\n",
       "      <td>110</td>\n",
       "      <td>NaN</td>\n",
       "    </tr>\n",
       "    <tr>\n",
       "      <th>0</th>\n",
       "      <td>아메리카노</td>\n",
       "      <td>4500</td>\n",
       "      <td>10</td>\n",
       "      <td>콜롬비아</td>\n",
       "    </tr>\n",
       "  </tbody>\n",
       "</table>\n",
       "</div>"
      ],
      "text/plain": [
       "      메뉴    가격  칼로리   원산지\n",
       "7   딴짓커피  2000   20   NaN\n",
       "6     녹차  5300    0   NaN\n",
       "5    밀크티  5900  210   NaN\n",
       "4  에스프레소  4000   20   NaN\n",
       "3   카푸치노  5000  110  과테말라\n",
       "2   카페모카  5500  250  과테말라\n",
       "1   카페라떼  5000  110   NaN\n",
       "0  아메리카노  4500   10  콜롬비아"
      ]
     },
     "execution_count": 10,
     "metadata": {},
     "output_type": "execute_result"
    }
   ],
   "source": [
    "df = pd.read_csv('cafe2.csv')\n",
    "df.sort_index(ascending = False)"
   ]
  },
  {
   "cell_type": "code",
   "execution_count": 11,
   "id": "73d217e1",
   "metadata": {},
   "outputs": [
    {
     "data": {
      "text/html": [
       "<div>\n",
       "<style scoped>\n",
       "    .dataframe tbody tr th:only-of-type {\n",
       "        vertical-align: middle;\n",
       "    }\n",
       "\n",
       "    .dataframe tbody tr th {\n",
       "        vertical-align: top;\n",
       "    }\n",
       "\n",
       "    .dataframe thead th {\n",
       "        text-align: right;\n",
       "    }\n",
       "</style>\n",
       "<table border=\"1\" class=\"dataframe\">\n",
       "  <thead>\n",
       "    <tr style=\"text-align: right;\">\n",
       "      <th></th>\n",
       "      <th>메뉴</th>\n",
       "      <th>가격</th>\n",
       "      <th>칼로리</th>\n",
       "      <th>원산지</th>\n",
       "    </tr>\n",
       "  </thead>\n",
       "  <tbody>\n",
       "    <tr>\n",
       "      <th>3</th>\n",
       "      <td>카푸치노</td>\n",
       "      <td>5000</td>\n",
       "      <td>110</td>\n",
       "      <td>과테말라</td>\n",
       "    </tr>\n",
       "    <tr>\n",
       "      <th>2</th>\n",
       "      <td>카페모카</td>\n",
       "      <td>5500</td>\n",
       "      <td>250</td>\n",
       "      <td>과테말라</td>\n",
       "    </tr>\n",
       "    <tr>\n",
       "      <th>1</th>\n",
       "      <td>카페라떼</td>\n",
       "      <td>5000</td>\n",
       "      <td>110</td>\n",
       "      <td>NaN</td>\n",
       "    </tr>\n",
       "    <tr>\n",
       "      <th>4</th>\n",
       "      <td>에스프레소</td>\n",
       "      <td>4000</td>\n",
       "      <td>20</td>\n",
       "      <td>NaN</td>\n",
       "    </tr>\n",
       "    <tr>\n",
       "      <th>0</th>\n",
       "      <td>아메리카노</td>\n",
       "      <td>4500</td>\n",
       "      <td>10</td>\n",
       "      <td>콜롬비아</td>\n",
       "    </tr>\n",
       "    <tr>\n",
       "      <th>5</th>\n",
       "      <td>밀크티</td>\n",
       "      <td>5900</td>\n",
       "      <td>210</td>\n",
       "      <td>NaN</td>\n",
       "    </tr>\n",
       "    <tr>\n",
       "      <th>7</th>\n",
       "      <td>딴짓커피</td>\n",
       "      <td>2000</td>\n",
       "      <td>20</td>\n",
       "      <td>NaN</td>\n",
       "    </tr>\n",
       "    <tr>\n",
       "      <th>6</th>\n",
       "      <td>녹차</td>\n",
       "      <td>5300</td>\n",
       "      <td>0</td>\n",
       "      <td>NaN</td>\n",
       "    </tr>\n",
       "  </tbody>\n",
       "</table>\n",
       "</div>"
      ],
      "text/plain": [
       "      메뉴    가격  칼로리   원산지\n",
       "3   카푸치노  5000  110  과테말라\n",
       "2   카페모카  5500  250  과테말라\n",
       "1   카페라떼  5000  110   NaN\n",
       "4  에스프레소  4000   20   NaN\n",
       "0  아메리카노  4500   10  콜롬비아\n",
       "5    밀크티  5900  210   NaN\n",
       "7   딴짓커피  2000   20   NaN\n",
       "6     녹차  5300    0   NaN"
      ]
     },
     "execution_count": 11,
     "metadata": {},
     "output_type": "execute_result"
    }
   ],
   "source": [
    "df.sort_values('메뉴', ascending = False)"
   ]
  },
  {
   "cell_type": "code",
   "execution_count": 12,
   "id": "4d7049f7",
   "metadata": {},
   "outputs": [
    {
     "data": {
      "text/html": [
       "<div>\n",
       "<style scoped>\n",
       "    .dataframe tbody tr th:only-of-type {\n",
       "        vertical-align: middle;\n",
       "    }\n",
       "\n",
       "    .dataframe tbody tr th {\n",
       "        vertical-align: top;\n",
       "    }\n",
       "\n",
       "    .dataframe thead th {\n",
       "        text-align: right;\n",
       "    }\n",
       "</style>\n",
       "<table border=\"1\" class=\"dataframe\">\n",
       "  <thead>\n",
       "    <tr style=\"text-align: right;\">\n",
       "      <th></th>\n",
       "      <th>메뉴</th>\n",
       "      <th>가격</th>\n",
       "      <th>칼로리</th>\n",
       "      <th>원산지</th>\n",
       "    </tr>\n",
       "  </thead>\n",
       "  <tbody>\n",
       "    <tr>\n",
       "      <th>5</th>\n",
       "      <td>밀크티</td>\n",
       "      <td>5900</td>\n",
       "      <td>210</td>\n",
       "      <td>NaN</td>\n",
       "    </tr>\n",
       "    <tr>\n",
       "      <th>2</th>\n",
       "      <td>카페모카</td>\n",
       "      <td>5500</td>\n",
       "      <td>250</td>\n",
       "      <td>과테말라</td>\n",
       "    </tr>\n",
       "    <tr>\n",
       "      <th>6</th>\n",
       "      <td>녹차</td>\n",
       "      <td>5300</td>\n",
       "      <td>0</td>\n",
       "      <td>NaN</td>\n",
       "    </tr>\n",
       "    <tr>\n",
       "      <th>1</th>\n",
       "      <td>카페라떼</td>\n",
       "      <td>5000</td>\n",
       "      <td>110</td>\n",
       "      <td>NaN</td>\n",
       "    </tr>\n",
       "    <tr>\n",
       "      <th>3</th>\n",
       "      <td>카푸치노</td>\n",
       "      <td>5000</td>\n",
       "      <td>110</td>\n",
       "      <td>과테말라</td>\n",
       "    </tr>\n",
       "    <tr>\n",
       "      <th>0</th>\n",
       "      <td>아메리카노</td>\n",
       "      <td>4500</td>\n",
       "      <td>10</td>\n",
       "      <td>콜롬비아</td>\n",
       "    </tr>\n",
       "    <tr>\n",
       "      <th>4</th>\n",
       "      <td>에스프레소</td>\n",
       "      <td>4000</td>\n",
       "      <td>20</td>\n",
       "      <td>NaN</td>\n",
       "    </tr>\n",
       "    <tr>\n",
       "      <th>7</th>\n",
       "      <td>딴짓커피</td>\n",
       "      <td>2000</td>\n",
       "      <td>20</td>\n",
       "      <td>NaN</td>\n",
       "    </tr>\n",
       "  </tbody>\n",
       "</table>\n",
       "</div>"
      ],
      "text/plain": [
       "      메뉴    가격  칼로리   원산지\n",
       "5    밀크티  5900  210   NaN\n",
       "2   카페모카  5500  250  과테말라\n",
       "6     녹차  5300    0   NaN\n",
       "1   카페라떼  5000  110   NaN\n",
       "3   카푸치노  5000  110  과테말라\n",
       "0  아메리카노  4500   10  콜롬비아\n",
       "4  에스프레소  4000   20   NaN\n",
       "7   딴짓커피  2000   20   NaN"
      ]
     },
     "execution_count": 12,
     "metadata": {},
     "output_type": "execute_result"
    }
   ],
   "source": [
    "df = df.sort_values(['가격', '메뉴'], ascending = [False, True])\n",
    "df"
   ]
  },
  {
   "cell_type": "code",
   "execution_count": 14,
   "id": "6efd4adb",
   "metadata": {},
   "outputs": [
    {
     "data": {
      "text/html": [
       "<div>\n",
       "<style scoped>\n",
       "    .dataframe tbody tr th:only-of-type {\n",
       "        vertical-align: middle;\n",
       "    }\n",
       "\n",
       "    .dataframe tbody tr th {\n",
       "        vertical-align: top;\n",
       "    }\n",
       "\n",
       "    .dataframe thead th {\n",
       "        text-align: right;\n",
       "    }\n",
       "</style>\n",
       "<table border=\"1\" class=\"dataframe\">\n",
       "  <thead>\n",
       "    <tr style=\"text-align: right;\">\n",
       "      <th></th>\n",
       "      <th>메뉴</th>\n",
       "      <th>가격</th>\n",
       "      <th>칼로리</th>\n",
       "      <th>원산지</th>\n",
       "    </tr>\n",
       "  </thead>\n",
       "  <tbody>\n",
       "    <tr>\n",
       "      <th>0</th>\n",
       "      <td>밀크티</td>\n",
       "      <td>5900</td>\n",
       "      <td>210</td>\n",
       "      <td>NaN</td>\n",
       "    </tr>\n",
       "    <tr>\n",
       "      <th>1</th>\n",
       "      <td>카페모카</td>\n",
       "      <td>5500</td>\n",
       "      <td>250</td>\n",
       "      <td>과테말라</td>\n",
       "    </tr>\n",
       "    <tr>\n",
       "      <th>2</th>\n",
       "      <td>녹차</td>\n",
       "      <td>5300</td>\n",
       "      <td>0</td>\n",
       "      <td>NaN</td>\n",
       "    </tr>\n",
       "    <tr>\n",
       "      <th>3</th>\n",
       "      <td>카페라떼</td>\n",
       "      <td>5000</td>\n",
       "      <td>110</td>\n",
       "      <td>NaN</td>\n",
       "    </tr>\n",
       "    <tr>\n",
       "      <th>4</th>\n",
       "      <td>카푸치노</td>\n",
       "      <td>5000</td>\n",
       "      <td>110</td>\n",
       "      <td>과테말라</td>\n",
       "    </tr>\n",
       "    <tr>\n",
       "      <th>5</th>\n",
       "      <td>아메리카노</td>\n",
       "      <td>4500</td>\n",
       "      <td>10</td>\n",
       "      <td>콜롬비아</td>\n",
       "    </tr>\n",
       "    <tr>\n",
       "      <th>6</th>\n",
       "      <td>에스프레소</td>\n",
       "      <td>4000</td>\n",
       "      <td>20</td>\n",
       "      <td>NaN</td>\n",
       "    </tr>\n",
       "    <tr>\n",
       "      <th>7</th>\n",
       "      <td>딴짓커피</td>\n",
       "      <td>2000</td>\n",
       "      <td>20</td>\n",
       "      <td>NaN</td>\n",
       "    </tr>\n",
       "  </tbody>\n",
       "</table>\n",
       "</div>"
      ],
      "text/plain": [
       "      메뉴    가격  칼로리   원산지\n",
       "0    밀크티  5900  210   NaN\n",
       "1   카페모카  5500  250  과테말라\n",
       "2     녹차  5300    0   NaN\n",
       "3   카페라떼  5000  110   NaN\n",
       "4   카푸치노  5000  110  과테말라\n",
       "5  아메리카노  4500   10  콜롬비아\n",
       "6  에스프레소  4000   20   NaN\n",
       "7   딴짓커피  2000   20   NaN"
      ]
     },
     "execution_count": 14,
     "metadata": {},
     "output_type": "execute_result"
    }
   ],
   "source": [
    "df.reset_index(drop=True)"
   ]
  },
  {
   "cell_type": "markdown",
   "id": "94c68b93",
   "metadata": {},
   "source": [
    "## 11. 필터링"
   ]
  },
  {
   "cell_type": "code",
   "execution_count": 3,
   "id": "9758f084",
   "metadata": {},
   "outputs": [
    {
     "data": {
      "text/html": [
       "<div>\n",
       "<style scoped>\n",
       "    .dataframe tbody tr th:only-of-type {\n",
       "        vertical-align: middle;\n",
       "    }\n",
       "\n",
       "    .dataframe tbody tr th {\n",
       "        vertical-align: top;\n",
       "    }\n",
       "\n",
       "    .dataframe thead th {\n",
       "        text-align: right;\n",
       "    }\n",
       "</style>\n",
       "<table border=\"1\" class=\"dataframe\">\n",
       "  <thead>\n",
       "    <tr style=\"text-align: right;\">\n",
       "      <th></th>\n",
       "      <th>메뉴</th>\n",
       "      <th>가격</th>\n",
       "      <th>칼로리</th>\n",
       "      <th>원산지</th>\n",
       "    </tr>\n",
       "  </thead>\n",
       "  <tbody>\n",
       "    <tr>\n",
       "      <th>0</th>\n",
       "      <td>아메리카노</td>\n",
       "      <td>4500</td>\n",
       "      <td>10</td>\n",
       "      <td>콜롬비아</td>\n",
       "    </tr>\n",
       "    <tr>\n",
       "      <th>1</th>\n",
       "      <td>카페라떼</td>\n",
       "      <td>5000</td>\n",
       "      <td>110</td>\n",
       "      <td>NaN</td>\n",
       "    </tr>\n",
       "  </tbody>\n",
       "</table>\n",
       "</div>"
      ],
      "text/plain": [
       "      메뉴    가격  칼로리   원산지\n",
       "0  아메리카노  4500   10  콜롬비아\n",
       "1   카페라떼  5000  110   NaN"
      ]
     },
     "execution_count": 3,
     "metadata": {},
     "output_type": "execute_result"
    }
   ],
   "source": [
    "df = pd.read_csv('cafe2.csv')\n",
    "df.head(2)"
   ]
  },
  {
   "cell_type": "code",
   "execution_count": 4,
   "id": "b68a36f9",
   "metadata": {},
   "outputs": [
    {
     "data": {
      "text/html": [
       "<div>\n",
       "<style scoped>\n",
       "    .dataframe tbody tr th:only-of-type {\n",
       "        vertical-align: middle;\n",
       "    }\n",
       "\n",
       "    .dataframe tbody tr th {\n",
       "        vertical-align: top;\n",
       "    }\n",
       "\n",
       "    .dataframe thead th {\n",
       "        text-align: right;\n",
       "    }\n",
       "</style>\n",
       "<table border=\"1\" class=\"dataframe\">\n",
       "  <thead>\n",
       "    <tr style=\"text-align: right;\">\n",
       "      <th></th>\n",
       "      <th>메뉴</th>\n",
       "      <th>가격</th>\n",
       "      <th>칼로리</th>\n",
       "      <th>원산지</th>\n",
       "    </tr>\n",
       "  </thead>\n",
       "  <tbody>\n",
       "    <tr>\n",
       "      <th>0</th>\n",
       "      <td>아메리카노</td>\n",
       "      <td>4500</td>\n",
       "      <td>10</td>\n",
       "      <td>콜롬비아</td>\n",
       "    </tr>\n",
       "    <tr>\n",
       "      <th>4</th>\n",
       "      <td>에스프레소</td>\n",
       "      <td>4000</td>\n",
       "      <td>20</td>\n",
       "      <td>NaN</td>\n",
       "    </tr>\n",
       "    <tr>\n",
       "      <th>6</th>\n",
       "      <td>녹차</td>\n",
       "      <td>5300</td>\n",
       "      <td>0</td>\n",
       "      <td>NaN</td>\n",
       "    </tr>\n",
       "    <tr>\n",
       "      <th>7</th>\n",
       "      <td>딴짓커피</td>\n",
       "      <td>2000</td>\n",
       "      <td>20</td>\n",
       "      <td>NaN</td>\n",
       "    </tr>\n",
       "  </tbody>\n",
       "</table>\n",
       "</div>"
      ],
      "text/plain": [
       "      메뉴    가격  칼로리   원산지\n",
       "0  아메리카노  4500   10  콜롬비아\n",
       "4  에스프레소  4000   20   NaN\n",
       "6     녹차  5300    0   NaN\n",
       "7   딴짓커피  2000   20   NaN"
      ]
     },
     "execution_count": 4,
     "metadata": {},
     "output_type": "execute_result"
    }
   ],
   "source": [
    "cond = df['칼로리'] < 50\n",
    "df[cond]"
   ]
  },
  {
   "cell_type": "code",
   "execution_count": 5,
   "id": "a1d79a1c",
   "metadata": {},
   "outputs": [
    {
     "data": {
      "text/html": [
       "<div>\n",
       "<style scoped>\n",
       "    .dataframe tbody tr th:only-of-type {\n",
       "        vertical-align: middle;\n",
       "    }\n",
       "\n",
       "    .dataframe tbody tr th {\n",
       "        vertical-align: top;\n",
       "    }\n",
       "\n",
       "    .dataframe thead th {\n",
       "        text-align: right;\n",
       "    }\n",
       "</style>\n",
       "<table border=\"1\" class=\"dataframe\">\n",
       "  <thead>\n",
       "    <tr style=\"text-align: right;\">\n",
       "      <th></th>\n",
       "      <th>메뉴</th>\n",
       "      <th>가격</th>\n",
       "      <th>칼로리</th>\n",
       "      <th>원산지</th>\n",
       "    </tr>\n",
       "  </thead>\n",
       "  <tbody>\n",
       "    <tr>\n",
       "      <th>0</th>\n",
       "      <td>아메리카노</td>\n",
       "      <td>4500</td>\n",
       "      <td>10</td>\n",
       "      <td>콜롬비아</td>\n",
       "    </tr>\n",
       "    <tr>\n",
       "      <th>4</th>\n",
       "      <td>에스프레소</td>\n",
       "      <td>4000</td>\n",
       "      <td>20</td>\n",
       "      <td>NaN</td>\n",
       "    </tr>\n",
       "    <tr>\n",
       "      <th>6</th>\n",
       "      <td>녹차</td>\n",
       "      <td>5300</td>\n",
       "      <td>0</td>\n",
       "      <td>NaN</td>\n",
       "    </tr>\n",
       "    <tr>\n",
       "      <th>7</th>\n",
       "      <td>딴짓커피</td>\n",
       "      <td>2000</td>\n",
       "      <td>20</td>\n",
       "      <td>NaN</td>\n",
       "    </tr>\n",
       "  </tbody>\n",
       "</table>\n",
       "</div>"
      ],
      "text/plain": [
       "      메뉴    가격  칼로리   원산지\n",
       "0  아메리카노  4500   10  콜롬비아\n",
       "4  에스프레소  4000   20   NaN\n",
       "6     녹차  5300    0   NaN\n",
       "7   딴짓커피  2000   20   NaN"
      ]
     },
     "execution_count": 5,
     "metadata": {},
     "output_type": "execute_result"
    }
   ],
   "source": [
    "df[df['칼로리']<50]"
   ]
  },
  {
   "cell_type": "code",
   "execution_count": 6,
   "id": "69f19403",
   "metadata": {},
   "outputs": [
    {
     "data": {
      "text/html": [
       "<div>\n",
       "<style scoped>\n",
       "    .dataframe tbody tr th:only-of-type {\n",
       "        vertical-align: middle;\n",
       "    }\n",
       "\n",
       "    .dataframe tbody tr th {\n",
       "        vertical-align: top;\n",
       "    }\n",
       "\n",
       "    .dataframe thead th {\n",
       "        text-align: right;\n",
       "    }\n",
       "</style>\n",
       "<table border=\"1\" class=\"dataframe\">\n",
       "  <thead>\n",
       "    <tr style=\"text-align: right;\">\n",
       "      <th></th>\n",
       "      <th>메뉴</th>\n",
       "      <th>가격</th>\n",
       "      <th>칼로리</th>\n",
       "      <th>원산지</th>\n",
       "    </tr>\n",
       "  </thead>\n",
       "  <tbody>\n",
       "    <tr>\n",
       "      <th>1</th>\n",
       "      <td>카페라떼</td>\n",
       "      <td>5000</td>\n",
       "      <td>110</td>\n",
       "      <td>NaN</td>\n",
       "    </tr>\n",
       "    <tr>\n",
       "      <th>2</th>\n",
       "      <td>카페모카</td>\n",
       "      <td>5500</td>\n",
       "      <td>250</td>\n",
       "      <td>과테말라</td>\n",
       "    </tr>\n",
       "    <tr>\n",
       "      <th>3</th>\n",
       "      <td>카푸치노</td>\n",
       "      <td>5000</td>\n",
       "      <td>110</td>\n",
       "      <td>과테말라</td>\n",
       "    </tr>\n",
       "    <tr>\n",
       "      <th>5</th>\n",
       "      <td>밀크티</td>\n",
       "      <td>5900</td>\n",
       "      <td>210</td>\n",
       "      <td>NaN</td>\n",
       "    </tr>\n",
       "  </tbody>\n",
       "</table>\n",
       "</div>"
      ],
      "text/plain": [
       "     메뉴    가격  칼로리   원산지\n",
       "1  카페라떼  5000  110   NaN\n",
       "2  카페모카  5500  250  과테말라\n",
       "3  카푸치노  5000  110  과테말라\n",
       "5   밀크티  5900  210   NaN"
      ]
     },
     "execution_count": 6,
     "metadata": {},
     "output_type": "execute_result"
    }
   ],
   "source": [
    "df[~cond]"
   ]
  },
  {
   "cell_type": "code",
   "execution_count": 7,
   "id": "c5ebae12",
   "metadata": {},
   "outputs": [
    {
     "name": "stdout",
     "output_type": "stream",
     "text": [
      "     메뉴    가격  칼로리   원산지\n",
      "1  카페라떼  5000  110   NaN\n",
      "2  카페모카  5500  250  과테말라\n",
      "3  카푸치노  5000  110  과테말라\n",
      "5   밀크티  5900  210   NaN\n"
     ]
    },
    {
     "data": {
      "text/html": [
       "<div>\n",
       "<style scoped>\n",
       "    .dataframe tbody tr th:only-of-type {\n",
       "        vertical-align: middle;\n",
       "    }\n",
       "\n",
       "    .dataframe tbody tr th {\n",
       "        vertical-align: top;\n",
       "    }\n",
       "\n",
       "    .dataframe thead th {\n",
       "        text-align: right;\n",
       "    }\n",
       "</style>\n",
       "<table border=\"1\" class=\"dataframe\">\n",
       "  <thead>\n",
       "    <tr style=\"text-align: right;\">\n",
       "      <th></th>\n",
       "      <th>메뉴</th>\n",
       "      <th>가격</th>\n",
       "      <th>칼로리</th>\n",
       "      <th>원산지</th>\n",
       "    </tr>\n",
       "  </thead>\n",
       "  <tbody>\n",
       "    <tr>\n",
       "      <th>1</th>\n",
       "      <td>카페라떼</td>\n",
       "      <td>5000</td>\n",
       "      <td>110</td>\n",
       "      <td>NaN</td>\n",
       "    </tr>\n",
       "    <tr>\n",
       "      <th>2</th>\n",
       "      <td>카페모카</td>\n",
       "      <td>5500</td>\n",
       "      <td>250</td>\n",
       "      <td>과테말라</td>\n",
       "    </tr>\n",
       "    <tr>\n",
       "      <th>3</th>\n",
       "      <td>카푸치노</td>\n",
       "      <td>5000</td>\n",
       "      <td>110</td>\n",
       "      <td>과테말라</td>\n",
       "    </tr>\n",
       "    <tr>\n",
       "      <th>5</th>\n",
       "      <td>밀크티</td>\n",
       "      <td>5900</td>\n",
       "      <td>210</td>\n",
       "      <td>NaN</td>\n",
       "    </tr>\n",
       "    <tr>\n",
       "      <th>6</th>\n",
       "      <td>녹차</td>\n",
       "      <td>5300</td>\n",
       "      <td>0</td>\n",
       "      <td>NaN</td>\n",
       "    </tr>\n",
       "  </tbody>\n",
       "</table>\n",
       "</div>"
      ],
      "text/plain": [
       "     메뉴    가격  칼로리   원산지\n",
       "1  카페라떼  5000  110   NaN\n",
       "2  카페모카  5500  250  과테말라\n",
       "3  카푸치노  5000  110  과테말라\n",
       "5   밀크티  5900  210   NaN\n",
       "6    녹차  5300    0   NaN"
      ]
     },
     "execution_count": 7,
     "metadata": {},
     "output_type": "execute_result"
    }
   ],
   "source": [
    "cond1 = df['가격'] >= 5000\n",
    "cond2 = df['칼로리'] > 100\n",
    "print(df[cond1&cond2])\n",
    "df[cond1|cond2]"
   ]
  },
  {
   "cell_type": "code",
   "execution_count": 13,
   "id": "69d59250",
   "metadata": {},
   "outputs": [
    {
     "data": {
      "text/html": [
       "<div>\n",
       "<style scoped>\n",
       "    .dataframe tbody tr th:only-of-type {\n",
       "        vertical-align: middle;\n",
       "    }\n",
       "\n",
       "    .dataframe tbody tr th {\n",
       "        vertical-align: top;\n",
       "    }\n",
       "\n",
       "    .dataframe thead th {\n",
       "        text-align: right;\n",
       "    }\n",
       "</style>\n",
       "<table border=\"1\" class=\"dataframe\">\n",
       "  <thead>\n",
       "    <tr style=\"text-align: right;\">\n",
       "      <th></th>\n",
       "      <th>메뉴</th>\n",
       "      <th>가격</th>\n",
       "      <th>칼로리</th>\n",
       "      <th>원산지</th>\n",
       "    </tr>\n",
       "  </thead>\n",
       "  <tbody>\n",
       "    <tr>\n",
       "      <th>3</th>\n",
       "      <td>카푸치노</td>\n",
       "      <td>5000</td>\n",
       "      <td>110</td>\n",
       "      <td>과테말라</td>\n",
       "    </tr>\n",
       "  </tbody>\n",
       "</table>\n",
       "</div>"
      ],
      "text/plain": [
       "     메뉴    가격  칼로리   원산지\n",
       "3  카푸치노  5000  110  과테말라"
      ]
     },
     "execution_count": 13,
     "metadata": {},
     "output_type": "execute_result"
    }
   ],
   "source": [
    "cond1 = (df['원산지'] == \"과테말라\")\n",
    "cond2 = df['가격'] <= 5000\n",
    "df[cond1 & cond2]"
   ]
  },
  {
   "cell_type": "code",
   "execution_count": 15,
   "id": "a78a271e",
   "metadata": {},
   "outputs": [
    {
     "data": {
      "text/plain": [
       "0    False\n",
       "1    False\n",
       "2    False\n",
       "3    False\n",
       "4    False\n",
       "5    False\n",
       "6     True\n",
       "7    False\n",
       "Name: 메뉴, dtype: bool"
      ]
     },
     "execution_count": 15,
     "metadata": {},
     "output_type": "execute_result"
    }
   ],
   "source": [
    "df['메뉴'].isin(['녹차'])"
   ]
  },
  {
   "cell_type": "code",
   "execution_count": 16,
   "id": "89a073c0",
   "metadata": {},
   "outputs": [
    {
     "data": {
      "text/html": [
       "<div>\n",
       "<style scoped>\n",
       "    .dataframe tbody tr th:only-of-type {\n",
       "        vertical-align: middle;\n",
       "    }\n",
       "\n",
       "    .dataframe tbody tr th {\n",
       "        vertical-align: top;\n",
       "    }\n",
       "\n",
       "    .dataframe thead th {\n",
       "        text-align: right;\n",
       "    }\n",
       "</style>\n",
       "<table border=\"1\" class=\"dataframe\">\n",
       "  <thead>\n",
       "    <tr style=\"text-align: right;\">\n",
       "      <th></th>\n",
       "      <th>메뉴</th>\n",
       "      <th>가격</th>\n",
       "      <th>칼로리</th>\n",
       "      <th>원산지</th>\n",
       "    </tr>\n",
       "  </thead>\n",
       "  <tbody>\n",
       "    <tr>\n",
       "      <th>6</th>\n",
       "      <td>녹차</td>\n",
       "      <td>5300</td>\n",
       "      <td>0</td>\n",
       "      <td>NaN</td>\n",
       "    </tr>\n",
       "  </tbody>\n",
       "</table>\n",
       "</div>"
      ],
      "text/plain": [
       "   메뉴    가격  칼로리  원산지\n",
       "6  녹차  5300    0  NaN"
      ]
     },
     "execution_count": 16,
     "metadata": {},
     "output_type": "execute_result"
    }
   ],
   "source": [
    "cond = df['메뉴'].isin(['녹차'])\n",
    "df[cond]"
   ]
  },
  {
   "cell_type": "code",
   "execution_count": 17,
   "id": "fe042158",
   "metadata": {},
   "outputs": [
    {
     "data": {
      "text/html": [
       "<div>\n",
       "<style scoped>\n",
       "    .dataframe tbody tr th:only-of-type {\n",
       "        vertical-align: middle;\n",
       "    }\n",
       "\n",
       "    .dataframe tbody tr th {\n",
       "        vertical-align: top;\n",
       "    }\n",
       "\n",
       "    .dataframe thead th {\n",
       "        text-align: right;\n",
       "    }\n",
       "</style>\n",
       "<table border=\"1\" class=\"dataframe\">\n",
       "  <thead>\n",
       "    <tr style=\"text-align: right;\">\n",
       "      <th></th>\n",
       "      <th>메뉴</th>\n",
       "      <th>가격</th>\n",
       "      <th>칼로리</th>\n",
       "      <th>원산지</th>\n",
       "    </tr>\n",
       "  </thead>\n",
       "  <tbody>\n",
       "    <tr>\n",
       "      <th>1</th>\n",
       "      <td>카페라떼</td>\n",
       "      <td>5000</td>\n",
       "      <td>110</td>\n",
       "      <td>NaN</td>\n",
       "    </tr>\n",
       "    <tr>\n",
       "      <th>3</th>\n",
       "      <td>카푸치노</td>\n",
       "      <td>5000</td>\n",
       "      <td>110</td>\n",
       "      <td>과테말라</td>\n",
       "    </tr>\n",
       "    <tr>\n",
       "      <th>6</th>\n",
       "      <td>녹차</td>\n",
       "      <td>5300</td>\n",
       "      <td>0</td>\n",
       "      <td>NaN</td>\n",
       "    </tr>\n",
       "  </tbody>\n",
       "</table>\n",
       "</div>"
      ],
      "text/plain": [
       "     메뉴    가격  칼로리   원산지\n",
       "1  카페라떼  5000  110   NaN\n",
       "3  카푸치노  5000  110  과테말라\n",
       "6    녹차  5300    0   NaN"
      ]
     },
     "execution_count": 17,
     "metadata": {},
     "output_type": "execute_result"
    }
   ],
   "source": [
    "box = ['녹차', '카푸치노', '카페라떼']\n",
    "cond = df['메뉴'].isin(box)\n",
    "df[cond]"
   ]
  },
  {
   "cell_type": "markdown",
   "id": "8be7a082",
   "metadata": {},
   "source": [
    "## 12. 결측치 처리"
   ]
  },
  {
   "cell_type": "code",
   "execution_count": 23,
   "id": "27397bc5",
   "metadata": {},
   "outputs": [
    {
     "name": "stdout",
     "output_type": "stream",
     "text": [
      "메뉴     0\n",
      "가격     0\n",
      "칼로리    0\n",
      "원산지    5\n",
      "dtype: int64\n",
      "메뉴     0\n",
      "가격     0\n",
      "칼로리    0\n",
      "원산지    5\n",
      "dtype: int64\n"
     ]
    },
    {
     "data": {
      "text/html": [
       "<div>\n",
       "<style scoped>\n",
       "    .dataframe tbody tr th:only-of-type {\n",
       "        vertical-align: middle;\n",
       "    }\n",
       "\n",
       "    .dataframe tbody tr th {\n",
       "        vertical-align: top;\n",
       "    }\n",
       "\n",
       "    .dataframe thead th {\n",
       "        text-align: right;\n",
       "    }\n",
       "</style>\n",
       "<table border=\"1\" class=\"dataframe\">\n",
       "  <thead>\n",
       "    <tr style=\"text-align: right;\">\n",
       "      <th></th>\n",
       "      <th>메뉴</th>\n",
       "      <th>가격</th>\n",
       "      <th>칼로리</th>\n",
       "      <th>원산지</th>\n",
       "    </tr>\n",
       "  </thead>\n",
       "  <tbody>\n",
       "    <tr>\n",
       "      <th>0</th>\n",
       "      <td>False</td>\n",
       "      <td>False</td>\n",
       "      <td>False</td>\n",
       "      <td>False</td>\n",
       "    </tr>\n",
       "    <tr>\n",
       "      <th>1</th>\n",
       "      <td>False</td>\n",
       "      <td>False</td>\n",
       "      <td>False</td>\n",
       "      <td>True</td>\n",
       "    </tr>\n",
       "    <tr>\n",
       "      <th>2</th>\n",
       "      <td>False</td>\n",
       "      <td>False</td>\n",
       "      <td>False</td>\n",
       "      <td>False</td>\n",
       "    </tr>\n",
       "    <tr>\n",
       "      <th>3</th>\n",
       "      <td>False</td>\n",
       "      <td>False</td>\n",
       "      <td>False</td>\n",
       "      <td>False</td>\n",
       "    </tr>\n",
       "    <tr>\n",
       "      <th>4</th>\n",
       "      <td>False</td>\n",
       "      <td>False</td>\n",
       "      <td>False</td>\n",
       "      <td>True</td>\n",
       "    </tr>\n",
       "    <tr>\n",
       "      <th>5</th>\n",
       "      <td>False</td>\n",
       "      <td>False</td>\n",
       "      <td>False</td>\n",
       "      <td>True</td>\n",
       "    </tr>\n",
       "    <tr>\n",
       "      <th>6</th>\n",
       "      <td>False</td>\n",
       "      <td>False</td>\n",
       "      <td>False</td>\n",
       "      <td>True</td>\n",
       "    </tr>\n",
       "    <tr>\n",
       "      <th>7</th>\n",
       "      <td>False</td>\n",
       "      <td>False</td>\n",
       "      <td>False</td>\n",
       "      <td>True</td>\n",
       "    </tr>\n",
       "  </tbody>\n",
       "</table>\n",
       "</div>"
      ],
      "text/plain": [
       "      메뉴     가격    칼로리    원산지\n",
       "0  False  False  False  False\n",
       "1  False  False  False   True\n",
       "2  False  False  False  False\n",
       "3  False  False  False  False\n",
       "4  False  False  False   True\n",
       "5  False  False  False   True\n",
       "6  False  False  False   True\n",
       "7  False  False  False   True"
      ]
     },
     "execution_count": 23,
     "metadata": {},
     "output_type": "execute_result"
    }
   ],
   "source": [
    "df = pd.read_csv('cafe2.csv')\n",
    "print(df.isnull().sum())\n",
    "print(df.isna().sum())\n",
    "df.isnull()    "
   ]
  },
  {
   "cell_type": "code",
   "execution_count": 24,
   "id": "a57f08e4",
   "metadata": {},
   "outputs": [
    {
     "data": {
      "text/html": [
       "<div>\n",
       "<style scoped>\n",
       "    .dataframe tbody tr th:only-of-type {\n",
       "        vertical-align: middle;\n",
       "    }\n",
       "\n",
       "    .dataframe tbody tr th {\n",
       "        vertical-align: top;\n",
       "    }\n",
       "\n",
       "    .dataframe thead th {\n",
       "        text-align: right;\n",
       "    }\n",
       "</style>\n",
       "<table border=\"1\" class=\"dataframe\">\n",
       "  <thead>\n",
       "    <tr style=\"text-align: right;\">\n",
       "      <th></th>\n",
       "      <th>메뉴</th>\n",
       "      <th>가격</th>\n",
       "      <th>칼로리</th>\n",
       "      <th>원산지</th>\n",
       "    </tr>\n",
       "  </thead>\n",
       "  <tbody>\n",
       "    <tr>\n",
       "      <th>0</th>\n",
       "      <td>아메리카노</td>\n",
       "      <td>4500</td>\n",
       "      <td>10</td>\n",
       "      <td>콜롬비아</td>\n",
       "    </tr>\n",
       "    <tr>\n",
       "      <th>1</th>\n",
       "      <td>카페라떼</td>\n",
       "      <td>5000</td>\n",
       "      <td>110</td>\n",
       "      <td>코스타리카</td>\n",
       "    </tr>\n",
       "    <tr>\n",
       "      <th>2</th>\n",
       "      <td>카페모카</td>\n",
       "      <td>5500</td>\n",
       "      <td>250</td>\n",
       "      <td>과테말라</td>\n",
       "    </tr>\n",
       "    <tr>\n",
       "      <th>3</th>\n",
       "      <td>카푸치노</td>\n",
       "      <td>5000</td>\n",
       "      <td>110</td>\n",
       "      <td>과테말라</td>\n",
       "    </tr>\n",
       "    <tr>\n",
       "      <th>4</th>\n",
       "      <td>에스프레소</td>\n",
       "      <td>4000</td>\n",
       "      <td>20</td>\n",
       "      <td>코스타리카</td>\n",
       "    </tr>\n",
       "    <tr>\n",
       "      <th>5</th>\n",
       "      <td>밀크티</td>\n",
       "      <td>5900</td>\n",
       "      <td>210</td>\n",
       "      <td>코스타리카</td>\n",
       "    </tr>\n",
       "    <tr>\n",
       "      <th>6</th>\n",
       "      <td>녹차</td>\n",
       "      <td>5300</td>\n",
       "      <td>0</td>\n",
       "      <td>코스타리카</td>\n",
       "    </tr>\n",
       "    <tr>\n",
       "      <th>7</th>\n",
       "      <td>딴짓커피</td>\n",
       "      <td>2000</td>\n",
       "      <td>20</td>\n",
       "      <td>코스타리카</td>\n",
       "    </tr>\n",
       "  </tbody>\n",
       "</table>\n",
       "</div>"
      ],
      "text/plain": [
       "      메뉴    가격  칼로리    원산지\n",
       "0  아메리카노  4500   10   콜롬비아\n",
       "1   카페라떼  5000  110  코스타리카\n",
       "2   카페모카  5500  250   과테말라\n",
       "3   카푸치노  5000  110   과테말라\n",
       "4  에스프레소  4000   20  코스타리카\n",
       "5    밀크티  5900  210  코스타리카\n",
       "6     녹차  5300    0  코스타리카\n",
       "7   딴짓커피  2000   20  코스타리카"
      ]
     },
     "execution_count": 24,
     "metadata": {},
     "output_type": "execute_result"
    }
   ],
   "source": [
    "df['원산지'].fillna('코스타리카',inplace = True)\n",
    "df"
   ]
  },
  {
   "cell_type": "code",
   "execution_count": 25,
   "id": "ffb0885a",
   "metadata": {},
   "outputs": [],
   "source": [
    "df.to_csv('cafe3.csv',index = False)"
   ]
  },
  {
   "cell_type": "markdown",
   "id": "33e971c4",
   "metadata": {},
   "source": [
    "## 13. 값 변경"
   ]
  },
  {
   "cell_type": "code",
   "execution_count": 29,
   "id": "65341ee9",
   "metadata": {},
   "outputs": [
    {
     "data": {
      "text/html": [
       "<div>\n",
       "<style scoped>\n",
       "    .dataframe tbody tr th:only-of-type {\n",
       "        vertical-align: middle;\n",
       "    }\n",
       "\n",
       "    .dataframe tbody tr th {\n",
       "        vertical-align: top;\n",
       "    }\n",
       "\n",
       "    .dataframe thead th {\n",
       "        text-align: right;\n",
       "    }\n",
       "</style>\n",
       "<table border=\"1\" class=\"dataframe\">\n",
       "  <thead>\n",
       "    <tr style=\"text-align: right;\">\n",
       "      <th></th>\n",
       "      <th>메뉴</th>\n",
       "      <th>가격</th>\n",
       "      <th>칼로리</th>\n",
       "      <th>원산지</th>\n",
       "    </tr>\n",
       "  </thead>\n",
       "  <tbody>\n",
       "    <tr>\n",
       "      <th>0</th>\n",
       "      <td>룽고</td>\n",
       "      <td>4500</td>\n",
       "      <td>10</td>\n",
       "      <td>콜롬비아</td>\n",
       "    </tr>\n",
       "    <tr>\n",
       "      <th>1</th>\n",
       "      <td>카페라떼</td>\n",
       "      <td>5000</td>\n",
       "      <td>110</td>\n",
       "      <td>코스타리카</td>\n",
       "    </tr>\n",
       "    <tr>\n",
       "      <th>2</th>\n",
       "      <td>카페모카</td>\n",
       "      <td>5500</td>\n",
       "      <td>250</td>\n",
       "      <td>과테말라</td>\n",
       "    </tr>\n",
       "    <tr>\n",
       "      <th>3</th>\n",
       "      <td>카푸치노</td>\n",
       "      <td>5000</td>\n",
       "      <td>110</td>\n",
       "      <td>과테말라</td>\n",
       "    </tr>\n",
       "    <tr>\n",
       "      <th>4</th>\n",
       "      <td>에스프레소</td>\n",
       "      <td>4000</td>\n",
       "      <td>20</td>\n",
       "      <td>코스타리카</td>\n",
       "    </tr>\n",
       "    <tr>\n",
       "      <th>5</th>\n",
       "      <td>밀크티</td>\n",
       "      <td>5900</td>\n",
       "      <td>210</td>\n",
       "      <td>코스타리카</td>\n",
       "    </tr>\n",
       "    <tr>\n",
       "      <th>6</th>\n",
       "      <td>그린티</td>\n",
       "      <td>5300</td>\n",
       "      <td>0</td>\n",
       "      <td>코스타리카</td>\n",
       "    </tr>\n",
       "    <tr>\n",
       "      <th>7</th>\n",
       "      <td>딴짓커피</td>\n",
       "      <td>2000</td>\n",
       "      <td>20</td>\n",
       "      <td>코스타리카</td>\n",
       "    </tr>\n",
       "  </tbody>\n",
       "</table>\n",
       "</div>"
      ],
      "text/plain": [
       "      메뉴    가격  칼로리    원산지\n",
       "0     룽고  4500   10   콜롬비아\n",
       "1   카페라떼  5000  110  코스타리카\n",
       "2   카페모카  5500  250   과테말라\n",
       "3   카푸치노  5000  110   과테말라\n",
       "4  에스프레소  4000   20  코스타리카\n",
       "5    밀크티  5900  210  코스타리카\n",
       "6    그린티  5300    0  코스타리카\n",
       "7   딴짓커피  2000   20  코스타리카"
      ]
     },
     "execution_count": 29,
     "metadata": {},
     "output_type": "execute_result"
    }
   ],
   "source": [
    "df = pd.read_csv('cafe3.csv')\n",
    "df.replace('아메리카노', '룽고', inplace = True)\n",
    "df.replace('녹차', '그린티', inplace = True)\n",
    "df"
   ]
  },
  {
   "cell_type": "code",
   "execution_count": 34,
   "id": "673d74df",
   "metadata": {},
   "outputs": [
    {
     "data": {
      "text/html": [
       "<div>\n",
       "<style scoped>\n",
       "    .dataframe tbody tr th:only-of-type {\n",
       "        vertical-align: middle;\n",
       "    }\n",
       "\n",
       "    .dataframe tbody tr th {\n",
       "        vertical-align: top;\n",
       "    }\n",
       "\n",
       "    .dataframe thead th {\n",
       "        text-align: right;\n",
       "    }\n",
       "</style>\n",
       "<table border=\"1\" class=\"dataframe\">\n",
       "  <thead>\n",
       "    <tr style=\"text-align: right;\">\n",
       "      <th></th>\n",
       "      <th>메뉴</th>\n",
       "      <th>가격</th>\n",
       "      <th>칼로리</th>\n",
       "      <th>원산지</th>\n",
       "      <th>이벤트가</th>\n",
       "    </tr>\n",
       "  </thead>\n",
       "  <tbody>\n",
       "    <tr>\n",
       "      <th>0</th>\n",
       "      <td>아메리카노</td>\n",
       "      <td>4500</td>\n",
       "      <td>10</td>\n",
       "      <td>콜롬비아</td>\n",
       "      <td>NaN</td>\n",
       "    </tr>\n",
       "    <tr>\n",
       "      <th>1</th>\n",
       "      <td>카페라떼</td>\n",
       "      <td>5000</td>\n",
       "      <td>110</td>\n",
       "      <td>코스타리카</td>\n",
       "      <td>1000.0</td>\n",
       "    </tr>\n",
       "    <tr>\n",
       "      <th>2</th>\n",
       "      <td>카페모카</td>\n",
       "      <td>5500</td>\n",
       "      <td>250</td>\n",
       "      <td>과테말라</td>\n",
       "      <td>1000.0</td>\n",
       "    </tr>\n",
       "    <tr>\n",
       "      <th>3</th>\n",
       "      <td>카푸치노</td>\n",
       "      <td>5000</td>\n",
       "      <td>110</td>\n",
       "      <td>과테말라</td>\n",
       "      <td>NaN</td>\n",
       "    </tr>\n",
       "    <tr>\n",
       "      <th>4</th>\n",
       "      <td>에스프레소</td>\n",
       "      <td>4000</td>\n",
       "      <td>20</td>\n",
       "      <td>코스타리카</td>\n",
       "      <td>NaN</td>\n",
       "    </tr>\n",
       "    <tr>\n",
       "      <th>5</th>\n",
       "      <td>밀크티</td>\n",
       "      <td>5900</td>\n",
       "      <td>210</td>\n",
       "      <td>코스타리카</td>\n",
       "      <td>NaN</td>\n",
       "    </tr>\n",
       "    <tr>\n",
       "      <th>6</th>\n",
       "      <td>녹차</td>\n",
       "      <td>5300</td>\n",
       "      <td>0</td>\n",
       "      <td>대한민국</td>\n",
       "      <td>NaN</td>\n",
       "    </tr>\n",
       "    <tr>\n",
       "      <th>7</th>\n",
       "      <td>딴짓커피</td>\n",
       "      <td>2000</td>\n",
       "      <td>20</td>\n",
       "      <td>코스타리카</td>\n",
       "      <td>NaN</td>\n",
       "    </tr>\n",
       "  </tbody>\n",
       "</table>\n",
       "</div>"
      ],
      "text/plain": [
       "      메뉴    가격  칼로리    원산지    이벤트가\n",
       "0  아메리카노  4500   10   콜롬비아     NaN\n",
       "1   카페라떼  5000  110  코스타리카  1000.0\n",
       "2   카페모카  5500  250   과테말라  1000.0\n",
       "3   카푸치노  5000  110   과테말라     NaN\n",
       "4  에스프레소  4000   20  코스타리카     NaN\n",
       "5    밀크티  5900  210  코스타리카     NaN\n",
       "6     녹차  5300    0   대한민국     NaN\n",
       "7   딴짓커피  2000   20  코스타리카     NaN"
      ]
     },
     "execution_count": 34,
     "metadata": {},
     "output_type": "execute_result"
    }
   ],
   "source": [
    "change = {'룽고' : '아메리카노', '그린티': '녹차'}\n",
    "df.replace(change, inplace = True)\n",
    "df"
   ]
  },
  {
   "cell_type": "code",
   "execution_count": 35,
   "id": "476054db",
   "metadata": {},
   "outputs": [
    {
     "data": {
      "text/html": [
       "<div>\n",
       "<style scoped>\n",
       "    .dataframe tbody tr th:only-of-type {\n",
       "        vertical-align: middle;\n",
       "    }\n",
       "\n",
       "    .dataframe tbody tr th {\n",
       "        vertical-align: top;\n",
       "    }\n",
       "\n",
       "    .dataframe thead th {\n",
       "        text-align: right;\n",
       "    }\n",
       "</style>\n",
       "<table border=\"1\" class=\"dataframe\">\n",
       "  <thead>\n",
       "    <tr style=\"text-align: right;\">\n",
       "      <th></th>\n",
       "      <th>메뉴</th>\n",
       "      <th>가격</th>\n",
       "      <th>칼로리</th>\n",
       "      <th>원산지</th>\n",
       "      <th>이벤트가</th>\n",
       "    </tr>\n",
       "  </thead>\n",
       "  <tbody>\n",
       "    <tr>\n",
       "      <th>0</th>\n",
       "      <td>아메리카노</td>\n",
       "      <td>4500</td>\n",
       "      <td>10</td>\n",
       "      <td>콜롬비아</td>\n",
       "      <td>NaN</td>\n",
       "    </tr>\n",
       "    <tr>\n",
       "      <th>1</th>\n",
       "      <td>카페라떼</td>\n",
       "      <td>5000</td>\n",
       "      <td>110</td>\n",
       "      <td>코스타리카</td>\n",
       "      <td>1000.0</td>\n",
       "    </tr>\n",
       "    <tr>\n",
       "      <th>2</th>\n",
       "      <td>카페모카</td>\n",
       "      <td>5500</td>\n",
       "      <td>250</td>\n",
       "      <td>과테말라</td>\n",
       "      <td>1000.0</td>\n",
       "    </tr>\n",
       "    <tr>\n",
       "      <th>3</th>\n",
       "      <td>카푸치노</td>\n",
       "      <td>5000</td>\n",
       "      <td>110</td>\n",
       "      <td>과테말라</td>\n",
       "      <td>NaN</td>\n",
       "    </tr>\n",
       "    <tr>\n",
       "      <th>4</th>\n",
       "      <td>에스프레소</td>\n",
       "      <td>4000</td>\n",
       "      <td>20</td>\n",
       "      <td>코스타리카</td>\n",
       "      <td>NaN</td>\n",
       "    </tr>\n",
       "    <tr>\n",
       "      <th>5</th>\n",
       "      <td>밀크티</td>\n",
       "      <td>5900</td>\n",
       "      <td>210</td>\n",
       "      <td>코스타리카</td>\n",
       "      <td>NaN</td>\n",
       "    </tr>\n",
       "    <tr>\n",
       "      <th>6</th>\n",
       "      <td>녹차</td>\n",
       "      <td>5300</td>\n",
       "      <td>0</td>\n",
       "      <td>대한민국</td>\n",
       "      <td>NaN</td>\n",
       "    </tr>\n",
       "    <tr>\n",
       "      <th>7</th>\n",
       "      <td>딴짓커피</td>\n",
       "      <td>2000</td>\n",
       "      <td>20</td>\n",
       "      <td>코스타리카</td>\n",
       "      <td>NaN</td>\n",
       "    </tr>\n",
       "  </tbody>\n",
       "</table>\n",
       "</div>"
      ],
      "text/plain": [
       "      메뉴    가격  칼로리    원산지    이벤트가\n",
       "0  아메리카노  4500   10   콜롬비아     NaN\n",
       "1   카페라떼  5000  110  코스타리카  1000.0\n",
       "2   카페모카  5500  250   과테말라  1000.0\n",
       "3   카푸치노  5000  110   과테말라     NaN\n",
       "4  에스프레소  4000   20  코스타리카     NaN\n",
       "5    밀크티  5900  210  코스타리카     NaN\n",
       "6     녹차  5300    0   대한민국     NaN\n",
       "7   딴짓커피  2000   20  코스타리카     NaN"
      ]
     },
     "execution_count": 35,
     "metadata": {},
     "output_type": "execute_result"
    }
   ],
   "source": [
    "df.loc[6,'원산지'] = '대한민국'\n",
    "df.loc[1:2,'이벤트가'] = 1000\n",
    "df.to_csv('cafe4.csv', index = False)\n",
    "df"
   ]
  },
  {
   "cell_type": "markdown",
   "id": "af5c50fa",
   "metadata": {},
   "source": [
    "## 14. 문자열"
   ]
  },
  {
   "cell_type": "code",
   "execution_count": 2,
   "id": "def95230",
   "metadata": {},
   "outputs": [
    {
     "data": {
      "text/html": [
       "<div>\n",
       "<style scoped>\n",
       "    .dataframe tbody tr th:only-of-type {\n",
       "        vertical-align: middle;\n",
       "    }\n",
       "\n",
       "    .dataframe tbody tr th {\n",
       "        vertical-align: top;\n",
       "    }\n",
       "\n",
       "    .dataframe thead th {\n",
       "        text-align: right;\n",
       "    }\n",
       "</style>\n",
       "<table border=\"1\" class=\"dataframe\">\n",
       "  <thead>\n",
       "    <tr style=\"text-align: right;\">\n",
       "      <th></th>\n",
       "      <th>A</th>\n",
       "      <th>B</th>\n",
       "      <th>C</th>\n",
       "    </tr>\n",
       "  </thead>\n",
       "  <tbody>\n",
       "    <tr>\n",
       "      <th>0</th>\n",
       "      <td>데이터 분석</td>\n",
       "      <td>10</td>\n",
       "      <td>ab cd</td>\n",
       "    </tr>\n",
       "    <tr>\n",
       "      <th>1</th>\n",
       "      <td>기본 학습서</td>\n",
       "      <td>20</td>\n",
       "      <td>AB CD</td>\n",
       "    </tr>\n",
       "    <tr>\n",
       "      <th>2</th>\n",
       "      <td>퇴근 후 열공</td>\n",
       "      <td>30</td>\n",
       "      <td>ab cd</td>\n",
       "    </tr>\n",
       "  </tbody>\n",
       "</table>\n",
       "</div>"
      ],
      "text/plain": [
       "         A   B       C\n",
       "0   데이터 분석  10   ab cd\n",
       "1   기본 학습서  20   AB CD\n",
       "2  퇴근 후 열공  30  ab cd "
      ]
     },
     "execution_count": 2,
     "metadata": {},
     "output_type": "execute_result"
    }
   ],
   "source": [
    "df = pd.DataFrame({'A' : ['데이터 분석', '기본 학습서', '퇴근 후 열공'],\n",
    "                   'B' : [10, 20, 30],\n",
    "                   'C' : ['ab cd', 'AB CD', 'ab cd ']})\n",
    "df['A'] = df['A'].replace('분석', '시각화')\n",
    "df"
   ]
  },
  {
   "cell_type": "code",
   "execution_count": 3,
   "id": "20e85cb1",
   "metadata": {},
   "outputs": [
    {
     "data": {
      "text/html": [
       "<div>\n",
       "<style scoped>\n",
       "    .dataframe tbody tr th:only-of-type {\n",
       "        vertical-align: middle;\n",
       "    }\n",
       "\n",
       "    .dataframe tbody tr th {\n",
       "        vertical-align: top;\n",
       "    }\n",
       "\n",
       "    .dataframe thead th {\n",
       "        text-align: right;\n",
       "    }\n",
       "</style>\n",
       "<table border=\"1\" class=\"dataframe\">\n",
       "  <thead>\n",
       "    <tr style=\"text-align: right;\">\n",
       "      <th></th>\n",
       "      <th>A</th>\n",
       "      <th>B</th>\n",
       "      <th>C</th>\n",
       "    </tr>\n",
       "  </thead>\n",
       "  <tbody>\n",
       "    <tr>\n",
       "      <th>0</th>\n",
       "      <td>데이터 시각화</td>\n",
       "      <td>10</td>\n",
       "      <td>ab cd</td>\n",
       "    </tr>\n",
       "    <tr>\n",
       "      <th>1</th>\n",
       "      <td>기본 학습서</td>\n",
       "      <td>20</td>\n",
       "      <td>AB CD</td>\n",
       "    </tr>\n",
       "    <tr>\n",
       "      <th>2</th>\n",
       "      <td>퇴근 후 열공</td>\n",
       "      <td>30</td>\n",
       "      <td>ab cd</td>\n",
       "    </tr>\n",
       "  </tbody>\n",
       "</table>\n",
       "</div>"
      ],
      "text/plain": [
       "         A   B       C\n",
       "0  데이터 시각화  10   ab cd\n",
       "1   기본 학습서  20   AB CD\n",
       "2  퇴근 후 열공  30  ab cd "
      ]
     },
     "execution_count": 3,
     "metadata": {},
     "output_type": "execute_result"
    }
   ],
   "source": [
    "df['A'] = df['A'].str.replace('분석', '시각화')\n",
    "df"
   ]
  },
  {
   "cell_type": "code",
   "execution_count": 4,
   "id": "d154f9d1",
   "metadata": {},
   "outputs": [
    {
     "ename": "AttributeError",
     "evalue": "Can only use .str accessor with string values!",
     "output_type": "error",
     "traceback": [
      "\u001b[1;31m---------------------------------------------------------------------------\u001b[0m",
      "\u001b[1;31mAttributeError\u001b[0m                            Traceback (most recent call last)",
      "Cell \u001b[1;32mIn[4], line 1\u001b[0m\n\u001b[1;32m----> 1\u001b[0m df[\u001b[38;5;124m'\u001b[39m\u001b[38;5;124mB\u001b[39m\u001b[38;5;124m'\u001b[39m] \u001b[38;5;241m=\u001b[39m \u001b[43mdf\u001b[49m\u001b[43m[\u001b[49m\u001b[38;5;124;43m'\u001b[39;49m\u001b[38;5;124;43mB\u001b[39;49m\u001b[38;5;124;43m'\u001b[39;49m\u001b[43m]\u001b[49m\u001b[38;5;241;43m.\u001b[39;49m\u001b[43mstr\u001b[49m\u001b[38;5;241m.\u001b[39mreplace(\u001b[38;5;241m10\u001b[39m, \u001b[38;5;241m100\u001b[39m)\n\u001b[0;32m      2\u001b[0m df\n",
      "File \u001b[1;32m~\\miniconda3\\lib\\site-packages\\pandas\\core\\generic.py:5989\u001b[0m, in \u001b[0;36mNDFrame.__getattr__\u001b[1;34m(self, name)\u001b[0m\n\u001b[0;32m   5982\u001b[0m \u001b[38;5;28;01mif\u001b[39;00m (\n\u001b[0;32m   5983\u001b[0m     name \u001b[38;5;129;01mnot\u001b[39;00m \u001b[38;5;129;01min\u001b[39;00m \u001b[38;5;28mself\u001b[39m\u001b[38;5;241m.\u001b[39m_internal_names_set\n\u001b[0;32m   5984\u001b[0m     \u001b[38;5;129;01mand\u001b[39;00m name \u001b[38;5;129;01mnot\u001b[39;00m \u001b[38;5;129;01min\u001b[39;00m \u001b[38;5;28mself\u001b[39m\u001b[38;5;241m.\u001b[39m_metadata\n\u001b[0;32m   5985\u001b[0m     \u001b[38;5;129;01mand\u001b[39;00m name \u001b[38;5;129;01mnot\u001b[39;00m \u001b[38;5;129;01min\u001b[39;00m \u001b[38;5;28mself\u001b[39m\u001b[38;5;241m.\u001b[39m_accessors\n\u001b[0;32m   5986\u001b[0m     \u001b[38;5;129;01mand\u001b[39;00m \u001b[38;5;28mself\u001b[39m\u001b[38;5;241m.\u001b[39m_info_axis\u001b[38;5;241m.\u001b[39m_can_hold_identifiers_and_holds_name(name)\n\u001b[0;32m   5987\u001b[0m ):\n\u001b[0;32m   5988\u001b[0m     \u001b[38;5;28;01mreturn\u001b[39;00m \u001b[38;5;28mself\u001b[39m[name]\n\u001b[1;32m-> 5989\u001b[0m \u001b[38;5;28;01mreturn\u001b[39;00m \u001b[38;5;28;43mobject\u001b[39;49m\u001b[38;5;241;43m.\u001b[39;49m\u001b[38;5;21;43m__getattribute__\u001b[39;49m\u001b[43m(\u001b[49m\u001b[38;5;28;43mself\u001b[39;49m\u001b[43m,\u001b[49m\u001b[43m \u001b[49m\u001b[43mname\u001b[49m\u001b[43m)\u001b[49m\n",
      "File \u001b[1;32m~\\miniconda3\\lib\\site-packages\\pandas\\core\\accessor.py:224\u001b[0m, in \u001b[0;36mCachedAccessor.__get__\u001b[1;34m(self, obj, cls)\u001b[0m\n\u001b[0;32m    221\u001b[0m \u001b[38;5;28;01mif\u001b[39;00m obj \u001b[38;5;129;01mis\u001b[39;00m \u001b[38;5;28;01mNone\u001b[39;00m:\n\u001b[0;32m    222\u001b[0m     \u001b[38;5;66;03m# we're accessing the attribute of the class, i.e., Dataset.geo\u001b[39;00m\n\u001b[0;32m    223\u001b[0m     \u001b[38;5;28;01mreturn\u001b[39;00m \u001b[38;5;28mself\u001b[39m\u001b[38;5;241m.\u001b[39m_accessor\n\u001b[1;32m--> 224\u001b[0m accessor_obj \u001b[38;5;241m=\u001b[39m \u001b[38;5;28;43mself\u001b[39;49m\u001b[38;5;241;43m.\u001b[39;49m\u001b[43m_accessor\u001b[49m\u001b[43m(\u001b[49m\u001b[43mobj\u001b[49m\u001b[43m)\u001b[49m\n\u001b[0;32m    225\u001b[0m \u001b[38;5;66;03m# Replace the property with the accessor object. Inspired by:\u001b[39;00m\n\u001b[0;32m    226\u001b[0m \u001b[38;5;66;03m# https://www.pydanny.com/cached-property.html\u001b[39;00m\n\u001b[0;32m    227\u001b[0m \u001b[38;5;66;03m# We need to use object.__setattr__ because we overwrite __setattr__ on\u001b[39;00m\n\u001b[0;32m    228\u001b[0m \u001b[38;5;66;03m# NDFrame\u001b[39;00m\n\u001b[0;32m    229\u001b[0m \u001b[38;5;28mobject\u001b[39m\u001b[38;5;241m.\u001b[39m\u001b[38;5;21m__setattr__\u001b[39m(obj, \u001b[38;5;28mself\u001b[39m\u001b[38;5;241m.\u001b[39m_name, accessor_obj)\n",
      "File \u001b[1;32m~\\miniconda3\\lib\\site-packages\\pandas\\core\\strings\\accessor.py:181\u001b[0m, in \u001b[0;36mStringMethods.__init__\u001b[1;34m(self, data)\u001b[0m\n\u001b[0;32m    178\u001b[0m \u001b[38;5;28;01mdef\u001b[39;00m \u001b[38;5;21m__init__\u001b[39m(\u001b[38;5;28mself\u001b[39m, data) \u001b[38;5;241m-\u001b[39m\u001b[38;5;241m>\u001b[39m \u001b[38;5;28;01mNone\u001b[39;00m:\n\u001b[0;32m    179\u001b[0m     \u001b[38;5;28;01mfrom\u001b[39;00m \u001b[38;5;21;01mpandas\u001b[39;00m\u001b[38;5;21;01m.\u001b[39;00m\u001b[38;5;21;01mcore\u001b[39;00m\u001b[38;5;21;01m.\u001b[39;00m\u001b[38;5;21;01marrays\u001b[39;00m\u001b[38;5;21;01m.\u001b[39;00m\u001b[38;5;21;01mstring_\u001b[39;00m \u001b[38;5;28;01mimport\u001b[39;00m StringDtype\n\u001b[1;32m--> 181\u001b[0m     \u001b[38;5;28mself\u001b[39m\u001b[38;5;241m.\u001b[39m_inferred_dtype \u001b[38;5;241m=\u001b[39m \u001b[38;5;28;43mself\u001b[39;49m\u001b[38;5;241;43m.\u001b[39;49m\u001b[43m_validate\u001b[49m\u001b[43m(\u001b[49m\u001b[43mdata\u001b[49m\u001b[43m)\u001b[49m\n\u001b[0;32m    182\u001b[0m     \u001b[38;5;28mself\u001b[39m\u001b[38;5;241m.\u001b[39m_is_categorical \u001b[38;5;241m=\u001b[39m is_categorical_dtype(data\u001b[38;5;241m.\u001b[39mdtype)\n\u001b[0;32m    183\u001b[0m     \u001b[38;5;28mself\u001b[39m\u001b[38;5;241m.\u001b[39m_is_string \u001b[38;5;241m=\u001b[39m \u001b[38;5;28misinstance\u001b[39m(data\u001b[38;5;241m.\u001b[39mdtype, StringDtype)\n",
      "File \u001b[1;32m~\\miniconda3\\lib\\site-packages\\pandas\\core\\strings\\accessor.py:235\u001b[0m, in \u001b[0;36mStringMethods._validate\u001b[1;34m(data)\u001b[0m\n\u001b[0;32m    232\u001b[0m inferred_dtype \u001b[38;5;241m=\u001b[39m lib\u001b[38;5;241m.\u001b[39minfer_dtype(values, skipna\u001b[38;5;241m=\u001b[39m\u001b[38;5;28;01mTrue\u001b[39;00m)\n\u001b[0;32m    234\u001b[0m \u001b[38;5;28;01mif\u001b[39;00m inferred_dtype \u001b[38;5;129;01mnot\u001b[39;00m \u001b[38;5;129;01min\u001b[39;00m allowed_types:\n\u001b[1;32m--> 235\u001b[0m     \u001b[38;5;28;01mraise\u001b[39;00m \u001b[38;5;167;01mAttributeError\u001b[39;00m(\u001b[38;5;124m\"\u001b[39m\u001b[38;5;124mCan only use .str accessor with string values!\u001b[39m\u001b[38;5;124m\"\u001b[39m)\n\u001b[0;32m    236\u001b[0m \u001b[38;5;28;01mreturn\u001b[39;00m inferred_dtype\n",
      "\u001b[1;31mAttributeError\u001b[0m: Can only use .str accessor with string values!"
     ]
    }
   ],
   "source": [
    "df['B'] = df['B'].str.replace(10, 100)\n",
    "df"
   ]
  },
  {
   "cell_type": "code",
   "execution_count": 6,
   "id": "1c29f1d3",
   "metadata": {},
   "outputs": [
    {
     "name": "stdout",
     "output_type": "stream",
     "text": [
      "0     [데이터, 시각화]\n",
      "1      [기본, 학습서]\n",
      "2    [퇴근, 후, 열공]\n",
      "Name: A, dtype: object\n"
     ]
    },
    {
     "data": {
      "text/plain": [
       "['데이터', '시각화']"
      ]
     },
     "execution_count": 6,
     "metadata": {},
     "output_type": "execute_result"
    }
   ],
   "source": [
    "print(df['A'].str.split())\n",
    "df['A'].str.split()[0]"
   ]
  },
  {
   "cell_type": "code",
   "execution_count": 13,
   "id": "847c60ab",
   "metadata": {},
   "outputs": [
    {
     "data": {
      "text/html": [
       "<div>\n",
       "<style scoped>\n",
       "    .dataframe tbody tr th:only-of-type {\n",
       "        vertical-align: middle;\n",
       "    }\n",
       "\n",
       "    .dataframe tbody tr th {\n",
       "        vertical-align: top;\n",
       "    }\n",
       "\n",
       "    .dataframe thead th {\n",
       "        text-align: right;\n",
       "    }\n",
       "</style>\n",
       "<table border=\"1\" class=\"dataframe\">\n",
       "  <thead>\n",
       "    <tr style=\"text-align: right;\">\n",
       "      <th></th>\n",
       "      <th>A</th>\n",
       "      <th>B</th>\n",
       "      <th>C</th>\n",
       "      <th>D</th>\n",
       "    </tr>\n",
       "  </thead>\n",
       "  <tbody>\n",
       "    <tr>\n",
       "      <th>0</th>\n",
       "      <td>데이터 시각화</td>\n",
       "      <td>10</td>\n",
       "      <td>ab cd</td>\n",
       "      <td>데이터</td>\n",
       "    </tr>\n",
       "    <tr>\n",
       "      <th>1</th>\n",
       "      <td>기본 학습서</td>\n",
       "      <td>20</td>\n",
       "      <td>AB CD</td>\n",
       "      <td>기본</td>\n",
       "    </tr>\n",
       "    <tr>\n",
       "      <th>2</th>\n",
       "      <td>퇴근 후 열공</td>\n",
       "      <td>30</td>\n",
       "      <td>ab cd</td>\n",
       "      <td>퇴근</td>\n",
       "    </tr>\n",
       "  </tbody>\n",
       "</table>\n",
       "</div>"
      ],
      "text/plain": [
       "         A   B       C    D\n",
       "0  데이터 시각화  10   ab cd  데이터\n",
       "1   기본 학습서  20   AB CD   기본\n",
       "2  퇴근 후 열공  30  ab cd    퇴근"
      ]
     },
     "execution_count": 13,
     "metadata": {},
     "output_type": "execute_result"
    }
   ],
   "source": [
    "df['D']  = df['A'].str.split().str[0]\n",
    "df"
   ]
  },
  {
   "cell_type": "code",
   "execution_count": 14,
   "id": "d2e34740",
   "metadata": {},
   "outputs": [
    {
     "name": "stdout",
     "output_type": "stream",
     "text": [
      "0    False\n",
      "1     True\n",
      "2    False\n",
      "Name: A, dtype: bool\n"
     ]
    },
    {
     "data": {
      "text/html": [
       "<div>\n",
       "<style scoped>\n",
       "    .dataframe tbody tr th:only-of-type {\n",
       "        vertical-align: middle;\n",
       "    }\n",
       "\n",
       "    .dataframe tbody tr th {\n",
       "        vertical-align: top;\n",
       "    }\n",
       "\n",
       "    .dataframe thead th {\n",
       "        text-align: right;\n",
       "    }\n",
       "</style>\n",
       "<table border=\"1\" class=\"dataframe\">\n",
       "  <thead>\n",
       "    <tr style=\"text-align: right;\">\n",
       "      <th></th>\n",
       "      <th>A</th>\n",
       "      <th>B</th>\n",
       "      <th>C</th>\n",
       "      <th>D</th>\n",
       "      <th>기본포함유무</th>\n",
       "    </tr>\n",
       "  </thead>\n",
       "  <tbody>\n",
       "    <tr>\n",
       "      <th>0</th>\n",
       "      <td>데이터 시각화</td>\n",
       "      <td>10</td>\n",
       "      <td>ab cd</td>\n",
       "      <td>데이터</td>\n",
       "      <td>False</td>\n",
       "    </tr>\n",
       "    <tr>\n",
       "      <th>1</th>\n",
       "      <td>기본 학습서</td>\n",
       "      <td>20</td>\n",
       "      <td>AB CD</td>\n",
       "      <td>기본</td>\n",
       "      <td>True</td>\n",
       "    </tr>\n",
       "    <tr>\n",
       "      <th>2</th>\n",
       "      <td>퇴근 후 열공</td>\n",
       "      <td>30</td>\n",
       "      <td>ab cd</td>\n",
       "      <td>퇴근</td>\n",
       "      <td>False</td>\n",
       "    </tr>\n",
       "  </tbody>\n",
       "</table>\n",
       "</div>"
      ],
      "text/plain": [
       "         A   B       C    D  기본포함유무\n",
       "0  데이터 시각화  10   ab cd  데이터   False\n",
       "1   기본 학습서  20   AB CD   기본    True\n",
       "2  퇴근 후 열공  30  ab cd    퇴근   False"
      ]
     },
     "execution_count": 14,
     "metadata": {},
     "output_type": "execute_result"
    }
   ],
   "source": [
    "print(df['A'].str.contains('기본'))\n",
    "df['기본포함유무'] = df['A'].str.contains('기본')\n",
    "df"
   ]
  },
  {
   "cell_type": "code",
   "execution_count": 16,
   "id": "dd3ce21c",
   "metadata": {},
   "outputs": [
    {
     "name": "stdout",
     "output_type": "stream",
     "text": [
      "0     True\n",
      "1    False\n",
      "2     True\n",
      "dtype: bool\n"
     ]
    },
    {
     "data": {
      "text/plain": [
       "0     True\n",
       "1    False\n",
       "2    False\n",
       "dtype: bool"
      ]
     },
     "execution_count": 16,
     "metadata": {},
     "output_type": "execute_result"
    }
   ],
   "source": [
    "menu = pd.Series(['맛난버거 세트', '매운 치킨버거', '더블 치즈버거'])\n",
    "print(menu.isin(['맛난버거 세트', '더블 치즈버거']))\n",
    "menu.str.contains('세트')\n"
   ]
  },
  {
   "cell_type": "code",
   "execution_count": 17,
   "id": "4bbc67f0",
   "metadata": {},
   "outputs": [
    {
     "data": {
      "text/html": [
       "<div>\n",
       "<style scoped>\n",
       "    .dataframe tbody tr th:only-of-type {\n",
       "        vertical-align: middle;\n",
       "    }\n",
       "\n",
       "    .dataframe tbody tr th {\n",
       "        vertical-align: top;\n",
       "    }\n",
       "\n",
       "    .dataframe thead th {\n",
       "        text-align: right;\n",
       "    }\n",
       "</style>\n",
       "<table border=\"1\" class=\"dataframe\">\n",
       "  <thead>\n",
       "    <tr style=\"text-align: right;\">\n",
       "      <th></th>\n",
       "      <th>A</th>\n",
       "      <th>B</th>\n",
       "      <th>C</th>\n",
       "      <th>D</th>\n",
       "      <th>기본포함유무</th>\n",
       "      <th>문자길이</th>\n",
       "    </tr>\n",
       "  </thead>\n",
       "  <tbody>\n",
       "    <tr>\n",
       "      <th>0</th>\n",
       "      <td>데이터 시각화</td>\n",
       "      <td>10</td>\n",
       "      <td>ab cd</td>\n",
       "      <td>데이터</td>\n",
       "      <td>False</td>\n",
       "      <td>7</td>\n",
       "    </tr>\n",
       "    <tr>\n",
       "      <th>1</th>\n",
       "      <td>기본 학습서</td>\n",
       "      <td>20</td>\n",
       "      <td>AB CD</td>\n",
       "      <td>기본</td>\n",
       "      <td>True</td>\n",
       "      <td>6</td>\n",
       "    </tr>\n",
       "    <tr>\n",
       "      <th>2</th>\n",
       "      <td>퇴근 후 열공</td>\n",
       "      <td>30</td>\n",
       "      <td>ab cd</td>\n",
       "      <td>퇴근</td>\n",
       "      <td>False</td>\n",
       "      <td>7</td>\n",
       "    </tr>\n",
       "  </tbody>\n",
       "</table>\n",
       "</div>"
      ],
      "text/plain": [
       "         A   B       C    D  기본포함유무  문자길이\n",
       "0  데이터 시각화  10   ab cd  데이터   False     7\n",
       "1   기본 학습서  20   AB CD   기본    True     6\n",
       "2  퇴근 후 열공  30  ab cd    퇴근   False     7"
      ]
     },
     "execution_count": 17,
     "metadata": {},
     "output_type": "execute_result"
    }
   ],
   "source": [
    "df['문자길이'] = df['A'].str.len()\n",
    "df"
   ]
  },
  {
   "cell_type": "code",
   "execution_count": 18,
   "id": "b5164f83",
   "metadata": {},
   "outputs": [
    {
     "name": "stdout",
     "output_type": "stream",
     "text": [
      "0     ab cd\n",
      "1     ab cd\n",
      "2    ab cd \n",
      "Name: C, dtype: object\n",
      "0     AB CD\n",
      "1     AB CD\n",
      "2    AB CD \n",
      "Name: C, dtype: object\n"
     ]
    }
   ],
   "source": [
    "df['C'] = df['C'].str.lower()\n",
    "print(df['C'])\n",
    "df['C'] = df['C'].str.upper()\n",
    "print(df['C'])"
   ]
  },
  {
   "cell_type": "code",
   "execution_count": 20,
   "id": "95ce4cce",
   "metadata": {},
   "outputs": [
    {
     "name": "stdout",
     "output_type": "stream",
     "text": [
      "0     True\n",
      "1     True\n",
      "2    False\n",
      "Name: C, dtype: bool\n"
     ]
    },
    {
     "data": {
      "text/plain": [
       "0    abcd\n",
       "1    abcd\n",
       "2    abcd\n",
       "Name: C, dtype: object"
      ]
     },
     "execution_count": 20,
     "metadata": {},
     "output_type": "execute_result"
    }
   ],
   "source": [
    "print(df['C'] == 'AB CD')\n",
    "df['C'] = df['C'].str.lower()\n",
    "df['C'] = df['C'].str.replace(\" \", \"\")\n",
    "df['C']"
   ]
  },
  {
   "cell_type": "code",
   "execution_count": 21,
   "id": "7acdb97f",
   "metadata": {},
   "outputs": [
    {
     "name": "stdout",
     "output_type": "stream",
     "text": [
      "0    bc\n",
      "1    bc\n",
      "2    bc\n",
      "Name: C, dtype: object\n"
     ]
    },
    {
     "data": {
      "text/plain": [
       "1    abcd\n",
       "2    abcd\n",
       "Name: C, dtype: object"
      ]
     },
     "execution_count": 21,
     "metadata": {},
     "output_type": "execute_result"
    }
   ],
   "source": [
    "print(df['C'].str[1:3])\n",
    "df['C'][1:3]"
   ]
  },
  {
   "cell_type": "markdown",
   "id": "7972321f",
   "metadata": {},
   "source": [
    "## 15. 내장 함수"
   ]
  },
  {
   "cell_type": "code",
   "execution_count": 22,
   "id": "b112414e",
   "metadata": {},
   "outputs": [
    {
     "name": "stdout",
     "output_type": "stream",
     "text": [
      "8\n",
      "8\n"
     ]
    }
   ],
   "source": [
    "df = pd.read_csv('cafe4.csv')\n",
    "print(len(df))\n",
    "print(df.shape[0])"
   ]
  },
  {
   "cell_type": "code",
   "execution_count": 23,
   "id": "c78946b9",
   "metadata": {},
   "outputs": [
    {
     "name": "stdout",
     "output_type": "stream",
     "text": [
      "3\n",
      "3\n"
     ]
    }
   ],
   "source": [
    "cond = df['가격'] > 5000\n",
    "print(sum(cond))\n",
    "print(len(df[cond]))"
   ]
  },
  {
   "cell_type": "code",
   "execution_count": 24,
   "id": "58f0d70a",
   "metadata": {},
   "outputs": [
    {
     "data": {
      "text/plain": [
       "가격      37200.0\n",
       "칼로리       730.0\n",
       "이벤트가     2000.0\n",
       "dtype: float64"
      ]
     },
     "execution_count": 24,
     "metadata": {},
     "output_type": "execute_result"
    }
   ],
   "source": [
    "df.sum(numeric_only = True)"
   ]
  },
  {
   "cell_type": "code",
   "execution_count": 25,
   "id": "6e379891",
   "metadata": {},
   "outputs": [
    {
     "data": {
      "text/html": [
       "<div>\n",
       "<style scoped>\n",
       "    .dataframe tbody tr th:only-of-type {\n",
       "        vertical-align: middle;\n",
       "    }\n",
       "\n",
       "    .dataframe tbody tr th {\n",
       "        vertical-align: top;\n",
       "    }\n",
       "\n",
       "    .dataframe thead th {\n",
       "        text-align: right;\n",
       "    }\n",
       "</style>\n",
       "<table border=\"1\" class=\"dataframe\">\n",
       "  <thead>\n",
       "    <tr style=\"text-align: right;\">\n",
       "      <th></th>\n",
       "      <th>0</th>\n",
       "      <th>1</th>\n",
       "      <th>2</th>\n",
       "      <th>3</th>\n",
       "      <th>4</th>\n",
       "      <th>5</th>\n",
       "      <th>6</th>\n",
       "      <th>7</th>\n",
       "    </tr>\n",
       "  </thead>\n",
       "  <tbody>\n",
       "    <tr>\n",
       "      <th>메뉴</th>\n",
       "      <td>아메리카노</td>\n",
       "      <td>카페라떼</td>\n",
       "      <td>카페모카</td>\n",
       "      <td>카푸치노</td>\n",
       "      <td>에스프레소</td>\n",
       "      <td>밀크티</td>\n",
       "      <td>녹차</td>\n",
       "      <td>딴짓커피</td>\n",
       "    </tr>\n",
       "    <tr>\n",
       "      <th>가격</th>\n",
       "      <td>4500</td>\n",
       "      <td>5000</td>\n",
       "      <td>5500</td>\n",
       "      <td>5000</td>\n",
       "      <td>4000</td>\n",
       "      <td>5900</td>\n",
       "      <td>5300</td>\n",
       "      <td>2000</td>\n",
       "    </tr>\n",
       "    <tr>\n",
       "      <th>칼로리</th>\n",
       "      <td>10</td>\n",
       "      <td>110</td>\n",
       "      <td>250</td>\n",
       "      <td>110</td>\n",
       "      <td>20</td>\n",
       "      <td>210</td>\n",
       "      <td>0</td>\n",
       "      <td>20</td>\n",
       "    </tr>\n",
       "    <tr>\n",
       "      <th>원산지</th>\n",
       "      <td>콜롬비아</td>\n",
       "      <td>코스타리카</td>\n",
       "      <td>과테말라</td>\n",
       "      <td>과테말라</td>\n",
       "      <td>코스타리카</td>\n",
       "      <td>코스타리카</td>\n",
       "      <td>대한민국</td>\n",
       "      <td>코스타리카</td>\n",
       "    </tr>\n",
       "    <tr>\n",
       "      <th>이벤트가</th>\n",
       "      <td>NaN</td>\n",
       "      <td>1000.0</td>\n",
       "      <td>1000.0</td>\n",
       "      <td>NaN</td>\n",
       "      <td>NaN</td>\n",
       "      <td>NaN</td>\n",
       "      <td>NaN</td>\n",
       "      <td>NaN</td>\n",
       "    </tr>\n",
       "  </tbody>\n",
       "</table>\n",
       "</div>"
      ],
      "text/plain": [
       "          0       1       2     3      4      5     6      7\n",
       "메뉴    아메리카노    카페라떼    카페모카  카푸치노  에스프레소    밀크티    녹차   딴짓커피\n",
       "가격     4500    5000    5500  5000   4000   5900  5300   2000\n",
       "칼로리      10     110     250   110     20    210     0     20\n",
       "원산지    콜롬비아   코스타리카    과테말라  과테말라  코스타리카  코스타리카  대한민국  코스타리카\n",
       "이벤트가    NaN  1000.0  1000.0   NaN    NaN    NaN   NaN    NaN"
      ]
     },
     "execution_count": 25,
     "metadata": {},
     "output_type": "execute_result"
    }
   ],
   "source": [
    "df.T"
   ]
  },
  {
   "cell_type": "code",
   "execution_count": 26,
   "id": "3e13ee56",
   "metadata": {},
   "outputs": [
    {
     "data": {
      "text/html": [
       "<div>\n",
       "<style scoped>\n",
       "    .dataframe tbody tr th:only-of-type {\n",
       "        vertical-align: middle;\n",
       "    }\n",
       "\n",
       "    .dataframe tbody tr th {\n",
       "        vertical-align: top;\n",
       "    }\n",
       "\n",
       "    .dataframe thead th {\n",
       "        text-align: right;\n",
       "    }\n",
       "</style>\n",
       "<table border=\"1\" class=\"dataframe\">\n",
       "  <thead>\n",
       "    <tr style=\"text-align: right;\">\n",
       "      <th></th>\n",
       "      <th>메뉴</th>\n",
       "      <th>가격</th>\n",
       "      <th>칼로리</th>\n",
       "      <th>원산지</th>\n",
       "      <th>이벤트가</th>\n",
       "    </tr>\n",
       "  </thead>\n",
       "  <tbody>\n",
       "    <tr>\n",
       "      <th>0</th>\n",
       "      <td>아메리카노</td>\n",
       "      <td>4500</td>\n",
       "      <td>10</td>\n",
       "      <td>콜롬비아</td>\n",
       "      <td>NaN</td>\n",
       "    </tr>\n",
       "    <tr>\n",
       "      <th>1</th>\n",
       "      <td>카페라떼</td>\n",
       "      <td>5000</td>\n",
       "      <td>110</td>\n",
       "      <td>코스타리카</td>\n",
       "      <td>1000.0</td>\n",
       "    </tr>\n",
       "    <tr>\n",
       "      <th>2</th>\n",
       "      <td>카페모카</td>\n",
       "      <td>5500</td>\n",
       "      <td>250</td>\n",
       "      <td>과테말라</td>\n",
       "      <td>1000.0</td>\n",
       "    </tr>\n",
       "    <tr>\n",
       "      <th>3</th>\n",
       "      <td>카푸치노</td>\n",
       "      <td>5000</td>\n",
       "      <td>110</td>\n",
       "      <td>과테말라</td>\n",
       "      <td>NaN</td>\n",
       "    </tr>\n",
       "    <tr>\n",
       "      <th>4</th>\n",
       "      <td>에스프레소</td>\n",
       "      <td>4000</td>\n",
       "      <td>20</td>\n",
       "      <td>코스타리카</td>\n",
       "      <td>NaN</td>\n",
       "    </tr>\n",
       "    <tr>\n",
       "      <th>5</th>\n",
       "      <td>밀크티</td>\n",
       "      <td>5900</td>\n",
       "      <td>210</td>\n",
       "      <td>코스타리카</td>\n",
       "      <td>NaN</td>\n",
       "    </tr>\n",
       "    <tr>\n",
       "      <th>6</th>\n",
       "      <td>녹차</td>\n",
       "      <td>5300</td>\n",
       "      <td>0</td>\n",
       "      <td>대한민국</td>\n",
       "      <td>NaN</td>\n",
       "    </tr>\n",
       "    <tr>\n",
       "      <th>7</th>\n",
       "      <td>딴짓커피</td>\n",
       "      <td>2000</td>\n",
       "      <td>20</td>\n",
       "      <td>코스타리카</td>\n",
       "      <td>NaN</td>\n",
       "    </tr>\n",
       "  </tbody>\n",
       "</table>\n",
       "</div>"
      ],
      "text/plain": [
       "      메뉴    가격  칼로리    원산지    이벤트가\n",
       "0  아메리카노  4500   10   콜롬비아     NaN\n",
       "1   카페라떼  5000  110  코스타리카  1000.0\n",
       "2   카페모카  5500  250   과테말라  1000.0\n",
       "3   카푸치노  5000  110   과테말라     NaN\n",
       "4  에스프레소  4000   20  코스타리카     NaN\n",
       "5    밀크티  5900  210  코스타리카     NaN\n",
       "6     녹차  5300    0   대한민국     NaN\n",
       "7   딴짓커피  2000   20  코스타리카     NaN"
      ]
     },
     "execution_count": 26,
     "metadata": {},
     "output_type": "execute_result"
    }
   ],
   "source": [
    "df"
   ]
  },
  {
   "cell_type": "code",
   "execution_count": 27,
   "id": "d55dcf0e",
   "metadata": {},
   "outputs": [
    {
     "data": {
      "text/plain": [
       "0    4510.0\n",
       "1    6110.0\n",
       "2    6750.0\n",
       "3    5110.0\n",
       "4    4020.0\n",
       "5    6110.0\n",
       "6    5300.0\n",
       "7    2020.0\n",
       "dtype: float64"
      ]
     },
     "execution_count": 27,
     "metadata": {},
     "output_type": "execute_result"
    }
   ],
   "source": [
    "df.sum(axis =1, numeric_only = True)"
   ]
  },
  {
   "cell_type": "code",
   "execution_count": 29,
   "id": "c6e63bf0",
   "metadata": {},
   "outputs": [
    {
     "name": "stdout",
     "output_type": "stream",
     "text": [
      "5900\n",
      "2000\n",
      "4650.0\n",
      "5000.0\n",
      "37200\n",
      "1220.070255588353\n",
      "1488571.4285714286\n"
     ]
    }
   ],
   "source": [
    "print(df['가격'].max())\n",
    "print(df['가격'].min())\n",
    "print(df['가격'].mean())\n",
    "print(df['가격'].median())\n",
    "print(df['가격'].sum())\n",
    "print(df['가격'].std())\n",
    "print(df['가격'].var())"
   ]
  },
  {
   "cell_type": "code",
   "execution_count": 31,
   "id": "909968b4",
   "metadata": {},
   "outputs": [
    {
     "name": "stdout",
     "output_type": "stream",
     "text": [
      "4375.0\n"
     ]
    },
    {
     "data": {
      "text/plain": [
       "5350.0"
      ]
     },
     "execution_count": 31,
     "metadata": {},
     "output_type": "execute_result"
    }
   ],
   "source": [
    "print(df['가격'].quantile(0.25))\n",
    "df['가격'].quantile(0.75)"
   ]
  },
  {
   "cell_type": "code",
   "execution_count": 32,
   "id": "a740885a",
   "metadata": {},
   "outputs": [
    {
     "name": "stdout",
     "output_type": "stream",
     "text": [
      "      메뉴    가격  칼로리    원산지  이벤트가\n",
      "4  에스프레소  4000   20  코스타리카   NaN\n",
      "7   딴짓커피  2000   20  코스타리카   NaN\n",
      "     메뉴    가격  칼로리    원산지    이벤트가\n",
      "2  카페모카  5500  250   과테말라  1000.0\n",
      "5   밀크티  5900  210  코스타리카     NaN\n"
     ]
    }
   ],
   "source": [
    "cond = df['가격'] < df['가격'].quantile(.25)\n",
    "print(df[cond])\n",
    "cond2 = df['가격'] > df['가격'].quantile(0.75)\n",
    "print(df[cond2])"
   ]
  },
  {
   "cell_type": "code",
   "execution_count": 8,
   "id": "5ec85d4d",
   "metadata": {},
   "outputs": [
    {
     "data": {
      "text/plain": [
       "'코스타리카'"
      ]
     },
     "execution_count": 8,
     "metadata": {},
     "output_type": "execute_result"
    }
   ],
   "source": [
    "df['원산지'].mode()[0]"
   ]
  },
  {
   "cell_type": "code",
   "execution_count": 9,
   "id": "43a44944",
   "metadata": {},
   "outputs": [
    {
     "name": "stdout",
     "output_type": "stream",
     "text": [
      "5\n",
      "밀크티\n"
     ]
    },
    {
     "data": {
      "text/plain": [
       "'밀크티'"
      ]
     },
     "execution_count": 9,
     "metadata": {},
     "output_type": "execute_result"
    }
   ],
   "source": [
    "print(df['가격'].idxmax())\n",
    "max_idx = df['가격'].idxmax()\n",
    "print(df.loc[max_idx,'메뉴'])\n",
    "df.loc[max_idx]['메뉴']"
   ]
  },
  {
   "cell_type": "code",
   "execution_count": 10,
   "id": "ee3cc205",
   "metadata": {},
   "outputs": [
    {
     "name": "stdout",
     "output_type": "stream",
     "text": [
      "     메뉴    가격  칼로리    원산지    이벤트가\n",
      "5   밀크티  5900  210  코스타리카     NaN\n",
      "2  카페모카  5500  250   과테말라  1000.0\n",
      "6    녹차  5300    0   대한민국     NaN\n",
      "      메뉴    가격  칼로리    원산지  이벤트가\n",
      "7   딴짓커피  2000   20  코스타리카   NaN\n",
      "4  에스프레소  4000   20  코스타리카   NaN\n"
     ]
    }
   ],
   "source": [
    "print(df.nlargest(3,'가격'))\n",
    "print(df.nsmallest(2,'가격'))"
   ]
  },
  {
   "cell_type": "code",
   "execution_count": 15,
   "id": "81874b5e",
   "metadata": {},
   "outputs": [
    {
     "data": {
      "text/html": [
       "<div>\n",
       "<style scoped>\n",
       "    .dataframe tbody tr th:only-of-type {\n",
       "        vertical-align: middle;\n",
       "    }\n",
       "\n",
       "    .dataframe tbody tr th {\n",
       "        vertical-align: top;\n",
       "    }\n",
       "\n",
       "    .dataframe thead th {\n",
       "        text-align: right;\n",
       "    }\n",
       "</style>\n",
       "<table border=\"1\" class=\"dataframe\">\n",
       "  <thead>\n",
       "    <tr style=\"text-align: right;\">\n",
       "      <th></th>\n",
       "      <th>메뉴</th>\n",
       "      <th>가격</th>\n",
       "      <th>칼로리</th>\n",
       "      <th>원산지</th>\n",
       "      <th>이벤트가</th>\n",
       "      <th>먹어도 될까요?</th>\n",
       "    </tr>\n",
       "  </thead>\n",
       "  <tbody>\n",
       "    <tr>\n",
       "      <th>0</th>\n",
       "      <td>아메리카노</td>\n",
       "      <td>4500</td>\n",
       "      <td>10</td>\n",
       "      <td>콜롬비아</td>\n",
       "      <td>NaN</td>\n",
       "      <td>Yes</td>\n",
       "    </tr>\n",
       "    <tr>\n",
       "      <th>1</th>\n",
       "      <td>카페라떼</td>\n",
       "      <td>5000</td>\n",
       "      <td>110</td>\n",
       "      <td>코스타리카</td>\n",
       "      <td>1000.0</td>\n",
       "      <td>No</td>\n",
       "    </tr>\n",
       "    <tr>\n",
       "      <th>2</th>\n",
       "      <td>카페모카</td>\n",
       "      <td>5500</td>\n",
       "      <td>250</td>\n",
       "      <td>과테말라</td>\n",
       "      <td>1000.0</td>\n",
       "      <td>No</td>\n",
       "    </tr>\n",
       "    <tr>\n",
       "      <th>3</th>\n",
       "      <td>카푸치노</td>\n",
       "      <td>5000</td>\n",
       "      <td>110</td>\n",
       "      <td>과테말라</td>\n",
       "      <td>NaN</td>\n",
       "      <td>No</td>\n",
       "    </tr>\n",
       "    <tr>\n",
       "      <th>4</th>\n",
       "      <td>에스프레소</td>\n",
       "      <td>4000</td>\n",
       "      <td>20</td>\n",
       "      <td>코스타리카</td>\n",
       "      <td>NaN</td>\n",
       "      <td>Yes</td>\n",
       "    </tr>\n",
       "    <tr>\n",
       "      <th>5</th>\n",
       "      <td>밀크티</td>\n",
       "      <td>5900</td>\n",
       "      <td>210</td>\n",
       "      <td>코스타리카</td>\n",
       "      <td>NaN</td>\n",
       "      <td>No</td>\n",
       "    </tr>\n",
       "    <tr>\n",
       "      <th>6</th>\n",
       "      <td>녹차</td>\n",
       "      <td>5300</td>\n",
       "      <td>0</td>\n",
       "      <td>대한민국</td>\n",
       "      <td>NaN</td>\n",
       "      <td>Yes</td>\n",
       "    </tr>\n",
       "    <tr>\n",
       "      <th>7</th>\n",
       "      <td>딴짓커피</td>\n",
       "      <td>2000</td>\n",
       "      <td>20</td>\n",
       "      <td>코스타리카</td>\n",
       "      <td>NaN</td>\n",
       "      <td>Yes</td>\n",
       "    </tr>\n",
       "  </tbody>\n",
       "</table>\n",
       "</div>"
      ],
      "text/plain": [
       "      메뉴    가격  칼로리    원산지    이벤트가 먹어도 될까요?\n",
       "0  아메리카노  4500   10   콜롬비아     NaN      Yes\n",
       "1   카페라떼  5000  110  코스타리카  1000.0       No\n",
       "2   카페모카  5500  250   과테말라  1000.0       No\n",
       "3   카푸치노  5000  110   과테말라     NaN       No\n",
       "4  에스프레소  4000   20  코스타리카     NaN      Yes\n",
       "5    밀크티  5900  210  코스타리카     NaN       No\n",
       "6     녹차  5300    0   대한민국     NaN      Yes\n",
       "7   딴짓커피  2000   20  코스타리카     NaN      Yes"
      ]
     },
     "execution_count": 15,
     "metadata": {},
     "output_type": "execute_result"
    }
   ],
   "source": [
    "def cal(x) : \n",
    "    if x > 100:\n",
    "        return \"No\"\n",
    "    else:\n",
    "        return \"Yes\"\n",
    "df['먹어도 될까요?'] = df['칼로리'].apply(cal)\n",
    "df"
   ]
  },
  {
   "cell_type": "code",
   "execution_count": 16,
   "id": "c1034aed",
   "metadata": {},
   "outputs": [
    {
     "data": {
      "text/html": [
       "<div>\n",
       "<style scoped>\n",
       "    .dataframe tbody tr th:only-of-type {\n",
       "        vertical-align: middle;\n",
       "    }\n",
       "\n",
       "    .dataframe tbody tr th {\n",
       "        vertical-align: top;\n",
       "    }\n",
       "\n",
       "    .dataframe thead th {\n",
       "        text-align: right;\n",
       "    }\n",
       "</style>\n",
       "<table border=\"1\" class=\"dataframe\">\n",
       "  <thead>\n",
       "    <tr style=\"text-align: right;\">\n",
       "      <th></th>\n",
       "      <th>Name</th>\n",
       "      <th>수학</th>\n",
       "      <th>영어</th>\n",
       "      <th>국어</th>\n",
       "    </tr>\n",
       "  </thead>\n",
       "  <tbody>\n",
       "    <tr>\n",
       "      <th>0</th>\n",
       "      <td>쿼카</td>\n",
       "      <td>90</td>\n",
       "      <td>92</td>\n",
       "      <td>91</td>\n",
       "    </tr>\n",
       "    <tr>\n",
       "      <th>1</th>\n",
       "      <td>알파카</td>\n",
       "      <td>84</td>\n",
       "      <td>84</td>\n",
       "      <td>94</td>\n",
       "    </tr>\n",
       "    <tr>\n",
       "      <th>2</th>\n",
       "      <td>시바견</td>\n",
       "      <td>85</td>\n",
       "      <td>86</td>\n",
       "      <td>83</td>\n",
       "    </tr>\n",
       "  </tbody>\n",
       "</table>\n",
       "</div>"
      ],
      "text/plain": [
       "  Name  수학  영어  국어\n",
       "0   쿼카  90  92  91\n",
       "1  알파카  84  84  94\n",
       "2  시바견  85  86  83"
      ]
     },
     "execution_count": 16,
     "metadata": {},
     "output_type": "execute_result"
    }
   ],
   "source": [
    "df = pd.DataFrame({'Name' : {0:'쿼카', 1:'알파카', 2:'시바견'},\n",
    "                   '수학' : {0:90, 1:84, 2:85},\n",
    "                   '영어' : {0:92, 1:84, 2:86},\n",
    "                   '국어' : {0:91, 1: 94, 2:83},})\n",
    "df"
   ]
  },
  {
   "cell_type": "code",
   "execution_count": 17,
   "id": "58534092",
   "metadata": {},
   "outputs": [
    {
     "name": "stdout",
     "output_type": "stream",
     "text": [
      "  Name variable  value\n",
      "0   쿼카       수학     90\n",
      "1  알파카       수학     84\n",
      "2  시바견       수학     85\n",
      "3   쿼카       영어     92\n",
      "4  알파카       영어     84\n",
      "5  시바견       영어     86\n",
      "6   쿼카       국어     91\n",
      "7  알파카       국어     94\n",
      "8  시바견       국어     83\n",
      "  Name variable  value\n",
      "0   쿼카       수학     90\n",
      "1  알파카       수학     84\n",
      "2  시바견       수학     85\n",
      "3   쿼카       영어     92\n",
      "4  알파카       영어     84\n",
      "5  시바견       영어     86\n"
     ]
    }
   ],
   "source": [
    "print(pd.melt(df,id_vars=['Name']))\n",
    "print(pd.melt(df,id_vars=['Name'], value_vars=['수학', '영어']))"
   ]
  },
  {
   "cell_type": "code",
   "execution_count": 22,
   "id": "36b778be",
   "metadata": {},
   "outputs": [
    {
     "data": {
      "text/html": [
       "<div>\n",
       "<style scoped>\n",
       "    .dataframe tbody tr th:only-of-type {\n",
       "        vertical-align: middle;\n",
       "    }\n",
       "\n",
       "    .dataframe tbody tr th {\n",
       "        vertical-align: top;\n",
       "    }\n",
       "\n",
       "    .dataframe thead th {\n",
       "        text-align: right;\n",
       "    }\n",
       "</style>\n",
       "<table border=\"1\" class=\"dataframe\">\n",
       "  <thead>\n",
       "    <tr style=\"text-align: right;\">\n",
       "      <th></th>\n",
       "      <th>가격</th>\n",
       "      <th>칼로리</th>\n",
       "      <th>이벤트가</th>\n",
       "    </tr>\n",
       "    <tr>\n",
       "      <th>원산지</th>\n",
       "      <th></th>\n",
       "      <th></th>\n",
       "      <th></th>\n",
       "    </tr>\n",
       "  </thead>\n",
       "  <tbody>\n",
       "    <tr>\n",
       "      <th>과테말라</th>\n",
       "      <td>5250.0</td>\n",
       "      <td>180.0</td>\n",
       "      <td>1000.0</td>\n",
       "    </tr>\n",
       "    <tr>\n",
       "      <th>대한민국</th>\n",
       "      <td>5300.0</td>\n",
       "      <td>0.0</td>\n",
       "      <td>NaN</td>\n",
       "    </tr>\n",
       "    <tr>\n",
       "      <th>코스타리카</th>\n",
       "      <td>4225.0</td>\n",
       "      <td>90.0</td>\n",
       "      <td>1000.0</td>\n",
       "    </tr>\n",
       "    <tr>\n",
       "      <th>콜롬비아</th>\n",
       "      <td>4500.0</td>\n",
       "      <td>10.0</td>\n",
       "      <td>NaN</td>\n",
       "    </tr>\n",
       "  </tbody>\n",
       "</table>\n",
       "</div>"
      ],
      "text/plain": [
       "           가격    칼로리    이벤트가\n",
       "원산지                         \n",
       "과테말라   5250.0  180.0  1000.0\n",
       "대한민국   5300.0    0.0     NaN\n",
       "코스타리카  4225.0   90.0  1000.0\n",
       "콜롬비아   4500.0   10.0     NaN"
      ]
     },
     "execution_count": 22,
     "metadata": {},
     "output_type": "execute_result"
    }
   ],
   "source": [
    "df = pd.read_csv('cafe4.csv')\n",
    "df.groupby(['원산지']).mean(numeric_only=True)"
   ]
  },
  {
   "cell_type": "code",
   "execution_count": 23,
   "id": "c5847446",
   "metadata": {},
   "outputs": [
    {
     "data": {
      "text/html": [
       "<div>\n",
       "<style scoped>\n",
       "    .dataframe tbody tr th:only-of-type {\n",
       "        vertical-align: middle;\n",
       "    }\n",
       "\n",
       "    .dataframe tbody tr th {\n",
       "        vertical-align: top;\n",
       "    }\n",
       "\n",
       "    .dataframe thead th {\n",
       "        text-align: right;\n",
       "    }\n",
       "</style>\n",
       "<table border=\"1\" class=\"dataframe\">\n",
       "  <thead>\n",
       "    <tr style=\"text-align: right;\">\n",
       "      <th></th>\n",
       "      <th></th>\n",
       "      <th>가격</th>\n",
       "      <th>이벤트가</th>\n",
       "    </tr>\n",
       "    <tr>\n",
       "      <th>원산지</th>\n",
       "      <th>칼로리</th>\n",
       "      <th></th>\n",
       "      <th></th>\n",
       "    </tr>\n",
       "  </thead>\n",
       "  <tbody>\n",
       "    <tr>\n",
       "      <th rowspan=\"2\" valign=\"top\">과테말라</th>\n",
       "      <th>110</th>\n",
       "      <td>5000.0</td>\n",
       "      <td>NaN</td>\n",
       "    </tr>\n",
       "    <tr>\n",
       "      <th>250</th>\n",
       "      <td>5500.0</td>\n",
       "      <td>1000.0</td>\n",
       "    </tr>\n",
       "    <tr>\n",
       "      <th>대한민국</th>\n",
       "      <th>0</th>\n",
       "      <td>5300.0</td>\n",
       "      <td>NaN</td>\n",
       "    </tr>\n",
       "    <tr>\n",
       "      <th rowspan=\"3\" valign=\"top\">코스타리카</th>\n",
       "      <th>20</th>\n",
       "      <td>3000.0</td>\n",
       "      <td>NaN</td>\n",
       "    </tr>\n",
       "    <tr>\n",
       "      <th>110</th>\n",
       "      <td>5000.0</td>\n",
       "      <td>1000.0</td>\n",
       "    </tr>\n",
       "    <tr>\n",
       "      <th>210</th>\n",
       "      <td>5900.0</td>\n",
       "      <td>NaN</td>\n",
       "    </tr>\n",
       "    <tr>\n",
       "      <th>콜롬비아</th>\n",
       "      <th>10</th>\n",
       "      <td>4500.0</td>\n",
       "      <td>NaN</td>\n",
       "    </tr>\n",
       "  </tbody>\n",
       "</table>\n",
       "</div>"
      ],
      "text/plain": [
       "               가격    이벤트가\n",
       "원산지   칼로리                \n",
       "과테말라  110  5000.0     NaN\n",
       "      250  5500.0  1000.0\n",
       "대한민국  0    5300.0     NaN\n",
       "코스타리카 20   3000.0     NaN\n",
       "      110  5000.0  1000.0\n",
       "      210  5900.0     NaN\n",
       "콜롬비아  10   4500.0     NaN"
      ]
     },
     "execution_count": 23,
     "metadata": {},
     "output_type": "execute_result"
    }
   ],
   "source": [
    "df.groupby(['원산지', '칼로리']).mean(numeric_only = True)"
   ]
  },
  {
   "cell_type": "code",
   "execution_count": 24,
   "id": "d3ca8904",
   "metadata": {},
   "outputs": [
    {
     "data": {
      "text/html": [
       "<div>\n",
       "<style scoped>\n",
       "    .dataframe tbody tr th:only-of-type {\n",
       "        vertical-align: middle;\n",
       "    }\n",
       "\n",
       "    .dataframe tbody tr th {\n",
       "        vertical-align: top;\n",
       "    }\n",
       "\n",
       "    .dataframe thead tr th {\n",
       "        text-align: left;\n",
       "    }\n",
       "\n",
       "    .dataframe thead tr:last-of-type th {\n",
       "        text-align: right;\n",
       "    }\n",
       "</style>\n",
       "<table border=\"1\" class=\"dataframe\">\n",
       "  <thead>\n",
       "    <tr>\n",
       "      <th></th>\n",
       "      <th></th>\n",
       "      <th colspan=\"2\" halign=\"left\">가격</th>\n",
       "      <th colspan=\"2\" halign=\"left\">칼로리</th>\n",
       "      <th colspan=\"2\" halign=\"left\">이벤트가</th>\n",
       "    </tr>\n",
       "    <tr>\n",
       "      <th></th>\n",
       "      <th></th>\n",
       "      <th>mean</th>\n",
       "      <th>sum</th>\n",
       "      <th>mean</th>\n",
       "      <th>sum</th>\n",
       "      <th>mean</th>\n",
       "      <th>sum</th>\n",
       "    </tr>\n",
       "    <tr>\n",
       "      <th>원산지</th>\n",
       "      <th>메뉴</th>\n",
       "      <th></th>\n",
       "      <th></th>\n",
       "      <th></th>\n",
       "      <th></th>\n",
       "      <th></th>\n",
       "      <th></th>\n",
       "    </tr>\n",
       "  </thead>\n",
       "  <tbody>\n",
       "    <tr>\n",
       "      <th rowspan=\"2\" valign=\"top\">과테말라</th>\n",
       "      <th>카페모카</th>\n",
       "      <td>5500.0</td>\n",
       "      <td>5500</td>\n",
       "      <td>250.0</td>\n",
       "      <td>250</td>\n",
       "      <td>1000.0</td>\n",
       "      <td>1000.0</td>\n",
       "    </tr>\n",
       "    <tr>\n",
       "      <th>카푸치노</th>\n",
       "      <td>5000.0</td>\n",
       "      <td>5000</td>\n",
       "      <td>110.0</td>\n",
       "      <td>110</td>\n",
       "      <td>NaN</td>\n",
       "      <td>0.0</td>\n",
       "    </tr>\n",
       "    <tr>\n",
       "      <th>대한민국</th>\n",
       "      <th>녹차</th>\n",
       "      <td>5300.0</td>\n",
       "      <td>5300</td>\n",
       "      <td>0.0</td>\n",
       "      <td>0</td>\n",
       "      <td>NaN</td>\n",
       "      <td>0.0</td>\n",
       "    </tr>\n",
       "    <tr>\n",
       "      <th rowspan=\"4\" valign=\"top\">코스타리카</th>\n",
       "      <th>딴짓커피</th>\n",
       "      <td>2000.0</td>\n",
       "      <td>2000</td>\n",
       "      <td>20.0</td>\n",
       "      <td>20</td>\n",
       "      <td>NaN</td>\n",
       "      <td>0.0</td>\n",
       "    </tr>\n",
       "    <tr>\n",
       "      <th>밀크티</th>\n",
       "      <td>5900.0</td>\n",
       "      <td>5900</td>\n",
       "      <td>210.0</td>\n",
       "      <td>210</td>\n",
       "      <td>NaN</td>\n",
       "      <td>0.0</td>\n",
       "    </tr>\n",
       "    <tr>\n",
       "      <th>에스프레소</th>\n",
       "      <td>4000.0</td>\n",
       "      <td>4000</td>\n",
       "      <td>20.0</td>\n",
       "      <td>20</td>\n",
       "      <td>NaN</td>\n",
       "      <td>0.0</td>\n",
       "    </tr>\n",
       "    <tr>\n",
       "      <th>카페라떼</th>\n",
       "      <td>5000.0</td>\n",
       "      <td>5000</td>\n",
       "      <td>110.0</td>\n",
       "      <td>110</td>\n",
       "      <td>1000.0</td>\n",
       "      <td>1000.0</td>\n",
       "    </tr>\n",
       "    <tr>\n",
       "      <th>콜롬비아</th>\n",
       "      <th>아메리카노</th>\n",
       "      <td>4500.0</td>\n",
       "      <td>4500</td>\n",
       "      <td>10.0</td>\n",
       "      <td>10</td>\n",
       "      <td>NaN</td>\n",
       "      <td>0.0</td>\n",
       "    </tr>\n",
       "  </tbody>\n",
       "</table>\n",
       "</div>"
      ],
      "text/plain": [
       "                 가격          칼로리         이벤트가        \n",
       "               mean   sum   mean  sum    mean     sum\n",
       "원산지   메뉴                                             \n",
       "과테말라  카페모카   5500.0  5500  250.0  250  1000.0  1000.0\n",
       "      카푸치노   5000.0  5000  110.0  110     NaN     0.0\n",
       "대한민국  녹차     5300.0  5300    0.0    0     NaN     0.0\n",
       "코스타리카 딴짓커피   2000.0  2000   20.0   20     NaN     0.0\n",
       "      밀크티    5900.0  5900  210.0  210     NaN     0.0\n",
       "      에스프레소  4000.0  4000   20.0   20     NaN     0.0\n",
       "      카페라떼   5000.0  5000  110.0  110  1000.0  1000.0\n",
       "콜롬비아  아메리카노  4500.0  4500   10.0   10     NaN     0.0"
      ]
     },
     "execution_count": 24,
     "metadata": {},
     "output_type": "execute_result"
    }
   ],
   "source": [
    "df.groupby(['원산지', '메뉴']).agg(['mean', 'sum'])"
   ]
  },
  {
   "cell_type": "code",
   "execution_count": 25,
   "id": "de294542",
   "metadata": {},
   "outputs": [
    {
     "data": {
      "text/html": [
       "<div>\n",
       "<style scoped>\n",
       "    .dataframe tbody tr th:only-of-type {\n",
       "        vertical-align: middle;\n",
       "    }\n",
       "\n",
       "    .dataframe tbody tr th {\n",
       "        vertical-align: top;\n",
       "    }\n",
       "\n",
       "    .dataframe thead th {\n",
       "        text-align: right;\n",
       "    }\n",
       "</style>\n",
       "<table border=\"1\" class=\"dataframe\">\n",
       "  <thead>\n",
       "    <tr style=\"text-align: right;\">\n",
       "      <th></th>\n",
       "      <th>원산지</th>\n",
       "      <th>칼로리</th>\n",
       "      <th>가격</th>\n",
       "      <th>이벤트가</th>\n",
       "    </tr>\n",
       "  </thead>\n",
       "  <tbody>\n",
       "    <tr>\n",
       "      <th>0</th>\n",
       "      <td>과테말라</td>\n",
       "      <td>110</td>\n",
       "      <td>5000.0</td>\n",
       "      <td>NaN</td>\n",
       "    </tr>\n",
       "    <tr>\n",
       "      <th>1</th>\n",
       "      <td>과테말라</td>\n",
       "      <td>250</td>\n",
       "      <td>5500.0</td>\n",
       "      <td>1000.0</td>\n",
       "    </tr>\n",
       "    <tr>\n",
       "      <th>2</th>\n",
       "      <td>대한민국</td>\n",
       "      <td>0</td>\n",
       "      <td>5300.0</td>\n",
       "      <td>NaN</td>\n",
       "    </tr>\n",
       "    <tr>\n",
       "      <th>3</th>\n",
       "      <td>코스타리카</td>\n",
       "      <td>20</td>\n",
       "      <td>3000.0</td>\n",
       "      <td>NaN</td>\n",
       "    </tr>\n",
       "    <tr>\n",
       "      <th>4</th>\n",
       "      <td>코스타리카</td>\n",
       "      <td>110</td>\n",
       "      <td>5000.0</td>\n",
       "      <td>1000.0</td>\n",
       "    </tr>\n",
       "    <tr>\n",
       "      <th>5</th>\n",
       "      <td>코스타리카</td>\n",
       "      <td>210</td>\n",
       "      <td>5900.0</td>\n",
       "      <td>NaN</td>\n",
       "    </tr>\n",
       "    <tr>\n",
       "      <th>6</th>\n",
       "      <td>콜롬비아</td>\n",
       "      <td>10</td>\n",
       "      <td>4500.0</td>\n",
       "      <td>NaN</td>\n",
       "    </tr>\n",
       "  </tbody>\n",
       "</table>\n",
       "</div>"
      ],
      "text/plain": [
       "     원산지  칼로리      가격    이벤트가\n",
       "0   과테말라  110  5000.0     NaN\n",
       "1   과테말라  250  5500.0  1000.0\n",
       "2   대한민국    0  5300.0     NaN\n",
       "3  코스타리카   20  3000.0     NaN\n",
       "4  코스타리카  110  5000.0  1000.0\n",
       "5  코스타리카  210  5900.0     NaN\n",
       "6   콜롬비아   10  4500.0     NaN"
      ]
     },
     "execution_count": 25,
     "metadata": {},
     "output_type": "execute_result"
    }
   ],
   "source": [
    "df.groupby(['원산지', '칼로리']).mean(numeric_only=True).reset_index()"
   ]
  },
  {
   "cell_type": "code",
   "execution_count": 26,
   "id": "c947fb27",
   "metadata": {},
   "outputs": [
    {
     "data": {
      "text/html": [
       "<div>\n",
       "<style scoped>\n",
       "    .dataframe tbody tr th:only-of-type {\n",
       "        vertical-align: middle;\n",
       "    }\n",
       "\n",
       "    .dataframe tbody tr th {\n",
       "        vertical-align: top;\n",
       "    }\n",
       "\n",
       "    .dataframe thead th {\n",
       "        text-align: right;\n",
       "    }\n",
       "</style>\n",
       "<table border=\"1\" class=\"dataframe\">\n",
       "  <thead>\n",
       "    <tr style=\"text-align: right;\">\n",
       "      <th></th>\n",
       "      <th>Date1</th>\n",
       "      <th>Date2</th>\n",
       "      <th>Date3</th>\n",
       "      <th>Date4</th>\n",
       "      <th>Date5</th>\n",
       "      <th>DateTime1</th>\n",
       "      <th>DateTime2</th>\n",
       "      <th>DateTime3</th>\n",
       "      <th>DateTime4</th>\n",
       "    </tr>\n",
       "  </thead>\n",
       "  <tbody>\n",
       "    <tr>\n",
       "      <th>0</th>\n",
       "      <td>2024-02-17</td>\n",
       "      <td>2024:02:17</td>\n",
       "      <td>24/02/17</td>\n",
       "      <td>02/17/2024</td>\n",
       "      <td>17-Feb-2024</td>\n",
       "      <td>24-02-17 13:45:30</td>\n",
       "      <td>2024-02-17 13-45-30</td>\n",
       "      <td>02/17/2024 01:45:30 PM</td>\n",
       "      <td>17 Feb 2024 13:45:30</td>\n",
       "    </tr>\n",
       "    <tr>\n",
       "      <th>1</th>\n",
       "      <td>2024-02-18</td>\n",
       "      <td>2024:02:18</td>\n",
       "      <td>24/02/18</td>\n",
       "      <td>02/18/2024</td>\n",
       "      <td>18-Feb-2024</td>\n",
       "      <td>24-02-18 14:55:45</td>\n",
       "      <td>2024-02-18 14-55-45</td>\n",
       "      <td>02/18/2024 02:55:45 PM</td>\n",
       "      <td>18 Feb 2024 14:55:45</td>\n",
       "    </tr>\n",
       "    <tr>\n",
       "      <th>2</th>\n",
       "      <td>2024-02-19</td>\n",
       "      <td>2024:02:19</td>\n",
       "      <td>24/02/19</td>\n",
       "      <td>02/19/2024</td>\n",
       "      <td>19-Feb-2024</td>\n",
       "      <td>24-02-19 15:30:15</td>\n",
       "      <td>2024-02-19 15-30-15</td>\n",
       "      <td>02/19/2024 03:30:15 AM</td>\n",
       "      <td>19 Feb 2024 15:30:15</td>\n",
       "    </tr>\n",
       "    <tr>\n",
       "      <th>3</th>\n",
       "      <td>2024-02-20</td>\n",
       "      <td>2024:02:20</td>\n",
       "      <td>24/02/20</td>\n",
       "      <td>02/20/2024</td>\n",
       "      <td>20-Feb-2024</td>\n",
       "      <td>24-02-20 16:10:50</td>\n",
       "      <td>2024-02-20 16-10-50</td>\n",
       "      <td>02/20/2024 04:10:50 AM</td>\n",
       "      <td>20 Feb 2024 16:10:50</td>\n",
       "    </tr>\n",
       "  </tbody>\n",
       "</table>\n",
       "</div>"
      ],
      "text/plain": [
       "        Date1       Date2     Date3       Date4        Date5  \\\n",
       "0  2024-02-17  2024:02:17  24/02/17  02/17/2024  17-Feb-2024   \n",
       "1  2024-02-18  2024:02:18  24/02/18  02/18/2024  18-Feb-2024   \n",
       "2  2024-02-19  2024:02:19  24/02/19  02/19/2024  19-Feb-2024   \n",
       "3  2024-02-20  2024:02:20  24/02/20  02/20/2024  20-Feb-2024   \n",
       "\n",
       "           DateTime1            DateTime2               DateTime3  \\\n",
       "0  24-02-17 13:45:30  2024-02-17 13-45-30  02/17/2024 01:45:30 PM   \n",
       "1  24-02-18 14:55:45  2024-02-18 14-55-45  02/18/2024 02:55:45 PM   \n",
       "2  24-02-19 15:30:15  2024-02-19 15-30-15  02/19/2024 03:30:15 AM   \n",
       "3  24-02-20 16:10:50  2024-02-20 16-10-50  02/20/2024 04:10:50 AM   \n",
       "\n",
       "              DateTime4  \n",
       "0  17 Feb 2024 13:45:30  \n",
       "1  18 Feb 2024 14:55:45  \n",
       "2  19 Feb 2024 15:30:15  \n",
       "3  20 Feb 2024 16:10:50  "
      ]
     },
     "execution_count": 26,
     "metadata": {},
     "output_type": "execute_result"
    }
   ],
   "source": [
    "data = {\n",
    "    'Date1': ['2024-02-17', '2024-02-18', '2024-02-19', '2024-02-20'],\n",
    "    'Date2': ['2024:02:17', '2024:02:18', '2024:02:19', '2024:02:20'],\n",
    "    'Date3': ['24/02/17', '24/02/18', '24/02/19', '24/02/20'],\n",
    "    'Date4': ['02/17/2024', '02/18/2024', '02/19/2024', '02/20/2024'],\n",
    "    'Date5': ['17-Feb-2024', '18-Feb-2024', '19-Feb-2024', '20-Feb-2024'],\n",
    "    'DateTime1': ['24-02-17 13:45:30', '24-02-18 14:55:45', '24-02-19 15:30:15', '24-02-20 16:10:50'],\n",
    "    'DateTime2': ['2024-02-17 13-45-30', '2024-02-18 14-55-45', '2024-02-19 15-30-15', '2024-02-20 16-10-50'],\n",
    "    'DateTime3': ['02/17/2024 01:45:30 PM', '02/18/2024 02:55:45 PM', '02/19/2024 03:30:15 AM', '02/20/2024 04:10:50 AM'],\n",
    "    'DateTime4': ['17 Feb 2024 13:45:30', '18 Feb 2024 14:55:45', '19 Feb 2024 15:30:15', '20 Feb 2024 16:10:50']\n",
    "}\n",
    "\n",
    "df = pd.DataFrame(data)\n",
    "df.to_csv(\"date_data.csv\", index=False)\n",
    "df"
   ]
  },
  {
   "cell_type": "code",
   "execution_count": 27,
   "id": "4c7d794f",
   "metadata": {},
   "outputs": [
    {
     "name": "stderr",
     "output_type": "stream",
     "text": [
      "C:\\Users\\user\\AppData\\Local\\Temp\\ipykernel_7636\\2722885956.py:4: UserWarning: Could not infer format, so each element will be parsed individually, falling back to `dateutil`. To ensure parsing is consistent and as-expected, please specify a format.\n",
      "  df['Date3'] = pd.to_datetime(df['Date3'])\n",
      "C:\\Users\\user\\AppData\\Local\\Temp\\ipykernel_7636\\2722885956.py:7: UserWarning: Could not infer format, so each element will be parsed individually, falling back to `dateutil`. To ensure parsing is consistent and as-expected, please specify a format.\n",
      "  df['DateTime1'] = pd.to_datetime(df['DateTime1'])\n",
      "C:\\Users\\user\\AppData\\Local\\Temp\\ipykernel_7636\\2722885956.py:9: UserWarning: Could not infer format, so each element will be parsed individually, falling back to `dateutil`. To ensure parsing is consistent and as-expected, please specify a format.\n",
      "  df['DateTime3'] = pd.to_datetime(df['DateTime3'])\n"
     ]
    },
    {
     "data": {
      "text/html": [
       "<div>\n",
       "<style scoped>\n",
       "    .dataframe tbody tr th:only-of-type {\n",
       "        vertical-align: middle;\n",
       "    }\n",
       "\n",
       "    .dataframe tbody tr th {\n",
       "        vertical-align: top;\n",
       "    }\n",
       "\n",
       "    .dataframe thead th {\n",
       "        text-align: right;\n",
       "    }\n",
       "</style>\n",
       "<table border=\"1\" class=\"dataframe\">\n",
       "  <thead>\n",
       "    <tr style=\"text-align: right;\">\n",
       "      <th></th>\n",
       "      <th>Date1</th>\n",
       "      <th>Date2</th>\n",
       "      <th>Date3</th>\n",
       "      <th>Date4</th>\n",
       "      <th>Date5</th>\n",
       "      <th>DateTime1</th>\n",
       "      <th>DateTime2</th>\n",
       "      <th>DateTime3</th>\n",
       "      <th>DateTime4</th>\n",
       "    </tr>\n",
       "  </thead>\n",
       "  <tbody>\n",
       "    <tr>\n",
       "      <th>0</th>\n",
       "      <td>2024-02-17</td>\n",
       "      <td>2024-02-17</td>\n",
       "      <td>2017-02-24</td>\n",
       "      <td>2024-02-17</td>\n",
       "      <td>2024-02-17</td>\n",
       "      <td>2017-02-24 13:45:30</td>\n",
       "      <td>2024-02-17 13:45:30</td>\n",
       "      <td>2024-02-17 13:45:30</td>\n",
       "      <td>2024-02-17 13:45:30</td>\n",
       "    </tr>\n",
       "    <tr>\n",
       "      <th>1</th>\n",
       "      <td>2024-02-18</td>\n",
       "      <td>2024-02-18</td>\n",
       "      <td>2018-02-24</td>\n",
       "      <td>2024-02-18</td>\n",
       "      <td>2024-02-18</td>\n",
       "      <td>2018-02-24 14:55:45</td>\n",
       "      <td>2024-02-18 14:55:45</td>\n",
       "      <td>2024-02-18 14:55:45</td>\n",
       "      <td>2024-02-18 14:55:45</td>\n",
       "    </tr>\n",
       "    <tr>\n",
       "      <th>2</th>\n",
       "      <td>2024-02-19</td>\n",
       "      <td>2024-02-19</td>\n",
       "      <td>2019-02-24</td>\n",
       "      <td>2024-02-19</td>\n",
       "      <td>2024-02-19</td>\n",
       "      <td>2019-02-24 15:30:15</td>\n",
       "      <td>2024-02-19 15:30:15</td>\n",
       "      <td>2024-02-19 03:30:15</td>\n",
       "      <td>2024-02-19 15:30:15</td>\n",
       "    </tr>\n",
       "    <tr>\n",
       "      <th>3</th>\n",
       "      <td>2024-02-20</td>\n",
       "      <td>2024-02-20</td>\n",
       "      <td>2020-02-24</td>\n",
       "      <td>2024-02-20</td>\n",
       "      <td>2024-02-20</td>\n",
       "      <td>2020-02-24 16:10:50</td>\n",
       "      <td>2024-02-20 16:10:50</td>\n",
       "      <td>2024-02-20 04:10:50</td>\n",
       "      <td>2024-02-20 16:10:50</td>\n",
       "    </tr>\n",
       "  </tbody>\n",
       "</table>\n",
       "</div>"
      ],
      "text/plain": [
       "       Date1      Date2      Date3      Date4      Date5           DateTime1  \\\n",
       "0 2024-02-17 2024-02-17 2017-02-24 2024-02-17 2024-02-17 2017-02-24 13:45:30   \n",
       "1 2024-02-18 2024-02-18 2018-02-24 2024-02-18 2024-02-18 2018-02-24 14:55:45   \n",
       "2 2024-02-19 2024-02-19 2019-02-24 2024-02-19 2024-02-19 2019-02-24 15:30:15   \n",
       "3 2024-02-20 2024-02-20 2020-02-24 2024-02-20 2024-02-20 2020-02-24 16:10:50   \n",
       "\n",
       "            DateTime2           DateTime3           DateTime4  \n",
       "0 2024-02-17 13:45:30 2024-02-17 13:45:30 2024-02-17 13:45:30  \n",
       "1 2024-02-18 14:55:45 2024-02-18 14:55:45 2024-02-18 14:55:45  \n",
       "2 2024-02-19 15:30:15 2024-02-19 03:30:15 2024-02-19 15:30:15  \n",
       "3 2024-02-20 16:10:50 2024-02-20 04:10:50 2024-02-20 16:10:50  "
      ]
     },
     "execution_count": 27,
     "metadata": {},
     "output_type": "execute_result"
    }
   ],
   "source": [
    "df = pd.read_csv(\"date_data.csv\")\n",
    "df['Date1'] = pd.to_datetime(df['Date1'])\n",
    "df['Date2'] = pd.to_datetime(df['Date2'], format='%Y:%m:%d')\n",
    "df['Date3'] = pd.to_datetime(df['Date3'])\n",
    "df['Date4'] = pd.to_datetime(df['Date4'])\n",
    "df['Date5'] = pd.to_datetime(df['Date5'])\n",
    "df['DateTime1'] = pd.to_datetime(df['DateTime1'])\n",
    "df['DateTime2'] = pd.to_datetime(df['DateTime2'], format='%Y-%m-%d %H-%M-%S')\n",
    "df['DateTime3'] = pd.to_datetime(df['DateTime3'])\n",
    "df['DateTime4'] = pd.to_datetime(df['DateTime4'])\n",
    "df"
   ]
  },
  {
   "cell_type": "code",
   "execution_count": 28,
   "id": "2342f8f7",
   "metadata": {},
   "outputs": [
    {
     "data": {
      "text/html": [
       "<div>\n",
       "<style scoped>\n",
       "    .dataframe tbody tr th:only-of-type {\n",
       "        vertical-align: middle;\n",
       "    }\n",
       "\n",
       "    .dataframe tbody tr th {\n",
       "        vertical-align: top;\n",
       "    }\n",
       "\n",
       "    .dataframe thead th {\n",
       "        text-align: right;\n",
       "    }\n",
       "</style>\n",
       "<table border=\"1\" class=\"dataframe\">\n",
       "  <thead>\n",
       "    <tr style=\"text-align: right;\">\n",
       "      <th></th>\n",
       "      <th>Date2</th>\n",
       "      <th>Date3</th>\n",
       "      <th>DateTime1</th>\n",
       "      <th>DateTime2</th>\n",
       "    </tr>\n",
       "  </thead>\n",
       "  <tbody>\n",
       "    <tr>\n",
       "      <th>0</th>\n",
       "      <td>2024-02-17</td>\n",
       "      <td>2024-02-17</td>\n",
       "      <td>2024-02-17 13:45:30</td>\n",
       "      <td>2024-02-17 13:45:30</td>\n",
       "    </tr>\n",
       "    <tr>\n",
       "      <th>1</th>\n",
       "      <td>2024-02-18</td>\n",
       "      <td>2024-02-18</td>\n",
       "      <td>2024-02-18 14:55:45</td>\n",
       "      <td>2024-02-18 14:55:45</td>\n",
       "    </tr>\n",
       "    <tr>\n",
       "      <th>2</th>\n",
       "      <td>2024-02-19</td>\n",
       "      <td>2024-02-19</td>\n",
       "      <td>2024-02-19 15:30:15</td>\n",
       "      <td>2024-02-19 15:30:15</td>\n",
       "    </tr>\n",
       "    <tr>\n",
       "      <th>3</th>\n",
       "      <td>2024-02-20</td>\n",
       "      <td>2024-02-20</td>\n",
       "      <td>2024-02-20 16:10:50</td>\n",
       "      <td>2024-02-20 16:10:50</td>\n",
       "    </tr>\n",
       "  </tbody>\n",
       "</table>\n",
       "</div>"
      ],
      "text/plain": [
       "       Date2      Date3           DateTime1           DateTime2\n",
       "0 2024-02-17 2024-02-17 2024-02-17 13:45:30 2024-02-17 13:45:30\n",
       "1 2024-02-18 2024-02-18 2024-02-18 14:55:45 2024-02-18 14:55:45\n",
       "2 2024-02-19 2024-02-19 2024-02-19 15:30:15 2024-02-19 15:30:15\n",
       "3 2024-02-20 2024-02-20 2024-02-20 16:10:50 2024-02-20 16:10:50"
      ]
     },
     "execution_count": 28,
     "metadata": {},
     "output_type": "execute_result"
    }
   ],
   "source": [
    "df = pd.read_csv(\"date_data.csv\")\n",
    "df['Date2'] = pd.to_datetime(df['Date2'], format='%Y:%m:%d')\n",
    "df['Date3'] = pd.to_datetime(df['Date3'], format='%y/%m/%d')\n",
    "df['DateTime1'] = pd.to_datetime(df['DateTime1'], format='%y-%m-%d %H:%M:%S')\n",
    "df['DateTime2'] = pd.to_datetime(df['DateTime2'], format='%Y-%m-%d %H-%M-%S')\n",
    "df[['Date2', 'Date3', 'DateTime1', 'DateTime2']]"
   ]
  },
  {
   "cell_type": "code",
   "execution_count": 29,
   "id": "30ca0f78",
   "metadata": {},
   "outputs": [
    {
     "name": "stdout",
     "output_type": "stream",
     "text": [
      "<class 'pandas.core.frame.DataFrame'>\n",
      "RangeIndex: 4 entries, 0 to 3\n",
      "Data columns (total 9 columns):\n",
      " #   Column     Non-Null Count  Dtype         \n",
      "---  ------     --------------  -----         \n",
      " 0   Date1      4 non-null      object        \n",
      " 1   Date2      4 non-null      datetime64[ns]\n",
      " 2   Date3      4 non-null      datetime64[ns]\n",
      " 3   Date4      4 non-null      object        \n",
      " 4   Date5      4 non-null      object        \n",
      " 5   DateTime1  4 non-null      datetime64[ns]\n",
      " 6   DateTime2  4 non-null      datetime64[ns]\n",
      " 7   DateTime3  4 non-null      object        \n",
      " 8   DateTime4  4 non-null      object        \n",
      "dtypes: datetime64[ns](4), object(5)\n",
      "memory usage: 416.0+ bytes\n"
     ]
    }
   ],
   "source": [
    "df.info()"
   ]
  },
  {
   "cell_type": "code",
   "execution_count": 31,
   "id": "c7f34577",
   "metadata": {},
   "outputs": [
    {
     "data": {
      "text/html": [
       "<div>\n",
       "<style scoped>\n",
       "    .dataframe tbody tr th:only-of-type {\n",
       "        vertical-align: middle;\n",
       "    }\n",
       "\n",
       "    .dataframe tbody tr th {\n",
       "        vertical-align: top;\n",
       "    }\n",
       "\n",
       "    .dataframe thead th {\n",
       "        text-align: right;\n",
       "    }\n",
       "</style>\n",
       "<table border=\"1\" class=\"dataframe\">\n",
       "  <thead>\n",
       "    <tr style=\"text-align: right;\">\n",
       "      <th></th>\n",
       "      <th>Date1</th>\n",
       "      <th>Date2</th>\n",
       "      <th>Date3</th>\n",
       "      <th>Date4</th>\n",
       "      <th>Date5</th>\n",
       "      <th>DateTime1</th>\n",
       "      <th>DateTime2</th>\n",
       "      <th>DateTime3</th>\n",
       "      <th>DateTime4</th>\n",
       "      <th>year</th>\n",
       "      <th>month</th>\n",
       "      <th>day</th>\n",
       "      <th>hour</th>\n",
       "      <th>minute</th>\n",
       "      <th>second</th>\n",
       "    </tr>\n",
       "  </thead>\n",
       "  <tbody>\n",
       "    <tr>\n",
       "      <th>0</th>\n",
       "      <td>2024-02-17</td>\n",
       "      <td>2024-02-17</td>\n",
       "      <td>2024-02-17</td>\n",
       "      <td>02/17/2024</td>\n",
       "      <td>17-Feb-2024</td>\n",
       "      <td>2024-02-17 13:45:30</td>\n",
       "      <td>2024-02-17 13:45:30</td>\n",
       "      <td>02/17/2024 01:45:30 PM</td>\n",
       "      <td>17 Feb 2024 13:45:30</td>\n",
       "      <td>2024</td>\n",
       "      <td>2</td>\n",
       "      <td>17</td>\n",
       "      <td>13</td>\n",
       "      <td>45</td>\n",
       "      <td>30</td>\n",
       "    </tr>\n",
       "    <tr>\n",
       "      <th>1</th>\n",
       "      <td>2024-02-18</td>\n",
       "      <td>2024-02-18</td>\n",
       "      <td>2024-02-18</td>\n",
       "      <td>02/18/2024</td>\n",
       "      <td>18-Feb-2024</td>\n",
       "      <td>2024-02-18 14:55:45</td>\n",
       "      <td>2024-02-18 14:55:45</td>\n",
       "      <td>02/18/2024 02:55:45 PM</td>\n",
       "      <td>18 Feb 2024 14:55:45</td>\n",
       "      <td>2024</td>\n",
       "      <td>2</td>\n",
       "      <td>18</td>\n",
       "      <td>14</td>\n",
       "      <td>55</td>\n",
       "      <td>45</td>\n",
       "    </tr>\n",
       "    <tr>\n",
       "      <th>2</th>\n",
       "      <td>2024-02-19</td>\n",
       "      <td>2024-02-19</td>\n",
       "      <td>2024-02-19</td>\n",
       "      <td>02/19/2024</td>\n",
       "      <td>19-Feb-2024</td>\n",
       "      <td>2024-02-19 15:30:15</td>\n",
       "      <td>2024-02-19 15:30:15</td>\n",
       "      <td>02/19/2024 03:30:15 AM</td>\n",
       "      <td>19 Feb 2024 15:30:15</td>\n",
       "      <td>2024</td>\n",
       "      <td>2</td>\n",
       "      <td>19</td>\n",
       "      <td>15</td>\n",
       "      <td>30</td>\n",
       "      <td>15</td>\n",
       "    </tr>\n",
       "    <tr>\n",
       "      <th>3</th>\n",
       "      <td>2024-02-20</td>\n",
       "      <td>2024-02-20</td>\n",
       "      <td>2024-02-20</td>\n",
       "      <td>02/20/2024</td>\n",
       "      <td>20-Feb-2024</td>\n",
       "      <td>2024-02-20 16:10:50</td>\n",
       "      <td>2024-02-20 16:10:50</td>\n",
       "      <td>02/20/2024 04:10:50 AM</td>\n",
       "      <td>20 Feb 2024 16:10:50</td>\n",
       "      <td>2024</td>\n",
       "      <td>2</td>\n",
       "      <td>20</td>\n",
       "      <td>16</td>\n",
       "      <td>10</td>\n",
       "      <td>50</td>\n",
       "    </tr>\n",
       "  </tbody>\n",
       "</table>\n",
       "</div>"
      ],
      "text/plain": [
       "        Date1      Date2      Date3       Date4        Date5  \\\n",
       "0  2024-02-17 2024-02-17 2024-02-17  02/17/2024  17-Feb-2024   \n",
       "1  2024-02-18 2024-02-18 2024-02-18  02/18/2024  18-Feb-2024   \n",
       "2  2024-02-19 2024-02-19 2024-02-19  02/19/2024  19-Feb-2024   \n",
       "3  2024-02-20 2024-02-20 2024-02-20  02/20/2024  20-Feb-2024   \n",
       "\n",
       "            DateTime1           DateTime2               DateTime3  \\\n",
       "0 2024-02-17 13:45:30 2024-02-17 13:45:30  02/17/2024 01:45:30 PM   \n",
       "1 2024-02-18 14:55:45 2024-02-18 14:55:45  02/18/2024 02:55:45 PM   \n",
       "2 2024-02-19 15:30:15 2024-02-19 15:30:15  02/19/2024 03:30:15 AM   \n",
       "3 2024-02-20 16:10:50 2024-02-20 16:10:50  02/20/2024 04:10:50 AM   \n",
       "\n",
       "              DateTime4  year  month  day  hour  minute  second  \n",
       "0  17 Feb 2024 13:45:30  2024      2   17    13      45      30  \n",
       "1  18 Feb 2024 14:55:45  2024      2   18    14      55      45  \n",
       "2  19 Feb 2024 15:30:15  2024      2   19    15      30      15  \n",
       "3  20 Feb 2024 16:10:50  2024      2   20    16      10      50  "
      ]
     },
     "execution_count": 31,
     "metadata": {},
     "output_type": "execute_result"
    }
   ],
   "source": [
    "df['year'] = df['DateTime1'].dt.year\n",
    "df['month'] = df['DateTime1'].dt.month\n",
    "df['day'] = df['DateTime1'].dt.day\n",
    "df['hour'] = df['DateTime1'].dt.hour\n",
    "df['minute'] = df['DateTime1'].dt.minute\n",
    "df['second'] = df['DateTime1'].dt.second\n",
    "df"
   ]
  },
  {
   "cell_type": "code",
   "execution_count": 32,
   "id": "ca77adc0",
   "metadata": {},
   "outputs": [
    {
     "data": {
      "text/plain": [
       "0    5\n",
       "1    6\n",
       "2    0\n",
       "3    1\n",
       "Name: DateTime1, dtype: int32"
      ]
     },
     "execution_count": 32,
     "metadata": {},
     "output_type": "execute_result"
    }
   ],
   "source": [
    "df['DateTime1'].dt.dayofweek"
   ]
  },
  {
   "cell_type": "code",
   "execution_count": 33,
   "id": "3c4388e2",
   "metadata": {},
   "outputs": [
    {
     "name": "stdout",
     "output_type": "stream",
     "text": [
      "0    2024\n",
      "1    2024\n",
      "2    2024\n",
      "3    2024\n",
      "Name: DateTime1, dtype: period[A-DEC]\n",
      "0    2024Q1\n",
      "1    2024Q1\n",
      "2    2024Q1\n",
      "3    2024Q1\n",
      "Name: DateTime1, dtype: period[Q-DEC]\n",
      "0    2024-02\n",
      "1    2024-02\n",
      "2    2024-02\n",
      "3    2024-02\n",
      "Name: DateTime1, dtype: period[M]\n",
      "0    2024-02-17\n",
      "1    2024-02-18\n",
      "2    2024-02-19\n",
      "3    2024-02-20\n",
      "Name: DateTime1, dtype: period[D]\n",
      "0    2024-02-17 13:00\n",
      "1    2024-02-18 14:00\n",
      "2    2024-02-19 15:00\n",
      "3    2024-02-20 16:00\n",
      "Name: DateTime1, dtype: period[H]\n"
     ]
    }
   ],
   "source": [
    "print(df['DateTime1'].dt.to_period('Y'))\n",
    "print(df['DateTime1'].dt.to_period('Q'))\n",
    "print(df['DateTime1'].dt.to_period('M'))\n",
    "print(df['DateTime1'].dt.to_period('D'))\n",
    "print(df['DateTime1'].dt.to_period('H'))"
   ]
  },
  {
   "cell_type": "code",
   "execution_count": 3,
   "id": "5ee4d7ce",
   "metadata": {},
   "outputs": [
    {
     "data": {
      "text/html": [
       "<div>\n",
       "<style scoped>\n",
       "    .dataframe tbody tr th:only-of-type {\n",
       "        vertical-align: middle;\n",
       "    }\n",
       "\n",
       "    .dataframe tbody tr th {\n",
       "        vertical-align: top;\n",
       "    }\n",
       "\n",
       "    .dataframe thead th {\n",
       "        text-align: right;\n",
       "    }\n",
       "</style>\n",
       "<table border=\"1\" class=\"dataframe\">\n",
       "  <thead>\n",
       "    <tr style=\"text-align: right;\">\n",
       "      <th></th>\n",
       "      <th>DateTime4</th>\n",
       "      <th>100day</th>\n",
       "    </tr>\n",
       "  </thead>\n",
       "  <tbody>\n",
       "    <tr>\n",
       "      <th>0</th>\n",
       "      <td>2024-02-17 13:45:30</td>\n",
       "      <td>2024-05-26 13:45:30</td>\n",
       "    </tr>\n",
       "    <tr>\n",
       "      <th>1</th>\n",
       "      <td>2024-02-18 14:55:45</td>\n",
       "      <td>2024-05-27 14:55:45</td>\n",
       "    </tr>\n",
       "    <tr>\n",
       "      <th>2</th>\n",
       "      <td>2024-02-19 15:30:15</td>\n",
       "      <td>2024-05-28 15:30:15</td>\n",
       "    </tr>\n",
       "    <tr>\n",
       "      <th>3</th>\n",
       "      <td>2024-02-20 16:10:50</td>\n",
       "      <td>2024-05-29 16:10:50</td>\n",
       "    </tr>\n",
       "  </tbody>\n",
       "</table>\n",
       "</div>"
      ],
      "text/plain": [
       "            DateTime4              100day\n",
       "0 2024-02-17 13:45:30 2024-05-26 13:45:30\n",
       "1 2024-02-18 14:55:45 2024-05-27 14:55:45\n",
       "2 2024-02-19 15:30:15 2024-05-28 15:30:15\n",
       "3 2024-02-20 16:10:50 2024-05-29 16:10:50"
      ]
     },
     "execution_count": 3,
     "metadata": {},
     "output_type": "execute_result"
    }
   ],
   "source": [
    "df = pd.read_csv('date_data.csv', usecols=['DateTime4'], parse_dates = ['DateTime4'])\n",
    "day = pd.Timedelta(days=99)\n",
    "df['100day'] = df['DateTime4'] + day\n",
    "df"
   ]
  },
  {
   "cell_type": "code",
   "execution_count": null,
   "id": "3a441fe0",
   "metadata": {},
   "outputs": [],
   "source": []
  }
 ],
 "metadata": {
  "kernelspec": {
   "display_name": "Python 3 (ipykernel)",
   "language": "python",
   "name": "python3"
  },
  "language_info": {
   "codemirror_mode": {
    "name": "ipython",
    "version": 3
   },
   "file_extension": ".py",
   "mimetype": "text/x-python",
   "name": "python",
   "nbconvert_exporter": "python",
   "pygments_lexer": "ipython3",
   "version": "3.8.17"
  }
 },
 "nbformat": 4,
 "nbformat_minor": 5
}
