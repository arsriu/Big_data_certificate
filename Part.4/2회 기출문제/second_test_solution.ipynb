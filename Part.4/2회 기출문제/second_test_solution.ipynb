{
 "cells": [
  {
   "cell_type": "markdown",
   "id": "863f7d85",
   "metadata": {},
   "source": [
    "# 1. 작업형 1"
   ]
  },
  {
   "cell_type": "markdown",
   "id": "13959740",
   "metadata": {},
   "source": [
    "### 1. 주어진 데이터에서 ‘view’ 칼럼을 기준으로 내림차순으로 정렬하고 ‘views’ 칼럼 상위 10개 데이터를 ‘views’칼럼 상위 10번째 값으로 대체한 후 ‘age’ 칼럼이 80 이상인 데이터의 ‘views’ 칼럼의 평균값을 구하시오.(반올림하여 소수 둘째 자리까지 계산)"
   ]
  },
  {
   "cell_type": "code",
   "execution_count": 10,
   "id": "f7b91196",
   "metadata": {},
   "outputs": [
    {
     "name": "stdout",
     "output_type": "stream",
     "text": [
      "5674.04\n"
     ]
    }
   ],
   "source": [
    "import pandas as pd\n",
    "df = pd.read_csv('members.csv')\n",
    "df_10th = df.sort_values('views', ascending = False)['views'].iloc[9]\n",
    "df_sort = df.sort_values('views', ascending = False)[['views', 'age']] \n",
    "df_sort['views'].iloc[:10] = df_10th\n",
    "print(round(df_sort[df_sort['age']>=80]['views'].mean(),2))"
   ]
  },
  {
   "cell_type": "markdown",
   "id": "34c8b2f5",
   "metadata": {},
   "source": [
    "### 2. 주어진 데이터셋에서 앞에서부터 순서대로 80% 데이터만 활용해 ‘f1’ 칼럼 결측치를 중앙값으로 채우기 전후의 표본 표준편차를 구하고, 두 표본 표준편차의 차이를 계산하시오.(두 표본 표준편차 차이는 절댓값으로 계산하고, 반올림하여 소수 둘째 자리까지 계산)"
   ]
  },
  {
   "cell_type": "code",
   "execution_count": 15,
   "id": "dc14cf25",
   "metadata": {},
   "outputs": [
    {
     "name": "stdout",
     "output_type": "stream",
     "text": [
      "3.56\n"
     ]
    }
   ],
   "source": [
    "import pandas as pd\n",
    "df = pd.read_csv('members.csv')\n",
    "df_filter = df[:int(len(df) * 0.8)]\n",
    "a = (df_filter['f1'].std())\n",
    "b = (df_filter['f1'].fillna(df_filter['f1'].median()).std())\n",
    "print(round(abs(a-b),2))"
   ]
  },
  {
   "cell_type": "markdown",
   "id": "e2e3e09a",
   "metadata": {},
   "source": [
    "### 3. 주어진 데이터셋의 ‘age’ 칼럼의 이상치를 모두 더하시오. 이상치는 평균으로부터 ‘표준편차 * 1.5’를 벗어나는 영역을 이상치라고 판단한다. "
   ]
  },
  {
   "cell_type": "code",
   "execution_count": 18,
   "id": "4e4c8c99",
   "metadata": {},
   "outputs": [
    {
     "name": "stdout",
     "output_type": "stream",
     "text": [
      "473.5\n"
     ]
    }
   ],
   "source": [
    "import pandas as pd\n",
    "df = pd.read_csv('members.csv')\n",
    "age_mean = df['age'].mean()\n",
    "age_std = df['age'].std()\n",
    "cond1 = df['age'] > age_mean + (1.5 * age_std)\n",
    "cond2 = df['age'] < age_mean - (1.5 * age_std)\n",
    "print(df[cond1 | cond2]['age'].sum())"
   ]
  },
  {
   "cell_type": "markdown",
   "id": "18dc3b28",
   "metadata": {},
   "source": [
    "# 작업형 2"
   ]
  },
  {
   "cell_type": "markdown",
   "id": "0f965443",
   "metadata": {},
   "source": [
    "### 제품 배송 시간에 맞춰 배송되지 않을 확률값을 예측하시오."
   ]
  },
  {
   "cell_type": "code",
   "execution_count": 38,
   "id": "19b3fa9e",
   "metadata": {},
   "outputs": [
    {
     "name": "stdout",
     "output_type": "stream",
     "text": [
      "0 0\n"
     ]
    }
   ],
   "source": [
    "import pandas as pd\n",
    "X_test = pd.read_csv('X_test.csv')\n",
    "X_train = pd.read_csv('X_train.csv')\n",
    "y_train = pd.read_csv('y_train.csv')\n",
    "print(X_train.isnull().sum().sum(), X_test.isnull().sum().sum())"
   ]
  },
  {
   "cell_type": "code",
   "execution_count": 39,
   "id": "0f03eea7",
   "metadata": {},
   "outputs": [
    {
     "name": "stdout",
     "output_type": "stream",
     "text": [
      "ID                     8799\n",
      "Warehouse_block           5\n",
      "Mode_of_Shipment          3\n",
      "Customer_care_calls       6\n",
      "Customer_rating           5\n",
      "Cost_of_the_Product     215\n",
      "Prior_purchases           8\n",
      "Product_importance        3\n",
      "Gender                    2\n",
      "Discount_offered         65\n",
      "Weight_in_gms          3761\n",
      "dtype: int64\n",
      "----\n",
      "ID                     2200\n",
      "Warehouse_block           5\n",
      "Mode_of_Shipment          3\n",
      "Customer_care_calls       6\n",
      "Customer_rating           5\n",
      "Cost_of_the_Product     206\n",
      "Prior_purchases           8\n",
      "Product_importance        3\n",
      "Gender                    2\n",
      "Discount_offered         65\n",
      "Weight_in_gms          1741\n",
      "dtype: int64\n"
     ]
    }
   ],
   "source": [
    "print(X_train.nunique())\n",
    "print('----')\n",
    "print(X_test.nunique())"
   ]
  },
  {
   "cell_type": "code",
   "execution_count": 40,
   "id": "f2d0c819",
   "metadata": {},
   "outputs": [
    {
     "name": "stdout",
     "output_type": "stream",
     "text": [
      "Warehouse_block 동일함\n",
      "Mode_of_Shipment 동일함\n",
      "Product_importance 동일함\n",
      "Gender 동일함\n"
     ]
    }
   ],
   "source": [
    "object_col = X_train.select_dtypes(include = 'object').columns\n",
    "for col in object_col:\n",
    "    set_Xtrain = set(X_train[col])\n",
    "    set_Xtest = set(X_test[col])\n",
    "    same = (set_Xtrain) == (set_Xtest)\n",
    "    if same : \n",
    "        print(col, \"동일함\")\n",
    "    else:\n",
    "        print(col, \"동일하지 않음\")"
   ]
  },
  {
   "cell_type": "code",
   "execution_count": 33,
   "id": "0863a0ee",
   "metadata": {},
   "outputs": [
    {
     "name": "stdout",
     "output_type": "stream",
     "text": [
      "      ID  Reached.on.Time_Y.N\n",
      "0   8285                 0.47\n",
      "1  10192                 0.47\n",
      "2   8675                 0.40\n",
      "3   5753                 0.41\n",
      "4    448                 0.94\n"
     ]
    }
   ],
   "source": [
    "from sklearn.preprocessing import LabelEncoder\n",
    "le  = LabelEncoder()\n",
    "cols = X_train.select_dtypes(include = 'object').columns\n",
    "for col in cols:\n",
    "    X_train[col] = le.fit_transform(X_train[col])\n",
    "    X_test[col] = le.transform(X_test[col])\n",
    "    \n",
    "X_train = X_train.drop('ID', axis = 1)\n",
    "X_test_id = X_test.pop('ID')\n",
    "\n",
    "from sklearn.model_selection import train_test_split\n",
    "X_train, X_val, y_train, y_val = train_test_split(X_train, y_train['Reached.on.Time_Y.N'],\n",
    "                                                 test_size = 0.2, random_state = 0)\n",
    "from sklearn.ensemble import RandomForestClassifier\n",
    "rf = RandomForestClassifier()\n",
    "rf.fit(X_train, y_train)\n",
    "pred = rf.predict_proba(X_val)\n",
    "from sklearn.metrics import roc_auc_score\n",
    "score = roc_auc_score(y_val, pred[:,1])\n",
    "\n",
    "pred = rf.predict_proba(X_test)\n",
    "submit = pd.DataFrame({'ID' : X_test_id, 'Reached.on.Time_Y.N' : pred[:,1]})\n",
    "print(submit.head())\n",
    "submit.to_csv('result.csv', index= False)"
   ]
  },
  {
   "cell_type": "code",
   "execution_count": 50,
   "id": "d7dd1c4b",
   "metadata": {},
   "outputs": [
    {
     "name": "stdout",
     "output_type": "stream",
     "text": [
      "Index(['Warehouse_block', 'Mode_of_Shipment', 'Product_importance', 'Gender'], dtype='object')\n",
      "0.7685566733735747\n",
      "      ID  Reached.on.Time_Y.N\n",
      "0   8285                 0.74\n",
      "1  10192                 0.77\n",
      "2   8675                 0.74\n",
      "3   5753                 0.80\n",
      "4    448                 0.79\n"
     ]
    }
   ],
   "source": [
    "import pandas as pd\n",
    "X_test = pd.read_csv('X_test.csv')\n",
    "X_train = pd.read_csv('X_train.csv')\n",
    "y_train = pd.read_csv('y_train.csv')\n",
    "\n",
    "from sklearn.preprocessing import LabelEncoder\n",
    "le  = LabelEncoder()\n",
    "cols = X_train.select_dtypes(include = 'object').columns\n",
    "print(cols)\n",
    "for col in cols:\n",
    "    X_train[col] = le.fit_transform(X_train[col])\n",
    "    X_test[col] = le.transform(X_test[col])\n",
    "    \n",
    "X_train = X_train.drop('ID', axis = 1)\n",
    "X_test_id = X_test.pop('ID')\n",
    "\n",
    "from sklearn.preprocessing import MinMaxScaler\n",
    "cols = ['Customer_care_calls', 'Customer_rating', 'Cost_of_the_Product', 'Prior_purchases',\n",
    "       'Discount_offered', 'Weight_in_gms']\n",
    "scaler = MinMaxScaler()\n",
    "X_train[cols] = scaler.fit_transform(X_train[cols])\n",
    "X_test[cols] = scaler.transform(X_test[cols])\n",
    "\n",
    "from sklearn.model_selection import train_test_split\n",
    "X_train, X_val, y_train, y_val = train_test_split(X_train, y_train['Reached.on.Time_Y.N'],\n",
    "                                                 test_size = 0.2, random_state = 0)\n",
    "import lightgbm as lgb\n",
    "from sklearn.metrics import roc_auc_score\n",
    "lg = lgb.LGBMClassifier(random_state = 0, verbose = -1)\n",
    "lg.fit(X_train,y_train)\n",
    "pred = lg.predict_proba(X_val)\n",
    "print(roc_auc_score(y_val, pred[:,1]))\n",
    "\n",
    "pred = rf.predict_proba(X_test)\n",
    "submit = pd.DataFrame({'ID' : X_test_id, 'Reached.on.Time_Y.N' : pred[:,1]})\n",
    "print(submit.head())\n",
    "submit.to_csv('result.csv', index= False)"
   ]
  }
 ],
 "metadata": {
  "kernelspec": {
   "display_name": "Python 3 (ipykernel)",
   "language": "python",
   "name": "python3"
  },
  "language_info": {
   "codemirror_mode": {
    "name": "ipython",
    "version": 3
   },
   "file_extension": ".py",
   "mimetype": "text/x-python",
   "name": "python",
   "nbconvert_exporter": "python",
   "pygments_lexer": "ipython3",
   "version": "3.8.17"
  }
 },
 "nbformat": 4,
 "nbformat_minor": 5
}
