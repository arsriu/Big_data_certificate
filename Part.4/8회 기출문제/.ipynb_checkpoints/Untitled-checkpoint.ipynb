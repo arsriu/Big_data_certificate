{
 "cells": [
  {
   "cell_type": "markdown",
   "id": "28407649",
   "metadata": {},
   "source": [
    "# 1. 작업형 1"
   ]
  },
  {
   "cell_type": "markdown",
   "id": "5176c8ae",
   "metadata": {},
   "source": [
    "### 1-1. 대륙(continent)별 맥주 소비량(’beer_servings’)의 평균을 계산하고, 평균이 가장 큰 대륙을 찾으시오."
   ]
  },
  {
   "cell_type": "code",
   "execution_count": 6,
   "id": "0bcd1f57",
   "metadata": {},
   "outputs": [
    {
     "name": "stdout",
     "output_type": "stream",
     "text": [
      "Europe\n"
     ]
    }
   ],
   "source": [
    "import pandas as pd\n",
    "df = pd.read_csv('drinks.csv')\n",
    "print(df.groupby('continent').mean(numeric_only = True)['beer_servings'].idxmax())"
   ]
  },
  {
   "cell_type": "markdown",
   "id": "10b3e5ef",
   "metadata": {},
   "source": [
    "### 1-2. 1번에서 찾은 대륙에서 맥주 소비량이 5번째로 많은 국가(’country’)의 맥주 소비량을 구하시오."
   ]
  },
  {
   "cell_type": "code",
   "execution_count": 53,
   "id": "a82f3e7c",
   "metadata": {},
   "outputs": [
    {
     "name": "stdout",
     "output_type": "stream",
     "text": [
      "313\n"
     ]
    }
   ],
   "source": [
    "name = df.groupby('continent').mean(numeric_only = True)['beer_servings'].idxmax()\n",
    "print(df[df['continent'] == name].sort_values('beer_servings', ascending = False).iloc[4,1])"
   ]
  },
  {
   "cell_type": "markdown",
   "id": "76869b87",
   "metadata": {},
   "source": [
    "### 2-1. ‘관광객비율’이 두 번째로 높은 국가의 ‘사업’ 방문객 수를 a라고 정의하시오."
   ]
  },
  {
   "cell_type": "code",
   "execution_count": 72,
   "id": "dc34ba28",
   "metadata": {},
   "outputs": [
    {
     "name": "stdout",
     "output_type": "stream",
     "text": [
      "203\n"
     ]
    }
   ],
   "source": [
    "import pandas as pd\n",
    "df = pd.read_csv('tourist.csv')\n",
    "df['합'] = df['관광'] + df['공무'] + df['사업'] + df['기타']\n",
    "df['관광객비율'] = df['관광'] / df['합']\n",
    "print(df.sort_values('관광객비율', ascending = False).iloc[1,3])\n",
    "a= df.sort_values('관광객비율', ascending = False).iloc[1,3]"
   ]
  },
  {
   "cell_type": "markdown",
   "id": "3867c62e",
   "metadata": {},
   "source": [
    "### 2-2. ‘관광’이 두 번째로 높은 국가의 ‘공무’ 방문객 수를 b라고 정의하시오."
   ]
  },
  {
   "cell_type": "code",
   "execution_count": 73,
   "id": "0761869f",
   "metadata": {},
   "outputs": [
    {
     "name": "stdout",
     "output_type": "stream",
     "text": [
      "238\n"
     ]
    }
   ],
   "source": [
    "print(df.sort_values('관광', ascending = False).iloc[1,2])\n",
    "b = df.sort_values('관광', ascending = False).iloc[1,2]"
   ]
  },
  {
   "cell_type": "markdown",
   "id": "bbebc6bf",
   "metadata": {},
   "source": [
    "### 2-3. a와 b의 합을 구하시오."
   ]
  },
  {
   "cell_type": "code",
   "execution_count": 74,
   "id": "515e5d30",
   "metadata": {},
   "outputs": [
    {
     "name": "stdout",
     "output_type": "stream",
     "text": [
      "441\n"
     ]
    }
   ],
   "source": [
    "print(a+b)"
   ]
  },
  {
   "cell_type": "markdown",
   "id": "9ea90c01",
   "metadata": {},
   "source": [
    "### 3-1. 주어진 데이터에서 ‘co’와 ‘nmhc’ 칼럼을 각각 Min-Max 스케일링하시오."
   ]
  },
  {
   "cell_type": "code",
   "execution_count": 79,
   "id": "12c5bfac",
   "metadata": {},
   "outputs": [],
   "source": [
    "import pandas as pd\n",
    "df = pd.read_csv('chem.csv')\n",
    "from sklearn.preprocessing import MinMaxScaler\n",
    "scaler= MinMaxScaler()\n",
    "df['co'] = scaler.fit_transform(df[['co']])\n",
    "df['nmhc'] = scaler.fit_transform(df[['nmhc']])"
   ]
  },
  {
   "cell_type": "markdown",
   "id": "68bad47a",
   "metadata": {},
   "source": [
    "### 3-2. 스케일링된 ‘co’, ‘nmhc’ 칼럼의 표준편차를 각각 구하시오."
   ]
  },
  {
   "cell_type": "code",
   "execution_count": 80,
   "id": "00d95b38",
   "metadata": {},
   "outputs": [
    {
     "name": "stdout",
     "output_type": "stream",
     "text": [
      "0.2856516497116944 0.3030617020578397\n"
     ]
    }
   ],
   "source": [
    "print(df['co'].std(), df['nmhc'].std())"
   ]
  },
  {
   "cell_type": "markdown",
   "id": "ec8bd2cf",
   "metadata": {},
   "source": [
    "### 3-3. ‘co’ 칼럼의 표준편차에서 ‘nmhc’ 칼럼의 표준편차를 뺀 값을 소수점 3자리로 반올림하여 구하시오."
   ]
  },
  {
   "cell_type": "code",
   "execution_count": 81,
   "id": "588808f6",
   "metadata": {},
   "outputs": [
    {
     "name": "stdout",
     "output_type": "stream",
     "text": [
      "-0.017\n"
     ]
    }
   ],
   "source": [
    "print(round(df['co'].std() - df['nmhc'].std(),3))"
   ]
  },
  {
   "cell_type": "markdown",
   "id": "70f51d7c",
   "metadata": {},
   "source": [
    "# 2. 작업형 2"
   ]
  },
  {
   "cell_type": "markdown",
   "id": "49315fff",
   "metadata": {},
   "source": [
    "### 통신사에서 고객에게 청구될 총 금액을 예측하시오. "
   ]
  },
  {
   "cell_type": "code",
   "execution_count": 111,
   "id": "ac5a8a94",
   "metadata": {},
   "outputs": [
    {
     "name": "stdout",
     "output_type": "stream",
     "text": [
      "913.8728058342601\n",
      "          pred\n",
      "0  3453.222208\n",
      "1   941.086373\n",
      "2  3954.084149\n",
      "3   932.527462\n",
      "4  1299.907282\n"
     ]
    }
   ],
   "source": [
    "import pandas as pd\n",
    "train = pd.read_csv('churn_train.csv')\n",
    "test = pd.read_csv('churn_test.csv')\n",
    "target = train.pop('TotalCharges')\n",
    "train = train.drop('customerID', axis = 1)\n",
    "test = test.drop('customerID', axis = 1)\n",
    "\n",
    "df = pd.concat([train,test])\n",
    "df = pd.get_dummies(df)\n",
    "train = df[:len(train)]\n",
    "test = df[len(train) : ]\n",
    "    \n",
    "from sklearn.model_selection import train_test_split\n",
    "X_train, X_val, y_train, y_val = train_test_split(train, target, test_size = 0.2, random_state = 0)\n",
    "\n",
    "from sklearn.ensemble import RandomForestRegressor\n",
    "rf = RandomForestRegressor(max_depth = 5, n_estimators = 50,random_state = 0)\n",
    "rf.fit(X_train, y_train)\n",
    "pred = rf.predict(X_val)\n",
    "from sklearn.metrics import mean_absolute_error\n",
    "score = mean_absolute_error(y_val, pred)\n",
    "print(score)\n",
    "\n",
    "pred = rf.predict(test)\n",
    "submit = pd.DataFrame({'pred' : pred})\n",
    "submit.to_csv('result.csv', index = False)\n",
    "new_df = pd.read_csv('result.csv')\n",
    "print(new_df.head())"
   ]
  },
  {
   "cell_type": "code",
   "execution_count": 113,
   "id": "c5531ffa",
   "metadata": {},
   "outputs": [
    {
     "name": "stdout",
     "output_type": "stream",
     "text": [
      "(1764, 1) (1764, 43)\n"
     ]
    }
   ],
   "source": [
    "print(new_df.shape, test.shape)"
   ]
  },
  {
   "cell_type": "markdown",
   "id": "a5522336",
   "metadata": {},
   "source": [
    "# 3. 작업형 3"
   ]
  },
  {
   "cell_type": "code",
   "execution_count": 114,
   "id": "b83982b8",
   "metadata": {},
   "outputs": [
    {
     "name": "stdout",
     "output_type": "stream",
     "text": [
      "   Churn  AccountWeeks  ContractRenewal  DataPlan  DataUsage  CustServCalls  \\\n",
      "0      0            51                1         0        1.0              0   \n",
      "1      1            61                1         0       -0.2              2   \n",
      "2      0            84                1         1       -1.3              2   \n",
      "3      0            65                1         0        1.0              1   \n",
      "4      0           154                1         0        1.0              0   \n",
      "\n",
      "   DayMins  DayCalls  MonthlyCharge  OverageFee  RoamMins  \n",
      "0    303.7        83           72.5         9.3       3.8  \n",
      "1    194.8        89           66.3        10.9      13.3  \n",
      "2    157.6       109           35.7        10.0      12.5  \n",
      "3    223.1       129           64.2         9.1       5.1  \n",
      "4    137.0       115           40.0         7.7       4.6  \n"
     ]
    }
   ],
   "source": [
    "import pandas as pd\n",
    "df = pd.read_csv('churn.csv')\n",
    "print(df.head())"
   ]
  },
  {
   "cell_type": "markdown",
   "id": "c420935d",
   "metadata": {},
   "source": [
    "### 1-1. 주어진 데이터에서 로지스틱 회귀 분석을 수행해 유의확률이 0.05 이상인 유의하지 않은 독립변수의 개수를 구하시오."
   ]
  },
  {
   "cell_type": "code",
   "execution_count": 134,
   "id": "ab1016be",
   "metadata": {},
   "outputs": [
    {
     "name": "stdout",
     "output_type": "stream",
     "text": [
      "Optimization terminated successfully.\n",
      "         Current function value: 0.393603\n",
      "         Iterations 6\n",
      "8\n"
     ]
    }
   ],
   "source": [
    "from statsmodels.formula.api import logit\n",
    "model = logit('Churn ~ AccountWeeks + ContractRenewal + DataPlan + DataUsage + CustServCalls + DayMins +DayCalls + MonthlyCharge + OverageFee + RoamMins', data = df).fit()\n",
    "print(sum(model.pvalues >=0.05))"
   ]
  },
  {
   "cell_type": "markdown",
   "id": "20a3382d",
   "metadata": {},
   "source": [
    "### 1-2. 유의확률이 0.05 미만인 유의한 변수만을 사용해 다시 로지스틱 회귀 분석을 수행하시오. 이 회귀식의 유의한 회귀 계수(상수항 포함)의 합계를 구하시오.(반올림하여 소수 셋째 자리까지 계산)"
   ]
  },
  {
   "cell_type": "code",
   "execution_count": 135,
   "id": "ca9005ae",
   "metadata": {},
   "outputs": [
    {
     "name": "stdout",
     "output_type": "stream",
     "text": [
      "Optimization terminated successfully.\n",
      "         Current function value: 0.397599\n",
      "         Iterations 6\n",
      "-1.213\n"
     ]
    }
   ],
   "source": [
    "model = logit('Churn ~ DataUsage + DayMins', data = df).fit()\n",
    "print(round(model.params.sum(),3))"
   ]
  },
  {
   "cell_type": "markdown",
   "id": "4e055324",
   "metadata": {},
   "source": [
    "### 1-3. 문제 1-2에서 수행한 로지스틱 회귀식에서 ‘DataUsage’ 변수가 5만큼 증가할 때 오즈비를 구하시오.(반올림 하여 소수 셋째 자리까지 계산)"
   ]
  },
  {
   "cell_type": "code",
   "execution_count": 136,
   "id": "fd5ad3ff",
   "metadata": {},
   "outputs": [
    {
     "name": "stdout",
     "output_type": "stream",
     "text": [
      "0.428\n"
     ]
    }
   ],
   "source": [
    "import numpy as np\n",
    "print(round(np.exp(model.params['DataUsage'] * 5),3))"
   ]
  },
  {
   "cell_type": "markdown",
   "id": "d6b27d2f",
   "metadata": {},
   "source": [
    "### 2-1. 주어진 데이터를 이용해 종속변수(PIQ)와 독립변수(Brain, Height, Weight)로 다중 선형 회귀 분석을 수행하시오. 이때, 유의확률이 가장 작은 변수의 회귀 계수 값을 구하시오.(반올림하여 소수 셋째 자리까지 계산)"
   ]
  },
  {
   "cell_type": "code",
   "execution_count": 148,
   "id": "2e3bb816",
   "metadata": {},
   "outputs": [
    {
     "name": "stdout",
     "output_type": "stream",
     "text": [
      "2.343\n"
     ]
    }
   ],
   "source": [
    "import pandas as pd\n",
    "df = pd.read_csv('piq.csv')\n",
    "from statsmodels.formula.api import ols\n",
    "model = ols('PIQ ~ Brain + Height + Weight', data = df).fit()\n",
    "min_value = model.pvalues.idxmin()\n",
    "print(round(model.params[min_value],3))"
   ]
  },
  {
   "cell_type": "markdown",
   "id": "513866a8",
   "metadata": {},
   "source": [
    "### 2-2. 문제 2-1에서 적합한 모델의 결정 계수 값을 구하시오.(반올림하여 소수 둘째 자리까지 계산)"
   ]
  },
  {
   "cell_type": "code",
   "execution_count": 149,
   "id": "f0b3be8d",
   "metadata": {},
   "outputs": [
    {
     "name": "stdout",
     "output_type": "stream",
     "text": [
      "0.37\n"
     ]
    }
   ],
   "source": [
    "print(round(model.rsquared,2))"
   ]
  },
  {
   "cell_type": "markdown",
   "id": "966a9c40",
   "metadata": {},
   "source": [
    "### 2-3. 뇌 크기(Brain)가 90, 키(Height)가 70, 몸무게(Weight)가 150일때의 PIQ를 예측하시오.(반올림하여 정수로 계산)"
   ]
  },
  {
   "cell_type": "code",
   "execution_count": 150,
   "id": "8869cad7",
   "metadata": {
    "scrolled": true
   },
   "outputs": [
    {
     "name": "stdout",
     "output_type": "stream",
     "text": [
      "0    106.0\n",
      "dtype: float64\n"
     ]
    }
   ],
   "source": [
    "new_data = pd.DataFrame({'Brain' : [90], 'Height' : [70], 'Weight' : [150]})\n",
    "print(round(model.predict(new_data)))"
   ]
  }
 ],
 "metadata": {
  "kernelspec": {
   "display_name": "Python 3 (ipykernel)",
   "language": "python",
   "name": "python3"
  },
  "language_info": {
   "codemirror_mode": {
    "name": "ipython",
    "version": 3
   },
   "file_extension": ".py",
   "mimetype": "text/x-python",
   "name": "python",
   "nbconvert_exporter": "python",
   "pygments_lexer": "ipython3",
   "version": "3.8.17"
  }
 },
 "nbformat": 4,
 "nbformat_minor": 5
}
