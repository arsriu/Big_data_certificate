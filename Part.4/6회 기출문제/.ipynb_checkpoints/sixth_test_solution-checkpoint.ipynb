{
 "cells": [
  {
   "cell_type": "markdown",
   "id": "cc7d50c3",
   "metadata": {},
   "source": [
    "# 작업형 1"
   ]
  },
  {
   "cell_type": "markdown",
   "id": "49a7b937",
   "metadata": {},
   "source": [
    "### 1. 출동시간과 도착시간 차이가 평균적으로 가장 오래 걸린 소방서의 시간을 분으로 변환해 출력하시오."
   ]
  },
  {
   "cell_type": "code",
   "execution_count": 47,
   "id": "4f9dfcd0",
   "metadata": {},
   "outputs": [
    {
     "name": "stdout",
     "output_type": "stream",
     "text": [
      "diff    80.658889\n",
      "Name: 소방서9, dtype: float64\n"
     ]
    }
   ],
   "source": [
    "import pandas as pd\n",
    "df = pd.read_csv('data6-1-1.csv')\n",
    "df['diff'] = pd.to_datetime(df['도착시간']) - pd.to_datetime(df['출동시간'])\n",
    "df['diff'] = df['diff'].dt.total_seconds()/60\n",
    "df_mean = df.groupby('소방서').mean(numeric_only = True)\n",
    "print(df_mean.sort_values('diff', ascending = False).iloc[0])"
   ]
  },
  {
   "cell_type": "markdown",
   "id": "6a20c07a",
   "metadata": {},
   "source": [
    "### 2. 학교에서 교사 한 명당 맡은 학생 수가 가장 많은 학교를 찾고, 그 학교의 전체 교사 수를 구하시오."
   ]
  },
  {
   "cell_type": "code",
   "execution_count": 49,
   "id": "29962c83",
   "metadata": {},
   "outputs": [
    {
     "name": "stdout",
     "output_type": "stream",
     "text": [
      "19\n"
     ]
    }
   ],
   "source": [
    "import pandas as pd\n",
    "df = pd.read_csv('data6-1-2.csv')\n",
    "df['합계'] = df['1학년'] + df['2학년']+ df['3학년'] + df['4학년'] + df['5학년'] + df['6학년']\n",
    "df['명당 배정'] = df['합계']/ df['교사수']\n",
    "print(df.loc[df['명당 배정'].idxmax()]['교사수'])"
   ]
  },
  {
   "cell_type": "markdown",
   "id": "860f03d4",
   "metadata": {},
   "source": [
    "###  3. 연도별로 총 범죄 건수(범죄 유형별 발생 건수의 합)의 월평균 값을 구한 후 그 값이 가장 큰 연도를 찾아 해당 연도의 총 범죄 건수의 월평균 값을 출력하시오.(반올림하여 정수 출력)"
   ]
  },
  {
   "cell_type": "code",
   "execution_count": 61,
   "id": "c0ff0212",
   "metadata": {},
   "outputs": [
    {
     "name": "stdout",
     "output_type": "stream",
     "text": [
      "533\n"
     ]
    }
   ],
   "source": [
    "import pandas as pd\n",
    "df = pd.read_csv('data6-1-3.csv')\n",
    "df['날짜'] = df['날짜'].str[0:4]\n",
    "df_month = df.groupby('날짜').mean(numeric_only = True) \n",
    "df_month['합계'] = df_month['강력범죄'] +df_month['절도범죄'] + df_month['폭력범죄'] + df_month['지능범죄'] + df_month['풍속범죄'] + df_month['교통범죄'] \n",
    "print(round(df_month.loc[df_month['합계'].idxmax(), '합계']))"
   ]
  },
  {
   "cell_type": "markdown",
   "id": "6dbf057d",
   "metadata": {},
   "source": [
    "# 2. 작업형 2"
   ]
  },
  {
   "cell_type": "code",
   "execution_count": 86,
   "id": "ff612c6b",
   "metadata": {},
   "outputs": [
    {
     "name": "stdout",
     "output_type": "stream",
     "text": [
      "0.9319703995747777\n",
      "   pred\n",
      "0   Low\n",
      "1  High\n",
      "2  High\n",
      "3   Low\n",
      "4   Low\n"
     ]
    }
   ],
   "source": [
    "import pandas as pd\n",
    "train = pd.read_csv('energy_train.csv')\n",
    "test = pd.read_csv('energy_test.csv')\n",
    "target = train.pop('Heat_Load')\n",
    "\n",
    "cols = train.select_dtypes(include = 'object').columns\n",
    "df = pd.concat([train,test])\n",
    "df = pd.get_dummies(df)\n",
    "train = df[:len(train)]\n",
    "test = df[len(train) : ]\n",
    "\n",
    "from sklearn.model_selection import train_test_split\n",
    "X_train, X_val, y_train, y_val = train_test_split(train, target, test_size = 0.2, random_state = 0)\n",
    "\n",
    "import lightgbm as lgb\n",
    "lg = lgb.LGBMClassifier(random_state = 0, verbose = -1)\n",
    "lg.fit(X_train, y_train)\n",
    "pred = lg.predict(X_val)\n",
    "from sklearn.metrics import f1_score\n",
    "score = f1_score(y_val, pred, average = 'macro')\n",
    "print(score)\n",
    "\n",
    "pred = lg.predict(test)\n",
    "submit = pd.DataFrame({'pred' : pred})\n",
    "submit.to_csv('result.csv', index = False)\n",
    "new_df =pd.read_csv('result.csv') \n",
    "print(new_df.head())"
   ]
  },
  {
   "cell_type": "markdown",
   "id": "90941771",
   "metadata": {},
   "source": [
    "# 3. 작업형 3"
   ]
  },
  {
   "cell_type": "markdown",
   "id": "3aab83f6",
   "metadata": {},
   "source": [
    "### 1. 감기약 위약(플라시보)을 투여받은 환자의 부작용은 항암약 위약(플라시보)을 투여받은 환자의 부작용과 차이가 있는가? "
   ]
  },
  {
   "cell_type": "markdown",
   "id": "a4258689",
   "metadata": {},
   "source": [
    "### 1-1. 항암약을 투여받은 환자 중 '이상 없음'의 비율을 0과 1 사이로 구하시오."
   ]
  },
  {
   "cell_type": "code",
   "execution_count": 89,
   "id": "1bcd9479",
   "metadata": {},
   "outputs": [
    {
     "name": "stdout",
     "output_type": "stream",
     "text": [
      "0.55\n"
     ]
    }
   ],
   "source": [
    "print(11/20)"
   ]
  },
  {
   "cell_type": "markdown",
   "id": "5a0a48db",
   "metadata": {},
   "source": [
    "### 1 -2. 감기약의 예상 부작용 비율과 항암약의 부작용 관찰값이 통계적으로 유의미하게 차이가 있는지 확인하려한다. 카이제곱 검정을 사용해 검정 통계량을 구하시오."
   ]
  },
  {
   "cell_type": "code",
   "execution_count": 90,
   "id": "2b849db4",
   "metadata": {},
   "outputs": [
    {
     "name": "stdout",
     "output_type": "stream",
     "text": [
      "Power_divergenceResult(statistic=6.976190476190476, pvalue=0.07266054733847571)\n"
     ]
    }
   ],
   "source": [
    "import pandas as pd\n",
    "df = pd.DataFrame({\"항암약\" : [4,4,3,4,1,4,1,4,1,4,4,2,1,4,2,3,2, 4,4,4]})\n",
    "\n",
    "obs = [4, 3, 2, 11]\n",
    "exp = [2, 1, 3, 14]\n",
    "from scipy.stats import chisquare\n",
    "print(chisquare(obs, exp))"
   ]
  },
  {
   "cell_type": "markdown",
   "id": "e655906f",
   "metadata": {},
   "source": [
    "### 1-3. 위의 p-value를 구하시오."
   ]
  },
  {
   "cell_type": "code",
   "execution_count": null,
   "id": "ee4fa65e",
   "metadata": {},
   "outputs": [],
   "source": [
    "# 위의 값을 통해 p-value도 확인할 수 있다."
   ]
  },
  {
   "cell_type": "markdown",
   "id": "4d850d46",
   "metadata": {},
   "source": [
    "### 2. 다중 선형 회귀 모델을 구축하고, 각 소문제에 답하시오."
   ]
  },
  {
   "cell_type": "markdown",
   "id": "02a7ff1d",
   "metadata": {},
   "source": [
    "### 2-1. 주어진 데이터를 기반으로, 다중 선형 회귀 모델을 구축하고, 독립변수 o3의 회귀 계수를 구하시오."
   ]
  },
  {
   "cell_type": "code",
   "execution_count": 94,
   "id": "e8fff218",
   "metadata": {},
   "outputs": [
    {
     "name": "stdout",
     "output_type": "stream",
     "text": [
      "0.07493854378136558\n"
     ]
    }
   ],
   "source": [
    "import pandas as pd\n",
    "df = pd.read_csv('data6-3-2.csv')\n",
    "\n",
    "from statsmodels.formula.api import ols\n",
    "model = ols('temperature ~ solar + wind + o3', data = df).fit()\n",
    "print(model.params['o3'])"
   ]
  },
  {
   "cell_type": "markdown",
   "id": "26bb3d19",
   "metadata": {},
   "source": [
    "### 2-2. 문제 2-1에서 적합한 모델에서 'solar'와 'o3'이 고정된 상태에서 'wind'의 세기가 증가함에 따라 'temperature'가 감소한다. 이 회귀 모델에서 'wind'의 회귀 계수에 대한 p-value를 구하시오."
   ]
  },
  {
   "cell_type": "code",
   "execution_count": 96,
   "id": "93af3a2c",
   "metadata": {},
   "outputs": [
    {
     "name": "stdout",
     "output_type": "stream",
     "text": [
      "0.779717720207165\n"
     ]
    }
   ],
   "source": [
    "print(model.pvalues['wind'])"
   ]
  },
  {
   "cell_type": "markdown",
   "id": "83c15c5a",
   "metadata": {},
   "source": [
    "### 2-3. 문제 2-1에서 적합한 모델에서 solar: 100, wind : 5, o3:30일 때, 예측값을 구하시오."
   ]
  },
  {
   "cell_type": "code",
   "execution_count": 99,
   "id": "9c7338d2",
   "metadata": {},
   "outputs": [
    {
     "name": "stdout",
     "output_type": "stream",
     "text": [
      "21.56163046947968\n"
     ]
    }
   ],
   "source": [
    "new_data = pd.DataFrame({'solar' : [100], 'wind' : [5], 'o3' : [30]})\n",
    "print(model.predict(new_data)[0])"
   ]
  }
 ],
 "metadata": {
  "kernelspec": {
   "display_name": "Python 3 (ipykernel)",
   "language": "python",
   "name": "python3"
  },
  "language_info": {
   "codemirror_mode": {
    "name": "ipython",
    "version": 3
   },
   "file_extension": ".py",
   "mimetype": "text/x-python",
   "name": "python",
   "nbconvert_exporter": "python",
   "pygments_lexer": "ipython3",
   "version": "3.8.17"
  }
 },
 "nbformat": 4,
 "nbformat_minor": 5
}
