{
 "cells": [
  {
   "cell_type": "markdown",
   "id": "2241fe85",
   "metadata": {},
   "source": [
    "# 1. 작업형 1"
   ]
  },
  {
   "cell_type": "markdown",
   "id": "83eba137",
   "metadata": {},
   "source": [
    "### 1. ‘age’ 칼럼의 3사분위수와 1사분위수의 차이를 절댓값으로 구하고, 소수점 이하를 버리고, 정수로 출력하시오."
   ]
  },
  {
   "cell_type": "code",
   "execution_count": 3,
   "id": "28259c8b",
   "metadata": {},
   "outputs": [
    {
     "name": "stdout",
     "output_type": "stream",
     "text": [
      "50\n"
     ]
    }
   ],
   "source": [
    "import pandas as pd\n",
    "df = pd.read_csv('data4-1.csv')\n",
    "print(int(abs(df['age'].quantile(0.75) - df['age'].quantile(0.25))))"
   ]
  },
  {
   "cell_type": "markdown",
   "id": "9289e2ae",
   "metadata": {},
   "source": [
    "### 2. 모든 reactions 중 loves와 wows를 합한 반응 비율이 40%보다 크고 50%보다 작은 데이터를 찾고, 이 중 type 칼럼이 ‘video’인 데이터의 개수를 구하시오. "
   ]
  },
  {
   "cell_type": "code",
   "execution_count": 7,
   "id": "cff5b3e9",
   "metadata": {},
   "outputs": [
    {
     "data": {
      "text/plain": [
       "90"
      ]
     },
     "execution_count": 7,
     "metadata": {},
     "output_type": "execute_result"
    }
   ],
   "source": [
    "import pandas as pd\n",
    "df = pd.read_csv('data4-2.csv')\n",
    "df['ratio'] = (df['loves'] + df['wows']) / df['reactions']\n",
    "cond1 = df['ratio'] > 0.4\n",
    "cond2 = df['ratio'] < 0.5\n",
    "cond3 = df['type'] == 'video'\n",
    "len(df[cond1&cond2&cond3])"
   ]
  },
  {
   "cell_type": "markdown",
   "id": "1987b1f2",
   "metadata": {},
   "source": [
    "### 3. ‘date_added’ 칼럼 날짜가 2018년 1월이면서 ‘country’에서 United Kingdom 단독 제작인 데이터의 개수를 구하시오."
   ]
  },
  {
   "cell_type": "code",
   "execution_count": 14,
   "id": "cb1c6b29",
   "metadata": {},
   "outputs": [
    {
     "name": "stdout",
     "output_type": "stream",
     "text": [
      "6\n"
     ]
    }
   ],
   "source": [
    "import pandas as pd\n",
    "df = pd.read_csv('data4-3.csv')\n",
    "cond1 =  df['date_added'].str.split().str[0] == 'January'\n",
    "cond2 = df['date_added'].str.split().str[-1] == '2018'\n",
    "cond3 = df['country'] == 'United Kingdom'\n",
    "print(len(df[cond1&cond2&cond3]))"
   ]
  },
  {
   "cell_type": "markdown",
   "id": "9567b89a",
   "metadata": {},
   "source": [
    "# 2. 작업형 2"
   ]
  },
  {
   "cell_type": "markdown",
   "id": "cd15aaeb",
   "metadata": {},
   "source": [
    "### 고객의 개인 정보와 행동 패턴을 기반으로 고객의 세분화(Segmentation) 결과를 예측하시오."
   ]
  },
  {
   "cell_type": "code",
   "execution_count": 14,
   "id": "b3af8b4c",
   "metadata": {
    "scrolled": true
   },
   "outputs": [
    {
     "name": "stdout",
     "output_type": "stream",
     "text": [
      "0.5412871352631483\n"
     ]
    }
   ],
   "source": [
    "import pandas as pd\n",
    "train = pd.read_csv('train.csv')\n",
    "test = pd.read_csv('test.csv')\n",
    "target = train.pop('Segmentation')\n",
    "\n",
    "from sklearn.preprocessing import StandardScaler\n",
    "scaler = StandardScaler()\n",
    "cols = ['ID', 'Age', 'Work_Experience', 'Family_Size']\n",
    "train[cols] = scaler.fit_transform(train[cols])\n",
    "test[cols] = scaler.transform(test[cols])\n",
    "\n",
    "train = pd.get_dummies(train)\n",
    "test = pd.get_dummies(test)\n",
    "\n",
    "from sklearn.model_selection import train_test_split\n",
    "X_train, X_val, y_train, y_val = train_test_split(train, target, test_size =0.2, random_state = 0)\n",
    "\n",
    "import lightgbm as lgb\n",
    "lg = lgb.LGBMClassifier(random_state = 0, verbose = -1)\n",
    "lg.fit(X_train, y_train)\n",
    "pred = lg.predict(X_val)\n",
    "from sklearn.metrics import f1_score\n",
    "score = f1_score(y_val, pred, average = 'macro')\n",
    "print(score)\n",
    "\n",
    "pred = rf.predict(test)\n",
    "submit = pd.DataFrame({'ID' : train['ID'], 'Segmentation' : pred})\n",
    "submit.to_csv('result.csv', index= False)"
   ]
  },
  {
   "cell_type": "code",
   "execution_count": null,
   "id": "e30c98a8",
   "metadata": {},
   "outputs": [],
   "source": [
    "# 라벨 인코더 : 0.5207983347962359\n",
    "# randomforest 모델의 n_estimators : 20, 0.5212944182413779"
   ]
  }
 ],
 "metadata": {
  "kernelspec": {
   "display_name": "Python 3 (ipykernel)",
   "language": "python",
   "name": "python3"
  },
  "language_info": {
   "codemirror_mode": {
    "name": "ipython",
    "version": 3
   },
   "file_extension": ".py",
   "mimetype": "text/x-python",
   "name": "python",
   "nbconvert_exporter": "python",
   "pygments_lexer": "ipython3",
   "version": "3.8.17"
  }
 },
 "nbformat": 4,
 "nbformat_minor": 5
}
