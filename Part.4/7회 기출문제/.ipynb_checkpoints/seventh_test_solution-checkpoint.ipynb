{
 "cells": [
  {
   "cell_type": "markdown",
   "id": "a22461c6",
   "metadata": {},
   "source": [
    "# 1. 작업형 1"
   ]
  },
  {
   "cell_type": "markdown",
   "id": "e122877c",
   "metadata": {},
   "source": [
    "### 1. 결측치가 있는 행을 제거한 후 학생이 가장 많이 수강한 과목을 찾고, 해당 과목 점수를 표준화(스탠다드 스케일)한 다음 가장 큰 표준화된 값을 구하시오.(반올림하여 소수 셋째 자리까지 계산)"
   ]
  },
  {
   "cell_type": "code",
   "execution_count": 26,
   "id": "f5ed5ab2",
   "metadata": {},
   "outputs": [
    {
     "name": "stdout",
     "output_type": "stream",
     "text": [
      "2.183\n"
     ]
    }
   ],
   "source": [
    "import pandas as pd\n",
    "df = pd.read_csv('student_assessment.csv')\n",
    "df = df.dropna()\n",
    "df_copy = df.groupby('id_assessment')['student_id'].count()\n",
    "df_idxmax = df_copy.idxmax()\n",
    "result = df[df['id_assessment'] == df_idxmax]['score']\n",
    "new_df = pd.DataFrame({'result' : result})\n",
    "from sklearn.preprocessing import StandardScaler\n",
    "scaler = StandardScaler()\n",
    "scaler_after = scaler.fit_transform(new_df)\n",
    "print(round(scaler_after.max(),3))"
   ]
  },
  {
   "cell_type": "markdown",
   "id": "746a01aa",
   "metadata": {},
   "source": [
    "### 2. DE1 ~ DE77 칼럼 중 주가지수의 종가 ‘close’와 가장 상관 관계가 높은 변수를 찾아 해당 변수의 평균값을 구하시오."
   ]
  },
  {
   "cell_type": "code",
   "execution_count": 48,
   "id": "27224c16",
   "metadata": {},
   "outputs": [
    {
     "name": "stdout",
     "output_type": "stream",
     "text": [
      "-0.0004\n"
     ]
    }
   ],
   "source": [
    "import pandas as pd\n",
    "df_corr = df.corr()['close'].abs()\n",
    "col = df_corr.loc['DE1' : 'DE77'].idxmax()\n",
    "print(round(df[col].mean(), 4))"
   ]
  },
  {
   "cell_type": "markdown",
   "id": "09abbf8a",
   "metadata": {},
   "source": [
    "### 3.  IQR을 이용해 이상화탄소($CO_2$) 이상치 수를 찾으시오."
   ]
  },
  {
   "cell_type": "code",
   "execution_count": 63,
   "id": "f14f0267",
   "metadata": {},
   "outputs": [
    {
     "name": "stdout",
     "output_type": "stream",
     "text": [
      "304\n"
     ]
    }
   ],
   "source": [
    "import pandas as pd\n",
    "df = pd.read_csv('air_quality.csv')\n",
    "up = df['CO2'].quantile(0.75)\n",
    "down = df['CO2'].quantile(0.25)\n",
    "iqr = up - down\n",
    "cond1 = df['CO2'] > up + (1.5* iqr)\n",
    "cond2 = df['CO2'] < down - (1.5 * iqr)\n",
    "print(len(df[cond1 | cond2]))"
   ]
  },
  {
   "cell_type": "markdown",
   "id": "2816d1c3",
   "metadata": {},
   "source": [
    "# 작업형 2"
   ]
  },
  {
   "cell_type": "markdown",
   "id": "04105a32",
   "metadata": {},
   "source": [
    "### W - mart 매장의 판매 데이터를 기반으로 판매액을 예측하시오."
   ]
  },
  {
   "cell_type": "code",
   "execution_count": 91,
   "id": "4aeb44ee",
   "metadata": {},
   "outputs": [],
   "source": [
    "import pandas as pd\n",
    "train = pd.read_csv('mart_train.csv')\n",
    "test = pd.read_csv('mart_test.csv')\n",
    "target = train.pop('total')\n",
    "\n",
    "from sklearn.preprocessing import LabelEncoder\n",
    "le = LabelEncoder()\n",
    "cols = train.select_dtypes(include = 'object').columns\n",
    "df = pd.concat([train, test])\n",
    "df = pd.get_dummies(df)\n",
    "train = df[:len(train)]\n",
    "test = df[len(train) :]\n",
    "    \n",
    "from sklearn.model_selection import train_test_split\n",
    "X_train, X_val, y_train, y_val = train_test_split(train, target, test_size = 0.2, random_state = 0)\n",
    "\n",
    "from sklearn.ensemble import RandomForestRegressor\n",
    "rf = RandomForestRegressor(random_state = 0)\n",
    "rf.fit(X_train, y_train)\n",
    "pred = rf.predict(X_val)\n",
    "from sklearn.metrics import mean_squared_error\n",
    "score = mean_squared_error(y_val, pred)\n",
    "\n",
    "pred  = rf.predict(test)\n",
    "submit = pd.DataFrame({'pred' : pred})\n",
    "submit.to_csv('result.csv', index = False)\n"
   ]
  },
  {
   "cell_type": "markdown",
   "id": "1e026b0b",
   "metadata": {},
   "source": [
    "# 3. 작업형 3"
   ]
  },
  {
   "cell_type": "markdown",
   "id": "a3f3975e",
   "metadata": {},
   "source": [
    "### 1. 조개 정보를 나타낸 데이터다. 주어진 데이터에서 300개 중 앞에서부터 210개는 train으로, 90개는 테스트 데이터로 나눈다. 모델을 학습(적합)할 때는 train 데이터를 사용하고, 예측할 때는 test 데이터를 사용한다. 모델은 다중 로지스틱 회귀를 써서 성별(gender)을 예측하되, 페널티는 부과하지 않는다."
   ]
  },
  {
   "cell_type": "markdown",
   "id": "43ca3b4a",
   "metadata": {},
   "source": [
    "### 1. weight를 독립변수, gender를 종속변수로 사용해 로지스틱 회귀 모델을 만들고, weight 변수가 한 단위 증가할 때 수컷일 오즈비 값은? (반올림하여 소수 넷째 자리 까지 계산)"
   ]
  },
  {
   "cell_type": "code",
   "execution_count": 103,
   "id": "d7d651e0",
   "metadata": {},
   "outputs": [
    {
     "name": "stdout",
     "output_type": "stream",
     "text": [
      "Optimization terminated successfully.\n",
      "         Current function value: 0.690045\n",
      "         Iterations 4\n",
      "1.0047\n"
     ]
    }
   ],
   "source": [
    "import pandas as pd\n",
    "df = pd.read_csv('clam.csv')\n",
    "train = df.iloc[:210]\n",
    "test = df.iloc[210:]\n",
    "from statsmodels.formula.api import logit\n",
    "import numpy as np\n",
    "model = logit('gender ~ weight', data = train).fit()\n",
    "print(round(np.exp(model.params['weight']),4))"
   ]
  },
  {
   "cell_type": "markdown",
   "id": "973512a5",
   "metadata": {},
   "source": [
    "### 2. gender를 종속변수로 하고 나머지 변수들(age, length, diameter, height, weight)을 독립변수로 사용하는 로지스틱 회귀 모델을 적합시킨 후 잔차 이탈도를 계산하시오.(반올림하여 소수 둘째 자리까지 계산)"
   ]
  },
  {
   "cell_type": "code",
   "execution_count": 105,
   "id": "593470b1",
   "metadata": {},
   "outputs": [
    {
     "name": "stdout",
     "output_type": "stream",
     "text": [
      "Optimization terminated successfully.\n",
      "         Current function value: 0.683173\n",
      "         Iterations 4\n",
      "286.93\n"
     ]
    }
   ],
   "source": [
    "from statsmodels.formula.api import logit\n",
    "model = logit('gender ~ age + length + diameter + height + weight', data = train).fit()\n",
    "print(round(model.llf*(-2),2))"
   ]
  },
  {
   "cell_type": "markdown",
   "id": "491fdd77",
   "metadata": {},
   "source": [
    "### 3. 독립변수 weight만 사용해 학습한 모델에서 test 데이터의 gender를 예측하고, Error rate를 구하시오.(반올림하여 소수 셋째 자리까지 계산)"
   ]
  },
  {
   "cell_type": "code",
   "execution_count": 122,
   "id": "e65265c9",
   "metadata": {},
   "outputs": [
    {
     "name": "stdout",
     "output_type": "stream",
     "text": [
      "Optimization terminated successfully.\n",
      "         Current function value: 0.690045\n",
      "         Iterations 4\n",
      "0.478\n"
     ]
    }
   ],
   "source": [
    "import pandas as pd\n",
    "df = pd.read_csv('clam.csv')\n",
    "train = df.iloc[:210]\n",
    "test = df.iloc[210:]\n",
    "model = logit('gender ~ weight', data = train).fit()\n",
    "val = test.pop('gender')\n",
    "pred = model.predict(test)\n",
    "pred = (pred>0.5).astype(int)\n",
    "\n",
    "from sklearn.metrics import accuracy_score\n",
    "accuracy_score = accuracy_score(val, pred)\n",
    "error_rate = 1 - accuracy_score\n",
    "print(round(error_rate,3))"
   ]
  },
  {
   "cell_type": "markdown",
   "id": "4585441e",
   "metadata": {},
   "source": [
    "### 2-1. ERP와 가장 상관 관계가 높은 값을 구하시오.(반올림하여 소수 셋째 자리까지 계산)"
   ]
  },
  {
   "cell_type": "code",
   "execution_count": 135,
   "id": "f182762f",
   "metadata": {},
   "outputs": [
    {
     "name": "stdout",
     "output_type": "stream",
     "text": [
      "0.882\n"
     ]
    }
   ],
   "source": [
    "import pandas as pd\n",
    "df = pd.read_csv('system_cpu.csv')\n",
    "print(round(df.corr()['ERP'].sort_values(ascending = False)[1],3))"
   ]
  },
  {
   "cell_type": "markdown",
   "id": "ffa90a0b",
   "metadata": {},
   "source": [
    "### 2-2. CPU 칼럼이 100 미만인 것만 찾아 ERP를 종속변수, 나머지 변수들을 독립변수로 설정해 선형 회귀 모델을 만들고 적합한 결정 계수를 구하시오.(반올림하여 소수 셋째 자리까지 계산)"
   ]
  },
  {
   "cell_type": "code",
   "execution_count": 148,
   "id": "4e900aaa",
   "metadata": {},
   "outputs": [
    {
     "name": "stdout",
     "output_type": "stream",
     "text": [
      "0.755\n"
     ]
    }
   ],
   "source": [
    "import pandas as pd\n",
    "df = pd.read_csv('system_cpu.csv')\n",
    "df = df[df['CPU'] < 100]\n",
    "from statsmodels.formula.api import ols\n",
    "model = ols('ERP ~ Feature1 + Feature2 + Feature3 + CPU', data = df).fit()\n",
    "print(round(model.rsquared,3))\n",
    "      "
   ]
  },
  {
   "cell_type": "markdown",
   "id": "4f7a2d3f",
   "metadata": {},
   "source": [
    "### 2-3. 문제 2-2에서 만든 모델에서 독립변수 중 p-value가 가장 높은 값을 구하시오.(반올림하여 소수 셋째 자리까지 계산)"
   ]
  },
  {
   "cell_type": "code",
   "execution_count": 153,
   "id": "cb2f0a48",
   "metadata": {},
   "outputs": [
    {
     "name": "stdout",
     "output_type": "stream",
     "text": [
      "0.684\n"
     ]
    }
   ],
   "source": [
    "print(round(model.pvalues.max(),3))"
   ]
  }
 ],
 "metadata": {
  "kernelspec": {
   "display_name": "Python 3 (ipykernel)",
   "language": "python",
   "name": "python3"
  },
  "language_info": {
   "codemirror_mode": {
    "name": "ipython",
    "version": 3
   },
   "file_extension": ".py",
   "mimetype": "text/x-python",
   "name": "python",
   "nbconvert_exporter": "python",
   "pygments_lexer": "ipython3",
   "version": "3.8.17"
  }
 },
 "nbformat": 4,
 "nbformat_minor": 5
}
