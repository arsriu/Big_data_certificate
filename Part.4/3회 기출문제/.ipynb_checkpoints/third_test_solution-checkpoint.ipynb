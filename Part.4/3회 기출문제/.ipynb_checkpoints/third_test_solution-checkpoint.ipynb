{
 "cells": [
  {
   "cell_type": "markdown",
   "id": "7434d27c",
   "metadata": {},
   "source": [
    "# 1. 작업형 1"
   ]
  },
  {
   "cell_type": "markdown",
   "id": "e2538519",
   "metadata": {},
   "source": [
    "### 1. 결측치가 있는 데이터의 행(레코드)을 제거하고, 앞에서부터 70% 데이터만 활용해 ‘f1’ 칼럼 1사분위 값을 구하시오.(소수점 제거 후 정수 출력)"
   ]
  },
  {
   "cell_type": "code",
   "execution_count": 7,
   "id": "c4a42fb2",
   "metadata": {},
   "outputs": [
    {
     "name": "stdout",
     "output_type": "stream",
     "text": [
      "57\n"
     ]
    }
   ],
   "source": [
    "import pandas as pd\n",
    "df = pd.read_csv('members.csv')\n",
    "df = df.dropna()\n",
    "print(int(df[:int(len(df) * 0.7)]['f1'].quantile(0.25)))"
   ]
  },
  {
   "cell_type": "markdown",
   "id": "22d57166",
   "metadata": {},
   "source": [
    "### 2.  2000년 데이터 중 2000년 평균보다 큰 값의 데이터의 수를 구하시오.(index : 연도)"
   ]
  },
  {
   "cell_type": "code",
   "execution_count": 25,
   "id": "af32f8bc",
   "metadata": {},
   "outputs": [
    {
     "name": "stdout",
     "output_type": "stream",
     "text": [
      "100\n"
     ]
    }
   ],
   "source": [
    "import pandas as pd\n",
    "df = pd.read_csv('year.csv', index_col = 'Unnamed: 0')\n",
    "df = df.T\n",
    "df_2000 = df[2000]\n",
    "print(len(df_2000[df_2000 > df_2000.mean()]))"
   ]
  },
  {
   "cell_type": "markdown",
   "id": "ce057e61",
   "metadata": {},
   "source": [
    "### 3. 결측치가 가장 많은 칼럼명을 출력하시오."
   ]
  },
  {
   "cell_type": "code",
   "execution_count": 29,
   "id": "9fc34987",
   "metadata": {},
   "outputs": [
    {
     "name": "stdout",
     "output_type": "stream",
     "text": [
      "f1\n"
     ]
    }
   ],
   "source": [
    "import pandas as pd\n",
    "df = pd.read_csv('members.csv')\n",
    "print(df.isnull().sum().idxmax())"
   ]
  },
  {
   "cell_type": "markdown",
   "id": "ba50e3f5",
   "metadata": {},
   "source": [
    "# 2. 작업형 2"
   ]
  },
  {
   "cell_type": "markdown",
   "id": "035917d8",
   "metadata": {},
   "source": [
    "### 1. 여행 보험 패키지 상품을 구매할 확률값을 예측하시오."
   ]
  },
  {
   "cell_type": "code",
   "execution_count": 61,
   "id": "bb218dfe",
   "metadata": {},
   "outputs": [
    {
     "name": "stdout",
     "output_type": "stream",
     "text": [
      "0.8611842105263158\n",
      "   y_pred\n",
      "0    0.21\n",
      "1    0.09\n",
      "2    0.10\n",
      "3    0.99\n",
      "4    0.15\n"
     ]
    }
   ],
   "source": [
    "import pandas as pd\n",
    "train = pd.read_csv('train.csv')\n",
    "test = pd.read_csv('test.csv')\n",
    "\n",
    "target = train.pop('TravelInsurance')\n",
    "\n",
    "from sklearn.preprocessing import RobustScalerW\n",
    "scaler = RobustScaler()\n",
    "cols = ['Age','AnnualIncome', 'FamilyMembers', 'ChronicDiseases' ]\n",
    "train[cols] = scaler.fit_transform(train[cols])\n",
    "test[cols] = scaler.transform(test[cols])\n",
    "\n",
    "from sklearn.preprocessing import LabelEncoder\n",
    "cols = ['Employment Type', 'GraduateOrNot', 'FrequentFlyer', 'EverTravelledAbroad']\n",
    "for col in cols:\n",
    "    le = LabelEncoder()\n",
    "    train[col] = le.fit_transform(train[col])\n",
    "    test[col] = le.transform(test[col])\n",
    "\n",
    "from sklearn.model_selection import train_test_split\n",
    "X_train, X_val, y_train, y_val = train_test_split(train, target, random_state = 0, test_size = 0.2)\n",
    "from sklearn.ensemble import RandomForestClassifier\n",
    "rf = RandomForestClassifier(random_state = 0)\n",
    "rf.fit(X_train, y_train)\n",
    "pred = rf.predict_proba(X_val)\n",
    "from sklearn.metrics import roc_auc_score\n",
    "score = roc_auc_score(y_val, pred[:,1])\n",
    "print(score) \n",
    "\n",
    "pred = rf.predict_proba(test)\n",
    "submit = pd.DataFrame({'y_pred' : pred[:,1]})\n",
    "submit.to_csv('result.csv', index = False)\n",
    "\n",
    "result = pd.read_csv('result.csv')\n",
    "print(result.head())"
   ]
  }
 ],
 "metadata": {
  "kernelspec": {
   "display_name": "Python 3 (ipykernel)",
   "language": "python",
   "name": "python3"
  },
  "language_info": {
   "codemirror_mode": {
    "name": "ipython",
    "version": 3
   },
   "file_extension": ".py",
   "mimetype": "text/x-python",
   "name": "python",
   "nbconvert_exporter": "python",
   "pygments_lexer": "ipython3",
   "version": "3.8.17"
  }
 },
 "nbformat": 4,
 "nbformat_minor": 5
}
