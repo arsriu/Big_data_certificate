{
 "cells": [
  {
   "cell_type": "markdown",
   "id": "a66cae8b",
   "metadata": {},
   "source": [
    "# 1. 작업형 1"
   ]
  },
  {
   "cell_type": "markdown",
   "id": "7ec2cf3c",
   "metadata": {},
   "source": [
    "### 1. 각 지역코드 내에서 성별별 (1과 2)로 총 대출액의 합계를 계산하시오. 이후, 성별 간 총 대출액의 차이가 가장 큰 지역코드를 구하시오.(단, 차이는 절댓값 기준)(단, 총 대출액은 신용대출과 담보대출을 더한 값이다.)"
   ]
  },
  {
   "cell_type": "code",
   "execution_count": 55,
   "id": "6aa6c882",
   "metadata": {},
   "outputs": [
    {
     "name": "stdout",
     "output_type": "stream",
     "text": [
      "4100000278\n"
     ]
    }
   ],
   "source": [
    "import pandas as pd\n",
    "df = pd.read_csv('loan.csv')\n",
    "df = df.groupby(['지역코드', '성별']).sum()\n",
    "df['총합'] = df['신용대출'] + df['담보대출']\n",
    "new_list = []\n",
    "i = 0 \n",
    "for row in df['총합'] : \n",
    "    if i == 0 :\n",
    "        i += 1 \n",
    "        first = row\n",
    "        continue\n",
    "    else:\n",
    "        new_list.append(abs(first - row))\n",
    "        i = 0\n",
    "print(str(4100000) + str(new_list.index(max(new_list))))"
   ]
  },
  {
   "cell_type": "code",
   "execution_count": 56,
   "id": "9751174c",
   "metadata": {},
   "outputs": [
    {
     "name": "stdout",
     "output_type": "stream",
     "text": [
      "지역코드        성별\n",
      "4100000000  1     22891981\n",
      "            2     18339609\n",
      "4100000001  1     34197683\n",
      "            2     17595557\n",
      "4100000002  1     13119017\n",
      "                    ...   \n",
      "4100000589  2     17797635\n",
      "4100000590  1     16813363\n",
      "            2     23655928\n",
      "4100000591  1     20674327\n",
      "            2     12204772\n",
      "Name: 총대출액, Length: 1184, dtype: int64\n",
      "성별                 1         2\n",
      "지역코드                          \n",
      "4100000000  22891981  18339609\n",
      "4100000001  34197683  17595557\n",
      "4100000002  13119017  21827691\n",
      "4100000003  16549091  54654134\n",
      "4100000004  26831399  56145359\n",
      "...              ...       ...\n",
      "4100000587   9050332  19445103\n",
      "4100000588  47396699  36281031\n",
      "4100000589  28256320  17797635\n",
      "4100000590  16813363  23655928\n",
      "4100000591  20674327  12204772\n",
      "\n",
      "[592 rows x 2 columns]\n"
     ]
    }
   ],
   "source": [
    "import pandas as pd\n",
    "df = pd.read_csv(\"loan.csv\")\n",
    "\n",
    "df['총대출액'] = df['신용대출'] + df['담보대출']\n",
    "before_unstack = df.groupby(['지역코드', '성별'])['총대출액'].sum()\n",
    "print(before_unstack)\n",
    "grouped = before_unstack.unstack()\n",
    "print(grouped)"
   ]
  },
  {
   "cell_type": "markdown",
   "id": "b35a29dd",
   "metadata": {},
   "source": [
    "### 2. 각 연도별로 검거율 = 검거건수 / 발생 건수를 계산한 후, 가장 높은 검거율을 기록한 범죄유형을 식별하시오. 그 후, 해당 연도와 범죄유형에 해당하는 모든 검거건수의 총합을 구하시오."
   ]
  },
  {
   "cell_type": "code",
   "execution_count": 215,
   "id": "dc8be0d5",
   "metadata": {},
   "outputs": [
    {
     "name": "stdout",
     "output_type": "stream",
     "text": [
      "0    특별경제범죄\n",
      "1      절도범죄\n",
      "2      폭력범죄\n",
      "3      마약범죄\n",
      "4      강력범죄\n",
      "5      보건범죄\n",
      "6      지능범죄\n",
      "dtype: object\n"
     ]
    }
   ],
   "source": [
    "import pandas as pd\n",
    "df = pd.read_csv(\"crime.csv\")\n",
    "df_g = df[df['구분'] == '검거건수'].reset_index(drop = True).drop('구분', axis = 1)\n",
    "df_b = df[df['구분'] == '발생건수'].reset_index(drop = True).drop('구분', axis = 1)\n",
    "df_d = df_g/df_b\n",
    "df_d = df_d.drop('연도', axis = 1)\n",
    "df_d = df_d.T\n",
    "df_0 = df_d.idxmax()\n",
    "print(df_0)"
   ]
  },
  {
   "cell_type": "code",
   "execution_count": 217,
   "id": "ccec827f",
   "metadata": {},
   "outputs": [
    {
     "name": "stdout",
     "output_type": "stream",
     "text": [
      "7799\n"
     ]
    }
   ],
   "source": [
    "on = df.iloc[1, 7]\n",
    "tw = df.iloc[3,3]\n",
    "th = df.iloc[5,4]\n",
    "fo = df.iloc[7,8]\n",
    "fi = df.iloc[9,2]\n",
    "si = df.iloc[11,9]\n",
    "se = df.iloc[13,5]\n",
    "print(on + tw+th+fo+fi+si+se)"
   ]
  },
  {
   "cell_type": "markdown",
   "id": "aae3ca21",
   "metadata": {},
   "source": [
    "### 3. 만족도의 결측치는 전체 평균값으로 대체한다. 근속연수의 결측치는 동일한 부서 및 성과등급을 가진 직원들의 평균 근속연수로 대체한다. 이때, 평균 근속 연수는 소수점 버리 처리(정수)후 대체한다."
   ]
  },
  {
   "cell_type": "code",
   "execution_count": 328,
   "id": "42735e3b",
   "metadata": {},
   "outputs": [
    {
     "name": "stdout",
     "output_type": "stream",
     "text": [
      "0      11.517857\n",
      "1      11.814815\n",
      "2      10.852459\n",
      "3      10.622642\n",
      "4      10.525424\n",
      "         ...    \n",
      "995    10.166667\n",
      "996    10.525424\n",
      "997    11.032258\n",
      "998    11.032258\n",
      "999    11.814815\n",
      "Name: 근속연수, Length: 1000, dtype: float64\n"
     ]
    }
   ],
   "source": [
    "import pandas as pd\n",
    "df = pd.read_csv('hr.csv')\n",
    "df['만족도'] = df['만족도'].fillna(df['만족도'].mean())\n",
    "df_table_1 = df.groupby(['부서','성과등급'])['근속연수'].mean().unstack()\n",
    "gm = df.groupby([\"부서\", \"성과등급\"])[\"근속연수\"].transform(\"mean\")\n",
    "print(gm)\n",
    "# df_filter = df[df['근속연수'].isnull() == True][['부서', '성과등급','근속연수']]\n",
    "# for ind in df_filter.T:\n",
    "#     a = df.loc[ind]['부서']\n",
    "#     b = df.loc[ind]['성과등급']\n",
    "#     c = int(df_table.loc[a,b])\n",
    "#     df = df.fillna(c) "
   ]
  },
  {
   "cell_type": "markdown",
   "id": "e6c5277a",
   "metadata": {},
   "source": [
    "### 1. 각 직원의 연봉 / 근속연수 값을 계산하여, 이 값이 세 번째로 큰 직원의 근속연수를 구하시오. "
   ]
  },
  {
   "cell_type": "code",
   "execution_count": 322,
   "id": "acb92741",
   "metadata": {},
   "outputs": [
    {
     "name": "stdout",
     "output_type": "stream",
     "text": [
      "1.0\n"
     ]
    }
   ],
   "source": [
    "df['new'] = df['연봉']/df['근속연수'] \n",
    "df = df.sort_values('new', ascending = False)\n",
    "print(df.iloc[2,4])"
   ]
  },
  {
   "cell_type": "markdown",
   "id": "6d487626",
   "metadata": {},
   "source": [
    "### 2. 각 지원의 연봉 / 만족도 값을 계산하여, 이 값이 두 번째로 큰 직원의 교육참가횟수를 구하시오."
   ]
  },
  {
   "cell_type": "code",
   "execution_count": 323,
   "id": "524257f9",
   "metadata": {},
   "outputs": [
    {
     "name": "stdout",
     "output_type": "stream",
     "text": [
      "6\n"
     ]
    }
   ],
   "source": [
    "df['new_new'] = df['연봉'] / df['만족도']\n",
    "df = df.sort_values('new_new', ascending = False)\n",
    "print(df.iloc[1,5])"
   ]
  },
  {
   "cell_type": "markdown",
   "id": "98a81ddc",
   "metadata": {},
   "source": [
    "### 3. 최종 제출은 1 + 2에서 구한 값을 더하여 정수로 제출한다."
   ]
  },
  {
   "cell_type": "code",
   "execution_count": 324,
   "id": "0d750cee",
   "metadata": {},
   "outputs": [
    {
     "name": "stdout",
     "output_type": "stream",
     "text": [
      "7\n"
     ]
    }
   ],
   "source": [
    "print(1 + 6)"
   ]
  },
  {
   "cell_type": "markdown",
   "id": "a05e99ea",
   "metadata": {},
   "source": [
    "# 2. 작업형 2"
   ]
  },
  {
   "cell_type": "markdown",
   "id": "a32c454d",
   "metadata": {},
   "source": [
    "### 농작물에서의 농약 검출 여부(농약검출여부)를 예측하는 모델을 학습용 데이터를 기반으로 구축하고, 이를 평가용 데이터에 적용하여 예측 결과를 제출하시오."
   ]
  },
  {
   "cell_type": "code",
   "execution_count": 387,
   "id": "7a608181",
   "metadata": {},
   "outputs": [
    {
     "name": "stdout",
     "output_type": "stream",
     "text": [
      "0.8894385909144337\n",
      "     pred\n",
      "0       2\n",
      "1       0\n",
      "2       0\n",
      "3       2\n",
      "4       0\n",
      "..    ...\n",
      "995     2\n",
      "996     2\n",
      "997     2\n",
      "998     2\n",
      "999     0\n",
      "\n",
      "[1000 rows x 1 columns]\n"
     ]
    }
   ],
   "source": [
    "import pandas as pd\n",
    "train = pd.read_csv(\"farm_train.csv\")\n",
    "test = pd.read_csv(\"farm_test.csv\")\n",
    "\n",
    "target = train.pop('농약검출여부')\n",
    "cols = train.select_dtypes(include = 'object').columns\n",
    "from sklearn.preprocessing import LabelEncoder\n",
    "le = LabelEncoder()\n",
    "for col in cols:\n",
    "    train[col] = le.fit_transform(train[col])\n",
    "    test[col] = le.transform(test[col])\n",
    "    \n",
    "from sklearn.model_selection import train_test_split\n",
    "X_train, X_val, y_train, y_val = train_test_split(train, target, test_size = 0.2, random_state = 0)\n",
    "\n",
    "from sklearn.ensemble import RandomForestClassifier\n",
    "rf = RandomForestClassifier()\n",
    "rf.fit(X_train, y_train)\n",
    "pred = rf.predict(X_val)\n",
    "\n",
    "from sklearn.metrics import f1_score\n",
    "score = f1_score(y_val, pred, average = 'macro')\n",
    "print(score)\n",
    "\n",
    "pred = rf.predict(test)\n",
    "submit = pd.DataFrame({'pred' : pred})\n",
    "submit.to_csv('result.csv', index = False)\n",
    "\n",
    "new_df = pd.read_csv('result.csv')\n",
    "print(new_df)"
   ]
  },
  {
   "cell_type": "markdown",
   "id": "fce50b06",
   "metadata": {},
   "source": [
    "# 3. 작업형 3"
   ]
  },
  {
   "cell_type": "markdown",
   "id": "5e915abe",
   "metadata": {},
   "source": [
    "###  1. 한 제조업체에서는 직원들의 생산성을 향상시키기 위해, 주요 생산성 요인을 분석하고자 하였다. 이를 위해 총 200명의 직원 데이터를 수집하였으며, 각 직원의 근속 기간, 개인 특성 및 속성과 함께 생산성 점수를 기록하였다. "
   ]
  },
  {
   "cell_type": "code",
   "execution_count": 340,
   "id": "190fac99",
   "metadata": {},
   "outputs": [],
   "source": [
    "import pandas as pd\n",
    "df = pd.read_csv('design.csv')\n",
    "train = df[:140]\n",
    "test = df[140:]\n",
    "\n",
    "from statsmodels.formula.api import ols\n",
    "model = ols('design ~ c1 + c2 + c3 + c4 + c5', data = train).fit()"
   ]
  },
  {
   "cell_type": "markdown",
   "id": "7ce52f81",
   "metadata": {},
   "source": [
    "### 1-1. 모든 설명 변수 (c1 ~ c5)를 활용하여 design을 예측하는 다중 회귀 분석을 수행하시오. 이때, 유의하지 않은 설명변수 개수를 구하시오.(패널티는 포함하지 않으며, 모델의 절편항은 포함)"
   ]
  },
  {
   "cell_type": "code",
   "execution_count": 342,
   "id": "16d93d09",
   "metadata": {},
   "outputs": [
    {
     "name": "stdout",
     "output_type": "stream",
     "text": [
      "2\n"
     ]
    }
   ],
   "source": [
    "print(sum(model.pvalues>0.05))"
   ]
  },
  {
   "cell_type": "markdown",
   "id": "fb0e1721",
   "metadata": {},
   "source": [
    "### 1-2. 유의한 변수들만 활용하여 적합한 모델을 만든다. 이 때, 훈련 데이터(학습용 데이터)의 예측값과 실제값의 피어슨 상관계수를 구하시오.(반올림하여 소수점 넷째 자리까지 계산)"
   ]
  },
  {
   "cell_type": "code",
   "execution_count": 351,
   "id": "fdb3e8fa",
   "metadata": {},
   "outputs": [
    {
     "name": "stdout",
     "output_type": "stream",
     "text": [
      "0.501\n"
     ]
    }
   ],
   "source": [
    "from statsmodels.formula.api import ols\n",
    "model = ols('design ~ c1 + c2 + c4', data = train).fit()\n",
    "pred = model.predict(train)\n",
    "print(round(pred.corr(train['design']),3))"
   ]
  },
  {
   "cell_type": "markdown",
   "id": "9985a787",
   "metadata": {},
   "source": [
    "### 1-3. 적합한 모델을 활용하여 테스트 데이터에서의 RMSE를 구하시오. (반올림하여 소수점 넷째 자리까지 계산)"
   ]
  },
  {
   "cell_type": "code",
   "execution_count": 361,
   "id": "ee2b7e48",
   "metadata": {},
   "outputs": [
    {
     "name": "stdout",
     "output_type": "stream",
     "text": [
      "8.4883\n"
     ]
    }
   ],
   "source": [
    "from sklearn.metrics import mean_squared_error\n",
    "pred = model.predict(test)\n",
    "print(round(mean_squared_error(test['design'], pred)**0.5,4)) "
   ]
  },
  {
   "cell_type": "markdown",
   "id": "e7f800e6",
   "metadata": {},
   "source": [
    "### 2. 통신 회사는 고객 이탈을 줄이기 위해 주요 요인을 분석하고자 하였다. 이를 위해 500명의 고객 데이터를 수집하였다. 고객의 서비스 이용 내역과 개인 정보를 기반으로 다음 분석을 수행하시오."
   ]
  },
  {
   "cell_type": "markdown",
   "id": "265fa6a1",
   "metadata": {},
   "source": [
    "### 2-1. 고객 이탈을 예측하는 로지스틱 회귀를 시행한 후 col1 칼럼의 p-value를 구하시오.(반올림하여 소수점 셋째 자리까지 표현)"
   ]
  },
  {
   "cell_type": "code",
   "execution_count": 374,
   "id": "74b11ed7",
   "metadata": {},
   "outputs": [
    {
     "name": "stdout",
     "output_type": "stream",
     "text": [
      "Optimization terminated successfully.\n",
      "         Current function value: 0.581891\n",
      "         Iterations 6\n",
      "0.008\n"
     ]
    }
   ],
   "source": [
    "import pandas as pd\n",
    "df = pd.read_csv(\"retention.csv\")\n",
    "from statsmodels.formula.api import logit\n",
    "model = logit('Churn ~ CustomerID + MonthlyCharges + CustomerTenure + HasPhoneService + HasTechInsurance', data = df).fit()\n",
    "print(round(model.pvalues['MonthlyCharges'],3))"
   ]
  },
  {
   "cell_type": "markdown",
   "id": "16280e40",
   "metadata": {},
   "source": [
    "### 2-2. 폰 서비스를 받지 않은 고객 대비 받은 고객의 이탈 확률의 오즈비를 구하시오.(반올림하여 소수점 셋째 자리까지 표현)"
   ]
  },
  {
   "cell_type": "code",
   "execution_count": 375,
   "id": "b20ca2b1",
   "metadata": {},
   "outputs": [
    {
     "name": "stdout",
     "output_type": "stream",
     "text": [
      "0.692\n"
     ]
    }
   ],
   "source": [
    "import numpy as np\n",
    "print(round(np.exp(model.params['HasPhoneService']),3))"
   ]
  },
  {
   "cell_type": "markdown",
   "id": "36fe074b",
   "metadata": {},
   "source": [
    "### 2-3. 이탈할 확률이 0.3 이상인 고객 수를 구하시오."
   ]
  },
  {
   "cell_type": "code",
   "execution_count": 380,
   "id": "25307f35",
   "metadata": {},
   "outputs": [
    {
     "name": "stdout",
     "output_type": "stream",
     "text": [
      "64\n"
     ]
    }
   ],
   "source": [
    "print(sum(model.predict(df)>= 0.3))"
   ]
  }
 ],
 "metadata": {
  "kernelspec": {
   "display_name": "Python 3 (ipykernel)",
   "language": "python",
   "name": "python3"
  },
  "language_info": {
   "codemirror_mode": {
    "name": "ipython",
    "version": 3
   },
   "file_extension": ".py",
   "mimetype": "text/x-python",
   "name": "python",
   "nbconvert_exporter": "python",
   "pygments_lexer": "ipython3",
   "version": "3.8.17"
  }
 },
 "nbformat": 4,
 "nbformat_minor": 5
}
