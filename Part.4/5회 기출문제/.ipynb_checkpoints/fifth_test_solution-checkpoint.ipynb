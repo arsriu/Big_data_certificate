{
 "cells": [
  {
   "cell_type": "markdown",
   "id": "78ef6b3d",
   "metadata": {},
   "source": [
    "# 1. 작업형 1"
   ]
  },
  {
   "cell_type": "markdown",
   "id": "cec981fb",
   "metadata": {},
   "source": [
    "### 1. 종량제 봉투 종류가 '규격봉투'이고, 종량제 봉투 용도가 '음식물쓰레기'인 2L 가격 평균을 구하시오. 단, 가격이 0이면, 평균에서 제외하고, 반올림 후 정수를 출력하시오."
   ]
  },
  {
   "cell_type": "code",
   "execution_count": 12,
   "id": "a1eb1c7c",
   "metadata": {},
   "outputs": [
    {
     "name": "stdout",
     "output_type": "stream",
     "text": [
      "118\n"
     ]
    }
   ],
   "source": [
    "import pandas as pd\n",
    "df = pd.read_csv('data5-1.csv')\n",
    "cond1 = df['종량제봉투종류'] == '규격봉투'\n",
    "cond2 = df['종량제봉투용도'] == '음식물쓰레기'\n",
    "cond3 = df['2ℓ가격'] !=0\n",
    "print(round(df[cond1&cond2&cond3]['2ℓ가격'].mean()))"
   ]
  },
  {
   "cell_type": "markdown",
   "id": "05aad68b",
   "metadata": {},
   "source": [
    "### 2. bmi 수치가 정상인 사람 수와 위험체중인 사람 수의 차이를 절댓값으로 구하시오.(정수로 출력)"
   ]
  },
  {
   "cell_type": "code",
   "execution_count": 27,
   "id": "36ce4cae",
   "metadata": {},
   "outputs": [
    {
     "name": "stdout",
     "output_type": "stream",
     "text": [
      "144\n"
     ]
    }
   ],
   "source": [
    "import pandas as pd\n",
    "df = pd.read_csv('data5-2.csv')\n",
    "df['bmi'] = df['Weight'] / ((df['Height']/100) ** 2)\n",
    "cond1 = (18.5 <= df['bmi'])\n",
    "cond1_1 = (df['bmi'] < 23)\n",
    "cond2 = (23<=df['bmi'])\n",
    "cond2_1 = (df['bmi'] < 25)\n",
    "print(abs(len(df[cond1&cond1_1]) - len(df[cond2&cond2_1])))"
   ]
  },
  {
   "cell_type": "markdown",
   "id": "35a389f9",
   "metadata": {},
   "source": [
    "### 3. 순 전입학생이 가장 많은 학교의 전체 학생 수를 구하시오.(순 전입학생 = 전입 학생 - 전출 학생)"
   ]
  },
  {
   "cell_type": "code",
   "execution_count": 30,
   "id": "e4d6270a",
   "metadata": {},
   "outputs": [
    {
     "name": "stdout",
     "output_type": "stream",
     "text": [
      "1880    230.0\n",
      "Name: 전체학생수(계), dtype: float64\n"
     ]
    }
   ],
   "source": [
    "import pandas as pd\n",
    "df = pd.read_csv('data5-3.csv')\n",
    "df['순'] = df['전입학생수(계)']  - df['전출학생수(계)']\n",
    "print(df[df['순'] == df['순'].max()]['전체학생수(계)'])"
   ]
  },
  {
   "cell_type": "markdown",
   "id": "04ff8f9d",
   "metadata": {},
   "source": [
    "# 2. 작업형 2"
   ]
  },
  {
   "cell_type": "markdown",
   "id": "a8f1949d",
   "metadata": {},
   "source": [
    "### 차량의 특징 기반 데이터를 활용해 test 데이터의 중고차 가격을 예측하시오."
   ]
  },
  {
   "cell_type": "code",
   "execution_count": 58,
   "id": "76486541",
   "metadata": {},
   "outputs": [
    {
     "name": "stdout",
     "output_type": "stream",
     "text": [
      "1188.060473375616\n"
     ]
    }
   ],
   "source": [
    "import pandas as pd\n",
    "train = pd.read_csv('train.csv')\n",
    "test = pd.read_csv('test.csv')\n",
    "target = train.pop('price')\n",
    "\n",
    "from sklearn.preprocessing import LabelEncoder\n",
    "le = LabelEncoder()\n",
    "cols = train.select_dtypes(include= 'object').columns\n",
    "for col in cols:\n",
    "    train[col] = le.fit_transform(train[col])\n",
    "    test[col] = le.transform(test[col])\n",
    "    \n",
    "from sklearn.model_selection import train_test_split\n",
    "X_train, X_val, y_train, y_val = train_test_split(train, target, test_size = 0.2, random_state = 0)\n",
    "\n",
    "import lightgbm as lgb\n",
    "lg = lgb.LGBMRegressor(random_state = 0, verbose = -1)\n",
    "lg.fit(X_train, y_train)\n",
    "pred = lg.predict(X_val)\n",
    "\n",
    "from sklearn.metrics import mean_squared_error\n",
    "score = mean_squared_error(y_val, pred)\n",
    "print(score**0.5)\n",
    "\n",
    "pred = lg.predict(test)\n",
    "submit = pd.DataFrame({'pred' : pred})\n",
    "submit.to_csv('result.csv', index = False)"
   ]
  }
 ],
 "metadata": {
  "kernelspec": {
   "display_name": "Python 3 (ipykernel)",
   "language": "python",
   "name": "python3"
  },
  "language_info": {
   "codemirror_mode": {
    "name": "ipython",
    "version": 3
   },
   "file_extension": ".py",
   "mimetype": "text/x-python",
   "name": "python",
   "nbconvert_exporter": "python",
   "pygments_lexer": "ipython3",
   "version": "3.8.17"
  }
 },
 "nbformat": 4,
 "nbformat_minor": 5
}
