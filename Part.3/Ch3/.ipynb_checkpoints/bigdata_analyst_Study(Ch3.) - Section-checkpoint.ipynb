{
 "cells": [
  {
   "cell_type": "markdown",
   "id": "c0e93bac",
   "metadata": {},
   "source": [
    "# 1. 적합도 검정"
   ]
  },
  {
   "cell_type": "code",
   "execution_count": 1,
   "id": "a73ab6e4",
   "metadata": {},
   "outputs": [
    {
     "data": {
      "text/plain": [
       "Power_divergenceResult(statistic=7.142857142857142, pvalue=0.028115659748972056)"
      ]
     },
     "execution_count": 1,
     "metadata": {},
     "output_type": "execute_result"
    }
   ],
   "source": [
    "from scipy import stats\n",
    "observed = [150, 120, 30]\n",
    "expected = [0.5 * 300, 0.35* 300, 0.15 * 300]\n",
    "stats.chisquare(observed, expected)"
   ]
  },
  {
   "cell_type": "markdown",
   "id": "015c1e17",
   "metadata": {},
   "source": [
    "# 2. 독립성 검정"
   ]
  },
  {
   "cell_type": "code",
   "execution_count": null,
   "id": "0ad2d356",
   "metadata": {},
   "outputs": [],
   "source": []
  }
 ],
 "metadata": {
  "kernelspec": {
   "display_name": "Python 3 (ipykernel)",
   "language": "python",
   "name": "python3"
  },
  "language_info": {
   "codemirror_mode": {
    "name": "ipython",
    "version": 3
   },
   "file_extension": ".py",
   "mimetype": "text/x-python",
   "name": "python",
   "nbconvert_exporter": "python",
   "pygments_lexer": "ipython3",
   "version": "3.8.17"
  }
 },
 "nbformat": 4,
 "nbformat_minor": 5
}
