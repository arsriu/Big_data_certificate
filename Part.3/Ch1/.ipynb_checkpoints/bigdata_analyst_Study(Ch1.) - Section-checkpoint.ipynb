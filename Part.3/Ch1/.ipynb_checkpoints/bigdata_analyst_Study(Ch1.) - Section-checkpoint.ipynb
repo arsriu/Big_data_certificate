{
 "cells": [
  {
   "cell_type": "markdown",
   "id": "85c51f16",
   "metadata": {},
   "source": [
    "# 1. 가설 검정"
   ]
  },
  {
   "cell_type": "markdown",
   "id": "bbe5a755",
   "metadata": {},
   "source": [
    "### 2. 단일 표본 검정"
   ]
  },
  {
   "cell_type": "code",
   "execution_count": 7,
   "id": "6fa5c79c",
   "metadata": {},
   "outputs": [
    {
     "name": "stdout",
     "output_type": "stream",
     "text": [
      "2.1155384372682344 0.043092957066609296\n"
     ]
    }
   ],
   "source": [
    "import pandas as pd\n",
    "df = pd.DataFrame({'weights' : [122,121,120,119,125,115,121,118,117,\n",
    "                               127,123,129,119,124,114,126,122,124,121,\n",
    "                               116,120,123,127,118,122,117,124,125,123,121]})\n",
    "from scipy import stats\n",
    "stat, p_value = stats.ttest_1samp(df['weights'], 120)\n",
    "print(stat, p_value)"
   ]
  },
  {
   "cell_type": "code",
   "execution_count": 8,
   "id": "f7e5868b",
   "metadata": {},
   "outputs": [
    {
     "name": "stdout",
     "output_type": "stream",
     "text": [
      "TtestResult(statistic=2.1155384372682344, pvalue=0.021546478533304648, df=29)\n",
      "TtestResult(statistic=2.1155384372682344, pvalue=0.9784535214666953, df=29)\n"
     ]
    }
   ],
   "source": [
    "print(stats.ttest_1samp(df['weights'], 120, alternative = 'greater'))\n",
    "print(stats.ttest_1samp(df['weights'], 120, alternative = 'less'))"
   ]
  },
  {
   "cell_type": "code",
   "execution_count": 9,
   "id": "77107473",
   "metadata": {},
   "outputs": [
    {
     "data": {
      "text/plain": [
       "ShapiroResult(statistic=0.8164571523666382, pvalue=0.022960186004638672)"
      ]
     },
     "execution_count": 9,
     "metadata": {},
     "output_type": "execute_result"
    }
   ],
   "source": [
    "import pandas as pd\n",
    "df = pd.DataFrame({'weights' : [125,126,118,124,117,127,123,122,119,142]})\n",
    "\n",
    "from scipy import stats\n",
    "stats.shapiro(df['weights'])"
   ]
  },
  {
   "cell_type": "code",
   "execution_count": 11,
   "id": "7f49561d",
   "metadata": {},
   "outputs": [
    {
     "data": {
      "text/plain": [
       "WilcoxonResult(statistic=47.0, pvalue=0.9814453125)"
      ]
     },
     "execution_count": 11,
     "metadata": {},
     "output_type": "execute_result"
    }
   ],
   "source": [
    "stats.wilcoxon(df['weights'] - 120, alternative = 'less')"
   ]
  },
  {
   "cell_type": "markdown",
   "id": "f7a06901",
   "metadata": {},
   "source": [
    "### 3. 대응 표본 검정"
   ]
  },
  {
   "cell_type": "code",
   "execution_count": 12,
   "id": "37d9ef8a",
   "metadata": {},
   "outputs": [],
   "source": [
    "import pandas as pd\n",
    "df = pd.DataFrame({\n",
    "    'before' : [85, 90, 92, 88, 86, 89, 83, 87],\n",
    "    'after' : [85.5, 89.9, 92.6, 89.5, 85.8, 88.8, 84.6, 87.8]\n",
    "})"
   ]
  },
  {
   "cell_type": "code",
   "execution_count": 13,
   "id": "e22af63c",
   "metadata": {},
   "outputs": [
    {
     "data": {
      "text/plain": [
       "TtestResult(statistic=-2.2127749675452324, pvalue=0.03127028733756238, df=7)"
      ]
     },
     "execution_count": 13,
     "metadata": {},
     "output_type": "execute_result"
    }
   ],
   "source": [
    "from scipy import stats\n",
    "stats.ttest_rel(df['before'], df['after'], alternative = 'less')"
   ]
  },
  {
   "cell_type": "code",
   "execution_count": 15,
   "id": "a78e87ea",
   "metadata": {},
   "outputs": [
    {
     "data": {
      "text/plain": [
       "TtestResult(statistic=2.2127749675452324, pvalue=0.03127028733756238, df=7)"
      ]
     },
     "execution_count": 15,
     "metadata": {},
     "output_type": "execute_result"
    }
   ],
   "source": [
    "from scipy import stats\n",
    "stats.ttest_rel(df['after'], df['before'], alternative = 'greater')"
   ]
  },
  {
   "cell_type": "code",
   "execution_count": 16,
   "id": "374a82c4",
   "metadata": {},
   "outputs": [
    {
     "data": {
      "text/plain": [
       "ShapiroResult(statistic=0.6886147260665894, pvalue=0.0016734037781134248)"
      ]
     },
     "execution_count": 16,
     "metadata": {},
     "output_type": "execute_result"
    }
   ],
   "source": [
    "import pandas as pd\n",
    "df = pd.DataFrame({\n",
    "    'before' : [85, 90, 92, 88, 86, 89, 83, 87],\n",
    "    'after' : [86, 92, 94, 89, 84, 90, 84, 88]\n",
    "})\n",
    "from scipy import stats\n",
    "df['diff'] = df['after'] - df['before']\n",
    "stats.shapiro(df['diff'])"
   ]
  },
  {
   "cell_type": "code",
   "execution_count": 17,
   "id": "b8e61ae4",
   "metadata": {},
   "outputs": [
    {
     "name": "stdout",
     "output_type": "stream",
     "text": [
      "WilcoxonResult(statistic=29.0, pvalue=0.07421875)\n"
     ]
    },
    {
     "data": {
      "text/plain": [
       "WilcoxonResult(statistic=29.0, pvalue=0.07421875)"
      ]
     },
     "execution_count": 17,
     "metadata": {},
     "output_type": "execute_result"
    }
   ],
   "source": [
    "print(stats.wilcoxon(df['after'], df['before'], alternative = 'greater'))\n",
    "stats.wilcoxon(df['diff'], alternative = 'greater')"
   ]
  },
  {
   "cell_type": "markdown",
   "id": "c62a8ead",
   "metadata": {},
   "source": [
    "### 4. 독립 표본 검정"
   ]
  },
  {
   "cell_type": "code",
   "execution_count": 18,
   "id": "4b6638a9",
   "metadata": {},
   "outputs": [
    {
     "data": {
      "text/plain": [
       "Ttest_indResult(statistic=2.2108140580092237, pvalue=0.04914857789252186)"
      ]
     },
     "execution_count": 18,
     "metadata": {},
     "output_type": "execute_result"
    }
   ],
   "source": [
    "import pandas as pd\n",
    "class1 = [85, 90, 92, 88, 86, 89, 83, 87]\n",
    "class2 = [80, 82, 88, 85, 84]\n",
    "from scipy.stats import ttest_ind\n",
    "ttest_ind(class1, class2)"
   ]
  },
  {
   "cell_type": "code",
   "execution_count": 20,
   "id": "d61f1d60",
   "metadata": {},
   "outputs": [
    {
     "data": {
      "text/plain": [
       "Ttest_indResult(statistic=2.1818699281825236, pvalue=0.059589330071355334)"
      ]
     },
     "execution_count": 20,
     "metadata": {},
     "output_type": "execute_result"
    }
   ],
   "source": [
    "ttest_ind(class1, class2, equal_var = False)"
   ]
  },
  {
   "cell_type": "code",
   "execution_count": 21,
   "id": "f23559f2",
   "metadata": {},
   "outputs": [
    {
     "data": {
      "text/plain": [
       "Ttest_indResult(statistic=2.2108140580092237, pvalue=0.9754257110537391)"
      ]
     },
     "execution_count": 21,
     "metadata": {},
     "output_type": "execute_result"
    }
   ],
   "source": [
    "stats.ttest_ind(class1, class2, equal_var = True, alternative = 'less')"
   ]
  },
  {
   "cell_type": "code",
   "execution_count": 23,
   "id": "b72c2000",
   "metadata": {},
   "outputs": [
    {
     "data": {
      "text/plain": [
       "Ttest_indResult(statistic=2.2108140580092237, pvalue=0.02457428894626093)"
      ]
     },
     "execution_count": 23,
     "metadata": {},
     "output_type": "execute_result"
    }
   ],
   "source": [
    "stats.ttest_ind(class1, class2, equal_var = True, alternative = 'greater')"
   ]
  },
  {
   "cell_type": "code",
   "execution_count": 2,
   "id": "a28f9cae",
   "metadata": {},
   "outputs": [
    {
     "name": "stdout",
     "output_type": "stream",
     "text": [
      "ShapiroResult(statistic=0.9981892704963684, pvalue=0.999987006187439)\n"
     ]
    },
    {
     "data": {
      "text/plain": [
       "ShapiroResult(statistic=0.991739809513092, pvalue=0.9854180812835693)"
      ]
     },
     "execution_count": 2,
     "metadata": {},
     "output_type": "execute_result"
    }
   ],
   "source": [
    "import pandas as pd\n",
    "class1 = [85, 90, 92, 88, 86, 89, 83, 87]\n",
    "class2 = [80, 82, 88, 85, 84]\n",
    "from scipy import stats\n",
    "print(stats.shapiro(class1))\n",
    "stats.shapiro(class2)"
   ]
  },
  {
   "cell_type": "code",
   "execution_count": 4,
   "id": "ebfa3580",
   "metadata": {},
   "outputs": [
    {
     "data": {
      "text/plain": [
       "LeveneResult(statistic=0.0027925869510027727, pvalue=0.958802951766629)"
      ]
     },
     "execution_count": 4,
     "metadata": {},
     "output_type": "execute_result"
    }
   ],
   "source": [
    "stats.levene(class1, class2)"
   ]
  },
  {
   "cell_type": "code",
   "execution_count": 5,
   "id": "fa92bcf7",
   "metadata": {},
   "outputs": [
    {
     "data": {
      "text/plain": [
       "Ttest_indResult(statistic=2.2108140580092237, pvalue=0.9754257110537391)"
      ]
     },
     "execution_count": 5,
     "metadata": {},
     "output_type": "execute_result"
    }
   ],
   "source": [
    "stats.ttest_ind(class1, class2, equal_var = True, alternative = 'less')"
   ]
  },
  {
   "cell_type": "code",
   "execution_count": 6,
   "id": "70a0a6db",
   "metadata": {},
   "outputs": [
    {
     "name": "stdout",
     "output_type": "stream",
     "text": [
      "ShapiroResult(statistic=0.9981892704963684, pvalue=0.999987006187439)\n"
     ]
    },
    {
     "data": {
      "text/plain": [
       "ShapiroResult(statistic=0.6880497932434082, pvalue=0.007151583209633827)"
      ]
     },
     "execution_count": 6,
     "metadata": {},
     "output_type": "execute_result"
    }
   ],
   "source": [
    "import pandas as pd\n",
    "class1 = [85, 90, 92, 88, 86, 89, 83, 87]\n",
    "class2 = [80, 82, 88, 85, 130]\n",
    "from scipy import stats\n",
    "print(stats.shapiro(class1))\n",
    "stats.shapiro(class2)"
   ]
  },
  {
   "cell_type": "code",
   "execution_count": 7,
   "id": "024ddba9",
   "metadata": {},
   "outputs": [
    {
     "data": {
      "text/plain": [
       "MannwhitneyuResult(statistic=26.0, pvalue=0.8299904236851448)"
      ]
     },
     "execution_count": 7,
     "metadata": {},
     "output_type": "execute_result"
    }
   ],
   "source": [
    "stats.mannwhitneyu(class1, class2, alternative = 'less')"
   ]
  }
 ],
 "metadata": {
  "kernelspec": {
   "display_name": "Python 3 (ipykernel)",
   "language": "python",
   "name": "python3"
  },
  "language_info": {
   "codemirror_mode": {
    "name": "ipython",
    "version": 3
   },
   "file_extension": ".py",
   "mimetype": "text/x-python",
   "name": "python",
   "nbconvert_exporter": "python",
   "pygments_lexer": "ipython3",
   "version": "3.8.17"
  }
 },
 "nbformat": 4,
 "nbformat_minor": 5
}
