{
 "cells": [
  {
   "cell_type": "markdown",
   "id": "58ee251c",
   "metadata": {},
   "source": [
    "# 1. 상관계수"
   ]
  },
  {
   "cell_type": "markdown",
   "id": "d06a42b4",
   "metadata": {},
   "source": [
    "### 1. 상관계수"
   ]
  },
  {
   "cell_type": "code",
   "execution_count": 1,
   "id": "8c369bc8",
   "metadata": {},
   "outputs": [
    {
     "data": {
      "text/html": [
       "<div>\n",
       "<style scoped>\n",
       "    .dataframe tbody tr th:only-of-type {\n",
       "        vertical-align: middle;\n",
       "    }\n",
       "\n",
       "    .dataframe tbody tr th {\n",
       "        vertical-align: top;\n",
       "    }\n",
       "\n",
       "    .dataframe thead th {\n",
       "        text-align: right;\n",
       "    }\n",
       "</style>\n",
       "<table border=\"1\" class=\"dataframe\">\n",
       "  <thead>\n",
       "    <tr style=\"text-align: right;\">\n",
       "      <th></th>\n",
       "      <th>키</th>\n",
       "      <th>몸무게</th>\n",
       "    </tr>\n",
       "  </thead>\n",
       "  <tbody>\n",
       "    <tr>\n",
       "      <th>키</th>\n",
       "      <td>1.000000</td>\n",
       "      <td>0.919509</td>\n",
       "    </tr>\n",
       "    <tr>\n",
       "      <th>몸무게</th>\n",
       "      <td>0.919509</td>\n",
       "      <td>1.000000</td>\n",
       "    </tr>\n",
       "  </tbody>\n",
       "</table>\n",
       "</div>"
      ],
      "text/plain": [
       "            키       몸무게\n",
       "키    1.000000  0.919509\n",
       "몸무게  0.919509  1.000000"
      ]
     },
     "execution_count": 1,
     "metadata": {},
     "output_type": "execute_result"
    }
   ],
   "source": [
    "import pandas as pd\n",
    "\n",
    "data = {\n",
    "    '키' : [150, 160, 170, 175, 165],\n",
    "    '몸무게' : [42,50, 70, 64, 56]\n",
    "}\n",
    "df = pd.DataFrame(data)\n",
    "df.corr()"
   ]
  },
  {
   "cell_type": "code",
   "execution_count": 2,
   "id": "cfcf79f6",
   "metadata": {},
   "outputs": [
    {
     "data": {
      "text/plain": [
       "0.9195090879163764"
      ]
     },
     "execution_count": 2,
     "metadata": {},
     "output_type": "execute_result"
    }
   ],
   "source": [
    "df.corr().iloc[0,1]"
   ]
  },
  {
   "cell_type": "code",
   "execution_count": 3,
   "id": "f1da2190",
   "metadata": {},
   "outputs": [
    {
     "name": "stdout",
     "output_type": "stream",
     "text": [
      "0.9195090879163765\n"
     ]
    },
    {
     "data": {
      "text/plain": [
       "0.9195090879163765"
      ]
     },
     "execution_count": 3,
     "metadata": {},
     "output_type": "execute_result"
    }
   ],
   "source": [
    "print(df['키'].corr(df['몸무게']))\n",
    "df['몸무게'].corr(df['키'])"
   ]
  },
  {
   "cell_type": "code",
   "execution_count": 4,
   "id": "aeb0204b",
   "metadata": {},
   "outputs": [
    {
     "name": "stdout",
     "output_type": "stream",
     "text": [
      "            키       몸무게\n",
      "키    1.000000  0.919509\n",
      "몸무게  0.919509  1.000000\n",
      "       키  몸무게\n",
      "키    1.0  0.9\n",
      "몸무게  0.9  1.0\n"
     ]
    },
    {
     "data": {
      "text/html": [
       "<div>\n",
       "<style scoped>\n",
       "    .dataframe tbody tr th:only-of-type {\n",
       "        vertical-align: middle;\n",
       "    }\n",
       "\n",
       "    .dataframe tbody tr th {\n",
       "        vertical-align: top;\n",
       "    }\n",
       "\n",
       "    .dataframe thead th {\n",
       "        text-align: right;\n",
       "    }\n",
       "</style>\n",
       "<table border=\"1\" class=\"dataframe\">\n",
       "  <thead>\n",
       "    <tr style=\"text-align: right;\">\n",
       "      <th></th>\n",
       "      <th>키</th>\n",
       "      <th>몸무게</th>\n",
       "    </tr>\n",
       "  </thead>\n",
       "  <tbody>\n",
       "    <tr>\n",
       "      <th>키</th>\n",
       "      <td>1.0</td>\n",
       "      <td>0.8</td>\n",
       "    </tr>\n",
       "    <tr>\n",
       "      <th>몸무게</th>\n",
       "      <td>0.8</td>\n",
       "      <td>1.0</td>\n",
       "    </tr>\n",
       "  </tbody>\n",
       "</table>\n",
       "</div>"
      ],
      "text/plain": [
       "       키  몸무게\n",
       "키    1.0  0.8\n",
       "몸무게  0.8  1.0"
      ]
     },
     "execution_count": 4,
     "metadata": {},
     "output_type": "execute_result"
    }
   ],
   "source": [
    "print(df.corr())\n",
    "print(df.corr(method = 'spearman'))\n",
    "df.corr(method = 'kendall')"
   ]
  },
  {
   "cell_type": "markdown",
   "id": "9a7cbc0d",
   "metadata": {},
   "source": [
    "### 2. 두 변수의 상관 계수와 t-검정"
   ]
  },
  {
   "cell_type": "code",
   "execution_count": 7,
   "id": "2c57d633",
   "metadata": {},
   "outputs": [
    {
     "name": "stdout",
     "output_type": "stream",
     "text": [
      "PearsonRResult(statistic=0.9195090879163766, pvalue=0.02707945689558947)\n",
      "SignificanceResult(statistic=0.8999999999999998, pvalue=0.03738607346849874)\n",
      "SignificanceResult(statistic=0.7999999999999999, pvalue=0.08333333333333333)\n"
     ]
    }
   ],
   "source": [
    "from scipy import stats\n",
    "print(stats.pearsonr(df['몸무게'], df['키']))\n",
    "print(stats.spearmanr(df['몸무게'], df['키']))\n",
    "print(stats.kendalltau(df['몸무게'], df['키']))"
   ]
  },
  {
   "cell_type": "markdown",
   "id": "5e631d13",
   "metadata": {},
   "source": [
    "# 2. 단순 선형 회귀 분석"
   ]
  },
  {
   "cell_type": "code",
   "execution_count": 8,
   "id": "e50804be",
   "metadata": {},
   "outputs": [],
   "source": [
    "import pandas as pd\n",
    "data = {\n",
    "    '키' : [150, 160, 170, 175, 165, 155, 172, 168, 174, 158,\n",
    "          162, 173, 156, 159, 167, 163, 171, 169, 176, 161],\n",
    "    '몸무게' : [42, 50, 70, 64, 56, 48, 68, 60, 65, 52,\n",
    "            54, 67, 49, 51, 58, 55, 69, 61, 66, 53]\n",
    "}\n",
    "df = pd.DataFrame(data)"
   ]
  },
  {
   "cell_type": "code",
   "execution_count": 10,
   "id": "41d34a1c",
   "metadata": {},
   "outputs": [
    {
     "data": {
      "text/html": [
       "<table class=\"simpletable\">\n",
       "<caption>OLS Regression Results</caption>\n",
       "<tr>\n",
       "  <th>Dep. Variable:</th>            <td>키</td>        <th>  R-squared:         </th> <td>   0.892</td>\n",
       "</tr>\n",
       "<tr>\n",
       "  <th>Model:</th>                   <td>OLS</td>       <th>  Adj. R-squared:    </th> <td>   0.886</td>\n",
       "</tr>\n",
       "<tr>\n",
       "  <th>Method:</th>             <td>Least Squares</td>  <th>  F-statistic:       </th> <td>   148.0</td>\n",
       "</tr>\n",
       "<tr>\n",
       "  <th>Date:</th>             <td>Fri, 13 Jun 2025</td> <th>  Prob (F-statistic):</th> <td>4.04e-10</td>\n",
       "</tr>\n",
       "<tr>\n",
       "  <th>Time:</th>                 <td>15:28:32</td>     <th>  Log-Likelihood:    </th> <td> -45.761</td>\n",
       "</tr>\n",
       "<tr>\n",
       "  <th>No. Observations:</th>      <td>    20</td>      <th>  AIC:               </th> <td>   95.52</td>\n",
       "</tr>\n",
       "<tr>\n",
       "  <th>Df Residuals:</th>          <td>    18</td>      <th>  BIC:               </th> <td>   97.51</td>\n",
       "</tr>\n",
       "<tr>\n",
       "  <th>Df Model:</th>              <td>     1</td>      <th>                     </th>     <td> </td>   \n",
       "</tr>\n",
       "<tr>\n",
       "  <th>Covariance Type:</th>      <td>nonrobust</td>    <th>                     </th>     <td> </td>   \n",
       "</tr>\n",
       "</table>\n",
       "<table class=\"simpletable\">\n",
       "<tr>\n",
       "      <td></td>         <th>coef</th>     <th>std err</th>      <th>t</th>      <th>P>|t|</th>  <th>[0.025</th>    <th>0.975]</th>  \n",
       "</tr>\n",
       "<tr>\n",
       "  <th>Intercept</th> <td>  115.0676</td> <td>    4.158</td> <td>   27.671</td> <td> 0.000</td> <td>  106.331</td> <td>  123.804</td>\n",
       "</tr>\n",
       "<tr>\n",
       "  <th>몸무게</th>       <td>    0.8658</td> <td>    0.071</td> <td>   12.167</td> <td> 0.000</td> <td>    0.716</td> <td>    1.015</td>\n",
       "</tr>\n",
       "</table>\n",
       "<table class=\"simpletable\">\n",
       "<tr>\n",
       "  <th>Omnibus:</th>       <td> 0.985</td> <th>  Durbin-Watson:     </th> <td>   2.609</td>\n",
       "</tr>\n",
       "<tr>\n",
       "  <th>Prob(Omnibus):</th> <td> 0.611</td> <th>  Jarque-Bera (JB):  </th> <td>   0.336</td>\n",
       "</tr>\n",
       "<tr>\n",
       "  <th>Skew:</th>          <td>-0.315</td> <th>  Prob(JB):          </th> <td>   0.845</td>\n",
       "</tr>\n",
       "<tr>\n",
       "  <th>Kurtosis:</th>      <td> 3.082</td> <th>  Cond. No.          </th> <td>    432.</td>\n",
       "</tr>\n",
       "</table><br/><br/>Notes:<br/>[1] Standard Errors assume that the covariance matrix of the errors is correctly specified."
      ],
      "text/latex": [
       "\\begin{center}\n",
       "\\begin{tabular}{lclc}\n",
       "\\toprule\n",
       "\\textbf{Dep. Variable:}    &        키         & \\textbf{  R-squared:         } &     0.892   \\\\\n",
       "\\textbf{Model:}            &       OLS        & \\textbf{  Adj. R-squared:    } &     0.886   \\\\\n",
       "\\textbf{Method:}           &  Least Squares   & \\textbf{  F-statistic:       } &     148.0   \\\\\n",
       "\\textbf{Date:}             & Fri, 13 Jun 2025 & \\textbf{  Prob (F-statistic):} &  4.04e-10   \\\\\n",
       "\\textbf{Time:}             &     15:28:32     & \\textbf{  Log-Likelihood:    } &   -45.761   \\\\\n",
       "\\textbf{No. Observations:} &          20      & \\textbf{  AIC:               } &     95.52   \\\\\n",
       "\\textbf{Df Residuals:}     &          18      & \\textbf{  BIC:               } &     97.51   \\\\\n",
       "\\textbf{Df Model:}         &           1      & \\textbf{                     } &             \\\\\n",
       "\\textbf{Covariance Type:}  &    nonrobust     & \\textbf{                     } &             \\\\\n",
       "\\bottomrule\n",
       "\\end{tabular}\n",
       "\\begin{tabular}{lcccccc}\n",
       "                   & \\textbf{coef} & \\textbf{std err} & \\textbf{t} & \\textbf{P$> |$t$|$} & \\textbf{[0.025} & \\textbf{0.975]}  \\\\\n",
       "\\midrule\n",
       "\\textbf{Intercept} &     115.0676  &        4.158     &    27.671  &         0.000        &      106.331    &      123.804     \\\\\n",
       "\\textbf{몸무게}       &       0.8658  &        0.071     &    12.167  &         0.000        &        0.716    &        1.015     \\\\\n",
       "\\bottomrule\n",
       "\\end{tabular}\n",
       "\\begin{tabular}{lclc}\n",
       "\\textbf{Omnibus:}       &  0.985 & \\textbf{  Durbin-Watson:     } &    2.609  \\\\\n",
       "\\textbf{Prob(Omnibus):} &  0.611 & \\textbf{  Jarque-Bera (JB):  } &    0.336  \\\\\n",
       "\\textbf{Skew:}          & -0.315 & \\textbf{  Prob(JB):          } &    0.845  \\\\\n",
       "\\textbf{Kurtosis:}      &  3.082 & \\textbf{  Cond. No.          } &     432.  \\\\\n",
       "\\bottomrule\n",
       "\\end{tabular}\n",
       "%\\caption{OLS Regression Results}\n",
       "\\end{center}\n",
       "\n",
       "Notes: \\newline\n",
       " [1] Standard Errors assume that the covariance matrix of the errors is correctly specified."
      ],
      "text/plain": [
       "<class 'statsmodels.iolib.summary.Summary'>\n",
       "\"\"\"\n",
       "                            OLS Regression Results                            \n",
       "==============================================================================\n",
       "Dep. Variable:                      키   R-squared:                       0.892\n",
       "Model:                            OLS   Adj. R-squared:                  0.886\n",
       "Method:                 Least Squares   F-statistic:                     148.0\n",
       "Date:                Fri, 13 Jun 2025   Prob (F-statistic):           4.04e-10\n",
       "Time:                        15:28:32   Log-Likelihood:                -45.761\n",
       "No. Observations:                  20   AIC:                             95.52\n",
       "Df Residuals:                      18   BIC:                             97.51\n",
       "Df Model:                           1                                         \n",
       "Covariance Type:            nonrobust                                         \n",
       "==============================================================================\n",
       "                 coef    std err          t      P>|t|      [0.025      0.975]\n",
       "------------------------------------------------------------------------------\n",
       "Intercept    115.0676      4.158     27.671      0.000     106.331     123.804\n",
       "몸무게            0.8658      0.071     12.167      0.000       0.716       1.015\n",
       "==============================================================================\n",
       "Omnibus:                        0.985   Durbin-Watson:                   2.609\n",
       "Prob(Omnibus):                  0.611   Jarque-Bera (JB):                0.336\n",
       "Skew:                          -0.315   Prob(JB):                        0.845\n",
       "Kurtosis:                       3.082   Cond. No.                         432.\n",
       "==============================================================================\n",
       "\n",
       "Notes:\n",
       "[1] Standard Errors assume that the covariance matrix of the errors is correctly specified.\n",
       "\"\"\""
      ]
     },
     "execution_count": 10,
     "metadata": {},
     "output_type": "execute_result"
    }
   ],
   "source": [
    "from statsmodels.formula.api import ols\n",
    "model = ols('키 ~ 몸무게', data = df).fit()\n",
    "model.summary()"
   ]
  },
  {
   "cell_type": "code",
   "execution_count": null,
   "id": "3acf42cf",
   "metadata": {},
   "outputs": [],
   "source": []
  }
 ],
 "metadata": {
  "kernelspec": {
   "display_name": "Python 3 (ipykernel)",
   "language": "python",
   "name": "python3"
  },
  "language_info": {
   "codemirror_mode": {
    "name": "ipython",
    "version": 3
   },
   "file_extension": ".py",
   "mimetype": "text/x-python",
   "name": "python",
   "nbconvert_exporter": "python",
   "pygments_lexer": "ipython3",
   "version": "3.8.17"
  }
 },
 "nbformat": 4,
 "nbformat_minor": 5
}
