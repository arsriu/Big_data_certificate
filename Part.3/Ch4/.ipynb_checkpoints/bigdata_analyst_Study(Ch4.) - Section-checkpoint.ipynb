{
 "cells": [
  {
   "cell_type": "markdown",
   "id": "58ee251c",
   "metadata": {},
   "source": [
    "# 1. 상관계수"
   ]
  },
  {
   "cell_type": "markdown",
   "id": "d06a42b4",
   "metadata": {},
   "source": [
    "### 1. 상관계수"
   ]
  },
  {
   "cell_type": "code",
   "execution_count": 1,
   "id": "8c369bc8",
   "metadata": {},
   "outputs": [
    {
     "data": {
      "text/html": [
       "<div>\n",
       "<style scoped>\n",
       "    .dataframe tbody tr th:only-of-type {\n",
       "        vertical-align: middle;\n",
       "    }\n",
       "\n",
       "    .dataframe tbody tr th {\n",
       "        vertical-align: top;\n",
       "    }\n",
       "\n",
       "    .dataframe thead th {\n",
       "        text-align: right;\n",
       "    }\n",
       "</style>\n",
       "<table border=\"1\" class=\"dataframe\">\n",
       "  <thead>\n",
       "    <tr style=\"text-align: right;\">\n",
       "      <th></th>\n",
       "      <th>키</th>\n",
       "      <th>몸무게</th>\n",
       "    </tr>\n",
       "  </thead>\n",
       "  <tbody>\n",
       "    <tr>\n",
       "      <th>키</th>\n",
       "      <td>1.000000</td>\n",
       "      <td>0.919509</td>\n",
       "    </tr>\n",
       "    <tr>\n",
       "      <th>몸무게</th>\n",
       "      <td>0.919509</td>\n",
       "      <td>1.000000</td>\n",
       "    </tr>\n",
       "  </tbody>\n",
       "</table>\n",
       "</div>"
      ],
      "text/plain": [
       "            키       몸무게\n",
       "키    1.000000  0.919509\n",
       "몸무게  0.919509  1.000000"
      ]
     },
     "execution_count": 1,
     "metadata": {},
     "output_type": "execute_result"
    }
   ],
   "source": [
    "import pandas as pd\n",
    "\n",
    "data = {\n",
    "    '키' : [150, 160, 170, 175, 165],\n",
    "    '몸무게' : [42,50, 70, 64, 56]\n",
    "}\n",
    "df = pd.DataFrame(data)\n",
    "df.corr()"
   ]
  },
  {
   "cell_type": "code",
   "execution_count": 2,
   "id": "cfcf79f6",
   "metadata": {},
   "outputs": [
    {
     "data": {
      "text/plain": [
       "0.9195090879163764"
      ]
     },
     "execution_count": 2,
     "metadata": {},
     "output_type": "execute_result"
    }
   ],
   "source": [
    "df.corr().iloc[0,1]"
   ]
  },
  {
   "cell_type": "code",
   "execution_count": 3,
   "id": "f1da2190",
   "metadata": {},
   "outputs": [
    {
     "name": "stdout",
     "output_type": "stream",
     "text": [
      "0.9195090879163765\n"
     ]
    },
    {
     "data": {
      "text/plain": [
       "0.9195090879163765"
      ]
     },
     "execution_count": 3,
     "metadata": {},
     "output_type": "execute_result"
    }
   ],
   "source": [
    "print(df['키'].corr(df['몸무게']))\n",
    "df['몸무게'].corr(df['키'])"
   ]
  },
  {
   "cell_type": "code",
   "execution_count": 4,
   "id": "aeb0204b",
   "metadata": {},
   "outputs": [
    {
     "name": "stdout",
     "output_type": "stream",
     "text": [
      "            키       몸무게\n",
      "키    1.000000  0.919509\n",
      "몸무게  0.919509  1.000000\n",
      "       키  몸무게\n",
      "키    1.0  0.9\n",
      "몸무게  0.9  1.0\n"
     ]
    },
    {
     "data": {
      "text/html": [
       "<div>\n",
       "<style scoped>\n",
       "    .dataframe tbody tr th:only-of-type {\n",
       "        vertical-align: middle;\n",
       "    }\n",
       "\n",
       "    .dataframe tbody tr th {\n",
       "        vertical-align: top;\n",
       "    }\n",
       "\n",
       "    .dataframe thead th {\n",
       "        text-align: right;\n",
       "    }\n",
       "</style>\n",
       "<table border=\"1\" class=\"dataframe\">\n",
       "  <thead>\n",
       "    <tr style=\"text-align: right;\">\n",
       "      <th></th>\n",
       "      <th>키</th>\n",
       "      <th>몸무게</th>\n",
       "    </tr>\n",
       "  </thead>\n",
       "  <tbody>\n",
       "    <tr>\n",
       "      <th>키</th>\n",
       "      <td>1.0</td>\n",
       "      <td>0.8</td>\n",
       "    </tr>\n",
       "    <tr>\n",
       "      <th>몸무게</th>\n",
       "      <td>0.8</td>\n",
       "      <td>1.0</td>\n",
       "    </tr>\n",
       "  </tbody>\n",
       "</table>\n",
       "</div>"
      ],
      "text/plain": [
       "       키  몸무게\n",
       "키    1.0  0.8\n",
       "몸무게  0.8  1.0"
      ]
     },
     "execution_count": 4,
     "metadata": {},
     "output_type": "execute_result"
    }
   ],
   "source": [
    "print(df.corr())\n",
    "print(df.corr(method = 'spearman'))\n",
    "df.corr(method = 'kendall')"
   ]
  },
  {
   "cell_type": "markdown",
   "id": "9a7cbc0d",
   "metadata": {},
   "source": [
    "### 2. 두 변수의 상관 계수와 t-검정"
   ]
  },
  {
   "cell_type": "code",
   "execution_count": 7,
   "id": "2c57d633",
   "metadata": {},
   "outputs": [
    {
     "name": "stdout",
     "output_type": "stream",
     "text": [
      "PearsonRResult(statistic=0.9195090879163766, pvalue=0.02707945689558947)\n",
      "SignificanceResult(statistic=0.8999999999999998, pvalue=0.03738607346849874)\n",
      "SignificanceResult(statistic=0.7999999999999999, pvalue=0.08333333333333333)\n"
     ]
    }
   ],
   "source": [
    "from scipy import stats\n",
    "print(stats.pearsonr(df['몸무게'], df['키']))\n",
    "print(stats.spearmanr(df['몸무게'], df['키']))\n",
    "print(stats.kendalltau(df['몸무게'], df['키']))"
   ]
  },
  {
   "cell_type": "markdown",
   "id": "5e631d13",
   "metadata": {},
   "source": [
    "# 2. 단순 선형 회귀 분석"
   ]
  },
  {
   "cell_type": "code",
   "execution_count": 12,
   "id": "e50804be",
   "metadata": {},
   "outputs": [],
   "source": [
    "import pandas as pd\n",
    "data = {\n",
    "    '키' : [150, 160, 170, 175, 165, 155, 172, 168, 174, 158,\n",
    "          162, 173, 156, 159, 167, 163, 171, 169, 176, 161],\n",
    "    '몸무게' : [42, 50, 70, 64, 56, 48, 68, 60, 65, 52,\n",
    "            54, 67, 49, 51, 58, 55, 69, 61, 66, 53]\n",
    "}\n",
    "df = pd.DataFrame(data)"
   ]
  },
  {
   "cell_type": "code",
   "execution_count": 13,
   "id": "41d34a1c",
   "metadata": {},
   "outputs": [
    {
     "data": {
      "text/html": [
       "<table class=\"simpletable\">\n",
       "<caption>OLS Regression Results</caption>\n",
       "<tr>\n",
       "  <th>Dep. Variable:</th>            <td>키</td>        <th>  R-squared:         </th> <td>   0.892</td>\n",
       "</tr>\n",
       "<tr>\n",
       "  <th>Model:</th>                   <td>OLS</td>       <th>  Adj. R-squared:    </th> <td>   0.886</td>\n",
       "</tr>\n",
       "<tr>\n",
       "  <th>Method:</th>             <td>Least Squares</td>  <th>  F-statistic:       </th> <td>   148.0</td>\n",
       "</tr>\n",
       "<tr>\n",
       "  <th>Date:</th>             <td>Fri, 13 Jun 2025</td> <th>  Prob (F-statistic):</th> <td>4.04e-10</td>\n",
       "</tr>\n",
       "<tr>\n",
       "  <th>Time:</th>                 <td>19:11:07</td>     <th>  Log-Likelihood:    </th> <td> -45.761</td>\n",
       "</tr>\n",
       "<tr>\n",
       "  <th>No. Observations:</th>      <td>    20</td>      <th>  AIC:               </th> <td>   95.52</td>\n",
       "</tr>\n",
       "<tr>\n",
       "  <th>Df Residuals:</th>          <td>    18</td>      <th>  BIC:               </th> <td>   97.51</td>\n",
       "</tr>\n",
       "<tr>\n",
       "  <th>Df Model:</th>              <td>     1</td>      <th>                     </th>     <td> </td>   \n",
       "</tr>\n",
       "<tr>\n",
       "  <th>Covariance Type:</th>      <td>nonrobust</td>    <th>                     </th>     <td> </td>   \n",
       "</tr>\n",
       "</table>\n",
       "<table class=\"simpletable\">\n",
       "<tr>\n",
       "      <td></td>         <th>coef</th>     <th>std err</th>      <th>t</th>      <th>P>|t|</th>  <th>[0.025</th>    <th>0.975]</th>  \n",
       "</tr>\n",
       "<tr>\n",
       "  <th>Intercept</th> <td>  115.0676</td> <td>    4.158</td> <td>   27.671</td> <td> 0.000</td> <td>  106.331</td> <td>  123.804</td>\n",
       "</tr>\n",
       "<tr>\n",
       "  <th>몸무게</th>       <td>    0.8658</td> <td>    0.071</td> <td>   12.167</td> <td> 0.000</td> <td>    0.716</td> <td>    1.015</td>\n",
       "</tr>\n",
       "</table>\n",
       "<table class=\"simpletable\">\n",
       "<tr>\n",
       "  <th>Omnibus:</th>       <td> 0.985</td> <th>  Durbin-Watson:     </th> <td>   2.609</td>\n",
       "</tr>\n",
       "<tr>\n",
       "  <th>Prob(Omnibus):</th> <td> 0.611</td> <th>  Jarque-Bera (JB):  </th> <td>   0.336</td>\n",
       "</tr>\n",
       "<tr>\n",
       "  <th>Skew:</th>          <td>-0.315</td> <th>  Prob(JB):          </th> <td>   0.845</td>\n",
       "</tr>\n",
       "<tr>\n",
       "  <th>Kurtosis:</th>      <td> 3.082</td> <th>  Cond. No.          </th> <td>    432.</td>\n",
       "</tr>\n",
       "</table><br/><br/>Notes:<br/>[1] Standard Errors assume that the covariance matrix of the errors is correctly specified."
      ],
      "text/latex": [
       "\\begin{center}\n",
       "\\begin{tabular}{lclc}\n",
       "\\toprule\n",
       "\\textbf{Dep. Variable:}    &        키         & \\textbf{  R-squared:         } &     0.892   \\\\\n",
       "\\textbf{Model:}            &       OLS        & \\textbf{  Adj. R-squared:    } &     0.886   \\\\\n",
       "\\textbf{Method:}           &  Least Squares   & \\textbf{  F-statistic:       } &     148.0   \\\\\n",
       "\\textbf{Date:}             & Fri, 13 Jun 2025 & \\textbf{  Prob (F-statistic):} &  4.04e-10   \\\\\n",
       "\\textbf{Time:}             &     19:11:07     & \\textbf{  Log-Likelihood:    } &   -45.761   \\\\\n",
       "\\textbf{No. Observations:} &          20      & \\textbf{  AIC:               } &     95.52   \\\\\n",
       "\\textbf{Df Residuals:}     &          18      & \\textbf{  BIC:               } &     97.51   \\\\\n",
       "\\textbf{Df Model:}         &           1      & \\textbf{                     } &             \\\\\n",
       "\\textbf{Covariance Type:}  &    nonrobust     & \\textbf{                     } &             \\\\\n",
       "\\bottomrule\n",
       "\\end{tabular}\n",
       "\\begin{tabular}{lcccccc}\n",
       "                   & \\textbf{coef} & \\textbf{std err} & \\textbf{t} & \\textbf{P$> |$t$|$} & \\textbf{[0.025} & \\textbf{0.975]}  \\\\\n",
       "\\midrule\n",
       "\\textbf{Intercept} &     115.0676  &        4.158     &    27.671  &         0.000        &      106.331    &      123.804     \\\\\n",
       "\\textbf{몸무게}       &       0.8658  &        0.071     &    12.167  &         0.000        &        0.716    &        1.015     \\\\\n",
       "\\bottomrule\n",
       "\\end{tabular}\n",
       "\\begin{tabular}{lclc}\n",
       "\\textbf{Omnibus:}       &  0.985 & \\textbf{  Durbin-Watson:     } &    2.609  \\\\\n",
       "\\textbf{Prob(Omnibus):} &  0.611 & \\textbf{  Jarque-Bera (JB):  } &    0.336  \\\\\n",
       "\\textbf{Skew:}          & -0.315 & \\textbf{  Prob(JB):          } &    0.845  \\\\\n",
       "\\textbf{Kurtosis:}      &  3.082 & \\textbf{  Cond. No.          } &     432.  \\\\\n",
       "\\bottomrule\n",
       "\\end{tabular}\n",
       "%\\caption{OLS Regression Results}\n",
       "\\end{center}\n",
       "\n",
       "Notes: \\newline\n",
       " [1] Standard Errors assume that the covariance matrix of the errors is correctly specified."
      ],
      "text/plain": [
       "<class 'statsmodels.iolib.summary.Summary'>\n",
       "\"\"\"\n",
       "                            OLS Regression Results                            \n",
       "==============================================================================\n",
       "Dep. Variable:                      키   R-squared:                       0.892\n",
       "Model:                            OLS   Adj. R-squared:                  0.886\n",
       "Method:                 Least Squares   F-statistic:                     148.0\n",
       "Date:                Fri, 13 Jun 2025   Prob (F-statistic):           4.04e-10\n",
       "Time:                        19:11:07   Log-Likelihood:                -45.761\n",
       "No. Observations:                  20   AIC:                             95.52\n",
       "Df Residuals:                      18   BIC:                             97.51\n",
       "Df Model:                           1                                         \n",
       "Covariance Type:            nonrobust                                         \n",
       "==============================================================================\n",
       "                 coef    std err          t      P>|t|      [0.025      0.975]\n",
       "------------------------------------------------------------------------------\n",
       "Intercept    115.0676      4.158     27.671      0.000     106.331     123.804\n",
       "몸무게            0.8658      0.071     12.167      0.000       0.716       1.015\n",
       "==============================================================================\n",
       "Omnibus:                        0.985   Durbin-Watson:                   2.609\n",
       "Prob(Omnibus):                  0.611   Jarque-Bera (JB):                0.336\n",
       "Skew:                          -0.315   Prob(JB):                        0.845\n",
       "Kurtosis:                       3.082   Cond. No.                         432.\n",
       "==============================================================================\n",
       "\n",
       "Notes:\n",
       "[1] Standard Errors assume that the covariance matrix of the errors is correctly specified.\n",
       "\"\"\""
      ]
     },
     "execution_count": 13,
     "metadata": {},
     "output_type": "execute_result"
    }
   ],
   "source": [
    "from statsmodels.formula.api import ols\n",
    "model = ols('키 ~ 몸무게', data = df).fit()\n",
    "model.summary()"
   ]
  },
  {
   "cell_type": "code",
   "execution_count": 14,
   "id": "3acf42cf",
   "metadata": {},
   "outputs": [
    {
     "name": "stdout",
     "output_type": "stream",
     "text": [
      "0.8915914350087261\n"
     ]
    }
   ],
   "source": [
    "print(model.rsquared)"
   ]
  },
  {
   "cell_type": "code",
   "execution_count": 15,
   "id": "9c14d7b0",
   "metadata": {},
   "outputs": [
    {
     "name": "stdout",
     "output_type": "stream",
     "text": [
      "0.8658438852380184\n"
     ]
    },
    {
     "data": {
      "text/plain": [
       "115.06763904471866"
      ]
     },
     "execution_count": 15,
     "metadata": {},
     "output_type": "execute_result"
    }
   ],
   "source": [
    "print(model.params['몸무게'])\n",
    "model.params['Intercept']"
   ]
  },
  {
   "cell_type": "code",
   "execution_count": 16,
   "id": "c0ce6eb4",
   "metadata": {},
   "outputs": [
    {
     "name": "stdout",
     "output_type": "stream",
     "text": [
      "4.03793255993052e-10\n",
      "0.0000000004\n"
     ]
    }
   ],
   "source": [
    "print(model.pvalues['몸무게'])\n",
    "print(\"{:.10f}\".format(model.pvalues['몸무게']))"
   ]
  },
  {
   "cell_type": "code",
   "execution_count": 17,
   "id": "f727b481",
   "metadata": {},
   "outputs": [
    {
     "name": "stdout",
     "output_type": "stream",
     "text": [
      "173.0791793556659\n"
     ]
    }
   ],
   "source": [
    "import pandas as pd\n",
    "new_data = pd.DataFrame({'몸무게' : [67]})\n",
    "result = model.predict(new_data)\n",
    "print(result[0])"
   ]
  },
  {
   "cell_type": "code",
   "execution_count": 18,
   "id": "e7754465",
   "metadata": {},
   "outputs": [
    {
     "data": {
      "text/plain": [
       "113.74226638884456"
      ]
     },
     "execution_count": 18,
     "metadata": {},
     "output_type": "execute_result"
    }
   ],
   "source": [
    "df['잔차'] = df['키'] - model.predict(df)\n",
    "sum(df['잔차'] ** 2)"
   ]
  },
  {
   "cell_type": "code",
   "execution_count": 19,
   "id": "5c1e1c5d",
   "metadata": {},
   "outputs": [
    {
     "data": {
      "text/plain": [
       "5.687113319442227"
      ]
     },
     "execution_count": 19,
     "metadata": {},
     "output_type": "execute_result"
    }
   ],
   "source": [
    "df['잔차'] = df['키'] - model.predict(df)\n",
    "MSE = (df['잔차'] **2).mean()\n",
    "MSE"
   ]
  },
  {
   "cell_type": "code",
   "execution_count": 21,
   "id": "ed659fd8",
   "metadata": {},
   "outputs": [
    {
     "data": {
      "text/plain": [
       "5.687113319442227"
      ]
     },
     "execution_count": 21,
     "metadata": {},
     "output_type": "execute_result"
    }
   ],
   "source": [
    "from sklearn.metrics import mean_squared_error\n",
    "pred = model.predict(df['몸무게'])\n",
    "mse = mean_squared_error(df['키'], pred)\n",
    "mse"
   ]
  },
  {
   "cell_type": "code",
   "execution_count": 22,
   "id": "f3c3e429",
   "metadata": {},
   "outputs": [
    {
     "data": {
      "text/plain": [
       "0    0.716337\n",
       "1    1.015351\n",
       "Name: 몸무게, dtype: float64"
      ]
     },
     "execution_count": 22,
     "metadata": {},
     "output_type": "execute_result"
    }
   ],
   "source": [
    "model.conf_int(alpha = 0.05).loc['몸무게']"
   ]
  },
  {
   "cell_type": "code",
   "execution_count": 24,
   "id": "a0922b11",
   "metadata": {},
   "outputs": [
    {
     "data": {
      "text/html": [
       "<div>\n",
       "<style scoped>\n",
       "    .dataframe tbody tr th:only-of-type {\n",
       "        vertical-align: middle;\n",
       "    }\n",
       "\n",
       "    .dataframe tbody tr th {\n",
       "        vertical-align: top;\n",
       "    }\n",
       "\n",
       "    .dataframe thead th {\n",
       "        text-align: right;\n",
       "    }\n",
       "</style>\n",
       "<table border=\"1\" class=\"dataframe\">\n",
       "  <thead>\n",
       "    <tr style=\"text-align: right;\">\n",
       "      <th></th>\n",
       "      <th>mean</th>\n",
       "      <th>mean_se</th>\n",
       "      <th>mean_ci_lower</th>\n",
       "      <th>mean_ci_upper</th>\n",
       "      <th>obs_ci_lower</th>\n",
       "      <th>obs_ci_upper</th>\n",
       "    </tr>\n",
       "  </thead>\n",
       "  <tbody>\n",
       "    <tr>\n",
       "      <th>0</th>\n",
       "      <td>158.359833</td>\n",
       "      <td>0.794986</td>\n",
       "      <td>156.68963</td>\n",
       "      <td>160.030037</td>\n",
       "      <td>152.820798</td>\n",
       "      <td>163.898869</td>\n",
       "    </tr>\n",
       "  </tbody>\n",
       "</table>\n",
       "</div>"
      ],
      "text/plain": [
       "         mean   mean_se  mean_ci_lower  mean_ci_upper  obs_ci_lower  \\\n",
       "0  158.359833  0.794986      156.68963     160.030037    152.820798   \n",
       "\n",
       "   obs_ci_upper  \n",
       "0    163.898869  "
      ]
     },
     "execution_count": 24,
     "metadata": {},
     "output_type": "execute_result"
    }
   ],
   "source": [
    "new_data = pd.DataFrame({\"몸무게\" : [50]})\n",
    "pred = model.get_prediction(new_data)\n",
    "result = pred.summary_frame(alpha = 0.05)\n",
    "result"
   ]
  },
  {
   "cell_type": "markdown",
   "id": "aa91af22",
   "metadata": {},
   "source": [
    "# 3. 다중 선형 회귀 분석"
   ]
  },
  {
   "cell_type": "code",
   "execution_count": 25,
   "id": "62f69afe",
   "metadata": {},
   "outputs": [
    {
     "data": {
      "text/html": [
       "<div>\n",
       "<style scoped>\n",
       "    .dataframe tbody tr th:only-of-type {\n",
       "        vertical-align: middle;\n",
       "    }\n",
       "\n",
       "    .dataframe tbody tr th {\n",
       "        vertical-align: top;\n",
       "    }\n",
       "\n",
       "    .dataframe thead th {\n",
       "        text-align: right;\n",
       "    }\n",
       "</style>\n",
       "<table border=\"1\" class=\"dataframe\">\n",
       "  <thead>\n",
       "    <tr style=\"text-align: right;\">\n",
       "      <th></th>\n",
       "      <th>매출액</th>\n",
       "      <th>광고비</th>\n",
       "      <th>직원수</th>\n",
       "    </tr>\n",
       "  </thead>\n",
       "  <tbody>\n",
       "    <tr>\n",
       "      <th>0</th>\n",
       "      <td>300</td>\n",
       "      <td>70</td>\n",
       "      <td>15</td>\n",
       "    </tr>\n",
       "    <tr>\n",
       "      <th>1</th>\n",
       "      <td>320</td>\n",
       "      <td>75</td>\n",
       "      <td>16</td>\n",
       "    </tr>\n",
       "    <tr>\n",
       "      <th>2</th>\n",
       "      <td>250</td>\n",
       "      <td>30</td>\n",
       "      <td>14</td>\n",
       "    </tr>\n",
       "  </tbody>\n",
       "</table>\n",
       "</div>"
      ],
      "text/plain": [
       "   매출액  광고비  직원수\n",
       "0  300   70   15\n",
       "1  320   75   16\n",
       "2  250   30   14"
      ]
     },
     "execution_count": 25,
     "metadata": {},
     "output_type": "execute_result"
    }
   ],
   "source": [
    "import pandas as pd\n",
    "data = {\n",
    "    '매출액' : [300, 320, 250, 360, 315, 328, 310, 335, 326, 280,\n",
    "            290, 300, 315, 328, 310,335, 300, 400, 500, 600],\n",
    "    '광고비' : [70, 75, 30, 80, 72, 77, 70, 82, 70, 80,\n",
    "            68, 90, 72, 77, 70, 82, 40, 20, 75, 80],\n",
    "    '직원수' : [15, 16, 14, 20, 19, 17, 16, 19, 15, 20,\n",
    "            14, 5, 16, 17, 16, 14, 30, 40, 10, 50]\n",
    "}\n",
    "df = pd.DataFrame(data)\n",
    "df.head(3)"
   ]
  },
  {
   "cell_type": "code",
   "execution_count": 26,
   "id": "0d9f1233",
   "metadata": {},
   "outputs": [
    {
     "data": {
      "text/html": [
       "<table class=\"simpletable\">\n",
       "<caption>OLS Regression Results</caption>\n",
       "<tr>\n",
       "  <th>Dep. Variable:</th>           <td>매출액</td>       <th>  R-squared:         </th> <td>   0.512</td>\n",
       "</tr>\n",
       "<tr>\n",
       "  <th>Model:</th>                   <td>OLS</td>       <th>  Adj. R-squared:    </th> <td>   0.454</td>\n",
       "</tr>\n",
       "<tr>\n",
       "  <th>Method:</th>             <td>Least Squares</td>  <th>  F-statistic:       </th> <td>   8.907</td>\n",
       "</tr>\n",
       "<tr>\n",
       "  <th>Date:</th>             <td>Fri, 13 Jun 2025</td> <th>  Prob (F-statistic):</th>  <td>0.00226</td>\n",
       "</tr>\n",
       "<tr>\n",
       "  <th>Time:</th>                 <td>21:00:39</td>     <th>  Log-Likelihood:    </th> <td> -108.22</td>\n",
       "</tr>\n",
       "<tr>\n",
       "  <th>No. Observations:</th>      <td>    20</td>      <th>  AIC:               </th> <td>   222.4</td>\n",
       "</tr>\n",
       "<tr>\n",
       "  <th>Df Residuals:</th>          <td>    17</td>      <th>  BIC:               </th> <td>   225.4</td>\n",
       "</tr>\n",
       "<tr>\n",
       "  <th>Df Model:</th>              <td>     2</td>      <th>                     </th>     <td> </td>   \n",
       "</tr>\n",
       "<tr>\n",
       "  <th>Covariance Type:</th>      <td>nonrobust</td>    <th>                     </th>     <td> </td>   \n",
       "</tr>\n",
       "</table>\n",
       "<table class=\"simpletable\">\n",
       "<tr>\n",
       "      <td></td>         <th>coef</th>     <th>std err</th>      <th>t</th>      <th>P>|t|</th>  <th>[0.025</th>    <th>0.975]</th>  \n",
       "</tr>\n",
       "<tr>\n",
       "  <th>Intercept</th> <td>  101.0239</td> <td>   71.716</td> <td>    1.409</td> <td> 0.177</td> <td>  -50.284</td> <td>  252.331</td>\n",
       "</tr>\n",
       "<tr>\n",
       "  <th>광고비</th>       <td>    1.8194</td> <td>    0.807</td> <td>    2.255</td> <td> 0.038</td> <td>    0.117</td> <td>    3.522</td>\n",
       "</tr>\n",
       "<tr>\n",
       "  <th>직원수</th>       <td>    5.9288</td> <td>    1.430</td> <td>    4.147</td> <td> 0.001</td> <td>    2.912</td> <td>    8.945</td>\n",
       "</tr>\n",
       "</table>\n",
       "<table class=\"simpletable\">\n",
       "<tr>\n",
       "  <th>Omnibus:</th>       <td>30.534</td> <th>  Durbin-Watson:     </th> <td>   1.354</td>\n",
       "</tr>\n",
       "<tr>\n",
       "  <th>Prob(Omnibus):</th> <td> 0.000</td> <th>  Jarque-Bera (JB):  </th> <td>  64.655</td>\n",
       "</tr>\n",
       "<tr>\n",
       "  <th>Skew:</th>          <td> 2.444</td> <th>  Prob(JB):          </th> <td>9.13e-15</td>\n",
       "</tr>\n",
       "<tr>\n",
       "  <th>Kurtosis:</th>      <td>10.327</td> <th>  Cond. No.          </th> <td>    401.</td>\n",
       "</tr>\n",
       "</table><br/><br/>Notes:<br/>[1] Standard Errors assume that the covariance matrix of the errors is correctly specified."
      ],
      "text/latex": [
       "\\begin{center}\n",
       "\\begin{tabular}{lclc}\n",
       "\\toprule\n",
       "\\textbf{Dep. Variable:}    &       매출액        & \\textbf{  R-squared:         } &     0.512   \\\\\n",
       "\\textbf{Model:}            &       OLS        & \\textbf{  Adj. R-squared:    } &     0.454   \\\\\n",
       "\\textbf{Method:}           &  Least Squares   & \\textbf{  F-statistic:       } &     8.907   \\\\\n",
       "\\textbf{Date:}             & Fri, 13 Jun 2025 & \\textbf{  Prob (F-statistic):} &  0.00226    \\\\\n",
       "\\textbf{Time:}             &     21:00:39     & \\textbf{  Log-Likelihood:    } &   -108.22   \\\\\n",
       "\\textbf{No. Observations:} &          20      & \\textbf{  AIC:               } &     222.4   \\\\\n",
       "\\textbf{Df Residuals:}     &          17      & \\textbf{  BIC:               } &     225.4   \\\\\n",
       "\\textbf{Df Model:}         &           2      & \\textbf{                     } &             \\\\\n",
       "\\textbf{Covariance Type:}  &    nonrobust     & \\textbf{                     } &             \\\\\n",
       "\\bottomrule\n",
       "\\end{tabular}\n",
       "\\begin{tabular}{lcccccc}\n",
       "                   & \\textbf{coef} & \\textbf{std err} & \\textbf{t} & \\textbf{P$> |$t$|$} & \\textbf{[0.025} & \\textbf{0.975]}  \\\\\n",
       "\\midrule\n",
       "\\textbf{Intercept} &     101.0239  &       71.716     &     1.409  &         0.177        &      -50.284    &      252.331     \\\\\n",
       "\\textbf{광고비}       &       1.8194  &        0.807     &     2.255  &         0.038        &        0.117    &        3.522     \\\\\n",
       "\\textbf{직원수}       &       5.9288  &        1.430     &     4.147  &         0.001        &        2.912    &        8.945     \\\\\n",
       "\\bottomrule\n",
       "\\end{tabular}\n",
       "\\begin{tabular}{lclc}\n",
       "\\textbf{Omnibus:}       & 30.534 & \\textbf{  Durbin-Watson:     } &    1.354  \\\\\n",
       "\\textbf{Prob(Omnibus):} &  0.000 & \\textbf{  Jarque-Bera (JB):  } &   64.655  \\\\\n",
       "\\textbf{Skew:}          &  2.444 & \\textbf{  Prob(JB):          } & 9.13e-15  \\\\\n",
       "\\textbf{Kurtosis:}      & 10.327 & \\textbf{  Cond. No.          } &     401.  \\\\\n",
       "\\bottomrule\n",
       "\\end{tabular}\n",
       "%\\caption{OLS Regression Results}\n",
       "\\end{center}\n",
       "\n",
       "Notes: \\newline\n",
       " [1] Standard Errors assume that the covariance matrix of the errors is correctly specified."
      ],
      "text/plain": [
       "<class 'statsmodels.iolib.summary.Summary'>\n",
       "\"\"\"\n",
       "                            OLS Regression Results                            \n",
       "==============================================================================\n",
       "Dep. Variable:                    매출액   R-squared:                       0.512\n",
       "Model:                            OLS   Adj. R-squared:                  0.454\n",
       "Method:                 Least Squares   F-statistic:                     8.907\n",
       "Date:                Fri, 13 Jun 2025   Prob (F-statistic):            0.00226\n",
       "Time:                        21:00:39   Log-Likelihood:                -108.22\n",
       "No. Observations:                  20   AIC:                             222.4\n",
       "Df Residuals:                      17   BIC:                             225.4\n",
       "Df Model:                           2                                         \n",
       "Covariance Type:            nonrobust                                         \n",
       "==============================================================================\n",
       "                 coef    std err          t      P>|t|      [0.025      0.975]\n",
       "------------------------------------------------------------------------------\n",
       "Intercept    101.0239     71.716      1.409      0.177     -50.284     252.331\n",
       "광고비            1.8194      0.807      2.255      0.038       0.117       3.522\n",
       "직원수            5.9288      1.430      4.147      0.001       2.912       8.945\n",
       "==============================================================================\n",
       "Omnibus:                       30.534   Durbin-Watson:                   1.354\n",
       "Prob(Omnibus):                  0.000   Jarque-Bera (JB):               64.655\n",
       "Skew:                           2.444   Prob(JB):                     9.13e-15\n",
       "Kurtosis:                      10.327   Cond. No.                         401.\n",
       "==============================================================================\n",
       "\n",
       "Notes:\n",
       "[1] Standard Errors assume that the covariance matrix of the errors is correctly specified.\n",
       "\"\"\""
      ]
     },
     "execution_count": 26,
     "metadata": {},
     "output_type": "execute_result"
    }
   ],
   "source": [
    "from statsmodels.formula.api import ols\n",
    "model = ols('매출액 ~ 광고비 + 직원수', data = df).fit()\n",
    "model.summary()"
   ]
  },
  {
   "cell_type": "code",
   "execution_count": 27,
   "id": "57104887",
   "metadata": {},
   "outputs": [
    {
     "data": {
      "text/plain": [
       "0.13316981737040343"
      ]
     },
     "execution_count": 27,
     "metadata": {},
     "output_type": "execute_result"
    }
   ],
   "source": [
    "df['광고비'].corr(df['매출액'])"
   ]
  },
  {
   "cell_type": "code",
   "execution_count": 28,
   "id": "11293f25",
   "metadata": {},
   "outputs": [
    {
     "data": {
      "text/plain": [
       "PearsonRResult(statistic=0.13316981737040345, pvalue=0.5756778801904271)"
      ]
     },
     "execution_count": 28,
     "metadata": {},
     "output_type": "execute_result"
    }
   ],
   "source": [
    "from scipy import stats\n",
    "stats.pearsonr(df['광고비'], df['매출액'])"
   ]
  },
  {
   "cell_type": "code",
   "execution_count": 29,
   "id": "22796cd9",
   "metadata": {},
   "outputs": [
    {
     "data": {
      "text/plain": [
       "0.5116964327009041"
      ]
     },
     "execution_count": 29,
     "metadata": {},
     "output_type": "execute_result"
    }
   ],
   "source": [
    "model.rsquared"
   ]
  },
  {
   "cell_type": "code",
   "execution_count": 30,
   "id": "95fe4a90",
   "metadata": {},
   "outputs": [
    {
     "data": {
      "text/plain": [
       "Intercept    101.023872\n",
       "광고비            1.819427\n",
       "직원수            5.928756\n",
       "dtype: float64"
      ]
     },
     "execution_count": 30,
     "metadata": {},
     "output_type": "execute_result"
    }
   ],
   "source": [
    "model.params"
   ]
  },
  {
   "cell_type": "code",
   "execution_count": 33,
   "id": "c240bba8",
   "metadata": {},
   "outputs": [
    {
     "data": {
      "text/plain": [
       "0.03764350647696033"
      ]
     },
     "execution_count": 33,
     "metadata": {},
     "output_type": "execute_result"
    }
   ],
   "source": [
    "model.pvalues['광고비']"
   ]
  },
  {
   "cell_type": "code",
   "execution_count": 34,
   "id": "08ef33b5",
   "metadata": {},
   "outputs": [
    {
     "data": {
      "text/plain": [
       "0    310.57033\n",
       "dtype: float64"
      ]
     },
     "execution_count": 34,
     "metadata": {},
     "output_type": "execute_result"
    }
   ],
   "source": [
    "new_data = pd.DataFrame({'광고비' : [50], '직원수' : [20]})\n",
    "pred = model.predict(new_data)\n",
    "pred"
   ]
  },
  {
   "cell_type": "code",
   "execution_count": 35,
   "id": "80607eb4",
   "metadata": {},
   "outputs": [
    {
     "data": {
      "text/plain": [
       "58686.17827156107"
      ]
     },
     "execution_count": 35,
     "metadata": {},
     "output_type": "execute_result"
    }
   ],
   "source": [
    "df['잔차'] = df['매출액'] - model.predict(df)\n",
    "sum(df['잔차'] ** 2)"
   ]
  },
  {
   "cell_type": "code",
   "execution_count": 38,
   "id": "f0ce1886",
   "metadata": {},
   "outputs": [
    {
     "data": {
      "text/plain": [
       "2934.3089135780533"
      ]
     },
     "execution_count": 38,
     "metadata": {},
     "output_type": "execute_result"
    }
   ],
   "source": [
    "df['잔차'] = df['매출액'] - model.predict(df)\n",
    "(df['잔차'] ** 2).mean()"
   ]
  },
  {
   "cell_type": "code",
   "execution_count": 39,
   "id": "55884c19",
   "metadata": {},
   "outputs": [
    {
     "data": {
      "text/html": [
       "<div>\n",
       "<style scoped>\n",
       "    .dataframe tbody tr th:only-of-type {\n",
       "        vertical-align: middle;\n",
       "    }\n",
       "\n",
       "    .dataframe tbody tr th {\n",
       "        vertical-align: top;\n",
       "    }\n",
       "\n",
       "    .dataframe thead th {\n",
       "        text-align: right;\n",
       "    }\n",
       "</style>\n",
       "<table border=\"1\" class=\"dataframe\">\n",
       "  <thead>\n",
       "    <tr style=\"text-align: right;\">\n",
       "      <th></th>\n",
       "      <th>0</th>\n",
       "      <th>1</th>\n",
       "    </tr>\n",
       "  </thead>\n",
       "  <tbody>\n",
       "    <tr>\n",
       "      <th>Intercept</th>\n",
       "      <td>-50.283684</td>\n",
       "      <td>252.331429</td>\n",
       "    </tr>\n",
       "    <tr>\n",
       "      <th>광고비</th>\n",
       "      <td>0.116785</td>\n",
       "      <td>3.522069</td>\n",
       "    </tr>\n",
       "    <tr>\n",
       "      <th>직원수</th>\n",
       "      <td>2.912406</td>\n",
       "      <td>8.945105</td>\n",
       "    </tr>\n",
       "  </tbody>\n",
       "</table>\n",
       "</div>"
      ],
      "text/plain": [
       "                   0           1\n",
       "Intercept -50.283684  252.331429\n",
       "광고비         0.116785    3.522069\n",
       "직원수         2.912406    8.945105"
      ]
     },
     "execution_count": 39,
     "metadata": {},
     "output_type": "execute_result"
    }
   ],
   "source": [
    "model.conf_int(alpha = 0.05)"
   ]
  },
  {
   "cell_type": "code",
   "execution_count": 43,
   "id": "b27b4ea1",
   "metadata": {},
   "outputs": [
    {
     "data": {
      "text/html": [
       "<div>\n",
       "<style scoped>\n",
       "    .dataframe tbody tr th:only-of-type {\n",
       "        vertical-align: middle;\n",
       "    }\n",
       "\n",
       "    .dataframe tbody tr th {\n",
       "        vertical-align: top;\n",
       "    }\n",
       "\n",
       "    .dataframe thead th {\n",
       "        text-align: right;\n",
       "    }\n",
       "</style>\n",
       "<table border=\"1\" class=\"dataframe\">\n",
       "  <thead>\n",
       "    <tr style=\"text-align: right;\">\n",
       "      <th></th>\n",
       "      <th>mean</th>\n",
       "      <th>mean_se</th>\n",
       "      <th>mean_ci_lower</th>\n",
       "      <th>mean_ci_upper</th>\n",
       "      <th>obs_ci_lower</th>\n",
       "      <th>obs_ci_upper</th>\n",
       "    </tr>\n",
       "  </thead>\n",
       "  <tbody>\n",
       "    <tr>\n",
       "      <th>0</th>\n",
       "      <td>313.330707</td>\n",
       "      <td>22.502058</td>\n",
       "      <td>265.855514</td>\n",
       "      <td>360.8059</td>\n",
       "      <td>180.58875</td>\n",
       "      <td>446.072663</td>\n",
       "    </tr>\n",
       "  </tbody>\n",
       "</table>\n",
       "</div>"
      ],
      "text/plain": [
       "         mean    mean_se  mean_ci_lower  mean_ci_upper  obs_ci_lower  \\\n",
       "0  313.330707  22.502058     265.855514       360.8059     180.58875   \n",
       "\n",
       "   obs_ci_upper  \n",
       "0    446.072663  "
      ]
     },
     "execution_count": 43,
     "metadata": {},
     "output_type": "execute_result"
    }
   ],
   "source": [
    "new_data = pd.DataFrame({'광고비' : [45], '직원수' : [22]})\n",
    "pred = model.get_prediction(new_data)\n",
    "result = pred.summary_frame(alpha =0.05)\n",
    "result"
   ]
  },
  {
   "cell_type": "markdown",
   "id": "59abcf8e",
   "metadata": {},
   "source": [
    "# 4. 범주형 변수"
   ]
  },
  {
   "cell_type": "code",
   "execution_count": 44,
   "id": "a5de3a6d",
   "metadata": {},
   "outputs": [
    {
     "data": {
      "text/html": [
       "<div>\n",
       "<style scoped>\n",
       "    .dataframe tbody tr th:only-of-type {\n",
       "        vertical-align: middle;\n",
       "    }\n",
       "\n",
       "    .dataframe tbody tr th {\n",
       "        vertical-align: top;\n",
       "    }\n",
       "\n",
       "    .dataframe thead th {\n",
       "        text-align: right;\n",
       "    }\n",
       "</style>\n",
       "<table border=\"1\" class=\"dataframe\">\n",
       "  <thead>\n",
       "    <tr style=\"text-align: right;\">\n",
       "      <th></th>\n",
       "      <th>study_hours</th>\n",
       "      <th>material_type</th>\n",
       "      <th>score</th>\n",
       "    </tr>\n",
       "  </thead>\n",
       "  <tbody>\n",
       "    <tr>\n",
       "      <th>0</th>\n",
       "      <td>71</td>\n",
       "      <td>강의</td>\n",
       "      <td>95</td>\n",
       "    </tr>\n",
       "    <tr>\n",
       "      <th>1</th>\n",
       "      <td>34</td>\n",
       "      <td>독학</td>\n",
       "      <td>63</td>\n",
       "    </tr>\n",
       "    <tr>\n",
       "      <th>2</th>\n",
       "      <td>91</td>\n",
       "      <td>도서</td>\n",
       "      <td>95</td>\n",
       "    </tr>\n",
       "    <tr>\n",
       "      <th>3</th>\n",
       "      <td>80</td>\n",
       "      <td>독학</td>\n",
       "      <td>80</td>\n",
       "    </tr>\n",
       "    <tr>\n",
       "      <th>4</th>\n",
       "      <td>40</td>\n",
       "      <td>강의</td>\n",
       "      <td>79</td>\n",
       "    </tr>\n",
       "  </tbody>\n",
       "</table>\n",
       "</div>"
      ],
      "text/plain": [
       "   study_hours material_type  score\n",
       "0           71            강의     95\n",
       "1           34            독학     63\n",
       "2           91            도서     95\n",
       "3           80            독학     80\n",
       "4           40            강의     79"
      ]
     },
     "execution_count": 44,
     "metadata": {},
     "output_type": "execute_result"
    }
   ],
   "source": [
    "import pandas as pd\n",
    "df = pd.read_csv('study.csv')\n",
    "df.head()"
   ]
  },
  {
   "cell_type": "code",
   "execution_count": 45,
   "id": "3c61b275",
   "metadata": {},
   "outputs": [
    {
     "data": {
      "text/html": [
       "<table class=\"simpletable\">\n",
       "<caption>OLS Regression Results</caption>\n",
       "<tr>\n",
       "  <th>Dep. Variable:</th>          <td>score</td>      <th>  R-squared:         </th> <td>   0.969</td>\n",
       "</tr>\n",
       "<tr>\n",
       "  <th>Model:</th>                   <td>OLS</td>       <th>  Adj. R-squared:    </th> <td>   0.968</td>\n",
       "</tr>\n",
       "<tr>\n",
       "  <th>Method:</th>             <td>Least Squares</td>  <th>  F-statistic:       </th> <td>   991.9</td>\n",
       "</tr>\n",
       "<tr>\n",
       "  <th>Date:</th>             <td>Fri, 13 Jun 2025</td> <th>  Prob (F-statistic):</th> <td>4.42e-72</td>\n",
       "</tr>\n",
       "<tr>\n",
       "  <th>Time:</th>                 <td>21:34:47</td>     <th>  Log-Likelihood:    </th> <td> -238.89</td>\n",
       "</tr>\n",
       "<tr>\n",
       "  <th>No. Observations:</th>      <td>   100</td>      <th>  AIC:               </th> <td>   485.8</td>\n",
       "</tr>\n",
       "<tr>\n",
       "  <th>Df Residuals:</th>          <td>    96</td>      <th>  BIC:               </th> <td>   496.2</td>\n",
       "</tr>\n",
       "<tr>\n",
       "  <th>Df Model:</th>              <td>     3</td>      <th>                     </th>     <td> </td>   \n",
       "</tr>\n",
       "<tr>\n",
       "  <th>Covariance Type:</th>      <td>nonrobust</td>    <th>                     </th>     <td> </td>   \n",
       "</tr>\n",
       "</table>\n",
       "<table class=\"simpletable\">\n",
       "<tr>\n",
       "           <td></td>              <th>coef</th>     <th>std err</th>      <th>t</th>      <th>P>|t|</th>  <th>[0.025</th>    <th>0.975]</th>  \n",
       "</tr>\n",
       "<tr>\n",
       "  <th>Intercept</th>           <td>   59.2111</td> <td>    0.799</td> <td>   74.147</td> <td> 0.000</td> <td>   57.626</td> <td>   60.796</td>\n",
       "</tr>\n",
       "<tr>\n",
       "  <th>material_type[T.도서]</th> <td>   -8.6696</td> <td>    0.678</td> <td>  -12.778</td> <td> 0.000</td> <td>  -10.016</td> <td>   -7.323</td>\n",
       "</tr>\n",
       "<tr>\n",
       "  <th>material_type[T.독학]</th> <td>  -17.6129</td> <td>    0.634</td> <td>  -27.790</td> <td> 0.000</td> <td>  -18.871</td> <td>  -16.355</td>\n",
       "</tr>\n",
       "<tr>\n",
       "  <th>study_hours</th>         <td>    0.4839</td> <td>    0.011</td> <td>   43.810</td> <td> 0.000</td> <td>    0.462</td> <td>    0.506</td>\n",
       "</tr>\n",
       "</table>\n",
       "<table class=\"simpletable\">\n",
       "<tr>\n",
       "  <th>Omnibus:</th>       <td> 1.754</td> <th>  Durbin-Watson:     </th> <td>   2.173</td>\n",
       "</tr>\n",
       "<tr>\n",
       "  <th>Prob(Omnibus):</th> <td> 0.416</td> <th>  Jarque-Bera (JB):  </th> <td>   1.216</td>\n",
       "</tr>\n",
       "<tr>\n",
       "  <th>Skew:</th>          <td> 0.231</td> <th>  Prob(JB):          </th> <td>   0.544</td>\n",
       "</tr>\n",
       "<tr>\n",
       "  <th>Kurtosis:</th>      <td> 3.280</td> <th>  Cond. No.          </th> <td>    228.</td>\n",
       "</tr>\n",
       "</table><br/><br/>Notes:<br/>[1] Standard Errors assume that the covariance matrix of the errors is correctly specified."
      ],
      "text/latex": [
       "\\begin{center}\n",
       "\\begin{tabular}{lclc}\n",
       "\\toprule\n",
       "\\textbf{Dep. Variable:}       &      score       & \\textbf{  R-squared:         } &     0.969   \\\\\n",
       "\\textbf{Model:}               &       OLS        & \\textbf{  Adj. R-squared:    } &     0.968   \\\\\n",
       "\\textbf{Method:}              &  Least Squares   & \\textbf{  F-statistic:       } &     991.9   \\\\\n",
       "\\textbf{Date:}                & Fri, 13 Jun 2025 & \\textbf{  Prob (F-statistic):} &  4.42e-72   \\\\\n",
       "\\textbf{Time:}                &     21:34:47     & \\textbf{  Log-Likelihood:    } &   -238.89   \\\\\n",
       "\\textbf{No. Observations:}    &         100      & \\textbf{  AIC:               } &     485.8   \\\\\n",
       "\\textbf{Df Residuals:}        &          96      & \\textbf{  BIC:               } &     496.2   \\\\\n",
       "\\textbf{Df Model:}            &           3      & \\textbf{                     } &             \\\\\n",
       "\\textbf{Covariance Type:}     &    nonrobust     & \\textbf{                     } &             \\\\\n",
       "\\bottomrule\n",
       "\\end{tabular}\n",
       "\\begin{tabular}{lcccccc}\n",
       "                              & \\textbf{coef} & \\textbf{std err} & \\textbf{t} & \\textbf{P$> |$t$|$} & \\textbf{[0.025} & \\textbf{0.975]}  \\\\\n",
       "\\midrule\n",
       "\\textbf{Intercept}            &      59.2111  &        0.799     &    74.147  &         0.000        &       57.626    &       60.796     \\\\\n",
       "\\textbf{material\\_type[T.도서]} &      -8.6696  &        0.678     &   -12.778  &         0.000        &      -10.016    &       -7.323     \\\\\n",
       "\\textbf{material\\_type[T.독학]} &     -17.6129  &        0.634     &   -27.790  &         0.000        &      -18.871    &      -16.355     \\\\\n",
       "\\textbf{study\\_hours}         &       0.4839  &        0.011     &    43.810  &         0.000        &        0.462    &        0.506     \\\\\n",
       "\\bottomrule\n",
       "\\end{tabular}\n",
       "\\begin{tabular}{lclc}\n",
       "\\textbf{Omnibus:}       &  1.754 & \\textbf{  Durbin-Watson:     } &    2.173  \\\\\n",
       "\\textbf{Prob(Omnibus):} &  0.416 & \\textbf{  Jarque-Bera (JB):  } &    1.216  \\\\\n",
       "\\textbf{Skew:}          &  0.231 & \\textbf{  Prob(JB):          } &    0.544  \\\\\n",
       "\\textbf{Kurtosis:}      &  3.280 & \\textbf{  Cond. No.          } &     228.  \\\\\n",
       "\\bottomrule\n",
       "\\end{tabular}\n",
       "%\\caption{OLS Regression Results}\n",
       "\\end{center}\n",
       "\n",
       "Notes: \\newline\n",
       " [1] Standard Errors assume that the covariance matrix of the errors is correctly specified."
      ],
      "text/plain": [
       "<class 'statsmodels.iolib.summary.Summary'>\n",
       "\"\"\"\n",
       "                            OLS Regression Results                            \n",
       "==============================================================================\n",
       "Dep. Variable:                  score   R-squared:                       0.969\n",
       "Model:                            OLS   Adj. R-squared:                  0.968\n",
       "Method:                 Least Squares   F-statistic:                     991.9\n",
       "Date:                Fri, 13 Jun 2025   Prob (F-statistic):           4.42e-72\n",
       "Time:                        21:34:47   Log-Likelihood:                -238.89\n",
       "No. Observations:                 100   AIC:                             485.8\n",
       "Df Residuals:                      96   BIC:                             496.2\n",
       "Df Model:                           3                                         \n",
       "Covariance Type:            nonrobust                                         \n",
       "=======================================================================================\n",
       "                          coef    std err          t      P>|t|      [0.025      0.975]\n",
       "---------------------------------------------------------------------------------------\n",
       "Intercept              59.2111      0.799     74.147      0.000      57.626      60.796\n",
       "material_type[T.도서]    -8.6696      0.678    -12.778      0.000     -10.016      -7.323\n",
       "material_type[T.독학]   -17.6129      0.634    -27.790      0.000     -18.871     -16.355\n",
       "study_hours             0.4839      0.011     43.810      0.000       0.462       0.506\n",
       "==============================================================================\n",
       "Omnibus:                        1.754   Durbin-Watson:                   2.173\n",
       "Prob(Omnibus):                  0.416   Jarque-Bera (JB):                1.216\n",
       "Skew:                           0.231   Prob(JB):                        0.544\n",
       "Kurtosis:                       3.280   Cond. No.                         228.\n",
       "==============================================================================\n",
       "\n",
       "Notes:\n",
       "[1] Standard Errors assume that the covariance matrix of the errors is correctly specified.\n",
       "\"\"\""
      ]
     },
     "execution_count": 45,
     "metadata": {},
     "output_type": "execute_result"
    }
   ],
   "source": [
    "model = ols('score ~ study_hours + material_type', data = df).fit()\n",
    "model.summary()"
   ]
  }
 ],
 "metadata": {
  "kernelspec": {
   "display_name": "Python 3 (ipykernel)",
   "language": "python",
   "name": "python3"
  },
  "language_info": {
   "codemirror_mode": {
    "name": "ipython",
    "version": 3
   },
   "file_extension": ".py",
   "mimetype": "text/x-python",
   "name": "python",
   "nbconvert_exporter": "python",
   "pygments_lexer": "ipython3",
   "version": "3.8.17"
  }
 },
 "nbformat": 4,
 "nbformat_minor": 5
}
