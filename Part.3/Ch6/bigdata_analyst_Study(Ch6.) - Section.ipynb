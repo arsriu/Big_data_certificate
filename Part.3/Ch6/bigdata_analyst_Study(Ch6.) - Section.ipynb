{
 "cells": [
  {
   "cell_type": "markdown",
   "id": "c7a2466c",
   "metadata": {},
   "source": [
    "# 1. 단일 표본 검정"
   ]
  },
  {
   "cell_type": "code",
   "execution_count": 1,
   "id": "3e375e4b",
   "metadata": {},
   "outputs": [],
   "source": [
    "import pandas as pd\n",
    "df = pd.DataFrame({\n",
    "    'Caffeine(mg)' : [\n",
    "        94.2, 93.7, 95.5, 93.9, 94.0, 95.2, 94.7, 93.5, 92.8, 94.4, \n",
    "        93.8, 94.6, 93.3, 95.1, 94.3, 94.9, 93.9, 94.8, 95.0, 94.2,\n",
    "        93.7, 94.4, 95.1, 94.0, 93.6\n",
    "    ]ㅉ\n",
    "})"
   ]
  },
  {
   "cell_type": "code",
   "execution_count": 3,
   "id": "5c1f9f54",
   "metadata": {},
   "outputs": [
    {
     "data": {
      "text/plain": [
       "Caffeine(mg)    94.264\n",
       "dtype: float64"
      ]
     },
     "execution_count": 3,
     "metadata": {},
     "output_type": "execute_result"
    }
   ],
   "source": [
    "df.mean()"
   ]
  },
  {
   "cell_type": "code",
   "execution_count": 10,
   "id": "e7ac1108",
   "metadata": {},
   "outputs": [
    {
     "data": {
      "text/plain": [
       "ShapiroResult(statistic=0.9826574921607971, pvalue=0.9321980476379395)"
      ]
     },
     "execution_count": 10,
     "metadata": {},
     "output_type": "execute_result"
    }
   ],
   "source": [
    "from scipy import stats\n",
    "stats.shapiro(df['Caffeine(mg)'])"
   ]
  },
  {
   "cell_type": "code",
   "execution_count": 13,
   "id": "6df1eed7",
   "metadata": {},
   "outputs": [
    {
     "data": {
      "text/plain": [
       "TtestResult(statistic=-5.501737036221897, pvalue=5.8686553916715e-06, df=24)"
      ]
     },
     "execution_count": 13,
     "metadata": {},
     "output_type": "execute_result"
    }
   ],
   "source": [
    "from scipy import stats\n",
    "stats.ttest_1samp(df['Caffeine(mg)'], 95, alternative = 'less')"
   ]
  },
  {
   "cell_type": "code",
   "execution_count": 14,
   "id": "9439f0b4",
   "metadata": {},
   "outputs": [
    {
     "name": "stdout",
     "output_type": "stream",
     "text": [
      "0.0000058687\n"
     ]
    }
   ],
   "source": [
    "stat, pvalue = stats.ttest_1samp(df['Caffeine(mg)'], 95, alternative = 'less')\n",
    "print(\"{:.10f}\".format(pvalue))"
   ]
  },
  {
   "cell_type": "markdown",
   "id": "aaa9d2e2",
   "metadata": {},
   "source": [
    "# 2. 독립 표본 검정"
   ]
  },
  {
   "cell_type": "code",
   "execution_count": 15,
   "id": "e325258f",
   "metadata": {},
   "outputs": [
    {
     "data": {
      "text/html": [
       "<div>\n",
       "<style scoped>\n",
       "    .dataframe tbody tr th:only-of-type {\n",
       "        vertical-align: middle;\n",
       "    }\n",
       "\n",
       "    .dataframe tbody tr th {\n",
       "        vertical-align: top;\n",
       "    }\n",
       "\n",
       "    .dataframe thead th {\n",
       "        text-align: right;\n",
       "    }\n",
       "</style>\n",
       "<table border=\"1\" class=\"dataframe\">\n",
       "  <thead>\n",
       "    <tr style=\"text-align: right;\">\n",
       "      <th></th>\n",
       "      <th>충전기</th>\n",
       "      <th>충전시간</th>\n",
       "    </tr>\n",
       "  </thead>\n",
       "  <tbody>\n",
       "    <tr>\n",
       "      <th>0</th>\n",
       "      <td>New</td>\n",
       "      <td>1.5</td>\n",
       "    </tr>\n",
       "    <tr>\n",
       "      <th>1</th>\n",
       "      <td>New</td>\n",
       "      <td>1.6</td>\n",
       "    </tr>\n",
       "    <tr>\n",
       "      <th>2</th>\n",
       "      <td>New</td>\n",
       "      <td>1.4</td>\n",
       "    </tr>\n",
       "    <tr>\n",
       "      <th>3</th>\n",
       "      <td>New</td>\n",
       "      <td>1.7</td>\n",
       "    </tr>\n",
       "    <tr>\n",
       "      <th>4</th>\n",
       "      <td>New</td>\n",
       "      <td>1.5</td>\n",
       "    </tr>\n",
       "  </tbody>\n",
       "</table>\n",
       "</div>"
      ],
      "text/plain": [
       "   충전기  충전시간\n",
       "0  New   1.5\n",
       "1  New   1.6\n",
       "2  New   1.4\n",
       "3  New   1.7\n",
       "4  New   1.5"
      ]
     },
     "execution_count": 15,
     "metadata": {},
     "output_type": "execute_result"
    }
   ],
   "source": [
    "import pandas as pd\n",
    "df = pd.DataFrame({\n",
    "    '충전기' : ['New'] * 10 + ['Old'] * 10,\n",
    "    '충전시간' : [\n",
    "        1.5, 1.6, 1.4, 1.7, 1.5, 1.6, 1.7, 1.4, 1.6, 1.5,\n",
    "        1.7, 1.8, 1.7, 1.9, 1.8, 1.7, 1.8, 1.9, 1.7, 1.6\n",
    "    ]\n",
    "})\n",
    "df.head()"
   ]
  },
  {
   "cell_type": "code",
   "execution_count": 19,
   "id": "1a797e18",
   "metadata": {},
   "outputs": [
    {
     "data": {
      "text/plain": [
       "Ttest_indResult(statistic=-4.582575694955849, pvalue=0.00011546547787696304)"
      ]
     },
     "execution_count": 19,
     "metadata": {},
     "output_type": "execute_result"
    }
   ],
   "source": [
    "df_new = df['충전기'] == 'New'\n",
    "df_old = df['충전기'] == 'Old'\n",
    "from scipy import stats\n",
    "stats.ttest_ind(df[df_new]['충전시간'], df[df_old]['충전시간'], alternative = 'less', equal_var = True)"
   ]
  },
  {
   "cell_type": "markdown",
   "id": "f8810794",
   "metadata": {},
   "source": [
    "# 3. 대응 표본 검정"
   ]
  },
  {
   "cell_type": "code",
   "execution_count": 1,
   "id": "07e6bd91",
   "metadata": {},
   "outputs": [
    {
     "data": {
      "text/html": [
       "<div>\n",
       "<style scoped>\n",
       "    .dataframe tbody tr th:only-of-type {\n",
       "        vertical-align: middle;\n",
       "    }\n",
       "\n",
       "    .dataframe tbody tr th {\n",
       "        vertical-align: top;\n",
       "    }\n",
       "\n",
       "    .dataframe thead th {\n",
       "        text-align: right;\n",
       "    }\n",
       "</style>\n",
       "<table border=\"1\" class=\"dataframe\">\n",
       "  <thead>\n",
       "    <tr style=\"text-align: right;\">\n",
       "      <th></th>\n",
       "      <th>User</th>\n",
       "      <th>기존방법</th>\n",
       "      <th>새로운방법</th>\n",
       "    </tr>\n",
       "  </thead>\n",
       "  <tbody>\n",
       "    <tr>\n",
       "      <th>0</th>\n",
       "      <td>1</td>\n",
       "      <td>60.4</td>\n",
       "      <td>59.8</td>\n",
       "    </tr>\n",
       "    <tr>\n",
       "      <th>1</th>\n",
       "      <td>2</td>\n",
       "      <td>60.7</td>\n",
       "      <td>60.2</td>\n",
       "    </tr>\n",
       "  </tbody>\n",
       "</table>\n",
       "</div>"
      ],
      "text/plain": [
       "   User  기존방법  새로운방법\n",
       "0     1  60.4   59.8\n",
       "1     2  60.7   60.2"
      ]
     },
     "execution_count": 1,
     "metadata": {},
     "output_type": "execute_result"
    }
   ],
   "source": [
    "import pandas as pd\n",
    "df = pd.DataFrame({\n",
    "    'User' : list(range(1,11)),\n",
    "    '기존방법' : [60.4, 60.7, 60.5, 60.3, 60.8, 60.6, 60.2, 60.5, 60.7, 60.4],\n",
    "    '새로운방법' : [59.8, 60.2, 60.1, 59.9, 59.7, 58.4, 57.0, 60.3, 59.6, 59.8]\n",
    "})\n",
    "df.head(2)"
   ]
  },
  {
   "cell_type": "code",
   "execution_count": 2,
   "id": "da863e37",
   "metadata": {},
   "outputs": [
    {
     "data": {
      "text/plain": [
       "-1.0300000000000005"
      ]
     },
     "execution_count": 2,
     "metadata": {},
     "output_type": "execute_result"
    }
   ],
   "source": [
    "df['diff'] = df['새로운방법'] - df['기존방법']\n",
    "df['diff'].mean()"
   ]
  },
  {
   "cell_type": "code",
   "execution_count": 3,
   "id": "bbecec2b",
   "metadata": {},
   "outputs": [
    {
     "data": {
      "text/plain": [
       "TtestResult(statistic=-3.407973078114844, pvalue=0.0038872633380070652, df=9)"
      ]
     },
     "execution_count": 3,
     "metadata": {},
     "output_type": "execute_result"
    }
   ],
   "source": [
    "from scipy import stats\n",
    "stats.ttest_rel(df['새로운방법'], df['기존방법'], alternative = 'less')"
   ]
  },
  {
   "cell_type": "markdown",
   "id": "6ac47a8f",
   "metadata": {},
   "source": [
    "# 4. 일원 분산 분석"
   ]
  },
  {
   "cell_type": "code",
   "execution_count": 4,
   "id": "bbe479a3",
   "metadata": {},
   "outputs": [
    {
     "data": {
      "text/html": [
       "<div>\n",
       "<style scoped>\n",
       "    .dataframe tbody tr th:only-of-type {\n",
       "        vertical-align: middle;\n",
       "    }\n",
       "\n",
       "    .dataframe tbody tr th {\n",
       "        vertical-align: top;\n",
       "    }\n",
       "\n",
       "    .dataframe thead th {\n",
       "        text-align: right;\n",
       "    }\n",
       "</style>\n",
       "<table border=\"1\" class=\"dataframe\">\n",
       "  <thead>\n",
       "    <tr style=\"text-align: right;\">\n",
       "      <th></th>\n",
       "      <th>groups</th>\n",
       "      <th>scores</th>\n",
       "    </tr>\n",
       "  </thead>\n",
       "  <tbody>\n",
       "    <tr>\n",
       "      <th>0</th>\n",
       "      <td>group_A</td>\n",
       "      <td>85</td>\n",
       "    </tr>\n",
       "    <tr>\n",
       "      <th>1</th>\n",
       "      <td>group_A</td>\n",
       "      <td>88</td>\n",
       "    </tr>\n",
       "    <tr>\n",
       "      <th>2</th>\n",
       "      <td>group_A</td>\n",
       "      <td>90</td>\n",
       "    </tr>\n",
       "    <tr>\n",
       "      <th>3</th>\n",
       "      <td>group_A</td>\n",
       "      <td>82</td>\n",
       "    </tr>\n",
       "    <tr>\n",
       "      <th>4</th>\n",
       "      <td>group_A</td>\n",
       "      <td>87</td>\n",
       "    </tr>\n",
       "  </tbody>\n",
       "</table>\n",
       "</div>"
      ],
      "text/plain": [
       "    groups  scores\n",
       "0  group_A      85\n",
       "1  group_A      88\n",
       "2  group_A      90\n",
       "3  group_A      82\n",
       "4  group_A      87"
      ]
     },
     "execution_count": 4,
     "metadata": {},
     "output_type": "execute_result"
    }
   ],
   "source": [
    "import pandas as pd\n",
    "df = pd.read_csv('math.csv')\n",
    "df.head()"
   ]
  },
  {
   "cell_type": "code",
   "execution_count": 6,
   "id": "0dac5d1d",
   "metadata": {},
   "outputs": [
    {
     "name": "stdout",
     "output_type": "stream",
     "text": [
      "ShapiroResult(statistic=0.9715898036956787, pvalue=0.9051811695098877)\n",
      "ShapiroResult(statistic=0.9499422907829285, pvalue=0.6678178906440735)\n",
      "ShapiroResult(statistic=0.9299424290657043, pvalue=0.44732627272605896)\n",
      "ShapiroResult(statistic=0.9065684080123901, pvalue=0.2582412362098694)\n"
     ]
    }
   ],
   "source": [
    "df_a = df['groups'] == 'group_A'\n",
    "df_b = df['groups'] == 'group_B'\n",
    "df_c = df['groups'] == 'group_C'\n",
    "df_d = df['groups'] == 'group_D'\n",
    "from scipy import stats\n",
    "print(stats.shapiro(df[df_a]['scores']))\n",
    "print(stats.shapiro(df[df_b]['scores']))\n",
    "print(stats.shapiro(df[df_c]['scores']))\n",
    "print(stats.shapiro(df[df_d]['scores']))"
   ]
  },
  {
   "cell_type": "code",
   "execution_count": 8,
   "id": "047a668c",
   "metadata": {},
   "outputs": [
    {
     "data": {
      "text/plain": [
       "LeveneResult(statistic=1.757685352622062, pvalue=0.17270284963232105)"
      ]
     },
     "execution_count": 8,
     "metadata": {},
     "output_type": "execute_result"
    }
   ],
   "source": [
    "from scipy import stats\n",
    "stats.levene(df[df_a]['scores'], df[df_b]['scores'], df[df_c]['scores'], df[df_d]['scores'])"
   ]
  },
  {
   "cell_type": "code",
   "execution_count": 11,
   "id": "fcadecdc",
   "metadata": {},
   "outputs": [
    {
     "data": {
      "text/html": [
       "<div>\n",
       "<style scoped>\n",
       "    .dataframe tbody tr th:only-of-type {\n",
       "        vertical-align: middle;\n",
       "    }\n",
       "\n",
       "    .dataframe tbody tr th {\n",
       "        vertical-align: top;\n",
       "    }\n",
       "\n",
       "    .dataframe thead th {\n",
       "        text-align: right;\n",
       "    }\n",
       "</style>\n",
       "<table border=\"1\" class=\"dataframe\">\n",
       "  <thead>\n",
       "    <tr style=\"text-align: right;\">\n",
       "      <th></th>\n",
       "      <th>df</th>\n",
       "      <th>sum_sq</th>\n",
       "      <th>mean_sq</th>\n",
       "      <th>F</th>\n",
       "      <th>PR(&gt;F)</th>\n",
       "    </tr>\n",
       "  </thead>\n",
       "  <tbody>\n",
       "    <tr>\n",
       "      <th>groups</th>\n",
       "      <td>3.0</td>\n",
       "      <td>411.8</td>\n",
       "      <td>137.266667</td>\n",
       "      <td>34.174274</td>\n",
       "      <td>1.240642e-10</td>\n",
       "    </tr>\n",
       "    <tr>\n",
       "      <th>Residual</th>\n",
       "      <td>36.0</td>\n",
       "      <td>144.6</td>\n",
       "      <td>4.016667</td>\n",
       "      <td>NaN</td>\n",
       "      <td>NaN</td>\n",
       "    </tr>\n",
       "  </tbody>\n",
       "</table>\n",
       "</div>"
      ],
      "text/plain": [
       "            df  sum_sq     mean_sq          F        PR(>F)\n",
       "groups     3.0   411.8  137.266667  34.174274  1.240642e-10\n",
       "Residual  36.0   144.6    4.016667        NaN           NaN"
      ]
     },
     "execution_count": 11,
     "metadata": {},
     "output_type": "execute_result"
    }
   ],
   "source": [
    "from statsmodels.formula.api import ols\n",
    "model = ols('scores~ groups', data = df).fit()\n",
    "\n",
    "from statsmodels.stats.anova import anova_lm\n",
    "anova_lm(model)"
   ]
  },
  {
   "cell_type": "markdown",
   "id": "5164814d",
   "metadata": {},
   "source": [
    "# 5. 이원 분산 분석"
   ]
  },
  {
   "cell_type": "code",
   "execution_count": 12,
   "id": "a365eb53",
   "metadata": {},
   "outputs": [
    {
     "data": {
      "text/html": [
       "<div>\n",
       "<style scoped>\n",
       "    .dataframe tbody tr th:only-of-type {\n",
       "        vertical-align: middle;\n",
       "    }\n",
       "\n",
       "    .dataframe tbody tr th {\n",
       "        vertical-align: top;\n",
       "    }\n",
       "\n",
       "    .dataframe thead th {\n",
       "        text-align: right;\n",
       "    }\n",
       "</style>\n",
       "<table border=\"1\" class=\"dataframe\">\n",
       "  <thead>\n",
       "    <tr style=\"text-align: right;\">\n",
       "      <th></th>\n",
       "      <th>비료유형</th>\n",
       "      <th>물주기</th>\n",
       "      <th>수확량</th>\n",
       "    </tr>\n",
       "  </thead>\n",
       "  <tbody>\n",
       "    <tr>\n",
       "      <th>0</th>\n",
       "      <td>A</td>\n",
       "      <td>1</td>\n",
       "      <td>514</td>\n",
       "    </tr>\n",
       "    <tr>\n",
       "      <th>1</th>\n",
       "      <td>A</td>\n",
       "      <td>1</td>\n",
       "      <td>480</td>\n",
       "    </tr>\n",
       "    <tr>\n",
       "      <th>2</th>\n",
       "      <td>A</td>\n",
       "      <td>1</td>\n",
       "      <td>507</td>\n",
       "    </tr>\n",
       "    <tr>\n",
       "      <th>3</th>\n",
       "      <td>A</td>\n",
       "      <td>2</td>\n",
       "      <td>452</td>\n",
       "    </tr>\n",
       "    <tr>\n",
       "      <th>4</th>\n",
       "      <td>A</td>\n",
       "      <td>2</td>\n",
       "      <td>526</td>\n",
       "    </tr>\n",
       "  </tbody>\n",
       "</table>\n",
       "</div>"
      ],
      "text/plain": [
       "  비료유형  물주기  수확량\n",
       "0    A    1  514\n",
       "1    A    1  480\n",
       "2    A    1  507\n",
       "3    A    2  452\n",
       "4    A    2  526"
      ]
     },
     "execution_count": 12,
     "metadata": {},
     "output_type": "execute_result"
    }
   ],
   "source": [
    "import pandas as pd\n",
    "df = pd.read_csv('tomato2.csv')\n",
    "df.head()"
   ]
  },
  {
   "cell_type": "code",
   "execution_count": 15,
   "id": "2e3af6ec",
   "metadata": {},
   "outputs": [
    {
     "data": {
      "text/html": [
       "<div>\n",
       "<style scoped>\n",
       "    .dataframe tbody tr th:only-of-type {\n",
       "        vertical-align: middle;\n",
       "    }\n",
       "\n",
       "    .dataframe tbody tr th {\n",
       "        vertical-align: top;\n",
       "    }\n",
       "\n",
       "    .dataframe thead th {\n",
       "        text-align: right;\n",
       "    }\n",
       "</style>\n",
       "<table border=\"1\" class=\"dataframe\">\n",
       "  <thead>\n",
       "    <tr style=\"text-align: right;\">\n",
       "      <th></th>\n",
       "      <th>df</th>\n",
       "      <th>sum_sq</th>\n",
       "      <th>mean_sq</th>\n",
       "      <th>F</th>\n",
       "      <th>PR(&gt;F)</th>\n",
       "    </tr>\n",
       "  </thead>\n",
       "  <tbody>\n",
       "    <tr>\n",
       "      <th>비료유형</th>\n",
       "      <td>2.0</td>\n",
       "      <td>5251.722222</td>\n",
       "      <td>2625.861111</td>\n",
       "      <td>3.184685</td>\n",
       "      <td>0.059334</td>\n",
       "    </tr>\n",
       "    <tr>\n",
       "      <th>C(물주기)</th>\n",
       "      <td>3.0</td>\n",
       "      <td>9057.000000</td>\n",
       "      <td>3019.000000</td>\n",
       "      <td>3.661490</td>\n",
       "      <td>0.026460</td>\n",
       "    </tr>\n",
       "    <tr>\n",
       "      <th>비료유형:C(물주기)</th>\n",
       "      <td>6.0</td>\n",
       "      <td>4271.833333</td>\n",
       "      <td>711.972222</td>\n",
       "      <td>0.863491</td>\n",
       "      <td>0.535426</td>\n",
       "    </tr>\n",
       "    <tr>\n",
       "      <th>Residual</th>\n",
       "      <td>24.0</td>\n",
       "      <td>19788.666667</td>\n",
       "      <td>824.527778</td>\n",
       "      <td>NaN</td>\n",
       "      <td>NaN</td>\n",
       "    </tr>\n",
       "  </tbody>\n",
       "</table>\n",
       "</div>"
      ],
      "text/plain": [
       "               df        sum_sq      mean_sq         F    PR(>F)\n",
       "비료유형          2.0   5251.722222  2625.861111  3.184685  0.059334\n",
       "C(물주기)        3.0   9057.000000  3019.000000  3.661490  0.026460\n",
       "비료유형:C(물주기)   6.0   4271.833333   711.972222  0.863491  0.535426\n",
       "Residual     24.0  19788.666667   824.527778       NaN       NaN"
      ]
     },
     "execution_count": 15,
     "metadata": {},
     "output_type": "execute_result"
    }
   ],
   "source": [
    "from statsmodels.stats.anova import anova_lm\n",
    "from statsmodels.formula.api import ols\n",
    "model = ols('수확량 ~ 비료유형 * C(물주기)', data = df).fit()\n",
    "anova_lm(model)"
   ]
  },
  {
   "cell_type": "markdown",
   "id": "67dba49a",
   "metadata": {},
   "source": [
    "# 6. 적합도 검정"
   ]
  },
  {
   "cell_type": "code",
   "execution_count": 20,
   "id": "d3ed2be8",
   "metadata": {},
   "outputs": [
    {
     "data": {
      "text/plain": [
       "0.03"
      ]
     },
     "execution_count": 20,
     "metadata": {},
     "output_type": "execute_result"
    }
   ],
   "source": [
    "30/1000"
   ]
  },
  {
   "cell_type": "code",
   "execution_count": 19,
   "id": "a85034b6",
   "metadata": {},
   "outputs": [
    {
     "data": {
      "text/plain": [
       "Power_divergenceResult(statistic=22.166666666666668, pvalue=0.00018567620386641427)"
      ]
     },
     "execution_count": 19,
     "metadata": {},
     "output_type": "execute_result"
    }
   ],
   "source": [
    "from scipy.stats import chisquare\n",
    "chisquare([550, 250, 100, 70, 30], [600, 250, 80, 50, 20])"
   ]
  },
  {
   "cell_type": "markdown",
   "id": "b4e61df7",
   "metadata": {},
   "source": [
    "# 7. 독립성 검정"
   ]
  },
  {
   "cell_type": "code",
   "execution_count": 26,
   "id": "f0b3170c",
   "metadata": {},
   "outputs": [
    {
     "data": {
      "text/plain": [
       "Chi2ContingencyResult(statistic=0.03535714285714309, pvalue=0.8508492527705047, dof=1, expected_freq=array([[48.88888889, 31.11111111],\n",
       "       [61.11111111, 38.88888889]]))"
      ]
     },
     "execution_count": 26,
     "metadata": {},
     "output_type": "execute_result"
    }
   ],
   "source": [
    "from scipy.stats import chi2_contingency\n",
    "df = [[50, 30], [60, 40]]\n",
    "chi2_contingency(df)"
   ]
  },
  {
   "cell_type": "code",
   "execution_count": 27,
   "id": "80ac13ce",
   "metadata": {},
   "outputs": [],
   "source": [
    "import pandas as pd\n",
    "df = pd.DataFrame({\n",
    "    '캠프' : ['빅분기'] * 80 + ['정처기'] * 100,\n",
    "    '등록여부' : ['등록'] * 50 + ['등록안함'] * 30 + ['등록'] * 60 + ['등록안함'] * 40\n",
    "})"
   ]
  },
  {
   "cell_type": "code",
   "execution_count": 29,
   "id": "9997b9df",
   "metadata": {},
   "outputs": [
    {
     "data": {
      "text/plain": [
       "Chi2ContingencyResult(statistic=0.03535714285714309, pvalue=0.8508492527705047, dof=1, expected_freq=array([[48.88888889, 31.11111111],\n",
       "       [61.11111111, 38.88888889]]))"
      ]
     },
     "execution_count": 29,
     "metadata": {},
     "output_type": "execute_result"
    }
   ],
   "source": [
    "from scipy.stats import chi2_contingency\n",
    "df = pd.crosstab(df['캠프'], df['등록여부'])\n",
    "chi2_contingency(df)"
   ]
  },
  {
   "cell_type": "markdown",
   "id": "9f996d63",
   "metadata": {},
   "source": [
    "# 8. 다중 선형 회귀"
   ]
  },
  {
   "cell_type": "code",
   "execution_count": 34,
   "id": "0cc77591",
   "metadata": {},
   "outputs": [
    {
     "data": {
      "text/plain": [
       "0.09"
      ]
     },
     "execution_count": 34,
     "metadata": {},
     "output_type": "execute_result"
    }
   ],
   "source": [
    "import pandas as pd\n",
    "df = pd.DataFrame({\n",
    "    '할인율': [28, 24, 13, 0, 27, 30, 10, 16, 6, 5, 7, 11, 11, 30, 25,\n",
    "            4, 7, 24, 19, 21, 6, 10, 26, 13, 15, 6, 12, 6, 20, 2],\n",
    "    '온도': [15, 34, 15, 22, 29, 30, 14, 17, 28, 29, 19, 19, 34, 10,\n",
    "           29, 28, 12, 25, 32, 28, 22, 16, 30, 11, 16, 18, 16, 33, 12, 22],\n",
    "    '광고비': [342, 666, 224, 764, 148, 499, 711, 596, 797, 484, 986, 347, 146, 362, 642,\n",
    "            591, 846, 260, 560, 941, 469, 309, 730, 305, 892, 147, 887, 526, 525, 884],\n",
    "    '주문량': [635, 958, 525, 25, 607, 872, 858, 732, 1082, 863, 904, 686, 699, 615, 893,\n",
    "            830, 856, 679, 918, 951, 789, 583, 988, 631, 866, 549, 910, 946, 647, 943]\n",
    "})\n",
    "round(df['할인율'].corr(df['온도']),2)"
   ]
  },
  {
   "cell_type": "code",
   "execution_count": 38,
   "id": "bab4d000",
   "metadata": {},
   "outputs": [
    {
     "data": {
      "text/plain": [
       "0.4"
      ]
     },
     "execution_count": 38,
     "metadata": {},
     "output_type": "execute_result"
    }
   ],
   "source": [
    "from statsmodels.formula.api import ols\n",
    "from statsmodels.stats.anova import anova_lm\n",
    "model = ols('주문량 ~ 할인율 + 온도 + 광고비', data = df).fit()\n",
    "round(model.rsquared,2)"
   ]
  },
  {
   "cell_type": "code",
   "execution_count": 43,
   "id": "a51f4a98",
   "metadata": {},
   "outputs": [
    {
     "data": {
      "text/plain": [
       "Intercept    267.6609\n",
       "할인율            4.2068\n",
       "온도             9.4798\n",
       "광고비            0.4148\n",
       "dtype: float64"
      ]
     },
     "execution_count": 43,
     "metadata": {},
     "output_type": "execute_result"
    }
   ],
   "source": [
    "round(model.params,4)"
   ]
  },
  {
   "cell_type": "code",
   "execution_count": 44,
   "id": "5eaba326",
   "metadata": {},
   "outputs": [
    {
     "data": {
      "text/plain": [
       "267.6609"
      ]
     },
     "execution_count": 44,
     "metadata": {},
     "output_type": "execute_result"
    }
   ],
   "source": [
    "round(model.params['Intercept'], 4)"
   ]
  },
  {
   "cell_type": "code",
   "execution_count": 45,
   "id": "dbeb911c",
   "metadata": {},
   "outputs": [
    {
     "data": {
      "text/plain": [
       "0.0289"
      ]
     },
     "execution_count": 45,
     "metadata": {},
     "output_type": "execute_result"
    }
   ],
   "source": [
    "round(model.pvalues['온도'], 4)"
   ]
  },
  {
   "cell_type": "code",
   "execution_count": 48,
   "id": "9cecc78e",
   "metadata": {},
   "outputs": [
    {
     "name": "stderr",
     "output_type": "stream",
     "text": [
      "C:\\Users\\user\\AppData\\Local\\Temp\\ipykernel_9136\\1148932290.py:2: FutureWarning: Calling int on a single element Series is deprecated and will raise a TypeError in the future. Use int(ser.iloc[0]) instead\n",
      "  int(model.predict(new_data))\n"
     ]
    },
    {
     "data": {
      "text/plain": [
       "706"
      ]
     },
     "execution_count": 48,
     "metadata": {},
     "output_type": "execute_result"
    }
   ],
   "source": [
    "new_data = pd.DataFrame({'할인율' : [10], '온도' : [20], '광고비' : [500]})\n",
    "int(model.predict(new_data))"
   ]
  },
  {
   "cell_type": "code",
   "execution_count": 49,
   "id": "b85bde8d",
   "metadata": {},
   "outputs": [
    {
     "data": {
      "text/plain": [
       "732197.9"
      ]
     },
     "execution_count": 49,
     "metadata": {},
     "output_type": "execute_result"
    }
   ],
   "source": [
    "df['diff'] = df['주문량'] - model.predict(df)\n",
    "round(sum(df['diff']**2),2)"
   ]
  },
  {
   "cell_type": "code",
   "execution_count": 51,
   "id": "c684bd6a",
   "metadata": {},
   "outputs": [
    {
     "data": {
      "text/plain": [
       "24406.596627140243"
      ]
     },
     "execution_count": 51,
     "metadata": {},
     "output_type": "execute_result"
    }
   ],
   "source": [
    "df['diff'] = df['주문량'] - model.predict(df)\n",
    "(df['diff']**2).mean()"
   ]
  },
  {
   "cell_type": "code",
   "execution_count": 55,
   "id": "d7cd6f4d",
   "metadata": {},
   "outputs": [
    {
     "data": {
      "text/html": [
       "<div>\n",
       "<style scoped>\n",
       "    .dataframe tbody tr th:only-of-type {\n",
       "        vertical-align: middle;\n",
       "    }\n",
       "\n",
       "    .dataframe tbody tr th {\n",
       "        vertical-align: top;\n",
       "    }\n",
       "\n",
       "    .dataframe thead th {\n",
       "        text-align: right;\n",
       "    }\n",
       "</style>\n",
       "<table border=\"1\" class=\"dataframe\">\n",
       "  <thead>\n",
       "    <tr style=\"text-align: right;\">\n",
       "      <th></th>\n",
       "      <th>0</th>\n",
       "      <th>1</th>\n",
       "    </tr>\n",
       "  </thead>\n",
       "  <tbody>\n",
       "    <tr>\n",
       "      <th>Intercept</th>\n",
       "      <td>45.955720</td>\n",
       "      <td>489.366084</td>\n",
       "    </tr>\n",
       "    <tr>\n",
       "      <th>할인율</th>\n",
       "      <td>-1.847229</td>\n",
       "      <td>10.260887</td>\n",
       "    </tr>\n",
       "    <tr>\n",
       "      <th>온도</th>\n",
       "      <td>2.490702</td>\n",
       "      <td>16.468984</td>\n",
       "    </tr>\n",
       "    <tr>\n",
       "      <th>광고비</th>\n",
       "      <td>0.201064</td>\n",
       "      <td>0.628589</td>\n",
       "    </tr>\n",
       "  </tbody>\n",
       "</table>\n",
       "</div>"
      ],
      "text/plain": [
       "                   0           1\n",
       "Intercept  45.955720  489.366084\n",
       "할인율        -1.847229   10.260887\n",
       "온도          2.490702   16.468984\n",
       "광고비         0.201064    0.628589"
      ]
     },
     "execution_count": 55,
     "metadata": {},
     "output_type": "execute_result"
    }
   ],
   "source": [
    "model.conf_int(alpha = 0.1)"
   ]
  },
  {
   "cell_type": "code",
   "execution_count": 56,
   "id": "dd68f061",
   "metadata": {},
   "outputs": [
    {
     "data": {
      "text/html": [
       "<div>\n",
       "<style scoped>\n",
       "    .dataframe tbody tr th:only-of-type {\n",
       "        vertical-align: middle;\n",
       "    }\n",
       "\n",
       "    .dataframe tbody tr th {\n",
       "        vertical-align: top;\n",
       "    }\n",
       "\n",
       "    .dataframe thead th {\n",
       "        text-align: right;\n",
       "    }\n",
       "</style>\n",
       "<table border=\"1\" class=\"dataframe\">\n",
       "  <thead>\n",
       "    <tr style=\"text-align: right;\">\n",
       "      <th></th>\n",
       "      <th>mean</th>\n",
       "      <th>mean_se</th>\n",
       "      <th>mean_ci_lower</th>\n",
       "      <th>mean_ci_upper</th>\n",
       "      <th>obs_ci_lower</th>\n",
       "      <th>obs_ci_upper</th>\n",
       "    </tr>\n",
       "  </thead>\n",
       "  <tbody>\n",
       "    <tr>\n",
       "      <th>0</th>\n",
       "      <td>692.207386</td>\n",
       "      <td>45.555397</td>\n",
       "      <td>614.507283</td>\n",
       "      <td>769.907488</td>\n",
       "      <td>395.622293</td>\n",
       "      <td>988.792478</td>\n",
       "    </tr>\n",
       "  </tbody>\n",
       "</table>\n",
       "</div>"
      ],
      "text/plain": [
       "         mean    mean_se  mean_ci_lower  mean_ci_upper  obs_ci_lower  \\\n",
       "0  692.207386  45.555397     614.507283     769.907488    395.622293   \n",
       "\n",
       "   obs_ci_upper  \n",
       "0    988.792478  "
      ]
     },
     "execution_count": 56,
     "metadata": {},
     "output_type": "execute_result"
    }
   ],
   "source": [
    "new_data = pd.DataFrame({'할인율' : [15], '온도' : [25], '광고비' : [300]})\n",
    "pred = model.get_prediction(new_data)\n",
    "result = pred.summary_frame(alpha  = 0.1)\n",
    "result"
   ]
  },
  {
   "cell_type": "code",
   "execution_count": 57,
   "id": "e102ff09",
   "metadata": {},
   "outputs": [
    {
     "data": {
      "text/plain": [
       "0.0027398053085787655"
      ]
     },
     "execution_count": 57,
     "metadata": {},
     "output_type": "execute_result"
    }
   ],
   "source": [
    "model.pvalues['광고비']"
   ]
  },
  {
   "cell_type": "markdown",
   "id": "e6c54771",
   "metadata": {},
   "source": [
    "# 9. 로지스틱 회귀"
   ]
  },
  {
   "cell_type": "code",
   "execution_count": 18,
   "id": "f94b9a5b",
   "metadata": {},
   "outputs": [
    {
     "data": {
      "text/plain": [
       "((400, 5), (400, 5))"
      ]
     },
     "execution_count": 18,
     "metadata": {},
     "output_type": "execute_result"
    }
   ],
   "source": [
    "import pandas as pd\n",
    "df = pd.read_csv('customer_travel.csv')\n",
    "mid_point = len(df)//2\n",
    "a = df.iloc[:mid_point]\n",
    "b = df.iloc[mid_point:]\n",
    "a.shape, b.shape"
   ]
  },
  {
   "cell_type": "code",
   "execution_count": 19,
   "id": "7619f865",
   "metadata": {},
   "outputs": [
    {
     "name": "stdout",
     "output_type": "stream",
     "text": [
      "Optimization terminated successfully.\n",
      "         Current function value: 0.527521\n",
      "         Iterations 6\n"
     ]
    },
    {
     "data": {
      "text/html": [
       "<table class=\"simpletable\">\n",
       "<caption>Logit Regression Results</caption>\n",
       "<tr>\n",
       "  <th>Dep. Variable:</th>        <td>target</td>      <th>  No. Observations:  </th>  <td>   400</td>  \n",
       "</tr>\n",
       "<tr>\n",
       "  <th>Model:</th>                 <td>Logit</td>      <th>  Df Residuals:      </th>  <td>   395</td>  \n",
       "</tr>\n",
       "<tr>\n",
       "  <th>Method:</th>                 <td>MLE</td>       <th>  Df Model:          </th>  <td>     4</td>  \n",
       "</tr>\n",
       "<tr>\n",
       "  <th>Date:</th>            <td>Sun, 15 Jun 2025</td> <th>  Pseudo R-squ.:     </th>  <td>0.05254</td> \n",
       "</tr>\n",
       "<tr>\n",
       "  <th>Time:</th>                <td>12:39:02</td>     <th>  Log-Likelihood:    </th> <td> -211.01</td> \n",
       "</tr>\n",
       "<tr>\n",
       "  <th>converged:</th>             <td>True</td>       <th>  LL-Null:           </th> <td> -222.71</td> \n",
       "</tr>\n",
       "<tr>\n",
       "  <th>Covariance Type:</th>     <td>nonrobust</td>    <th>  LLR p-value:       </th> <td>0.0001052</td>\n",
       "</tr>\n",
       "</table>\n",
       "<table class=\"simpletable\">\n",
       "<tr>\n",
       "      <td></td>         <th>coef</th>     <th>std err</th>      <th>z</th>      <th>P>|z|</th>  <th>[0.025</th>    <th>0.975]</th>  \n",
       "</tr>\n",
       "<tr>\n",
       "  <th>Intercept</th> <td>    2.3314</td> <td>    1.204</td> <td>    1.937</td> <td> 0.053</td> <td>   -0.028</td> <td>    4.691</td>\n",
       "</tr>\n",
       "<tr>\n",
       "  <th>age</th>       <td>   -0.1043</td> <td>    0.038</td> <td>   -2.781</td> <td> 0.005</td> <td>   -0.178</td> <td>   -0.031</td>\n",
       "</tr>\n",
       "<tr>\n",
       "  <th>service</th>   <td>    0.0452</td> <td>    0.079</td> <td>    0.572</td> <td> 0.567</td> <td>   -0.110</td> <td>    0.200</td>\n",
       "</tr>\n",
       "<tr>\n",
       "  <th>social</th>    <td>    0.1920</td> <td>    0.247</td> <td>    0.779</td> <td> 0.436</td> <td>   -0.291</td> <td>    0.675</td>\n",
       "</tr>\n",
       "<tr>\n",
       "  <th>booked</th>    <td>   -0.9542</td> <td>    0.272</td> <td>   -3.512</td> <td> 0.000</td> <td>   -1.487</td> <td>   -0.422</td>\n",
       "</tr>\n",
       "</table>"
      ],
      "text/latex": [
       "\\begin{center}\n",
       "\\begin{tabular}{lclc}\n",
       "\\toprule\n",
       "\\textbf{Dep. Variable:}   &      target      & \\textbf{  No. Observations:  } &      400    \\\\\n",
       "\\textbf{Model:}           &      Logit       & \\textbf{  Df Residuals:      } &      395    \\\\\n",
       "\\textbf{Method:}          &       MLE        & \\textbf{  Df Model:          } &        4    \\\\\n",
       "\\textbf{Date:}            & Sun, 15 Jun 2025 & \\textbf{  Pseudo R-squ.:     } &  0.05254    \\\\\n",
       "\\textbf{Time:}            &     12:39:02     & \\textbf{  Log-Likelihood:    } &   -211.01   \\\\\n",
       "\\textbf{converged:}       &       True       & \\textbf{  LL-Null:           } &   -222.71   \\\\\n",
       "\\textbf{Covariance Type:} &    nonrobust     & \\textbf{  LLR p-value:       } & 0.0001052   \\\\\n",
       "\\bottomrule\n",
       "\\end{tabular}\n",
       "\\begin{tabular}{lcccccc}\n",
       "                   & \\textbf{coef} & \\textbf{std err} & \\textbf{z} & \\textbf{P$> |$z$|$} & \\textbf{[0.025} & \\textbf{0.975]}  \\\\\n",
       "\\midrule\n",
       "\\textbf{Intercept} &       2.3314  &        1.204     &     1.937  &         0.053        &       -0.028    &        4.691     \\\\\n",
       "\\textbf{age}       &      -0.1043  &        0.038     &    -2.781  &         0.005        &       -0.178    &       -0.031     \\\\\n",
       "\\textbf{service}   &       0.0452  &        0.079     &     0.572  &         0.567        &       -0.110    &        0.200     \\\\\n",
       "\\textbf{social}    &       0.1920  &        0.247     &     0.779  &         0.436        &       -0.291    &        0.675     \\\\\n",
       "\\textbf{booked}    &      -0.9542  &        0.272     &    -3.512  &         0.000        &       -1.487    &       -0.422     \\\\\n",
       "\\bottomrule\n",
       "\\end{tabular}\n",
       "%\\caption{Logit Regression Results}\n",
       "\\end{center}"
      ],
      "text/plain": [
       "<class 'statsmodels.iolib.summary.Summary'>\n",
       "\"\"\"\n",
       "                           Logit Regression Results                           \n",
       "==============================================================================\n",
       "Dep. Variable:                 target   No. Observations:                  400\n",
       "Model:                          Logit   Df Residuals:                      395\n",
       "Method:                           MLE   Df Model:                            4\n",
       "Date:                Sun, 15 Jun 2025   Pseudo R-squ.:                 0.05254\n",
       "Time:                        12:39:02   Log-Likelihood:                -211.01\n",
       "converged:                       True   LL-Null:                       -222.71\n",
       "Covariance Type:            nonrobust   LLR p-value:                 0.0001052\n",
       "==============================================================================\n",
       "                 coef    std err          z      P>|z|      [0.025      0.975]\n",
       "------------------------------------------------------------------------------\n",
       "Intercept      2.3314      1.204      1.937      0.053      -0.028       4.691\n",
       "age           -0.1043      0.038     -2.781      0.005      -0.178      -0.031\n",
       "service        0.0452      0.079      0.572      0.567      -0.110       0.200\n",
       "social         0.1920      0.247      0.779      0.436      -0.291       0.675\n",
       "booked        -0.9542      0.272     -3.512      0.000      -1.487      -0.422\n",
       "==============================================================================\n",
       "\"\"\""
      ]
     },
     "execution_count": 19,
     "metadata": {},
     "output_type": "execute_result"
    }
   ],
   "source": [
    "model = logit('target ~ age + service + social + booked', data = a).fit()\n",
    "model.summary()"
   ]
  },
  {
   "cell_type": "code",
   "execution_count": 20,
   "id": "ab9912cc",
   "metadata": {},
   "outputs": [
    {
     "name": "stdout",
     "output_type": "stream",
     "text": [
      "Optimization terminated successfully.\n",
      "         Current function value: 0.528581\n",
      "         Iterations 6\n"
     ]
    },
    {
     "data": {
      "text/html": [
       "<table class=\"simpletable\">\n",
       "<caption>Logit Regression Results</caption>\n",
       "<tr>\n",
       "  <th>Dep. Variable:</th>        <td>target</td>      <th>  No. Observations:  </th>  <td>   400</td>  \n",
       "</tr>\n",
       "<tr>\n",
       "  <th>Model:</th>                 <td>Logit</td>      <th>  Df Residuals:      </th>  <td>   397</td>  \n",
       "</tr>\n",
       "<tr>\n",
       "  <th>Method:</th>                 <td>MLE</td>       <th>  Df Model:          </th>  <td>     2</td>  \n",
       "</tr>\n",
       "<tr>\n",
       "  <th>Date:</th>            <td>Sun, 15 Jun 2025</td> <th>  Pseudo R-squ.:     </th>  <td>0.05064</td> \n",
       "</tr>\n",
       "<tr>\n",
       "  <th>Time:</th>                <td>12:39:02</td>     <th>  Log-Likelihood:    </th> <td> -211.43</td> \n",
       "</tr>\n",
       "<tr>\n",
       "  <th>converged:</th>             <td>True</td>       <th>  LL-Null:           </th> <td> -222.71</td> \n",
       "</tr>\n",
       "<tr>\n",
       "  <th>Covariance Type:</th>     <td>nonrobust</td>    <th>  LLR p-value:       </th> <td>1.265e-05</td>\n",
       "</tr>\n",
       "</table>\n",
       "<table class=\"simpletable\">\n",
       "<tr>\n",
       "      <td></td>         <th>coef</th>     <th>std err</th>      <th>z</th>      <th>P>|z|</th>  <th>[0.025</th>    <th>0.975]</th>  \n",
       "</tr>\n",
       "<tr>\n",
       "  <th>Intercept</th> <td>    2.4581</td> <td>    1.184</td> <td>    2.076</td> <td> 0.038</td> <td>    0.137</td> <td>    4.779</td>\n",
       "</tr>\n",
       "<tr>\n",
       "  <th>age</th>       <td>   -0.1025</td> <td>    0.037</td> <td>   -2.752</td> <td> 0.006</td> <td>   -0.176</td> <td>   -0.030</td>\n",
       "</tr>\n",
       "<tr>\n",
       "  <th>booked</th>    <td>   -0.9461</td> <td>    0.267</td> <td>   -3.542</td> <td> 0.000</td> <td>   -1.470</td> <td>   -0.423</td>\n",
       "</tr>\n",
       "</table>"
      ],
      "text/latex": [
       "\\begin{center}\n",
       "\\begin{tabular}{lclc}\n",
       "\\toprule\n",
       "\\textbf{Dep. Variable:}   &      target      & \\textbf{  No. Observations:  } &      400    \\\\\n",
       "\\textbf{Model:}           &      Logit       & \\textbf{  Df Residuals:      } &      397    \\\\\n",
       "\\textbf{Method:}          &       MLE        & \\textbf{  Df Model:          } &        2    \\\\\n",
       "\\textbf{Date:}            & Sun, 15 Jun 2025 & \\textbf{  Pseudo R-squ.:     } &  0.05064    \\\\\n",
       "\\textbf{Time:}            &     12:39:02     & \\textbf{  Log-Likelihood:    } &   -211.43   \\\\\n",
       "\\textbf{converged:}       &       True       & \\textbf{  LL-Null:           } &   -222.71   \\\\\n",
       "\\textbf{Covariance Type:} &    nonrobust     & \\textbf{  LLR p-value:       } & 1.265e-05   \\\\\n",
       "\\bottomrule\n",
       "\\end{tabular}\n",
       "\\begin{tabular}{lcccccc}\n",
       "                   & \\textbf{coef} & \\textbf{std err} & \\textbf{z} & \\textbf{P$> |$z$|$} & \\textbf{[0.025} & \\textbf{0.975]}  \\\\\n",
       "\\midrule\n",
       "\\textbf{Intercept} &       2.4581  &        1.184     &     2.076  &         0.038        &        0.137    &        4.779     \\\\\n",
       "\\textbf{age}       &      -0.1025  &        0.037     &    -2.752  &         0.006        &       -0.176    &       -0.030     \\\\\n",
       "\\textbf{booked}    &      -0.9461  &        0.267     &    -3.542  &         0.000        &       -1.470    &       -0.423     \\\\\n",
       "\\bottomrule\n",
       "\\end{tabular}\n",
       "%\\caption{Logit Regression Results}\n",
       "\\end{center}"
      ],
      "text/plain": [
       "<class 'statsmodels.iolib.summary.Summary'>\n",
       "\"\"\"\n",
       "                           Logit Regression Results                           \n",
       "==============================================================================\n",
       "Dep. Variable:                 target   No. Observations:                  400\n",
       "Model:                          Logit   Df Residuals:                      397\n",
       "Method:                           MLE   Df Model:                            2\n",
       "Date:                Sun, 15 Jun 2025   Pseudo R-squ.:                 0.05064\n",
       "Time:                        12:39:02   Log-Likelihood:                -211.43\n",
       "converged:                       True   LL-Null:                       -222.71\n",
       "Covariance Type:            nonrobust   LLR p-value:                 1.265e-05\n",
       "==============================================================================\n",
       "                 coef    std err          z      P>|z|      [0.025      0.975]\n",
       "------------------------------------------------------------------------------\n",
       "Intercept      2.4581      1.184      2.076      0.038       0.137       4.779\n",
       "age           -0.1025      0.037     -2.752      0.006      -0.176      -0.030\n",
       "booked        -0.9461      0.267     -3.542      0.000      -1.470      -0.423\n",
       "==============================================================================\n",
       "\"\"\""
      ]
     },
     "execution_count": 20,
     "metadata": {},
     "output_type": "execute_result"
    }
   ],
   "source": [
    "model = logit('target ~ age + booked', data = a).fit()\n",
    "model.summary()"
   ]
  },
  {
   "cell_type": "code",
   "execution_count": 21,
   "id": "7707a6a4",
   "metadata": {},
   "outputs": [
    {
     "data": {
      "text/plain": [
       "422.8647650289116"
      ]
     },
     "execution_count": 21,
     "metadata": {},
     "output_type": "execute_result"
    }
   ],
   "source": [
    "model.llf*(-2)"
   ]
  },
  {
   "cell_type": "code",
   "execution_count": 22,
   "id": "2cdabcd1",
   "metadata": {},
   "outputs": [
    {
     "data": {
      "text/plain": [
       "0.05853312291771145"
      ]
     },
     "execution_count": 22,
     "metadata": {},
     "output_type": "execute_result"
    }
   ],
   "source": [
    "import numpy as np\n",
    "np.exp(model.params['booked'] * 3)"
   ]
  },
  {
   "cell_type": "code",
   "execution_count": 23,
   "id": "12eedc64",
   "metadata": {},
   "outputs": [
    {
     "data": {
      "text/plain": [
       "1.409468270586194"
      ]
     },
     "execution_count": 23,
     "metadata": {},
     "output_type": "execute_result"
    }
   ],
   "source": [
    "model.params[model.pvalues<0.05].sum()"
   ]
  },
  {
   "cell_type": "code",
   "execution_count": 28,
   "id": "a30864fe",
   "metadata": {},
   "outputs": [
    {
     "data": {
      "text/plain": [
       "0.765"
      ]
     },
     "execution_count": 28,
     "metadata": {},
     "output_type": "execute_result"
    }
   ],
   "source": [
    "pred = model.predict(b)\n",
    "pred = (pred > 0.5).astype(int)\n",
    "from sklearn.metrics import accuracy_score\n",
    "accuracy_score(b['target'], pred)"
   ]
  },
  {
   "cell_type": "code",
   "execution_count": 29,
   "id": "e54d0bb2",
   "metadata": {},
   "outputs": [
    {
     "data": {
      "text/plain": [
       "0.235"
      ]
     },
     "execution_count": 29,
     "metadata": {},
     "output_type": "execute_result"
    }
   ],
   "source": [
    "1 - 0.765"
   ]
  }
 ],
 "metadata": {
  "kernelspec": {
   "display_name": "Python 3 (ipykernel)",
   "language": "python",
   "name": "python3"
  },
  "language_info": {
   "codemirror_mode": {
    "name": "ipython",
    "version": 3
   },
   "file_extension": ".py",
   "mimetype": "text/x-python",
   "name": "python",
   "nbconvert_exporter": "python",
   "pygments_lexer": "ipython3",
   "version": "3.8.17"
  }
 },
 "nbformat": 4,
 "nbformat_minor": 5
}
