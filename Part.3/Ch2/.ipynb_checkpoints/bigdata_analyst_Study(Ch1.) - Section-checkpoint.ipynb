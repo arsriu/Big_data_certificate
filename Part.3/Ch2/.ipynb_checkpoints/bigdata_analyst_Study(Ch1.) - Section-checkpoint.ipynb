{
 "cells": [
  {
   "cell_type": "markdown",
   "id": "21045605",
   "metadata": {},
   "source": [
    "# 1. 일원 분산 분석"
   ]
  },
  {
   "cell_type": "markdown",
   "id": "ddc4a1ca",
   "metadata": {},
   "source": [
    "### 3. 일원 분산 분석"
   ]
  },
  {
   "cell_type": "code",
   "execution_count": 3,
   "id": "fce163df",
   "metadata": {},
   "outputs": [
    {
     "name": "stdout",
     "output_type": "stream",
     "text": [
      "ShapiroResult(statistic=0.9649055004119873, pvalue=0.840017557144165)\n",
      "ShapiroResult(statistic=0.9468040466308594, pvalue=0.63086998462677)\n",
      "ShapiroResult(statistic=0.9701647162437439, pvalue=0.8923683762550354)\n",
      "ShapiroResult(statistic=0.9752339720726013, pvalue=0.9346861243247986)\n",
      "LeveneResult(statistic=1.9355354288758708, pvalue=0.14127835331346628)\n"
     ]
    },
    {
     "data": {
      "text/plain": [
       "F_onewayResult(statistic=89.12613851177174, pvalue=1.0018381522523723e-16)"
      ]
     },
     "execution_count": 3,
     "metadata": {},
     "output_type": "execute_result"
    }
   ],
   "source": [
    "import pandas as pd\n",
    "df = pd.DataFrame({\n",
    "    'A' : [10.5, 11.3, 10.8, 9.6, 11.1, 10.2, 10.9, 11.4, 10.5, 10.3],\n",
    "    'B' : [11.9, 12.4, 12.1, 13.2, 12.5, 11.8, 12.2, 12.9, 12.4, 12.3],\n",
    "    'C' : [11.2, 11.7, 11.6, 10.9, 11.3, 11.1, 10.8, 11.5, 11.4, 11.0],\n",
    "    'D' : [9.8, 9.4, 9.1, 9.5, 9.6, 9.9, 9.2, 9.7, 9.3, 9.4]\n",
    "})\n",
    "\n",
    "from scipy import stats\n",
    "print(stats.shapiro(df['A']))\n",
    "print(stats.shapiro(df['B']))\n",
    "print(stats.shapiro(df['C']))\n",
    "print(stats.shapiro(df['D']))\n",
    "\n",
    "print(stats.levene(df['A'], df['B'], df['C'], df['D']))\n",
    "\n",
    "stats.f_oneway(df['A'], df['B'], df['C'], df['D'])"
   ]
  },
  {
   "cell_type": "markdown",
   "id": "cc16eb3a",
   "metadata": {},
   "source": [
    "### 4. 일원 분산 분석(ols 활용)"
   ]
  },
  {
   "cell_type": "code",
   "execution_count": 4,
   "id": "9f273169",
   "metadata": {},
   "outputs": [
    {
     "data": {
      "text/html": [
       "<div>\n",
       "<style scoped>\n",
       "    .dataframe tbody tr th:only-of-type {\n",
       "        vertical-align: middle;\n",
       "    }\n",
       "\n",
       "    .dataframe tbody tr th {\n",
       "        vertical-align: top;\n",
       "    }\n",
       "\n",
       "    .dataframe thead th {\n",
       "        text-align: right;\n",
       "    }\n",
       "</style>\n",
       "<table border=\"1\" class=\"dataframe\">\n",
       "  <thead>\n",
       "    <tr style=\"text-align: right;\">\n",
       "      <th></th>\n",
       "      <th>df</th>\n",
       "      <th>sum_sq</th>\n",
       "      <th>mean_sq</th>\n",
       "      <th>F</th>\n",
       "      <th>PR(&gt;F)</th>\n",
       "    </tr>\n",
       "  </thead>\n",
       "  <tbody>\n",
       "    <tr>\n",
       "      <th>C(비료)</th>\n",
       "      <td>3.0</td>\n",
       "      <td>43.21875</td>\n",
       "      <td>14.406250</td>\n",
       "      <td>89.126139</td>\n",
       "      <td>1.001838e-16</td>\n",
       "    </tr>\n",
       "    <tr>\n",
       "      <th>Residual</th>\n",
       "      <td>36.0</td>\n",
       "      <td>5.81900</td>\n",
       "      <td>0.161639</td>\n",
       "      <td>NaN</td>\n",
       "      <td>NaN</td>\n",
       "    </tr>\n",
       "  </tbody>\n",
       "</table>\n",
       "</div>"
      ],
      "text/plain": [
       "            df    sum_sq    mean_sq          F        PR(>F)\n",
       "C(비료)      3.0  43.21875  14.406250  89.126139  1.001838e-16\n",
       "Residual  36.0   5.81900   0.161639        NaN           NaN"
      ]
     },
     "execution_count": 4,
     "metadata": {},
     "output_type": "execute_result"
    }
   ],
   "source": [
    "import pandas as pd\n",
    "df = pd.read_csv('fertilizer.csv')\n",
    "\n",
    "from statsmodels.formula.api import ols\n",
    "from statsmodels.stats.anova import anova_lm\n",
    "model = ols('성장 ~ C(비료)', df).fit()\n",
    "anova_lm(model)"
   ]
  },
  {
   "cell_type": "markdown",
   "id": "e28df899",
   "metadata": {},
   "source": [
    "# 2. 이원 분산 분석"
   ]
  },
  {
   "cell_type": "code",
   "execution_count": 1,
   "id": "c0954ed8",
   "metadata": {},
   "outputs": [
    {
     "data": {
      "text/html": [
       "<div>\n",
       "<style scoped>\n",
       "    .dataframe tbody tr th:only-of-type {\n",
       "        vertical-align: middle;\n",
       "    }\n",
       "\n",
       "    .dataframe tbody tr th {\n",
       "        vertical-align: top;\n",
       "    }\n",
       "\n",
       "    .dataframe thead th {\n",
       "        text-align: right;\n",
       "    }\n",
       "</style>\n",
       "<table border=\"1\" class=\"dataframe\">\n",
       "  <thead>\n",
       "    <tr style=\"text-align: right;\">\n",
       "      <th></th>\n",
       "      <th>나무</th>\n",
       "      <th>비료</th>\n",
       "      <th>성장률</th>\n",
       "    </tr>\n",
       "  </thead>\n",
       "  <tbody>\n",
       "    <tr>\n",
       "      <th>85</th>\n",
       "      <td>C</td>\n",
       "      <td>3</td>\n",
       "      <td>60.982430</td>\n",
       "    </tr>\n",
       "    <tr>\n",
       "      <th>61</th>\n",
       "      <td>C</td>\n",
       "      <td>1</td>\n",
       "      <td>58.143410</td>\n",
       "    </tr>\n",
       "    <tr>\n",
       "      <th>84</th>\n",
       "      <td>C</td>\n",
       "      <td>3</td>\n",
       "      <td>57.915064</td>\n",
       "    </tr>\n",
       "    <tr>\n",
       "      <th>97</th>\n",
       "      <td>D</td>\n",
       "      <td>1</td>\n",
       "      <td>67.610553</td>\n",
       "    </tr>\n",
       "    <tr>\n",
       "      <th>15</th>\n",
       "      <td>A</td>\n",
       "      <td>2</td>\n",
       "      <td>47.377125</td>\n",
       "    </tr>\n",
       "    <tr>\n",
       "      <th>66</th>\n",
       "      <td>C</td>\n",
       "      <td>1</td>\n",
       "      <td>59.279899</td>\n",
       "    </tr>\n",
       "    <tr>\n",
       "      <th>33</th>\n",
       "      <td>B</td>\n",
       "      <td>1</td>\n",
       "      <td>44.422891</td>\n",
       "    </tr>\n",
       "    <tr>\n",
       "      <th>71</th>\n",
       "      <td>C</td>\n",
       "      <td>2</td>\n",
       "      <td>78.380366</td>\n",
       "    </tr>\n",
       "    <tr>\n",
       "      <th>56</th>\n",
       "      <td>B</td>\n",
       "      <td>3</td>\n",
       "      <td>52.607825</td>\n",
       "    </tr>\n",
       "    <tr>\n",
       "      <th>73</th>\n",
       "      <td>C</td>\n",
       "      <td>2</td>\n",
       "      <td>78.646437</td>\n",
       "    </tr>\n",
       "  </tbody>\n",
       "</table>\n",
       "</div>"
      ],
      "text/plain": [
       "   나무  비료        성장률\n",
       "85  C   3  60.982430\n",
       "61  C   1  58.143410\n",
       "84  C   3  57.915064\n",
       "97  D   1  67.610553\n",
       "15  A   2  47.377125\n",
       "66  C   1  59.279899\n",
       "33  B   1  44.422891\n",
       "71  C   2  78.380366\n",
       "56  B   3  52.607825\n",
       "73  C   2  78.646437"
      ]
     },
     "execution_count": 1,
     "metadata": {},
     "output_type": "execute_result"
    }
   ],
   "source": [
    "import pandas as pd\n",
    "df = pd.read_csv('tree.csv')\n",
    "df.sample(10)"
   ]
  },
  {
   "cell_type": "code",
   "execution_count": 7,
   "id": "a0ad316b",
   "metadata": {},
   "outputs": [
    {
     "data": {
      "text/html": [
       "<div>\n",
       "<style scoped>\n",
       "    .dataframe tbody tr th:only-of-type {\n",
       "        vertical-align: middle;\n",
       "    }\n",
       "\n",
       "    .dataframe tbody tr th {\n",
       "        vertical-align: top;\n",
       "    }\n",
       "\n",
       "    .dataframe thead th {\n",
       "        text-align: right;\n",
       "    }\n",
       "</style>\n",
       "<table border=\"1\" class=\"dataframe\">\n",
       "  <thead>\n",
       "    <tr style=\"text-align: right;\">\n",
       "      <th></th>\n",
       "      <th>df</th>\n",
       "      <th>sum_sq</th>\n",
       "      <th>mean_sq</th>\n",
       "      <th>F</th>\n",
       "      <th>PR(&gt;F)</th>\n",
       "    </tr>\n",
       "  </thead>\n",
       "  <tbody>\n",
       "    <tr>\n",
       "      <th>나무</th>\n",
       "      <td>3.0</td>\n",
       "      <td>4783.353938</td>\n",
       "      <td>1594.451313</td>\n",
       "      <td>18.391274</td>\n",
       "      <td>9.016693e-10</td>\n",
       "    </tr>\n",
       "    <tr>\n",
       "      <th>비료</th>\n",
       "      <td>1.0</td>\n",
       "      <td>873.322002</td>\n",
       "      <td>873.322002</td>\n",
       "      <td>10.073374</td>\n",
       "      <td>1.942421e-03</td>\n",
       "    </tr>\n",
       "    <tr>\n",
       "      <th>나무:비료</th>\n",
       "      <td>3.0</td>\n",
       "      <td>394.801585</td>\n",
       "      <td>131.600528</td>\n",
       "      <td>1.517952</td>\n",
       "      <td>2.137666e-01</td>\n",
       "    </tr>\n",
       "    <tr>\n",
       "      <th>Residual</th>\n",
       "      <td>112.0</td>\n",
       "      <td>9709.960792</td>\n",
       "      <td>86.696078</td>\n",
       "      <td>NaN</td>\n",
       "      <td>NaN</td>\n",
       "    </tr>\n",
       "  </tbody>\n",
       "</table>\n",
       "</div>"
      ],
      "text/plain": [
       "             df       sum_sq      mean_sq          F        PR(>F)\n",
       "나무          3.0  4783.353938  1594.451313  18.391274  9.016693e-10\n",
       "비료          1.0   873.322002   873.322002  10.073374  1.942421e-03\n",
       "나무:비료       3.0   394.801585   131.600528   1.517952  2.137666e-01\n",
       "Residual  112.0  9709.960792    86.696078        NaN           NaN"
      ]
     },
     "execution_count": 7,
     "metadata": {},
     "output_type": "execute_result"
    }
   ],
   "source": [
    "import statsmodels.api as sm\n",
    "from statsmodels.formula.api import ols\n",
    "model = ols('성장률 ~ 나무 + 비료 + 나무:비료', data = df).fit()\n",
    "anova_table = sm.stats.anova_lm(model)\n",
    "anova_table"
   ]
  },
  {
   "cell_type": "code",
   "execution_count": 2,
   "id": "e628be6c",
   "metadata": {},
   "outputs": [
    {
     "data": {
      "text/html": [
       "<div>\n",
       "<style scoped>\n",
       "    .dataframe tbody tr th:only-of-type {\n",
       "        vertical-align: middle;\n",
       "    }\n",
       "\n",
       "    .dataframe tbody tr th {\n",
       "        vertical-align: top;\n",
       "    }\n",
       "\n",
       "    .dataframe thead th {\n",
       "        text-align: right;\n",
       "    }\n",
       "</style>\n",
       "<table border=\"1\" class=\"dataframe\">\n",
       "  <thead>\n",
       "    <tr style=\"text-align: right;\">\n",
       "      <th></th>\n",
       "      <th>df</th>\n",
       "      <th>sum_sq</th>\n",
       "      <th>mean_sq</th>\n",
       "      <th>F</th>\n",
       "      <th>PR(&gt;F)</th>\n",
       "    </tr>\n",
       "  </thead>\n",
       "  <tbody>\n",
       "    <tr>\n",
       "      <th>C(나무)</th>\n",
       "      <td>3.0</td>\n",
       "      <td>4783.353938</td>\n",
       "      <td>1594.451313</td>\n",
       "      <td>18.855528</td>\n",
       "      <td>6.600012e-10</td>\n",
       "    </tr>\n",
       "    <tr>\n",
       "      <th>C(비료)</th>\n",
       "      <td>2.0</td>\n",
       "      <td>1127.924259</td>\n",
       "      <td>563.962129</td>\n",
       "      <td>6.669256</td>\n",
       "      <td>1.857612e-03</td>\n",
       "    </tr>\n",
       "    <tr>\n",
       "      <th>C(나무):C(비료)</th>\n",
       "      <td>6.0</td>\n",
       "      <td>717.520672</td>\n",
       "      <td>119.586779</td>\n",
       "      <td>1.414199</td>\n",
       "      <td>2.157357e-01</td>\n",
       "    </tr>\n",
       "    <tr>\n",
       "      <th>Residual</th>\n",
       "      <td>108.0</td>\n",
       "      <td>9132.639448</td>\n",
       "      <td>84.561476</td>\n",
       "      <td>NaN</td>\n",
       "      <td>NaN</td>\n",
       "    </tr>\n",
       "  </tbody>\n",
       "</table>\n",
       "</div>"
      ],
      "text/plain": [
       "                df       sum_sq      mean_sq          F        PR(>F)\n",
       "C(나무)          3.0  4783.353938  1594.451313  18.855528  6.600012e-10\n",
       "C(비료)          2.0  1127.924259   563.962129   6.669256  1.857612e-03\n",
       "C(나무):C(비료)    6.0   717.520672   119.586779   1.414199  2.157357e-01\n",
       "Residual     108.0  9132.639448    84.561476        NaN           NaN"
      ]
     },
     "execution_count": 2,
     "metadata": {},
     "output_type": "execute_result"
    }
   ],
   "source": [
    "import statsmodels.api as sm\n",
    "from statsmodels.formula.api import ols\n",
    "model = ols('성장률 ~ C(나무) + C(비료) + C(나무):C(비료)', data = df).fit()\n",
    "anova_table = sm.stats.anova_lm(model)\n",
    "anova_table"
   ]
  },
  {
   "cell_type": "code",
   "execution_count": null,
   "id": "b0b77f40",
   "metadata": {},
   "outputs": [],
   "source": []
  }
 ],
 "metadata": {
  "kernelspec": {
   "display_name": "Python 3 (ipykernel)",
   "language": "python",
   "name": "python3"
  },
  "language_info": {
   "codemirror_mode": {
    "name": "ipython",
    "version": 3
   },
   "file_extension": ".py",
   "mimetype": "text/x-python",
   "name": "python",
   "nbconvert_exporter": "python",
   "pygments_lexer": "ipython3",
   "version": "3.8.17"
  }
 },
 "nbformat": 4,
 "nbformat_minor": 5
}
