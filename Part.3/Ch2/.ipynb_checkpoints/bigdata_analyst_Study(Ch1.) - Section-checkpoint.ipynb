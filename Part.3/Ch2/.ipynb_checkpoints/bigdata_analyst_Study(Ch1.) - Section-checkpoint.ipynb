{
 "cells": [
  {
   "cell_type": "markdown",
   "id": "21045605",
   "metadata": {},
   "source": [
    "# 1. 일원 분산 분석"
   ]
  },
  {
   "cell_type": "code",
   "execution_count": null,
   "id": "fce163df",
   "metadata": {},
   "outputs": [],
   "source": [
    "import pandas as pd\n",
    "df = pd.DataFrame({\n",
    "    'A' : [10.5, 11.3, 10.8, 9.6, 11.1, 10.2, 10.9, 11.4, 10.5, 10.3],\n",
    "    'B' : [11.9, 12.4, 12.1, 13.2, 12.5, 11.8, 12.2, 12.9, 12.4, 12.3],\n",
    "})"
   ]
  }
 ],
 "metadata": {
  "kernelspec": {
   "display_name": "Python 3 (ipykernel)",
   "language": "python",
   "name": "python3"
  },
  "language_info": {
   "codemirror_mode": {
    "name": "ipython",
    "version": 3
   },
   "file_extension": ".py",
   "mimetype": "text/x-python",
   "name": "python",
   "nbconvert_exporter": "python",
   "pygments_lexer": "ipython3",
   "version": "3.8.17"
  }
 },
 "nbformat": 4,
 "nbformat_minor": 5
}
